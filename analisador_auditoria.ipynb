{
 "cells": [
  {
   "cell_type": "markdown",
   "metadata": {},
   "source": [
    "# Análise dos relatórios de auditoria\n",
    "\n",
    "#### UFPB - Universidade Federal da Paraíba\n",
    "#### Gestão Pública\n",
    "Autores: Bruno Souza da Costa e Cecília Lori de Medeiros Cruz\n",
    "\n",
    "bruno.souza@dcx.ufpb.br    \n",
    "cecilia.medeiros@dcx.ufpb.br"
   ]
  },
  {
   "cell_type": "markdown",
   "metadata": {},
   "source": [
    "### Primeiramente é importado o .CSV referente à tabela com os dados dos critérios de auditoria\n",
    "\n",
    "Serão realizadas diversas análises com a finalidade de representar melhor os dados e responder às seguintes questões:\n",
    "\n",
    "- Quantos e qual a porcentagem dos casos por unidade da federação?\n",
    "- Quantos e qual a porcentagem dos casos por tipo do relatório?\n",
    "- Quantos e qual a porcentagem dos casos pelo ano de publicação do relatório?\n",
    "- Quantos e qual a porcentagem dos casos por região?\n",
    "- Quantos e qual a porcentagem dos casos mensais de cada ano?\n",
    "- Qual a porcentagem dos critérios por unidade da federação?\n",
    "- Qual a porcentagem dos critérios por tipo do relatório?\n",
    "- Qual a porcentagem dos critérios por ano de publicação do relatório?\n",
    "- Qual a porcentagem dos critérios por região?\n",
    "- Qual a porcentagem dos critérios mensalmente de cada ano?\n",
    "- Qual a porcentagem de correlação entre esses critérios?"
   ]
  },
  {
   "cell_type": "markdown",
   "metadata": {},
   "source": [
    "## 0. Preparando o Dataset\n",
    "Nesse tópico iremos preparar os dados que serão estudados nesta análise."
   ]
  },
  {
   "cell_type": "markdown",
   "metadata": {},
   "source": [
    "### 0.1 Importando bibliotecas"
   ]
  },
  {
   "cell_type": "code",
   "execution_count": 165,
   "metadata": {},
   "outputs": [],
   "source": [
    "import pandas as pd\n",
    "import seaborn as sns\n",
    "sns.set(style=\"white\")\n",
    "import numpy as np\n",
    "import matplotlib.pyplot as plt\n",
    "import plotly.express as px\n",
    "import plotly.graph_objects as go\n",
    "from plotly.subplots import make_subplots"
   ]
  },
  {
   "cell_type": "markdown",
   "metadata": {},
   "source": [
    "### 0.2 Criando Dataset"
   ]
  },
  {
   "cell_type": "code",
   "execution_count": 166,
   "metadata": {},
   "outputs": [],
   "source": [
    "#Usando biblioteca pandas para lê o arquivo csv e criar o dataset\n",
    "tabela_relatorios = pd.read_csv(\"relatorios.csv\", keep_default_na=False ,sep = \",\", header = 0, encoding = 'utf8')\n",
    "pd.set_option('display.max_columns', None)"
   ]
  },
  {
   "cell_type": "markdown",
   "metadata": {},
   "source": [
    "### 0.3 Formatando Dataset"
   ]
  },
  {
   "cell_type": "code",
   "execution_count": 167,
   "metadata": {},
   "outputs": [],
   "source": [
    "#Renomeando Colunas\n",
    "renomear_colunas = ['ID','Nome','Serviço','Grupo','Ação','Avaliação','Data','Ano','Governo','UF','Matriz de Achados?','a. Questões de Auditoria','b. Subquestões de Auditoria','c. Descrição sumária','d. Critério (O que deveria ser)','e. Condição ou situação encontrada (O que é) [achados]','f. Evidências','g. Informação extraída das evidências','h. Causas','i. Efeitos','j. Boas Práticas','k. Recomendações','l. Benefícios esperados','m. Manifestação','n. Conclusões','Filtro']\n",
    "tabela_relatorios.columns = renomear_colunas\n",
    "\n",
    "#formata o dataset para o padrão de acentuação utf-8\n",
    "tabela_relatorios.to_csv(\"relatorios.csv\", index=False, encoding='utf8')\n",
    "\n",
    "#Exclui a ultima coluna (Filtro)\n",
    "tabela_relatorios = tabela_relatorios.drop(tabela_relatorios.columns[-1], axis=1)"
   ]
  },
  {
   "cell_type": "markdown",
   "metadata": {},
   "source": [
    "## 1. Casos por Unidade da Federação\n",
    "Aqui analisaremos a quantidade de casos por estados."
   ]
  },
  {
   "cell_type": "code",
   "execution_count": 168,
   "metadata": {},
   "outputs": [
    {
     "data": {
      "text/html": [
       "<div>\n",
       "<style scoped>\n",
       "    .dataframe tbody tr th:only-of-type {\n",
       "        vertical-align: middle;\n",
       "    }\n",
       "\n",
       "    .dataframe tbody tr th {\n",
       "        vertical-align: top;\n",
       "    }\n",
       "\n",
       "    .dataframe thead th {\n",
       "        text-align: right;\n",
       "    }\n",
       "</style>\n",
       "<table border=\"1\" class=\"dataframe\">\n",
       "  <thead>\n",
       "    <tr style=\"text-align: right;\">\n",
       "      <th></th>\n",
       "      <th>Estado</th>\n",
       "      <th>Quantidade de relatórios</th>\n",
       "      <th>Porcentagem (%)</th>\n",
       "    </tr>\n",
       "  </thead>\n",
       "  <tbody>\n",
       "    <tr>\n",
       "      <th>0</th>\n",
       "      <td>Acre</td>\n",
       "      <td>61</td>\n",
       "      <td>1.05</td>\n",
       "    </tr>\n",
       "    <tr>\n",
       "      <th>1</th>\n",
       "      <td>Alagoas</td>\n",
       "      <td>90</td>\n",
       "      <td>1.55</td>\n",
       "    </tr>\n",
       "    <tr>\n",
       "      <th>2</th>\n",
       "      <td>Amazonas</td>\n",
       "      <td>60</td>\n",
       "      <td>1.03</td>\n",
       "    </tr>\n",
       "    <tr>\n",
       "      <th>3</th>\n",
       "      <td>Amapá</td>\n",
       "      <td>48</td>\n",
       "      <td>0.83</td>\n",
       "    </tr>\n",
       "    <tr>\n",
       "      <th>4</th>\n",
       "      <td>Bahia</td>\n",
       "      <td>254</td>\n",
       "      <td>4.38</td>\n",
       "    </tr>\n",
       "    <tr>\n",
       "      <th>5</th>\n",
       "      <td>Ceará</td>\n",
       "      <td>169</td>\n",
       "      <td>2.91</td>\n",
       "    </tr>\n",
       "    <tr>\n",
       "      <th>6</th>\n",
       "      <td>Distrito Federal</td>\n",
       "      <td>1153</td>\n",
       "      <td>19.86</td>\n",
       "    </tr>\n",
       "    <tr>\n",
       "      <th>7</th>\n",
       "      <td>Espírito Santo</td>\n",
       "      <td>172</td>\n",
       "      <td>2.96</td>\n",
       "    </tr>\n",
       "    <tr>\n",
       "      <th>8</th>\n",
       "      <td>Goiás</td>\n",
       "      <td>270</td>\n",
       "      <td>4.65</td>\n",
       "    </tr>\n",
       "    <tr>\n",
       "      <th>9</th>\n",
       "      <td>Maranhão</td>\n",
       "      <td>65</td>\n",
       "      <td>1.12</td>\n",
       "    </tr>\n",
       "    <tr>\n",
       "      <th>10</th>\n",
       "      <td>Minas Gerais</td>\n",
       "      <td>379</td>\n",
       "      <td>6.53</td>\n",
       "    </tr>\n",
       "    <tr>\n",
       "      <th>11</th>\n",
       "      <td>Mato Grosso do Sul</td>\n",
       "      <td>146</td>\n",
       "      <td>2.52</td>\n",
       "    </tr>\n",
       "    <tr>\n",
       "      <th>12</th>\n",
       "      <td>Mato Grosso</td>\n",
       "      <td>67</td>\n",
       "      <td>1.15</td>\n",
       "    </tr>\n",
       "    <tr>\n",
       "      <th>13</th>\n",
       "      <td>Pará</td>\n",
       "      <td>223</td>\n",
       "      <td>3.84</td>\n",
       "    </tr>\n",
       "    <tr>\n",
       "      <th>14</th>\n",
       "      <td>Paraíba</td>\n",
       "      <td>94</td>\n",
       "      <td>1.62</td>\n",
       "    </tr>\n",
       "    <tr>\n",
       "      <th>15</th>\n",
       "      <td>Pernambuco</td>\n",
       "      <td>269</td>\n",
       "      <td>4.63</td>\n",
       "    </tr>\n",
       "    <tr>\n",
       "      <th>16</th>\n",
       "      <td>Piauí</td>\n",
       "      <td>209</td>\n",
       "      <td>3.6</td>\n",
       "    </tr>\n",
       "    <tr>\n",
       "      <th>17</th>\n",
       "      <td>Paraná</td>\n",
       "      <td>282</td>\n",
       "      <td>4.86</td>\n",
       "    </tr>\n",
       "    <tr>\n",
       "      <th>18</th>\n",
       "      <td>Rio de Janeiro</td>\n",
       "      <td>588</td>\n",
       "      <td>10.13</td>\n",
       "    </tr>\n",
       "    <tr>\n",
       "      <th>19</th>\n",
       "      <td>Rio Grande do Norte</td>\n",
       "      <td>85</td>\n",
       "      <td>1.46</td>\n",
       "    </tr>\n",
       "    <tr>\n",
       "      <th>20</th>\n",
       "      <td>Rio Grande do Sul</td>\n",
       "      <td>45</td>\n",
       "      <td>0.78</td>\n",
       "    </tr>\n",
       "    <tr>\n",
       "      <th>21</th>\n",
       "      <td>Rondônia</td>\n",
       "      <td>58</td>\n",
       "      <td>1.0</td>\n",
       "    </tr>\n",
       "    <tr>\n",
       "      <th>22</th>\n",
       "      <td>Roraima</td>\n",
       "      <td>180</td>\n",
       "      <td>3.1</td>\n",
       "    </tr>\n",
       "    <tr>\n",
       "      <th>23</th>\n",
       "      <td>Santa Catarina</td>\n",
       "      <td>271</td>\n",
       "      <td>4.67</td>\n",
       "    </tr>\n",
       "    <tr>\n",
       "      <th>24</th>\n",
       "      <td>Sergipe</td>\n",
       "      <td>176</td>\n",
       "      <td>3.03</td>\n",
       "    </tr>\n",
       "    <tr>\n",
       "      <th>25</th>\n",
       "      <td>São Paulo</td>\n",
       "      <td>332</td>\n",
       "      <td>5.72</td>\n",
       "    </tr>\n",
       "    <tr>\n",
       "      <th>26</th>\n",
       "      <td>Tocantins</td>\n",
       "      <td>59</td>\n",
       "      <td>1.02</td>\n",
       "    </tr>\n",
       "    <tr>\n",
       "      <th>27</th>\n",
       "      <td>Total</td>\n",
       "      <td>5805</td>\n",
       "      <td>100</td>\n",
       "    </tr>\n",
       "  </tbody>\n",
       "</table>\n",
       "</div>"
      ],
      "text/plain": [
       "                 Estado  Quantidade de relatórios Porcentagem (%)\n",
       "0                  Acre                        61            1.05\n",
       "1               Alagoas                        90            1.55\n",
       "2              Amazonas                        60            1.03\n",
       "3                 Amapá                        48            0.83\n",
       "4                 Bahia                       254            4.38\n",
       "5                 Ceará                       169            2.91\n",
       "6      Distrito Federal                      1153           19.86\n",
       "7        Espírito Santo                       172            2.96\n",
       "8                 Goiás                       270            4.65\n",
       "9              Maranhão                        65            1.12\n",
       "10         Minas Gerais                       379            6.53\n",
       "11   Mato Grosso do Sul                       146            2.52\n",
       "12          Mato Grosso                        67            1.15\n",
       "13                 Pará                       223            3.84\n",
       "14              Paraíba                        94            1.62\n",
       "15           Pernambuco                       269            4.63\n",
       "16                Piauí                       209             3.6\n",
       "17               Paraná                       282            4.86\n",
       "18       Rio de Janeiro                       588           10.13\n",
       "19  Rio Grande do Norte                        85            1.46\n",
       "20    Rio Grande do Sul                        45            0.78\n",
       "21             Rondônia                        58             1.0\n",
       "22              Roraima                       180             3.1\n",
       "23       Santa Catarina                       271            4.67\n",
       "24              Sergipe                       176            3.03\n",
       "25            São Paulo                       332            5.72\n",
       "26            Tocantins                        59            1.02\n",
       "27                Total                      5805             100"
      ]
     },
     "metadata": {},
     "output_type": "display_data"
    }
   ],
   "source": [
    "#Transfoma os dados da coluna 'UF' em Strings\n",
    "tabela_relatorios['UF'] = tabela_relatorios['UF'].astype(str)\n",
    "\n",
    "#Tabela apenas com os relatórios do Acre\n",
    "# Filtra a tabela para incluir apenas linhas onde a coluna 'UF' é exatamente \"1\"\n",
    "tabela_acre_bool = tabela_relatorios['UF'] == \"1\"\n",
    "tabela_acre = tabela_relatorios[tabela_acre_bool]\n",
    "tabela_acre_count = len(tabela_acre.index)\n",
    "\n",
    "#display(tabela_acre_count)\n",
    "#display(tabela_acre.head(10)) #Exibe amostra da tabela para saber se está tudo ok\n",
    "\n",
    "#Tabela apenas com os relatórios do Alagoas\n",
    "tabela_alagoas_bool = tabela_relatorios['UF'] == \"2\" #booleano categoriza apenas quando é do Alagoas\n",
    "tabela_alagoas = tabela_relatorios[tabela_alagoas_bool]\n",
    "tabela_alagoas_count = len(tabela_alagoas.index)\n",
    "#display(tabela_alagoas_count)\n",
    "#display(tabela_alagoas.head(10)) #Exibe amostra da tabela para saber se está tudo ok\n",
    "\n",
    "#Tabela apenas com os relatórios do Amazonas\n",
    "tabela_amazonas_bool = tabela_relatorios['UF'] == \"3\" #booleano categoriza apenas quando é do Amazonas\n",
    "tabela_amazonas = tabela_relatorios[tabela_amazonas_bool]\n",
    "tabela_amazonas_count = len(tabela_amazonas.index)\n",
    "#display(tabela_amazonas_count)\n",
    "#display(tabela_amazonas.head(10)) #Exibe amostra da tabela para saber se está tudo ok\n",
    "\n",
    "#Tabela apenas com os relatórios do Amapá\n",
    "tabela_amapa_bool = tabela_relatorios['UF'] == \"4\" #booleano categoriza apenas quando é do Amapá\n",
    "tabela_amapa = tabela_relatorios[tabela_amapa_bool]\n",
    "tabela_amapa_count = len(tabela_amapa.index)\n",
    "#display(tabela_amapa_count)\n",
    "#display(tabela_amapa.head(10)) #Exibe amostra da tabela para saber se está tudo ok\n",
    "\n",
    "#Tabela apenas com os relatórios da Bahia\n",
    "tabela_bahia_bool = tabela_relatorios['UF'] == \"5\" #booleano categoriza apenas quando é da Bahia\n",
    "tabela_bahia = tabela_relatorios[tabela_bahia_bool]\n",
    "tabela_bahia_count = len(tabela_bahia.index)\n",
    "#display(tabela_bahia_count)\n",
    "#display(tabela_bahia.head(10)) #Exibe amostra da tabela para saber se está tudo ok\n",
    "\n",
    "#Tabela apenas com os relatórios do Ceará\n",
    "tabela_ceara_bool = tabela_relatorios['UF'] == \"6\" #booleano categoriza apenas quando é do Ceará\n",
    "tabela_ceara = tabela_relatorios[tabela_ceara_bool]\n",
    "tabela_ceara_count = len(tabela_ceara.index)\n",
    "#display(tabela_ceara_count)\n",
    "#display(tabela_ceara.head(10)) #Exibe amostra da tabela para saber se está tudo ok\n",
    "\n",
    "#Tabela apenas com os relatórios do Distrito Federal\n",
    "tabela_df_bool = tabela_relatorios['UF'] == \"7\" #booleano categoriza apenas quando é do Distrito Federal\n",
    "tabela_df = tabela_relatorios[tabela_df_bool]\n",
    "tabela_df_count = len(tabela_df.index)\n",
    "#display(tabela_df_count)\n",
    "#display(tabela_df.head(10)) #Exibe amostra da tabela para saber se está tudo ok\n",
    "\n",
    "#Tabela apenas com os relatórios do Espírito Santo\n",
    "tabela_es_bool = tabela_relatorios['UF'] == \"8\" #booleano categoriza apenas quando é do Espírito Santo\n",
    "tabela_es = tabela_relatorios[tabela_es_bool]\n",
    "tabela_es_count = len(tabela_es.index)\n",
    "#display(tabela_es_count)\n",
    "#display(tabela_es.head(10)) #Exibe amostra da tabela para saber se está tudo ok\n",
    "\n",
    "#Tabela apenas com os relatórios de Goiás\n",
    "tabela_goias_bool = tabela_relatorios['UF'] == \"9\" #booleano categoriza apenas quando é de Goiás\n",
    "tabela_goias = tabela_relatorios[tabela_goias_bool]\n",
    "tabela_goias_count = len(tabela_goias.index)\n",
    "#display(tabela_goias_count)\n",
    "#display(tabela_goias.head(10)) #Exibe amostra da tabela para saber se está tudo ok\n",
    "\n",
    "#Tabela apenas com os relatórios do Maranhão\n",
    "tabela_maranhao_bool = tabela_relatorios['UF']== \"10\" #booleano categoriza apenas quando é do Maranhão\n",
    "tabela_maranhao = tabela_relatorios[tabela_maranhao_bool]\n",
    "tabela_maranhao_count = len(tabela_maranhao.index)\n",
    "#display(tabela_maranhao_count)\n",
    "#display(tabela_maranhao.head(10)) #Exibe amostra da tabela para saber se está tudo ok\n",
    "\n",
    "#Tabela apenas com os relatórios de Minas Gerais\n",
    "tabela_mg_bool = tabela_relatorios['UF'] == \"11\" #booleano categoriza apenas quando é de Minas Gerais\n",
    "tabela_mg = tabela_relatorios[tabela_mg_bool]\n",
    "tabela_mg_count = len(tabela_mg.index)\n",
    "#display(tabela_mg_count)\n",
    "#display(tabela_mg.head(10)) #Exibe amostra da tabela para saber se está tudo ok\n",
    "\n",
    "#Tabela apenas com os relatórios de Mato Grosso do Sul\n",
    "tabela_ms_bool = tabela_relatorios['UF'] == \"12\" #booleano categoriza apenas quando é do Mato Grosso do Sul\n",
    "tabela_ms = tabela_relatorios[tabela_ms_bool]\n",
    "tabela_ms_count = len(tabela_ms.index)\n",
    "#display(tabela_ms_count)\n",
    "#display(tabela_ms.head(10)) #Exibe amostra da tabela para saber se está tudo ok\n",
    "\n",
    "#Tabela apenas com os relatórios de Mato Grosso\n",
    "tabela_mt_bool = tabela_relatorios['UF'] == \"13\"#booleano categoriza apenas quando é do Mato Grosso\n",
    "tabela_mt = tabela_relatorios[tabela_mt_bool]\n",
    "tabela_mt_count = len(tabela_mt.index)\n",
    "#display(tabela_mt_count)\n",
    "#display(tabela_mt.head(10)) #Exibe amostra da tabela para saber se está tudo ok\n",
    "\n",
    "#Tabela apenas com os relatórios do Pará\n",
    "tabela_para_bool = tabela_relatorios['UF'] == \"14\"#booleano categoriza apenas quando é do Pará\n",
    "tabela_para = tabela_relatorios[tabela_para_bool]\n",
    "tabela_para_count = len(tabela_para.index)\n",
    "#display(tabela_para_count)\n",
    "#display(tabela_para.head(10)) #Exibe amostra da tabela para saber se está tudo ok\n",
    "\n",
    "#Tabela apenas com os relatórios da Paraíba\n",
    "tabela_paraiba_bool = tabela_relatorios['UF'] == \"15\"#booleano categoriza apenas quando é da Paraíba\n",
    "tabela_paraiba = tabela_relatorios[tabela_paraiba_bool]\n",
    "tabela_paraiba_count = len(tabela_paraiba.index)\n",
    "#display(tabela_paraiba_count)\n",
    "#display(tabela_paraiba.head(10)) #Exibe amostra da tabela para saber se está tudo ok\n",
    "\n",
    "#Tabela apenas com os relatórios de Pernambuco\n",
    "tabela_pernambuco_bool = tabela_relatorios['UF'] == \"16\"#booleano categoriza apenas quando é de Pernambuco\n",
    "tabela_pernambuco = tabela_relatorios[tabela_pernambuco_bool]\n",
    "tabela_pernambuco_count = len(tabela_pernambuco.index)\n",
    "#display(tabela_pernambuco_count)\n",
    "#display(tabela_pernambuco.head(10)) #Exibe amostra da tabela para saber se está tudo ok\n",
    "\n",
    "#Tabela apenas com os relatórios do Piauí\n",
    "tabela_piaui_bool = tabela_relatorios['UF'] == \"17\"#booleano categoriza apenas quando é do Piauí\n",
    "tabela_piaui = tabela_relatorios[tabela_piaui_bool]\n",
    "tabela_piaui_count = len(tabela_piaui.index)\n",
    "#display(tabela_piaui_count)\n",
    "#display(tabela_piaui.head(10)) #Exibe amostra da tabela para saber se está tudo ok\n",
    "\n",
    "#Tabela apenas com os relatórios do Paraná\n",
    "tabela_parana_bool = tabela_relatorios['UF'] == \"18\"#booleano categoriza apenas quando é do Paraná\n",
    "tabela_parana = tabela_relatorios[tabela_parana_bool]\n",
    "tabela_parana_count = len(tabela_parana.index)\n",
    "#display(tabela_parana_count)\n",
    "#display(tabela_parana.head(10)) #Exibe amostra da tabela para saber se está tudo ok\n",
    "\n",
    "#Tabela apenas com os relatórios do Rio de Janeiro\n",
    "tabela_rj_bool = tabela_relatorios['UF'] == \"19\"#booleano categoriza apenas quando é do Rio de Janeiro\n",
    "tabela_rj = tabela_relatorios[tabela_rj_bool]\n",
    "tabela_rj_count = len(tabela_rj.index)\n",
    "#display(tabela_rj_count)\n",
    "#display(tabela_rj.head(10)) #Exibe amostra da tabela para saber se está tudo ok\n",
    "\n",
    "#Tabela apenas com os relatórios do Rio Grande do Norte\n",
    "tabela_rn_bool = tabela_relatorios['UF'] == \"20\"#booleano categoriza apenas quando é do Rio Grande do Norte\n",
    "tabela_rn = tabela_relatorios[tabela_rn_bool]\n",
    "tabela_rn_count = len(tabela_rn.index)\n",
    "#display(tabela_rn_count)\n",
    "#display(tabela_rn.head(10)) #Exibe amostra da tabela para saber se está tudo ok\n",
    "\n",
    "#Tabela apenas com os relatórios do Rio Grande do Sul\n",
    "tabela_rs_bool = tabela_relatorios['UF'] == \"21\"#booleano categoriza apenas quando é do Rio Grande do Sul\n",
    "tabela_rs = tabela_relatorios[tabela_rs_bool]\n",
    "tabela_rs_count = len(tabela_rs.index)\n",
    "#display(tabela_rs_count)\n",
    "#display(tabela_rs.head(10)) #Exibe amostra da tabela para saber se está tudo ok\n",
    "\n",
    "#Tabela apenas com os relatórios de Rondônia\n",
    "tabela_rondonia_bool = tabela_relatorios['UF'] == \"22\"#booleano categoriza apenas quando é de Rondônia\n",
    "tabela_rondonia = tabela_relatorios[tabela_rondonia_bool]\n",
    "tabela_rondonia_count = len(tabela_rondonia.index)\n",
    "#display(tabela_rondonia_count)\n",
    "#display(tabela_rondonia.head(10)) #Exibe amostra da tabela para saber se está tudo ok\n",
    "\n",
    "#Tabela apenas com os relatórios de Roraima\n",
    "tabela_roraima_bool = tabela_relatorios['UF'] == \"23\"#booleano categoriza apenas quando é de Roraima\n",
    "tabela_roraima = tabela_relatorios[tabela_roraima_bool]\n",
    "tabela_roraima_count = len(tabela_roraima.index)\n",
    "#display(tabela_roraima_count)\n",
    "#display(tabela_roraima.head(10)) #Exibe amostra da tabela para saber se está tudo ok\n",
    "\n",
    "#Tabela apenas com os relatórios de Santa Catarina\n",
    "tabela_sc_bool = tabela_relatorios['UF'] == \"24\"#booleano categoriza apenas quando é de Santa Catarina\n",
    "tabela_sc = tabela_relatorios[tabela_sc_bool]\n",
    "tabela_sc_count = len(tabela_sc.index)\n",
    "#display(tabela_sc_count)\n",
    "#display(tabela_sc.head(10)) #Exibe amostra da tabela para saber se está tudo ok\n",
    "\n",
    "#Tabela apenas com os relatórios de Sergipe\n",
    "tabela_sergipe_bool = tabela_relatorios['UF'] == \"25\"#booleano categoriza apenas quando é de Sergipe\n",
    "tabela_sergipe = tabela_relatorios[tabela_sergipe_bool]\n",
    "tabela_sergipe_count = len(tabela_sergipe.index)\n",
    "#display(tabela_sergipe_count)\n",
    "#display(tabela_sergipe.head(10)) #Exibe amostra da tabela para saber se está tudo ok\n",
    "\n",
    "#Tabela apenas com os relatórios de São Paulo\n",
    "tabela_sp_bool = tabela_relatorios['UF'] == \"26\"#booleano categoriza apenas quando é de São Paulo\n",
    "tabela_sp = tabela_relatorios[tabela_sp_bool]\n",
    "tabela_sp_count = len(tabela_sp.index)\n",
    "#display(tabela_sp_count)\n",
    "#display(tabela_sp.head(10)) #Exibe amostra da tabela para saber se está tudo ok\n",
    "\n",
    "#Tabela apenas com os relatórios de Tocantins\n",
    "tabela_tocantins_bool = tabela_relatorios['UF'] == \"27\"#booleano categoriza apenas quando é de Tocantins\n",
    "tabela_tocantins = tabela_relatorios[tabela_tocantins_bool]\n",
    "tabela_tocantins_count = len(tabela_tocantins.index)\n",
    "#display(tabela_tocantins_count)\n",
    "#display(tabela_tocantins.head(10)) #Exibe amostra da tabela para saber se está tudo ok\n",
    "\n",
    "qtd_total_relatórios = len(tabela_relatorios.index) #Número total de relatórios\n",
    "# Lista contendo a lista de estados\n",
    "array_estados = [\"Acre\", \"Alagoas\", \"Amazonas\", \"Amapá\", \"Bahia\", \"Ceará\", \"Distrito Federal\", \"Espírito Santo\", \"Goiás\", \"Maranhão\", \"Minas Gerais\", \"Mato Grosso do Sul\", \"Mato Grosso\", \"Pará\", \"Paraíba\", \"Pernambuco\", \"Piauí\", \"Paraná\", \"Rio de Janeiro\", \"Rio Grande do Norte\", \"Rio Grande do Sul\", \"Rondônia\", \"Roraima\", \"Santa Catarina\", \"Sergipe\", \"São Paulo\", \"Tocantins\"]\n",
    "#Lista contendo a quantidade de relatórios por estado\n",
    "array_quantidades_estados = [tabela_acre_count, tabela_alagoas_count, tabela_amazonas_count, tabela_amapa_count, tabela_bahia_count, tabela_ceara_count, tabela_df_count, tabela_es_count, tabela_goias_count, tabela_maranhao_count, tabela_mg_count, tabela_ms_count, tabela_mt_count, tabela_para_count, tabela_paraiba_count, tabela_pernambuco_count, tabela_piaui_count, tabela_parana_count, tabela_rj_count, tabela_rn_count, tabela_rs_count, tabela_rondonia_count, tabela_roraima_count, tabela_sc_count, tabela_sergipe_count, tabela_sp_count, tabela_tocantins_count]\n",
    "#Lista contendo a porcentagem de relatórios por estado\n",
    "array_porcentagens_estados = [round(((tabela_acre_count/qtd_total_relatórios)*100), 2), round(((tabela_alagoas_count/qtd_total_relatórios)*100), 2), round(((tabela_amazonas_count/qtd_total_relatórios)*100), 2), round(((tabela_amapa_count/qtd_total_relatórios)*100), 2), round(((tabela_bahia_count/qtd_total_relatórios)*100), 2), round(((tabela_ceara_count/qtd_total_relatórios)*100), 2), round(((tabela_df_count/qtd_total_relatórios)*100), 2), round(((tabela_es_count/qtd_total_relatórios)*100), 2), round(((tabela_goias_count/qtd_total_relatórios)*100),2), round(((tabela_maranhao_count/qtd_total_relatórios)*100),2), round(((tabela_mg_count/qtd_total_relatórios)*100), 2), round(((tabela_ms_count/qtd_total_relatórios)*100), 2), round(((tabela_mt_count/qtd_total_relatórios)*100), 2), round(((tabela_para_count/qtd_total_relatórios)*100), 2), round(((tabela_paraiba_count/qtd_total_relatórios)*100), 2), round(((tabela_pernambuco_count/qtd_total_relatórios)*100), 2), round(((tabela_piaui_count/qtd_total_relatórios)*100), 2), round(((tabela_parana_count/qtd_total_relatórios)*100), 2), round(((tabela_rj_count/qtd_total_relatórios)*100), 2), round(((tabela_rn_count/qtd_total_relatórios)*100), 2), round(((tabela_rs_count/qtd_total_relatórios)*100), 2), round(((tabela_rondonia_count/qtd_total_relatórios)*100), 2), round(((tabela_roraima_count/qtd_total_relatórios)*100), 2), round(((tabela_sc_count/qtd_total_relatórios)*100), 2), round(((tabela_sergipe_count/qtd_total_relatórios)*100), 2), round(((tabela_sp_count/qtd_total_relatórios)*100), 2), round(((tabela_tocantins_count/qtd_total_relatórios)*100), 2)]\n",
    "\n",
    "#Tabela que mostra a porcentagem de relatórios por estado e sua quantidade\n",
    "tabela_porcentagem_estado = pd.DataFrame({'Estado': array_estados+[\"Total\"], 'Quantidade de relatórios': array_quantidades_estados+[qtd_total_relatórios], 'Porcentagem (%)': array_porcentagens_estados+[\"100\"]})\n",
    "\n",
    "tabela_porcentagem_estado.to_excel('casos_por_estado.xlsx')\n",
    "\n",
    "display(tabela_porcentagem_estado)"
   ]
  },
  {
   "cell_type": "markdown",
   "metadata": {},
   "source": [
    "### Gráfico 1.1"
   ]
  },
  {
   "cell_type": "code",
   "execution_count": 169,
   "metadata": {},
   "outputs": [
    {
     "data": {
      "image/png": "[encoded data removed]",
      "text/plain": [
       "<Figure size 800x700 with 1 Axes>"
      ]
     },
     "metadata": {},
     "output_type": "display_data"
    }
   ],
   "source": [
    "#Removendo a barra que representa o total de relatórios do dataset\n",
    "tabela_filtrada = tabela_porcentagem_estado[tabela_porcentagem_estado['Estado'] != 'Total']\n",
    "\n",
    "#Selecionando os dados que serão apresentados no gráfico\n",
    "grafico_estado_relatorio = tabela_filtrada.groupby('Estado')['Quantidade de relatórios'].mean()\n",
    "\n",
    "#decidindo o tamanho do gráfico\n",
    "plt.figure(figsize=(8, 7))\n",
    "\n",
    "#ajustando o modelo do gráfico, cor das barras, título e nomes dos eixos x e y\n",
    "ax = grafico_estado_relatorio.plot(kind='bar', color='red')\n",
    "ax.set_xlabel('Estados')\n",
    "ax.set_ylabel('Quantidade de relatórios')\n",
    "ax.set_title('Quantidades de relatórios por estado')\n",
    "#Seleciona a posição que deverá ficar os nomes dos tipos de relatório\n",
    "\n",
    "plt.xticks(rotation=90, ha='right')\n",
    "plt.tight_layout()\n",
    "\n",
    "#Adiciona acima da barra a quantidade de relatórios que a mesma representa\n",
    "for p in ax.patches:\n",
    "    ax.annotate(int(p.get_height()), (p.get_x() + p.get_width() / 2., p.get_height()),\n",
    "                ha='center', va='bottom', xytext=(0, 5), textcoords='offset points')\n",
    "    \n",
    "# Salva o gráfico como um arquivo JPEG\n",
    "plt.savefig('quantidade_relatorios_por_estado.jpeg', format='jpeg', bbox_inches='tight')\n",
    "\n",
    "#Exibe o gráfico\n",
    "plt.show()"
   ]
  },
  {
   "cell_type": "markdown",
   "metadata": {},
   "source": [
    "## 2. Casos por Tipo de Relatório\n",
    "Aqui será analisado a quantidade de cada tipo de relatório."
   ]
  },
  {
   "cell_type": "code",
   "execution_count": 170,
   "metadata": {},
   "outputs": [
    {
     "data": {
      "text/html": [
       "<div>\n",
       "<style scoped>\n",
       "    .dataframe tbody tr th:only-of-type {\n",
       "        vertical-align: middle;\n",
       "    }\n",
       "\n",
       "    .dataframe tbody tr th {\n",
       "        vertical-align: top;\n",
       "    }\n",
       "\n",
       "    .dataframe thead th {\n",
       "        text-align: right;\n",
       "    }\n",
       "</style>\n",
       "<table border=\"1\" class=\"dataframe\">\n",
       "  <thead>\n",
       "    <tr style=\"text-align: right;\">\n",
       "      <th></th>\n",
       "      <th>Tipo do Relatório</th>\n",
       "      <th>Quantidade de relatórios</th>\n",
       "      <th>Porcentagem (%)</th>\n",
       "    </tr>\n",
       "  </thead>\n",
       "  <tbody>\n",
       "    <tr>\n",
       "      <th>0</th>\n",
       "      <td>Avaliação</td>\n",
       "      <td>4743</td>\n",
       "      <td>81.71</td>\n",
       "    </tr>\n",
       "    <tr>\n",
       "      <th>1</th>\n",
       "      <td>Consultoria</td>\n",
       "      <td>1028</td>\n",
       "      <td>17.71</td>\n",
       "    </tr>\n",
       "    <tr>\n",
       "      <th>2</th>\n",
       "      <td>Apuração</td>\n",
       "      <td>34</td>\n",
       "      <td>0.59</td>\n",
       "    </tr>\n",
       "    <tr>\n",
       "      <th>3</th>\n",
       "      <td>Não se aplica</td>\n",
       "      <td>0</td>\n",
       "      <td>0.00</td>\n",
       "    </tr>\n",
       "  </tbody>\n",
       "</table>\n",
       "</div>"
      ],
      "text/plain": [
       "  Tipo do Relatório  Quantidade de relatórios  Porcentagem (%)\n",
       "0         Avaliação                      4743            81.71\n",
       "1       Consultoria                      1028            17.71\n",
       "2          Apuração                        34             0.59\n",
       "3     Não se aplica                         0             0.00"
      ]
     },
     "metadata": {},
     "output_type": "display_data"
    }
   ],
   "source": [
    "#Transfoma os dados da coluna 'Serviço' em Strings\n",
    "tabela_relatorios['Serviço'] = tabela_relatorios['Serviço'].astype(str)\n",
    "\n",
    "#Tabela apenas com os relatórios do tipo Avaliação\n",
    "tabela_relatorios_avaliacao_bool = tabela_relatorios['Serviço'].str.contains(\"1\", case=False, na=False) #booleano categoriza apenas quando é do tipo Avaliação\n",
    "tabela_relatorios_avaliacao = tabela_relatorios[tabela_relatorios_avaliacao_bool]\n",
    "tabela_relatorios_avaliacao_count = len(tabela_relatorios_avaliacao.index)\n",
    "#display(tabela_relatorios_avaliacao_count)\n",
    "#display(tabela_relatorios_avaliacao.head(10)) #Exibe amostra da tabela para saber se está tudo ok\n",
    "\n",
    "#Tabela apenas com os relatórios do tipo Consultoria\n",
    "tabela_relatorios_consultoria_bool = tabela_relatorios['Serviço'].str.contains(\"2\", case=False, na=False) #booleano categoriza apenas quando é do tipo Consultoria\n",
    "tabela_relatorios_consultoria = tabela_relatorios[tabela_relatorios_consultoria_bool]\n",
    "tabela_relatorios_consultoria_count = len(tabela_relatorios_consultoria.index)\n",
    "#display(tabela_relatorios_consultoria_count)\n",
    "#display(tabela_relatorios_consultoria.head(10)) #Exibe amostra da tabela para saber se está tudo ok\n",
    "\n",
    "#Tabela apenas com os relatórios do tipo Apuração\n",
    "tabela_relatorios_apuracao_bool = tabela_relatorios['Serviço'].str.contains(\"3\", case=False, na=False) #booleano categoriza apenas quando é do tipo Apuração\n",
    "tabela_relatorios_apuracao = tabela_relatorios[tabela_relatorios_apuracao_bool]\n",
    "tabela_relatorios_apuracao_count = len(tabela_relatorios_apuracao.index)\n",
    "#display(tabela_relatorios_apuracao_count)\n",
    "#display(tabela_relatorios_apuracao.head(10)) #Exibe amostra da tabela para saber se está tudo ok\n",
    "\n",
    "#Tabela com os relatórios que não se aplicam a nenhum dos tipos\n",
    "tabela_relatorios_nao_se_aplicam = pd.concat([tabela_relatorios,tabela_relatorios_avaliacao, tabela_relatorios_consultoria, tabela_relatorios_apuracao]).drop_duplicates(keep=False)\n",
    "tabela_relatorios_nao_se_aplicam_count = len(tabela_relatorios_nao_se_aplicam.index)\n",
    "#display(tabela_relatorios_nao_se_aplicam_count)\n",
    "#display(tabela_relatorios_nao_se_aplicam.head(10)) #Exibe amostra da tabela para saber se está tudo ok\n",
    "\n",
    "#Quantidade de relatórios por tipo, respectivamente\n",
    "array_quantidades_tipos = [tabela_relatorios_avaliacao_count, tabela_relatorios_consultoria_count, tabela_relatorios_apuracao_count, tabela_relatorios_nao_se_aplicam_count]\n",
    "#Tipos respectivos de relatório\n",
    "array_tipo_relatorio = [\"Avaliação\", \"Consultoria\", \"Apuração\", \"Não se aplica\"]\n",
    "#Porcentagens por tipo de relatório\n",
    "array_porcentagens_tipos_relatorios = [round(((tabela_relatorios_avaliacao_count/qtd_total_relatórios)*100), 2), round(((tabela_relatorios_consultoria_count/qtd_total_relatórios)*100), 2), round(((tabela_relatorios_apuracao_count/qtd_total_relatórios)*100), 2), round(((tabela_relatorios_nao_se_aplicam_count/qtd_total_relatórios)*100), 2)]\n",
    "\n",
    "#Tabela com as quantidades e tipos de relatórios\n",
    "tabela_tipo_relatorio = pd.DataFrame({'Tipo do Relatório': array_tipo_relatorio, 'Quantidade de relatórios': array_quantidades_tipos, 'Porcentagem (%)': array_porcentagens_tipos_relatorios})\n",
    "\n",
    "tabela_tipo_relatorio.to_excel('casos_por_tipo.xlsx')\n",
    "\n",
    "#Desenha a tabela\n",
    "display(tabela_tipo_relatorio)"
   ]
  },
  {
   "cell_type": "markdown",
   "metadata": {},
   "source": [
    "É notório que \"avaliação\" é o tipo de relatório que mais foi publicado, sendo tendo um percentual de 80"
   ]
  },
  {
   "cell_type": "markdown",
   "metadata": {},
   "source": [
    "### Gráfico 2.1"
   ]
  },
  {
   "cell_type": "code",
   "execution_count": 171,
   "metadata": {},
   "outputs": [
    {
     "data": {
      "image/png": "[encoded data removed]",
      "text/plain": [
       "<Figure size 800x700 with 1 Axes>"
      ]
     },
     "metadata": {},
     "output_type": "display_data"
    }
   ],
   "source": [
    "#Selecionando os dados que serão apresentados no gráfico\n",
    "grafico_tipo_relatorio = tabela_tipo_relatorio.groupby('Tipo do Relatório')['Quantidade de relatórios'].mean()\n",
    "\n",
    "#decidindo o tamanho do gráfico\n",
    "plt.figure(figsize=(8, 7))\n",
    "\n",
    "#ajustando o modelo do gráfico, cor das barras, título e nomes dos eixos x e y\n",
    "ax = grafico_tipo_relatorio.plot(kind='bar', color='blue')\n",
    "\n",
    "ax.set_xlabel('Tipo de relatório')\n",
    "ax.set_ylabel('Quantidade de relatórios')\n",
    "ax.set_title('Quantidades de relatórios por tipo')\n",
    "\n",
    "#Seleciona a posição que deverá ficar os nomes dos tipos de relatório\n",
    "plt.xticks(rotation=45, ha='right')\n",
    "plt.tight_layout()\n",
    "\n",
    "#Adiciona acima da barra a quantidade de relatórios que a mesma representa\n",
    "for p in ax.patches:\n",
    "    ax.annotate(int(p.get_height()), (p.get_x() + p.get_width() / 2., p.get_height()),\n",
    "                ha='center', va='bottom', xytext=(0, 5), textcoords='offset points')\n",
    "    \n",
    "# Salva o gráfico como um arquivo JPEG\n",
    "plt.savefig('quantidade_relatorios_por_tipo.jpeg', format='jpeg', bbox_inches='tight')\n",
    "#Exibe o gráfico\n",
    "plt.show()"
   ]
  },
  {
   "cell_type": "markdown",
   "metadata": {},
   "source": [
    "## 3. Casos por Ano do Relatório\n",
    "Nesse tópico será analisado a quantidade de relatórios publicados ao longo dos anos."
   ]
  },
  {
   "cell_type": "code",
   "execution_count": 172,
   "metadata": {},
   "outputs": [
    {
     "data": {
      "text/html": [
       "<div>\n",
       "<style scoped>\n",
       "    .dataframe tbody tr th:only-of-type {\n",
       "        vertical-align: middle;\n",
       "    }\n",
       "\n",
       "    .dataframe tbody tr th {\n",
       "        vertical-align: top;\n",
       "    }\n",
       "\n",
       "    .dataframe thead th {\n",
       "        text-align: right;\n",
       "    }\n",
       "</style>\n",
       "<table border=\"1\" class=\"dataframe\">\n",
       "  <thead>\n",
       "    <tr style=\"text-align: right;\">\n",
       "      <th></th>\n",
       "      <th>Ano do relatório</th>\n",
       "      <th>Quantidade de relatórios</th>\n",
       "      <th>Porcentagem (%)</th>\n",
       "    </tr>\n",
       "  </thead>\n",
       "  <tbody>\n",
       "    <tr>\n",
       "      <th>0</th>\n",
       "      <td>2018</td>\n",
       "      <td>1875</td>\n",
       "      <td>32.30</td>\n",
       "    </tr>\n",
       "    <tr>\n",
       "      <th>1</th>\n",
       "      <td>2019</td>\n",
       "      <td>1260</td>\n",
       "      <td>21.71</td>\n",
       "    </tr>\n",
       "    <tr>\n",
       "      <th>2</th>\n",
       "      <td>2020</td>\n",
       "      <td>682</td>\n",
       "      <td>11.75</td>\n",
       "    </tr>\n",
       "    <tr>\n",
       "      <th>3</th>\n",
       "      <td>2021</td>\n",
       "      <td>667</td>\n",
       "      <td>11.49</td>\n",
       "    </tr>\n",
       "    <tr>\n",
       "      <th>4</th>\n",
       "      <td>2022</td>\n",
       "      <td>541</td>\n",
       "      <td>9.32</td>\n",
       "    </tr>\n",
       "    <tr>\n",
       "      <th>5</th>\n",
       "      <td>2023</td>\n",
       "      <td>522</td>\n",
       "      <td>8.99</td>\n",
       "    </tr>\n",
       "    <tr>\n",
       "      <th>6</th>\n",
       "      <td>2024</td>\n",
       "      <td>258</td>\n",
       "      <td>4.44</td>\n",
       "    </tr>\n",
       "  </tbody>\n",
       "</table>\n",
       "</div>"
      ],
      "text/plain": [
       "  Ano do relatório  Quantidade de relatórios  Porcentagem (%)\n",
       "0             2018                      1875            32.30\n",
       "1             2019                      1260            21.71\n",
       "2             2020                       682            11.75\n",
       "3             2021                       667            11.49\n",
       "4             2022                       541             9.32\n",
       "5             2023                       522             8.99\n",
       "6             2024                       258             4.44"
      ]
     },
     "metadata": {},
     "output_type": "display_data"
    }
   ],
   "source": [
    "# Transforma os dados da coluna 'Ano' em Strings\n",
    "tabela_relatorios['Ano'] = tabela_relatorios['Ano'].astype(str)\n",
    "\n",
    "tabela_relatorios_2018_bool = tabela_relatorios['Ano'].str.contains(\"2018\", case=False, na=False) #booleano categoriza apenas quando é do ano de 2018\n",
    "tabela_relatorios_2018 = tabela_relatorios[tabela_relatorios_2018_bool]\n",
    "tabela_relatorios_2018_count = len(tabela_relatorios_2018.index)\n",
    "#display(tabela_relatorios_avaliacao_count)\n",
    "#display(tabela_relatorios_avaliacao.head(10)) #Exibe amostra da tabela para saber se está tudo ok\n",
    "\n",
    "tabela_relatorios_2019_bool = tabela_relatorios['Ano'].str.contains(\"2019\", case=False, na=False) #booleano categoriza apenas quando é do ano de 2019\n",
    "tabela_relatorios_2019 = tabela_relatorios[tabela_relatorios_2019_bool]\n",
    "tabela_relatorios_2019_count = len(tabela_relatorios_2019.index)\n",
    "#display(tabela_relatorios_avaliacao_count)\n",
    "#display(tabela_relatorios_avaliacao.head(10)) #Exibe amostra da tabela para saber se está tudo ok\n",
    "\n",
    "tabela_relatorios_2020_bool = tabela_relatorios['Ano'].str.contains(\"2020\", case=False, na=False) #booleano categoriza apenas quando é do ano de 2020\n",
    "tabela_relatorios_2020 = tabela_relatorios[tabela_relatorios_2020_bool]\n",
    "tabela_relatorios_2020_count = len(tabela_relatorios_2020.index)\n",
    "#display(tabela_relatorios_avaliacao_count)\n",
    "#display(tabela_relatorios_avaliacao.head(10)) #Exibe amostra da tabela para saber se está tudo ok\n",
    "\n",
    "tabela_relatorios_2021_bool = tabela_relatorios['Ano'].str.contains(\"2021\", case=False, na=False) #booleano categoriza apenas quando é do ano de 2021\n",
    "tabela_relatorios_2021 = tabela_relatorios[tabela_relatorios_2021_bool]\n",
    "tabela_relatorios_2021_count = len(tabela_relatorios_2021.index)\n",
    "#display(tabela_relatorios_avaliacao_count)\n",
    "#display(tabela_relatorios_avaliacao.head(10)) #Exibe amostra da tabela para saber se está tudo ok\n",
    "\n",
    "tabela_relatorios_2022_bool = tabela_relatorios['Ano'].str.contains(\"2022\", case=False, na=False) #booleano categoriza apenas quando é do ano de 2022\n",
    "tabela_relatorios_2022 = tabela_relatorios[tabela_relatorios_2022_bool]\n",
    "tabela_relatorios_2022_count = len(tabela_relatorios_2022.index)\n",
    "#display(tabela_relatorios_consultoria_count)\n",
    "#display(tabela_relatorios_consultoria.head(10)) #Exibe amostra da tabela para saber se está tudo ok\n",
    "\n",
    "tabela_relatorios_2023_bool = tabela_relatorios['Ano'].str.contains(\"2023\", case=False, na=False) #booleano categoriza apenas quando é do ano de 2023\n",
    "tabela_relatorios_2023 = tabela_relatorios[tabela_relatorios_2023_bool]\n",
    "tabela_relatorios_2023_count = len(tabela_relatorios_2023.index)\n",
    "#display(tabela_relatorios_apuracao_count)\n",
    "#display(tabela_relatorios_apuracao.head(10)) #Exibe amostra da tabela para saber se está tudo ok\n",
    "\n",
    "tabela_relatorios_2024_bool = tabela_relatorios['Ano'].str.contains(\"2024\", case=False, na=False) #booleano categoriza apenas quando é do ano de 2024\n",
    "tabela_relatorios_2024 = tabela_relatorios[tabela_relatorios_2024_bool]\n",
    "tabela_relatorios_2024_count = len(tabela_relatorios_2024.index)\n",
    "#display(tabela_relatorios_apuracao_count)\n",
    "#display(tabela_relatorios_apuracao.head(10)) #Exibe amostra da tabela para saber se está tudo ok\n",
    "\n",
    "#Quantidade de relatórios por ano, respectivamente\n",
    "array_quantidades_anos = [tabela_relatorios_2018_count, tabela_relatorios_2019_count, tabela_relatorios_2020_count, tabela_relatorios_2021_count, tabela_relatorios_2022_count, tabela_relatorios_2023_count, tabela_relatorios_2024_count]\n",
    "#Anos respectivos de relatório\n",
    "array_ano_relatorio = ['2018','2019','2020','2021', '2022', '2023', '2024']\n",
    "#Porcentagens por ano de relatório\n",
    "array_porcentagens_anos_relatorios = [round(((tabela_relatorios_2018_count/qtd_total_relatórios)*100), 2), round(((tabela_relatorios_2019_count/qtd_total_relatórios)*100), 2), round(((tabela_relatorios_2020_count/qtd_total_relatórios)*100), 2),round(((tabela_relatorios_2021_count/qtd_total_relatórios)*100), 2), round(((tabela_relatorios_2022_count/qtd_total_relatórios)*100), 2), round(((tabela_relatorios_2023_count/qtd_total_relatórios)*100), 2), round(((tabela_relatorios_2024_count/qtd_total_relatórios)*100), 2)]\n",
    "\n",
    "#Tabela com as quantidades e anos de relatórios\n",
    "tabela_ano_relatorio = pd.DataFrame({'Ano do relatório': array_ano_relatorio, 'Quantidade de relatórios': array_quantidades_anos, 'Porcentagem (%)': array_porcentagens_anos_relatorios})\n",
    "\n",
    "tabela_ano_relatorio.to_excel('casos_por_ano.xlsx')\n",
    "\n",
    "#Desenha a tabela\n",
    "display(tabela_ano_relatorio)"
   ]
  },
  {
   "cell_type": "markdown",
   "metadata": {},
   "source": [
    "### Gráfico 3.1"
   ]
  },
  {
   "cell_type": "code",
   "execution_count": 173,
   "metadata": {},
   "outputs": [
    {
     "data": {
      "image/png": "[encoded data removed]",
      "text/plain": [
       "<Figure size 800x700 with 1 Axes>"
      ]
     },
     "metadata": {},
     "output_type": "display_data"
    }
   ],
   "source": [
    "#Selecionando os dados que serão apresentados no gráfico\n",
    "grafico_ano_relatorio = tabela_ano_relatorio.groupby('Ano do relatório')['Quantidade de relatórios'].mean()\n",
    "\n",
    "#decidindo o tamanho do gráfico\n",
    "plt.figure(figsize=(8, 7))\n",
    "\n",
    "#ajustando o modelo do gráfico, cor das barras, título e nomes dos eixos x e y\n",
    "ax = grafico_ano_relatorio.plot(kind='bar', color='green')\n",
    "ax.set_xlabel('Ano de publicação')\n",
    "ax.set_ylabel('Quantidade de relatórios')\n",
    "ax.set_title('Quantidades de relatórios por ano')\n",
    "\n",
    "#Seleciona a posição que deverá ficar os anos dos relatório\n",
    "plt.xticks(rotation=45, ha='right')\n",
    "plt.tight_layout()\n",
    "\n",
    "#Adiciona acima da barra a quantidade de relatórios que a mesma representa\n",
    "for p in ax.patches:\n",
    "    ax.annotate(int(p.get_height()), (p.get_x() + p.get_width() / 2., p.get_height()),\n",
    "                ha='center', va='bottom', xytext=(0, 5), textcoords='offset points')\n",
    "    \n",
    "# Salva o gráfico como um arquivo JPEG\n",
    "plt.savefig('quantidade_relatorios_por_ano.jpeg', format='jpeg', bbox_inches='tight')\n",
    "\n",
    "#Exibe o gráfico\n",
    "plt.show()"
   ]
  },
  {
   "cell_type": "markdown",
   "metadata": {},
   "source": [
    "## 4. Critérios por estado\n",
    "Aqui veremos quais critérios estão mais presentes em cada estado do país."
   ]
  },
  {
   "cell_type": "code",
   "execution_count": 174,
   "metadata": {},
   "outputs": [
    {
     "data": {
      "text/html": [
       "<div>\n",
       "<style scoped>\n",
       "    .dataframe tbody tr th:only-of-type {\n",
       "        vertical-align: middle;\n",
       "    }\n",
       "\n",
       "    .dataframe tbody tr th {\n",
       "        vertical-align: top;\n",
       "    }\n",
       "\n",
       "    .dataframe thead th {\n",
       "        text-align: right;\n",
       "    }\n",
       "</style>\n",
       "<table border=\"1\" class=\"dataframe\">\n",
       "  <thead>\n",
       "    <tr style=\"text-align: right;\">\n",
       "      <th></th>\n",
       "      <th>Estados</th>\n",
       "      <th>Matriz</th>\n",
       "      <th>A</th>\n",
       "      <th>B</th>\n",
       "      <th>C</th>\n",
       "      <th>D</th>\n",
       "      <th>E</th>\n",
       "      <th>F</th>\n",
       "      <th>G</th>\n",
       "      <th>H</th>\n",
       "      <th>I</th>\n",
       "      <th>J</th>\n",
       "      <th>K</th>\n",
       "      <th>L</th>\n",
       "      <th>M</th>\n",
       "      <th>N</th>\n",
       "    </tr>\n",
       "  </thead>\n",
       "  <tbody>\n",
       "    <tr>\n",
       "      <th>0</th>\n",
       "      <td>Acre</td>\n",
       "      <td>0.00</td>\n",
       "      <td>32.79</td>\n",
       "      <td>3.28</td>\n",
       "      <td>83.61</td>\n",
       "      <td>63.93</td>\n",
       "      <td>96.72</td>\n",
       "      <td>93.44</td>\n",
       "      <td>50.82</td>\n",
       "      <td>55.74</td>\n",
       "      <td>19.67</td>\n",
       "      <td>4.92</td>\n",
       "      <td>65.57</td>\n",
       "      <td>16.39</td>\n",
       "      <td>59.02</td>\n",
       "      <td>98.36</td>\n",
       "    </tr>\n",
       "    <tr>\n",
       "      <th>1</th>\n",
       "      <td>Alagoas</td>\n",
       "      <td>0.00</td>\n",
       "      <td>50.00</td>\n",
       "      <td>21.11</td>\n",
       "      <td>82.22</td>\n",
       "      <td>62.22</td>\n",
       "      <td>96.67</td>\n",
       "      <td>94.44</td>\n",
       "      <td>73.33</td>\n",
       "      <td>54.44</td>\n",
       "      <td>7.78</td>\n",
       "      <td>3.33</td>\n",
       "      <td>72.22</td>\n",
       "      <td>13.33</td>\n",
       "      <td>70.00</td>\n",
       "      <td>100.00</td>\n",
       "    </tr>\n",
       "    <tr>\n",
       "      <th>2</th>\n",
       "      <td>Amazonas</td>\n",
       "      <td>0.00</td>\n",
       "      <td>31.67</td>\n",
       "      <td>0.00</td>\n",
       "      <td>80.00</td>\n",
       "      <td>58.33</td>\n",
       "      <td>96.67</td>\n",
       "      <td>70.00</td>\n",
       "      <td>46.67</td>\n",
       "      <td>43.33</td>\n",
       "      <td>6.67</td>\n",
       "      <td>3.33</td>\n",
       "      <td>45.00</td>\n",
       "      <td>10.00</td>\n",
       "      <td>60.00</td>\n",
       "      <td>95.00</td>\n",
       "    </tr>\n",
       "    <tr>\n",
       "      <th>3</th>\n",
       "      <td>Amapá</td>\n",
       "      <td>0.00</td>\n",
       "      <td>43.75</td>\n",
       "      <td>12.50</td>\n",
       "      <td>75.00</td>\n",
       "      <td>70.83</td>\n",
       "      <td>93.75</td>\n",
       "      <td>95.83</td>\n",
       "      <td>45.83</td>\n",
       "      <td>56.25</td>\n",
       "      <td>29.17</td>\n",
       "      <td>4.17</td>\n",
       "      <td>64.58</td>\n",
       "      <td>14.58</td>\n",
       "      <td>54.17</td>\n",
       "      <td>93.75</td>\n",
       "    </tr>\n",
       "    <tr>\n",
       "      <th>4</th>\n",
       "      <td>Bahia</td>\n",
       "      <td>0.00</td>\n",
       "      <td>15.75</td>\n",
       "      <td>4.72</td>\n",
       "      <td>78.74</td>\n",
       "      <td>50.79</td>\n",
       "      <td>99.21</td>\n",
       "      <td>87.40</td>\n",
       "      <td>51.18</td>\n",
       "      <td>31.89</td>\n",
       "      <td>23.62</td>\n",
       "      <td>5.12</td>\n",
       "      <td>35.04</td>\n",
       "      <td>14.17</td>\n",
       "      <td>53.94</td>\n",
       "      <td>95.28</td>\n",
       "    </tr>\n",
       "    <tr>\n",
       "      <th>5</th>\n",
       "      <td>Ceará</td>\n",
       "      <td>0.59</td>\n",
       "      <td>35.50</td>\n",
       "      <td>3.55</td>\n",
       "      <td>85.80</td>\n",
       "      <td>55.03</td>\n",
       "      <td>99.41</td>\n",
       "      <td>94.08</td>\n",
       "      <td>58.58</td>\n",
       "      <td>43.20</td>\n",
       "      <td>24.26</td>\n",
       "      <td>8.88</td>\n",
       "      <td>56.21</td>\n",
       "      <td>20.12</td>\n",
       "      <td>57.40</td>\n",
       "      <td>94.67</td>\n",
       "    </tr>\n",
       "    <tr>\n",
       "      <th>6</th>\n",
       "      <td>DF</td>\n",
       "      <td>0.78</td>\n",
       "      <td>49.52</td>\n",
       "      <td>11.97</td>\n",
       "      <td>93.15</td>\n",
       "      <td>74.59</td>\n",
       "      <td>96.53</td>\n",
       "      <td>92.54</td>\n",
       "      <td>51.00</td>\n",
       "      <td>53.60</td>\n",
       "      <td>32.78</td>\n",
       "      <td>20.73</td>\n",
       "      <td>85.95</td>\n",
       "      <td>29.40</td>\n",
       "      <td>54.47</td>\n",
       "      <td>96.62</td>\n",
       "    </tr>\n",
       "    <tr>\n",
       "      <th>7</th>\n",
       "      <td>ES</td>\n",
       "      <td>0.58</td>\n",
       "      <td>47.09</td>\n",
       "      <td>5.23</td>\n",
       "      <td>66.28</td>\n",
       "      <td>51.16</td>\n",
       "      <td>97.67</td>\n",
       "      <td>86.05</td>\n",
       "      <td>68.60</td>\n",
       "      <td>26.74</td>\n",
       "      <td>9.88</td>\n",
       "      <td>2.91</td>\n",
       "      <td>47.67</td>\n",
       "      <td>11.05</td>\n",
       "      <td>63.37</td>\n",
       "      <td>98.84</td>\n",
       "    </tr>\n",
       "    <tr>\n",
       "      <th>8</th>\n",
       "      <td>Goiás</td>\n",
       "      <td>0.00</td>\n",
       "      <td>44.44</td>\n",
       "      <td>5.19</td>\n",
       "      <td>86.30</td>\n",
       "      <td>40.00</td>\n",
       "      <td>95.56</td>\n",
       "      <td>87.04</td>\n",
       "      <td>56.67</td>\n",
       "      <td>34.07</td>\n",
       "      <td>18.15</td>\n",
       "      <td>2.59</td>\n",
       "      <td>43.33</td>\n",
       "      <td>10.74</td>\n",
       "      <td>53.70</td>\n",
       "      <td>99.63</td>\n",
       "    </tr>\n",
       "    <tr>\n",
       "      <th>9</th>\n",
       "      <td>Maranhão</td>\n",
       "      <td>0.00</td>\n",
       "      <td>10.77</td>\n",
       "      <td>0.00</td>\n",
       "      <td>80.00</td>\n",
       "      <td>52.31</td>\n",
       "      <td>93.85</td>\n",
       "      <td>92.31</td>\n",
       "      <td>55.38</td>\n",
       "      <td>29.23</td>\n",
       "      <td>16.92</td>\n",
       "      <td>3.08</td>\n",
       "      <td>40.00</td>\n",
       "      <td>16.92</td>\n",
       "      <td>43.08</td>\n",
       "      <td>93.85</td>\n",
       "    </tr>\n",
       "    <tr>\n",
       "      <th>10</th>\n",
       "      <td>MG</td>\n",
       "      <td>0.00</td>\n",
       "      <td>36.41</td>\n",
       "      <td>4.75</td>\n",
       "      <td>91.56</td>\n",
       "      <td>43.01</td>\n",
       "      <td>95.78</td>\n",
       "      <td>79.95</td>\n",
       "      <td>50.92</td>\n",
       "      <td>34.30</td>\n",
       "      <td>13.98</td>\n",
       "      <td>4.22</td>\n",
       "      <td>48.81</td>\n",
       "      <td>8.44</td>\n",
       "      <td>56.20</td>\n",
       "      <td>95.25</td>\n",
       "    </tr>\n",
       "    <tr>\n",
       "      <th>11</th>\n",
       "      <td>MS</td>\n",
       "      <td>0.00</td>\n",
       "      <td>43.84</td>\n",
       "      <td>15.07</td>\n",
       "      <td>80.14</td>\n",
       "      <td>56.85</td>\n",
       "      <td>93.15</td>\n",
       "      <td>91.10</td>\n",
       "      <td>58.22</td>\n",
       "      <td>39.04</td>\n",
       "      <td>15.75</td>\n",
       "      <td>2.74</td>\n",
       "      <td>44.52</td>\n",
       "      <td>8.22</td>\n",
       "      <td>52.74</td>\n",
       "      <td>99.32</td>\n",
       "    </tr>\n",
       "    <tr>\n",
       "      <th>12</th>\n",
       "      <td>MT</td>\n",
       "      <td>1.49</td>\n",
       "      <td>32.84</td>\n",
       "      <td>1.49</td>\n",
       "      <td>88.06</td>\n",
       "      <td>47.76</td>\n",
       "      <td>91.04</td>\n",
       "      <td>95.52</td>\n",
       "      <td>49.25</td>\n",
       "      <td>44.78</td>\n",
       "      <td>28.36</td>\n",
       "      <td>17.91</td>\n",
       "      <td>56.72</td>\n",
       "      <td>22.39</td>\n",
       "      <td>55.22</td>\n",
       "      <td>95.52</td>\n",
       "    </tr>\n",
       "    <tr>\n",
       "      <th>13</th>\n",
       "      <td>Pará</td>\n",
       "      <td>0.00</td>\n",
       "      <td>41.26</td>\n",
       "      <td>4.04</td>\n",
       "      <td>90.13</td>\n",
       "      <td>52.47</td>\n",
       "      <td>95.52</td>\n",
       "      <td>86.55</td>\n",
       "      <td>55.61</td>\n",
       "      <td>42.15</td>\n",
       "      <td>21.97</td>\n",
       "      <td>8.97</td>\n",
       "      <td>46.64</td>\n",
       "      <td>11.66</td>\n",
       "      <td>52.47</td>\n",
       "      <td>96.86</td>\n",
       "    </tr>\n",
       "    <tr>\n",
       "      <th>14</th>\n",
       "      <td>Paraíba</td>\n",
       "      <td>0.00</td>\n",
       "      <td>30.85</td>\n",
       "      <td>2.13</td>\n",
       "      <td>80.85</td>\n",
       "      <td>44.68</td>\n",
       "      <td>97.87</td>\n",
       "      <td>88.30</td>\n",
       "      <td>64.89</td>\n",
       "      <td>50.00</td>\n",
       "      <td>14.89</td>\n",
       "      <td>4.26</td>\n",
       "      <td>46.81</td>\n",
       "      <td>18.09</td>\n",
       "      <td>63.83</td>\n",
       "      <td>94.68</td>\n",
       "    </tr>\n",
       "    <tr>\n",
       "      <th>15</th>\n",
       "      <td>Pernambuco</td>\n",
       "      <td>0.00</td>\n",
       "      <td>46.10</td>\n",
       "      <td>6.69</td>\n",
       "      <td>88.10</td>\n",
       "      <td>55.39</td>\n",
       "      <td>95.54</td>\n",
       "      <td>91.08</td>\n",
       "      <td>60.22</td>\n",
       "      <td>51.67</td>\n",
       "      <td>22.30</td>\n",
       "      <td>9.29</td>\n",
       "      <td>60.22</td>\n",
       "      <td>20.82</td>\n",
       "      <td>56.88</td>\n",
       "      <td>97.03</td>\n",
       "    </tr>\n",
       "    <tr>\n",
       "      <th>16</th>\n",
       "      <td>Piauí</td>\n",
       "      <td>0.00</td>\n",
       "      <td>22.01</td>\n",
       "      <td>3.35</td>\n",
       "      <td>94.74</td>\n",
       "      <td>40.19</td>\n",
       "      <td>98.09</td>\n",
       "      <td>97.61</td>\n",
       "      <td>47.85</td>\n",
       "      <td>32.54</td>\n",
       "      <td>22.01</td>\n",
       "      <td>2.39</td>\n",
       "      <td>31.58</td>\n",
       "      <td>13.40</td>\n",
       "      <td>42.58</td>\n",
       "      <td>99.04</td>\n",
       "    </tr>\n",
       "    <tr>\n",
       "      <th>17</th>\n",
       "      <td>Paraná</td>\n",
       "      <td>0.00</td>\n",
       "      <td>36.88</td>\n",
       "      <td>7.45</td>\n",
       "      <td>79.79</td>\n",
       "      <td>48.94</td>\n",
       "      <td>98.58</td>\n",
       "      <td>93.26</td>\n",
       "      <td>66.67</td>\n",
       "      <td>46.81</td>\n",
       "      <td>15.60</td>\n",
       "      <td>3.55</td>\n",
       "      <td>52.13</td>\n",
       "      <td>12.77</td>\n",
       "      <td>55.32</td>\n",
       "      <td>98.94</td>\n",
       "    </tr>\n",
       "    <tr>\n",
       "      <th>18</th>\n",
       "      <td>RJ</td>\n",
       "      <td>0.17</td>\n",
       "      <td>49.15</td>\n",
       "      <td>3.06</td>\n",
       "      <td>83.16</td>\n",
       "      <td>55.27</td>\n",
       "      <td>96.94</td>\n",
       "      <td>89.12</td>\n",
       "      <td>54.59</td>\n",
       "      <td>50.00</td>\n",
       "      <td>16.84</td>\n",
       "      <td>10.54</td>\n",
       "      <td>75.68</td>\n",
       "      <td>14.12</td>\n",
       "      <td>59.86</td>\n",
       "      <td>98.30</td>\n",
       "    </tr>\n",
       "    <tr>\n",
       "      <th>19</th>\n",
       "      <td>RN</td>\n",
       "      <td>0.00</td>\n",
       "      <td>38.82</td>\n",
       "      <td>9.41</td>\n",
       "      <td>83.53</td>\n",
       "      <td>45.88</td>\n",
       "      <td>98.82</td>\n",
       "      <td>90.59</td>\n",
       "      <td>55.29</td>\n",
       "      <td>38.82</td>\n",
       "      <td>27.06</td>\n",
       "      <td>7.06</td>\n",
       "      <td>50.59</td>\n",
       "      <td>10.59</td>\n",
       "      <td>64.71</td>\n",
       "      <td>96.47</td>\n",
       "    </tr>\n",
       "    <tr>\n",
       "      <th>20</th>\n",
       "      <td>RS</td>\n",
       "      <td>0.00</td>\n",
       "      <td>37.78</td>\n",
       "      <td>17.78</td>\n",
       "      <td>91.11</td>\n",
       "      <td>55.56</td>\n",
       "      <td>100.00</td>\n",
       "      <td>84.44</td>\n",
       "      <td>66.67</td>\n",
       "      <td>42.22</td>\n",
       "      <td>13.33</td>\n",
       "      <td>6.67</td>\n",
       "      <td>53.33</td>\n",
       "      <td>13.33</td>\n",
       "      <td>68.89</td>\n",
       "      <td>100.00</td>\n",
       "    </tr>\n",
       "    <tr>\n",
       "      <th>21</th>\n",
       "      <td>Rondônia</td>\n",
       "      <td>0.00</td>\n",
       "      <td>32.76</td>\n",
       "      <td>3.45</td>\n",
       "      <td>89.66</td>\n",
       "      <td>55.17</td>\n",
       "      <td>94.83</td>\n",
       "      <td>96.55</td>\n",
       "      <td>67.24</td>\n",
       "      <td>39.66</td>\n",
       "      <td>15.52</td>\n",
       "      <td>12.07</td>\n",
       "      <td>72.41</td>\n",
       "      <td>15.52</td>\n",
       "      <td>58.62</td>\n",
       "      <td>100.00</td>\n",
       "    </tr>\n",
       "    <tr>\n",
       "      <th>22</th>\n",
       "      <td>Roraima</td>\n",
       "      <td>0.56</td>\n",
       "      <td>36.11</td>\n",
       "      <td>16.11</td>\n",
       "      <td>81.67</td>\n",
       "      <td>52.22</td>\n",
       "      <td>95.00</td>\n",
       "      <td>90.56</td>\n",
       "      <td>58.89</td>\n",
       "      <td>40.00</td>\n",
       "      <td>13.89</td>\n",
       "      <td>5.56</td>\n",
       "      <td>47.78</td>\n",
       "      <td>9.44</td>\n",
       "      <td>62.22</td>\n",
       "      <td>99.44</td>\n",
       "    </tr>\n",
       "    <tr>\n",
       "      <th>23</th>\n",
       "      <td>SC</td>\n",
       "      <td>0.37</td>\n",
       "      <td>54.61</td>\n",
       "      <td>12.55</td>\n",
       "      <td>89.67</td>\n",
       "      <td>55.72</td>\n",
       "      <td>87.82</td>\n",
       "      <td>87.08</td>\n",
       "      <td>40.59</td>\n",
       "      <td>39.48</td>\n",
       "      <td>18.45</td>\n",
       "      <td>1.48</td>\n",
       "      <td>52.40</td>\n",
       "      <td>11.81</td>\n",
       "      <td>47.60</td>\n",
       "      <td>97.42</td>\n",
       "    </tr>\n",
       "    <tr>\n",
       "      <th>24</th>\n",
       "      <td>Sergipe</td>\n",
       "      <td>0.57</td>\n",
       "      <td>30.11</td>\n",
       "      <td>2.84</td>\n",
       "      <td>86.36</td>\n",
       "      <td>45.45</td>\n",
       "      <td>98.86</td>\n",
       "      <td>92.05</td>\n",
       "      <td>50.00</td>\n",
       "      <td>39.20</td>\n",
       "      <td>18.18</td>\n",
       "      <td>2.84</td>\n",
       "      <td>46.02</td>\n",
       "      <td>8.52</td>\n",
       "      <td>56.25</td>\n",
       "      <td>97.73</td>\n",
       "    </tr>\n",
       "    <tr>\n",
       "      <th>25</th>\n",
       "      <td>SP</td>\n",
       "      <td>0.30</td>\n",
       "      <td>31.93</td>\n",
       "      <td>6.33</td>\n",
       "      <td>79.82</td>\n",
       "      <td>37.95</td>\n",
       "      <td>99.10</td>\n",
       "      <td>90.36</td>\n",
       "      <td>63.55</td>\n",
       "      <td>31.33</td>\n",
       "      <td>15.66</td>\n",
       "      <td>2.71</td>\n",
       "      <td>47.29</td>\n",
       "      <td>9.34</td>\n",
       "      <td>58.13</td>\n",
       "      <td>96.99</td>\n",
       "    </tr>\n",
       "    <tr>\n",
       "      <th>26</th>\n",
       "      <td>Tocantins</td>\n",
       "      <td>0.00</td>\n",
       "      <td>28.81</td>\n",
       "      <td>5.08</td>\n",
       "      <td>83.05</td>\n",
       "      <td>54.24</td>\n",
       "      <td>94.92</td>\n",
       "      <td>89.83</td>\n",
       "      <td>44.07</td>\n",
       "      <td>38.98</td>\n",
       "      <td>25.42</td>\n",
       "      <td>5.08</td>\n",
       "      <td>57.63</td>\n",
       "      <td>16.95</td>\n",
       "      <td>49.15</td>\n",
       "      <td>94.92</td>\n",
       "    </tr>\n",
       "    <tr>\n",
       "      <th>27</th>\n",
       "      <td>Total</td>\n",
       "      <td>0.29</td>\n",
       "      <td>40.48</td>\n",
       "      <td>7.44</td>\n",
       "      <td>86.06</td>\n",
       "      <td>54.92</td>\n",
       "      <td>96.40</td>\n",
       "      <td>89.89</td>\n",
       "      <td>55.04</td>\n",
       "      <td>43.17</td>\n",
       "      <td>20.88</td>\n",
       "      <td>8.54</td>\n",
       "      <td>59.05</td>\n",
       "      <td>16.14</td>\n",
       "      <td>55.83</td>\n",
       "      <td>97.26</td>\n",
       "    </tr>\n",
       "  </tbody>\n",
       "</table>\n",
       "</div>"
      ],
      "text/plain": [
       "       Estados  Matriz      A      B      C      D       E      F      G  \\\n",
       "0         Acre    0.00  32.79   3.28  83.61  63.93   96.72  93.44  50.82   \n",
       "1      Alagoas    0.00  50.00  21.11  82.22  62.22   96.67  94.44  73.33   \n",
       "2     Amazonas    0.00  31.67   0.00  80.00  58.33   96.67  70.00  46.67   \n",
       "3        Amapá    0.00  43.75  12.50  75.00  70.83   93.75  95.83  45.83   \n",
       "4        Bahia    0.00  15.75   4.72  78.74  50.79   99.21  87.40  51.18   \n",
       "5        Ceará    0.59  35.50   3.55  85.80  55.03   99.41  94.08  58.58   \n",
       "6           DF    0.78  49.52  11.97  93.15  74.59   96.53  92.54  51.00   \n",
       "7           ES    0.58  47.09   5.23  66.28  51.16   97.67  86.05  68.60   \n",
       "8        Goiás    0.00  44.44   5.19  86.30  40.00   95.56  87.04  56.67   \n",
       "9     Maranhão    0.00  10.77   0.00  80.00  52.31   93.85  92.31  55.38   \n",
       "10          MG    0.00  36.41   4.75  91.56  43.01   95.78  79.95  50.92   \n",
       "11          MS    0.00  43.84  15.07  80.14  56.85   93.15  91.10  58.22   \n",
       "12          MT    1.49  32.84   1.49  88.06  47.76   91.04  95.52  49.25   \n",
       "13        Pará    0.00  41.26   4.04  90.13  52.47   95.52  86.55  55.61   \n",
       "14     Paraíba    0.00  30.85   2.13  80.85  44.68   97.87  88.30  64.89   \n",
       "15  Pernambuco    0.00  46.10   6.69  88.10  55.39   95.54  91.08  60.22   \n",
       "16       Piauí    0.00  22.01   3.35  94.74  40.19   98.09  97.61  47.85   \n",
       "17      Paraná    0.00  36.88   7.45  79.79  48.94   98.58  93.26  66.67   \n",
       "18          RJ    0.17  49.15   3.06  83.16  55.27   96.94  89.12  54.59   \n",
       "19          RN    0.00  38.82   9.41  83.53  45.88   98.82  90.59  55.29   \n",
       "20          RS    0.00  37.78  17.78  91.11  55.56  100.00  84.44  66.67   \n",
       "21    Rondônia    0.00  32.76   3.45  89.66  55.17   94.83  96.55  67.24   \n",
       "22     Roraima    0.56  36.11  16.11  81.67  52.22   95.00  90.56  58.89   \n",
       "23          SC    0.37  54.61  12.55  89.67  55.72   87.82  87.08  40.59   \n",
       "24     Sergipe    0.57  30.11   2.84  86.36  45.45   98.86  92.05  50.00   \n",
       "25          SP    0.30  31.93   6.33  79.82  37.95   99.10  90.36  63.55   \n",
       "26   Tocantins    0.00  28.81   5.08  83.05  54.24   94.92  89.83  44.07   \n",
       "27       Total    0.29  40.48   7.44  86.06  54.92   96.40  89.89  55.04   \n",
       "\n",
       "        H      I      J      K      L      M       N  \n",
       "0   55.74  19.67   4.92  65.57  16.39  59.02   98.36  \n",
       "1   54.44   7.78   3.33  72.22  13.33  70.00  100.00  \n",
       "2   43.33   6.67   3.33  45.00  10.00  60.00   95.00  \n",
       "3   56.25  29.17   4.17  64.58  14.58  54.17   93.75  \n",
       "4   31.89  23.62   5.12  35.04  14.17  53.94   95.28  \n",
       "5   43.20  24.26   8.88  56.21  20.12  57.40   94.67  \n",
       "6   53.60  32.78  20.73  85.95  29.40  54.47   96.62  \n",
       "7   26.74   9.88   2.91  47.67  11.05  63.37   98.84  \n",
       "8   34.07  18.15   2.59  43.33  10.74  53.70   99.63  \n",
       "9   29.23  16.92   3.08  40.00  16.92  43.08   93.85  \n",
       "10  34.30  13.98   4.22  48.81   8.44  56.20   95.25  \n",
       "11  39.04  15.75   2.74  44.52   8.22  52.74   99.32  \n",
       "12  44.78  28.36  17.91  56.72  22.39  55.22   95.52  \n",
       "13  42.15  21.97   8.97  46.64  11.66  52.47   96.86  \n",
       "14  50.00  14.89   4.26  46.81  18.09  63.83   94.68  \n",
       "15  51.67  22.30   9.29  60.22  20.82  56.88   97.03  \n",
       "16  32.54  22.01   2.39  31.58  13.40  42.58   99.04  \n",
       "17  46.81  15.60   3.55  52.13  12.77  55.32   98.94  \n",
       "18  50.00  16.84  10.54  75.68  14.12  59.86   98.30  \n",
       "19  38.82  27.06   7.06  50.59  10.59  64.71   96.47  \n",
       "20  42.22  13.33   6.67  53.33  13.33  68.89  100.00  \n",
       "21  39.66  15.52  12.07  72.41  15.52  58.62  100.00  \n",
       "22  40.00  13.89   5.56  47.78   9.44  62.22   99.44  \n",
       "23  39.48  18.45   1.48  52.40  11.81  47.60   97.42  \n",
       "24  39.20  18.18   2.84  46.02   8.52  56.25   97.73  \n",
       "25  31.33  15.66   2.71  47.29   9.34  58.13   96.99  \n",
       "26  38.98  25.42   5.08  57.63  16.95  49.15   94.92  \n",
       "27  43.17  20.88   8.54  59.05  16.14  55.83   97.26  "
      ]
     },
     "metadata": {},
     "output_type": "display_data"
    }
   ],
   "source": [
    "array_criterios = [\"Matriz\", \"A\", \"B\", \"C\", \"D\", \"E\", \"F\", \"G\", \"H\", \"I\", \"J\", \"K\", \"L\", \"M\", \"N\"]\n",
    "\n",
    "# Definindo a função para calcular as porcentagens dos critérios\n",
    "def porcentagem_criterios_estado(tabela_relatorios_estado):\n",
    "    qtd_relatorios_estado = len(tabela_relatorios_estado.index)\n",
    "    porcentagens_por_criterio = pd.Series(index=array_criterios, dtype='float64')\n",
    "\n",
    "    # Adiciona cada critério ao Series com o cálculo de porcentagem\n",
    "    for criterio, coluna in zip(array_criterios, [\n",
    "        \"Matriz de Achados?\",\n",
    "        \"a. Questões de Auditoria\",\n",
    "        \"b. Subquestões de Auditoria\",\n",
    "        \"c. Descrição sumária\",\n",
    "        \"d. Critério (O que deveria ser)\",\n",
    "        \"e. Condição ou situação encontrada (O que é) [achados]\",\n",
    "        \"f. Evidências\",\n",
    "        \"g. Informação extraída das evidências\",\n",
    "        \"h. Causas\",\n",
    "        \"i. Efeitos\",\n",
    "        \"j. Boas Práticas\",\n",
    "        \"k. Recomendações\",\n",
    "        \"l. Benefícios esperados\",\n",
    "        \"m. Manifestação\",\n",
    "        \"n. Conclusões\"]):\n",
    "\n",
    "        tabela_criterio_bool = tabela_relatorios_estado[coluna] == 1\n",
    "        criterio_count = len(tabela_relatorios_estado[tabela_criterio_bool].index)\n",
    "        porcentagem_criterio = round(((criterio_count / qtd_relatorios_estado) * 100), 2)\n",
    "        porcentagens_por_criterio[criterio] = porcentagem_criterio\n",
    "\n",
    "    return porcentagens_por_criterio\n",
    "\n",
    "# Lista dos estados (ou nomes das tabelas dos estados)\n",
    "array_estados = [\"Acre\", \"Alagoas\", \"Amazonas\", \"Amapá\", \"Bahia\", \"Ceará\", \"DF\", \"ES\", \"Goiás\", \"Maranhão\", \"MG\", \"MS\", \"MT\", \"Pará\", \"Paraíba\", \"Pernambuco\", \"Piauí\", \"Paraná\", \"RJ\", \"RN\", \"RS\", \"Rondônia\", \"Roraima\", \"SC\", \"Sergipe\", \"SP\", \"Tocantins\"]\n",
    "\n",
    "# Adicione suas tabelas aqui\n",
    "array_tabelas_estados = [tabela_acre, tabela_alagoas, tabela_amazonas, tabela_amapa, tabela_bahia, tabela_ceara, tabela_df, tabela_es, tabela_goias, tabela_maranhao, tabela_mg, tabela_ms, tabela_mt, tabela_para, tabela_paraiba, tabela_pernambuco, tabela_piaui, tabela_parana, tabela_rj, tabela_rn, tabela_rs, tabela_rondonia, tabela_roraima, tabela_sc, tabela_sergipe, tabela_sp, tabela_tocantins]\n",
    "\n",
    "# Calcular porcentagens para cada estado e para o total\n",
    "porcentagem_criterios_estado_aux = [porcentagem_criterios_estado(tabela) for tabela in array_tabelas_estados]\n",
    "\n",
    "# Adiciona a porcentagem do total (exemplo, você deve definir o cálculo correto do total se necessário)\n",
    "porcentagem_total = porcentagem_criterios_estado(tabela_relatorios)\n",
    "porcentagem_criterios_estado_aux.append(porcentagem_total)\n",
    "\n",
    "# Adiciona \"Total\" ao final do índice\n",
    "indice = array_estados + [\"Total\"]\n",
    "\n",
    "# Cria o DataFrame\n",
    "porcentagens_criterios_por_estado = pd.DataFrame(porcentagem_criterios_estado_aux, index=indice)\n",
    "\n",
    "# Salva o DataFrame em um arquivo Excel\n",
    "porcentagens_criterios_por_estado.to_excel('criterios_por_estado.xlsx')\n",
    "\n",
    "# Exibe o DataFrame\n",
    "display(porcentagens_criterios_por_estado.reset_index(names=\"Estados\"))\n",
    "\n"
   ]
  },
  {
   "cell_type": "markdown",
   "metadata": {},
   "source": [
    "## 5. Criterios por tipo\n",
    "Nesse tópico veremos quais critérios estão mais presentes em cada tipo de relatório."
   ]
  },
  {
   "cell_type": "code",
   "execution_count": 175,
   "metadata": {},
   "outputs": [
    {
     "name": "stdout",
     "output_type": "stream",
     "text": [
      "Tabela vazia encontrada, pulando...\n"
     ]
    },
    {
     "data": {
      "text/html": [
       "<div>\n",
       "<style scoped>\n",
       "    .dataframe tbody tr th:only-of-type {\n",
       "        vertical-align: middle;\n",
       "    }\n",
       "\n",
       "    .dataframe tbody tr th {\n",
       "        vertical-align: top;\n",
       "    }\n",
       "\n",
       "    .dataframe thead th {\n",
       "        text-align: right;\n",
       "    }\n",
       "</style>\n",
       "<table border=\"1\" class=\"dataframe\">\n",
       "  <thead>\n",
       "    <tr style=\"text-align: right;\">\n",
       "      <th></th>\n",
       "      <th>Tipo de Relatório</th>\n",
       "      <th>Matriz</th>\n",
       "      <th>A</th>\n",
       "      <th>B</th>\n",
       "      <th>C</th>\n",
       "      <th>D</th>\n",
       "      <th>E</th>\n",
       "      <th>F</th>\n",
       "      <th>G</th>\n",
       "      <th>H</th>\n",
       "      <th>I</th>\n",
       "      <th>J</th>\n",
       "      <th>K</th>\n",
       "      <th>L</th>\n",
       "      <th>M</th>\n",
       "      <th>N</th>\n",
       "    </tr>\n",
       "  </thead>\n",
       "  <tbody>\n",
       "    <tr>\n",
       "      <th>0</th>\n",
       "      <td>Avaliação</td>\n",
       "      <td>0.36</td>\n",
       "      <td>43.58</td>\n",
       "      <td>8.54</td>\n",
       "      <td>84.97</td>\n",
       "      <td>55.89</td>\n",
       "      <td>95.85</td>\n",
       "      <td>89.02</td>\n",
       "      <td>55.56</td>\n",
       "      <td>46.47</td>\n",
       "      <td>19.76</td>\n",
       "      <td>9.26</td>\n",
       "      <td>63.80</td>\n",
       "      <td>16.72</td>\n",
       "      <td>56.57</td>\n",
       "      <td>98.17</td>\n",
       "    </tr>\n",
       "    <tr>\n",
       "      <th>1</th>\n",
       "      <td>Consultoria</td>\n",
       "      <td>0.00</td>\n",
       "      <td>27.33</td>\n",
       "      <td>2.63</td>\n",
       "      <td>90.86</td>\n",
       "      <td>49.42</td>\n",
       "      <td>98.83</td>\n",
       "      <td>93.68</td>\n",
       "      <td>53.79</td>\n",
       "      <td>27.14</td>\n",
       "      <td>25.00</td>\n",
       "      <td>4.47</td>\n",
       "      <td>36.38</td>\n",
       "      <td>12.06</td>\n",
       "      <td>53.60</td>\n",
       "      <td>93.39</td>\n",
       "    </tr>\n",
       "    <tr>\n",
       "      <th>2</th>\n",
       "      <td>Apuração</td>\n",
       "      <td>0.00</td>\n",
       "      <td>5.88</td>\n",
       "      <td>0.00</td>\n",
       "      <td>94.12</td>\n",
       "      <td>85.29</td>\n",
       "      <td>100.00</td>\n",
       "      <td>97.06</td>\n",
       "      <td>20.59</td>\n",
       "      <td>67.65</td>\n",
       "      <td>52.94</td>\n",
       "      <td>32.35</td>\n",
       "      <td>82.35</td>\n",
       "      <td>58.82</td>\n",
       "      <td>20.59</td>\n",
       "      <td>88.24</td>\n",
       "    </tr>\n",
       "    <tr>\n",
       "      <th>3</th>\n",
       "      <td>Não se aplica</td>\n",
       "      <td>NaN</td>\n",
       "      <td>NaN</td>\n",
       "      <td>NaN</td>\n",
       "      <td>NaN</td>\n",
       "      <td>NaN</td>\n",
       "      <td>NaN</td>\n",
       "      <td>NaN</td>\n",
       "      <td>NaN</td>\n",
       "      <td>NaN</td>\n",
       "      <td>NaN</td>\n",
       "      <td>NaN</td>\n",
       "      <td>NaN</td>\n",
       "      <td>NaN</td>\n",
       "      <td>NaN</td>\n",
       "      <td>NaN</td>\n",
       "    </tr>\n",
       "  </tbody>\n",
       "</table>\n",
       "</div>"
      ],
      "text/plain": [
       "  Tipo de Relatório  Matriz      A     B      C      D       E      F      G  \\\n",
       "0         Avaliação    0.36  43.58  8.54  84.97  55.89   95.85  89.02  55.56   \n",
       "1       Consultoria    0.00  27.33  2.63  90.86  49.42   98.83  93.68  53.79   \n",
       "2          Apuração    0.00   5.88  0.00  94.12  85.29  100.00  97.06  20.59   \n",
       "3     Não se aplica     NaN    NaN   NaN    NaN    NaN     NaN    NaN    NaN   \n",
       "\n",
       "       H      I      J      K      L      M      N  \n",
       "0  46.47  19.76   9.26  63.80  16.72  56.57  98.17  \n",
       "1  27.14  25.00   4.47  36.38  12.06  53.60  93.39  \n",
       "2  67.65  52.94  32.35  82.35  58.82  20.59  88.24  \n",
       "3    NaN    NaN    NaN    NaN    NaN    NaN    NaN  "
      ]
     },
     "metadata": {},
     "output_type": "display_data"
    }
   ],
   "source": [
    "array_criterios = [\"Matriz\", \"A\", \"B\", \"C\", \"D\", \"E\", \"F\", \"G\", \"H\", \"I\", \"J\", \"K\", \"L\", \"M\", \"N\"]\n",
    "\n",
    "def porcentagem_criterios_tipo(tabela_relatorios_tipo):\n",
    "    qtd_relatorios_tipo = len(tabela_relatorios_tipo.index)\n",
    "    porcentagens_por_criterio = pd.Series(index=array_criterios, dtype='float64')\n",
    "\n",
    "    def calcular_porcentagem(count, total):\n",
    "        return round((count / total) * 100, 2) if total > 0 else 0\n",
    "\n",
    "    # Critério \"Matriz de Achados?\"\n",
    "    tabela_criterio_matriz_bool = tabela_relatorios_tipo[\"Matriz de Achados?\"] == 1\n",
    "    criterio_matriz_count = len(tabela_relatorios_tipo[tabela_criterio_matriz_bool].index)\n",
    "    porcentagens_por_criterio[\"Matriz\"] = calcular_porcentagem(criterio_matriz_count, qtd_relatorios_tipo)\n",
    "\n",
    "    # Critério \"a. Questões de Auditoria\"\n",
    "    tabela_criterio_questoes_auditoria_bool = tabela_relatorios_tipo[\"a. Questões de Auditoria\"] == 1\n",
    "    criterio_questoes_auditoria_count = len(tabela_relatorios_tipo[tabela_criterio_questoes_auditoria_bool].index)\n",
    "    porcentagens_por_criterio[\"A\"] = calcular_porcentagem(criterio_questoes_auditoria_count, qtd_relatorios_tipo)\n",
    "\n",
    "    # Critério \"b. Subquestões de Auditoria\"\n",
    "    tabela_criterio_subquestoes_auditoria_bool = tabela_relatorios_tipo[\"b. Subquestões de Auditoria\"] == 1\n",
    "    criterio_subquestoes_auditoria_count = len(tabela_relatorios_tipo[tabela_criterio_subquestoes_auditoria_bool].index)\n",
    "    porcentagens_por_criterio[\"B\"] = calcular_porcentagem(criterio_subquestoes_auditoria_count, qtd_relatorios_tipo)\n",
    "\n",
    "    # Continue aplicando o padrão acima para os demais critérios\n",
    "    criterios_colunas = [\n",
    "        (\"C\", \"c. Descrição sumária\"),\n",
    "        (\"D\", \"d. Critério (O que deveria ser)\"),\n",
    "        (\"E\", \"e. Condição ou situação encontrada (O que é) [achados]\"),\n",
    "        (\"F\", \"f. Evidências\"),\n",
    "        (\"G\", \"g. Informação extraída das evidências\"),\n",
    "        (\"H\", \"h. Causas\"),\n",
    "        (\"I\", \"i. Efeitos\"),\n",
    "        (\"J\", \"j. Boas Práticas\"),\n",
    "        (\"K\", \"k. Recomendações\"),\n",
    "        (\"L\", \"l. Benefícios esperados\"),\n",
    "        (\"M\", \"m. Manifestação\"),\n",
    "        (\"N\", \"n. Conclusões\")\n",
    "    ]\n",
    "\n",
    "    for letra, coluna in criterios_colunas:\n",
    "        tabela_criterio_bool = tabela_relatorios_tipo[coluna] == 1\n",
    "        criterio_count = len(tabela_relatorios_tipo[tabela_criterio_bool].index)\n",
    "        porcentagens_por_criterio[letra] = calcular_porcentagem(criterio_count, qtd_relatorios_tipo)\n",
    "\n",
    "    return porcentagens_por_criterio\n",
    "\n",
    "array_tabelas_tipo = [tabela_relatorios_avaliacao, tabela_relatorios_consultoria, tabela_relatorios_apuracao, tabela_relatorios_nao_se_aplicam]\n",
    "\n",
    "porcentagem_criterios_tipo_aux = []\n",
    "\n",
    "for tabela in array_tabelas_tipo:\n",
    "    if tabela.empty:\n",
    "        print(\"Tabela vazia encontrada, pulando...\")\n",
    "        porcentagem_criterios_tipo_aux.append(pd.Series(index=array_criterios, dtype='float64'))  # Adiciona série vazia\n",
    "    else:\n",
    "        porcentagem_criterios_tipo_aux.append(porcentagem_criterios_tipo(tabela))\n",
    "\n",
    "porcentagens_criterios_por_tipo = pd.DataFrame(porcentagem_criterios_tipo_aux, index=array_tipo_relatorio)\n",
    "porcentagens_criterios_por_tipo.to_excel('criterios_por_tipo.xlsx')\n",
    "\n",
    "display(porcentagens_criterios_por_tipo.reset_index(names=\"Tipo de Relatório\"))\n"
   ]
  },
  {
   "cell_type": "markdown",
   "metadata": {},
   "source": [
    "## 6. Critérios por Ano\n",
    "Nesse tópico iremos investigar quais critérios estão mais presentes ao longo dos anos."
   ]
  },
  {
   "cell_type": "code",
   "execution_count": 176,
   "metadata": {},
   "outputs": [
    {
     "data": {
      "text/html": [
       "<div>\n",
       "<style scoped>\n",
       "    .dataframe tbody tr th:only-of-type {\n",
       "        vertical-align: middle;\n",
       "    }\n",
       "\n",
       "    .dataframe tbody tr th {\n",
       "        vertical-align: top;\n",
       "    }\n",
       "\n",
       "    .dataframe thead th {\n",
       "        text-align: right;\n",
       "    }\n",
       "</style>\n",
       "<table border=\"1\" class=\"dataframe\">\n",
       "  <thead>\n",
       "    <tr style=\"text-align: right;\">\n",
       "      <th></th>\n",
       "      <th>Ano do Relatório</th>\n",
       "      <th>Matriz</th>\n",
       "      <th>A</th>\n",
       "      <th>B</th>\n",
       "      <th>C</th>\n",
       "      <th>D</th>\n",
       "      <th>E</th>\n",
       "      <th>F</th>\n",
       "      <th>G</th>\n",
       "      <th>H</th>\n",
       "      <th>I</th>\n",
       "      <th>J</th>\n",
       "      <th>K</th>\n",
       "      <th>L</th>\n",
       "      <th>M</th>\n",
       "      <th>N</th>\n",
       "    </tr>\n",
       "  </thead>\n",
       "  <tbody>\n",
       "    <tr>\n",
       "      <th>0</th>\n",
       "      <td>2018</td>\n",
       "      <td>0.05</td>\n",
       "      <td>24.37</td>\n",
       "      <td>6.72</td>\n",
       "      <td>60.96</td>\n",
       "      <td>45.65</td>\n",
       "      <td>99.52</td>\n",
       "      <td>89.97</td>\n",
       "      <td>85.28</td>\n",
       "      <td>37.81</td>\n",
       "      <td>0.59</td>\n",
       "      <td>0.91</td>\n",
       "      <td>42.88</td>\n",
       "      <td>0.91</td>\n",
       "      <td>70.77</td>\n",
       "      <td>99.20</td>\n",
       "    </tr>\n",
       "    <tr>\n",
       "      <th>1</th>\n",
       "      <td>2019</td>\n",
       "      <td>0.56</td>\n",
       "      <td>32.22</td>\n",
       "      <td>4.37</td>\n",
       "      <td>98.10</td>\n",
       "      <td>31.51</td>\n",
       "      <td>99.05</td>\n",
       "      <td>83.25</td>\n",
       "      <td>62.46</td>\n",
       "      <td>36.90</td>\n",
       "      <td>9.84</td>\n",
       "      <td>6.03</td>\n",
       "      <td>48.89</td>\n",
       "      <td>5.40</td>\n",
       "      <td>64.84</td>\n",
       "      <td>98.97</td>\n",
       "    </tr>\n",
       "    <tr>\n",
       "      <th>2</th>\n",
       "      <td>2020</td>\n",
       "      <td>0.44</td>\n",
       "      <td>49.85</td>\n",
       "      <td>4.69</td>\n",
       "      <td>99.27</td>\n",
       "      <td>45.16</td>\n",
       "      <td>99.71</td>\n",
       "      <td>80.65</td>\n",
       "      <td>64.37</td>\n",
       "      <td>37.10</td>\n",
       "      <td>12.61</td>\n",
       "      <td>12.32</td>\n",
       "      <td>59.68</td>\n",
       "      <td>6.16</td>\n",
       "      <td>70.67</td>\n",
       "      <td>99.56</td>\n",
       "    </tr>\n",
       "    <tr>\n",
       "      <th>3</th>\n",
       "      <td>2021</td>\n",
       "      <td>0.45</td>\n",
       "      <td>61.02</td>\n",
       "      <td>14.69</td>\n",
       "      <td>94.90</td>\n",
       "      <td>78.86</td>\n",
       "      <td>94.75</td>\n",
       "      <td>94.90</td>\n",
       "      <td>44.08</td>\n",
       "      <td>48.28</td>\n",
       "      <td>44.83</td>\n",
       "      <td>16.04</td>\n",
       "      <td>80.06</td>\n",
       "      <td>33.88</td>\n",
       "      <td>53.82</td>\n",
       "      <td>93.10</td>\n",
       "    </tr>\n",
       "    <tr>\n",
       "      <th>4</th>\n",
       "      <td>2022</td>\n",
       "      <td>0.37</td>\n",
       "      <td>62.29</td>\n",
       "      <td>9.98</td>\n",
       "      <td>97.60</td>\n",
       "      <td>83.92</td>\n",
       "      <td>90.76</td>\n",
       "      <td>97.23</td>\n",
       "      <td>6.65</td>\n",
       "      <td>62.66</td>\n",
       "      <td>56.56</td>\n",
       "      <td>17.01</td>\n",
       "      <td>87.80</td>\n",
       "      <td>43.07</td>\n",
       "      <td>19.04</td>\n",
       "      <td>90.20</td>\n",
       "    </tr>\n",
       "    <tr>\n",
       "      <th>5</th>\n",
       "      <td>2023</td>\n",
       "      <td>0.19</td>\n",
       "      <td>55.56</td>\n",
       "      <td>10.54</td>\n",
       "      <td>99.81</td>\n",
       "      <td>80.27</td>\n",
       "      <td>88.89</td>\n",
       "      <td>99.04</td>\n",
       "      <td>4.79</td>\n",
       "      <td>52.11</td>\n",
       "      <td>53.07</td>\n",
       "      <td>16.48</td>\n",
       "      <td>79.89</td>\n",
       "      <td>41.00</td>\n",
       "      <td>21.26</td>\n",
       "      <td>95.79</td>\n",
       "    </tr>\n",
       "    <tr>\n",
       "      <th>6</th>\n",
       "      <td>2024</td>\n",
       "      <td>0.00</td>\n",
       "      <td>43.80</td>\n",
       "      <td>4.65</td>\n",
       "      <td>100.00</td>\n",
       "      <td>88.37</td>\n",
       "      <td>83.33</td>\n",
       "      <td>99.22</td>\n",
       "      <td>5.81</td>\n",
       "      <td>56.59</td>\n",
       "      <td>42.25</td>\n",
       "      <td>13.18</td>\n",
       "      <td>67.83</td>\n",
       "      <td>53.10</td>\n",
       "      <td>16.28</td>\n",
       "      <td>97.29</td>\n",
       "    </tr>\n",
       "  </tbody>\n",
       "</table>\n",
       "</div>"
      ],
      "text/plain": [
       "  Ano do Relatório  Matriz      A      B       C      D      E      F      G  \\\n",
       "0             2018    0.05  24.37   6.72   60.96  45.65  99.52  89.97  85.28   \n",
       "1             2019    0.56  32.22   4.37   98.10  31.51  99.05  83.25  62.46   \n",
       "2             2020    0.44  49.85   4.69   99.27  45.16  99.71  80.65  64.37   \n",
       "3             2021    0.45  61.02  14.69   94.90  78.86  94.75  94.90  44.08   \n",
       "4             2022    0.37  62.29   9.98   97.60  83.92  90.76  97.23   6.65   \n",
       "5             2023    0.19  55.56  10.54   99.81  80.27  88.89  99.04   4.79   \n",
       "6             2024    0.00  43.80   4.65  100.00  88.37  83.33  99.22   5.81   \n",
       "\n",
       "       H      I      J      K      L      M      N  \n",
       "0  37.81   0.59   0.91  42.88   0.91  70.77  99.20  \n",
       "1  36.90   9.84   6.03  48.89   5.40  64.84  98.97  \n",
       "2  37.10  12.61  12.32  59.68   6.16  70.67  99.56  \n",
       "3  48.28  44.83  16.04  80.06  33.88  53.82  93.10  \n",
       "4  62.66  56.56  17.01  87.80  43.07  19.04  90.20  \n",
       "5  52.11  53.07  16.48  79.89  41.00  21.26  95.79  \n",
       "6  56.59  42.25  13.18  67.83  53.10  16.28  97.29  "
      ]
     },
     "metadata": {},
     "output_type": "display_data"
    }
   ],
   "source": [
    "array_criterios = [\"Matriz\", \"A\", \"B\", \"C\", \"D\", \"E\", \"F\", \"G\", \"H\", \"I\", \"J\", \"K\", \"L\", \"M\", \"N\"]\n",
    "\n",
    "def porcentagem_criterios_ano(tabela_relatorios_ano):\n",
    "    \n",
    "    qtd_relatorios_ano = len(tabela_relatorios_ano.index)\n",
    "    porcentagens_por_criterio = pd.Series(index=array_criterios, dtype='float64')\n",
    "    \n",
    "    #Quantidade do critério matriz de achados\n",
    "    tabela_criterio_matriz_bool = tabela_relatorios_ano[\"Matriz de Achados?\"]==1\n",
    "    tabela_criterio_matriz = tabela_relatorios_ano[tabela_criterio_matriz_bool]\n",
    "    criterio_matriz_count = len(tabela_criterio_matriz.index)\n",
    "    porcentagem_criterio_matriz = round(((criterio_matriz_count/qtd_relatorios_ano)*100), 2)\n",
    "    porcentagens_por_criterio[\"Matriz\"] = porcentagem_criterio_matriz\n",
    "\n",
    "    #Quantidade do critério questões auditoria\n",
    "    tabela_criterio_questoes_auditoria_bool = tabela_relatorios_ano[\"a. Questões de Auditoria\"]==1\n",
    "    tabela_criterio_questoes_auditoria = tabela_relatorios_ano[tabela_criterio_questoes_auditoria_bool]\n",
    "    criterio_questoes_auditoria_count = len(tabela_criterio_questoes_auditoria.index)\n",
    "    porcentagem_criterio_questoes_auditoria = round(((criterio_questoes_auditoria_count/qtd_relatorios_ano)*100), 2)\n",
    "    porcentagens_por_criterio[\"A\"] = porcentagem_criterio_questoes_auditoria\n",
    "\n",
    "    #Quantidade do critério subquestões auditoria\n",
    "    tabela_criterio_subquestoes_auditoria_bool = tabela_relatorios_ano[\"b. Subquestões de Auditoria\"]==1\n",
    "    tabela_criterio_subquestoes_auditoria = tabela_relatorios_ano[tabela_criterio_subquestoes_auditoria_bool]\n",
    "    criterio_subquestoes_auditoria_count = len(tabela_criterio_subquestoes_auditoria.index)\n",
    "    porcentagem_criterio_subquestoes_auditoria = round(((criterio_subquestoes_auditoria_count/qtd_relatorios_ano)*100), 2)\n",
    "    porcentagens_por_criterio[\"B\"] = porcentagem_criterio_subquestoes_auditoria\n",
    "\n",
    "    #Quantidade do critério c. Descrição sumária\n",
    "    tabela_criterio_descricao_sumaria_bool = tabela_relatorios_ano[\"c. Descrição sumária\"]==1\n",
    "    tabela_criterio_descricao_sumaria = tabela_relatorios_ano[tabela_criterio_descricao_sumaria_bool]\n",
    "    criterio_descricao_sumaria_count = len(tabela_criterio_descricao_sumaria.index)\n",
    "    porcentagem_criterio_descricao_sumaria = round(((criterio_descricao_sumaria_count/qtd_relatorios_ano)*100), 2)\n",
    "    porcentagens_por_criterio[\"C\"] = porcentagem_criterio_descricao_sumaria\n",
    "\n",
    "    #Quantidade do critério d. Critério (O que deveria ser)\n",
    "    tabela_criterio_deveria_ser_bool = tabela_relatorios_ano[\"d. Critério (O que deveria ser)\"]==1\n",
    "    tabela_criterio_deveria_ser = tabela_relatorios_ano[tabela_criterio_deveria_ser_bool]\n",
    "    criterio_deveria_ser_count = len(tabela_criterio_deveria_ser.index)\n",
    "    porcentagem_criterio_deveria_ser = round(((criterio_deveria_ser_count/qtd_relatorios_ano)*100), 2)\n",
    "    porcentagens_por_criterio[\"D\"] = porcentagem_criterio_deveria_ser\n",
    "\n",
    "    #Quantidade do critério e. Condição ou situação encontrada (O que é) [achados]\n",
    "    tabela_criterio_achados_bool = tabela_relatorios_ano[\"e. Condição ou situação encontrada (O que é) [achados]\"]==1\n",
    "    tabela_criterio_achados = tabela_relatorios_ano[tabela_criterio_achados_bool]\n",
    "    criterio_achados_count = len(tabela_criterio_achados.index)\n",
    "    porcentagem_criterio_achados = round(((criterio_achados_count/qtd_relatorios_ano)*100), 2)\n",
    "    porcentagens_por_criterio[\"E\"] = porcentagem_criterio_achados\n",
    "\n",
    "    #Quantidade do critério f. Evidências\n",
    "    tabela_criterio_evidencias_bool = tabela_relatorios_ano[\"f. Evidências\"]==1\n",
    "    tabela_criterio_evidencias = tabela_relatorios_ano[tabela_criterio_evidencias_bool]\n",
    "    criterio_evidencias_count = len(tabela_criterio_evidencias.index)\n",
    "    porcentagem_criterio_evidencias = round(((criterio_evidencias_count/qtd_relatorios_ano)*100), 2)\n",
    "    porcentagens_por_criterio[\"F\"] = porcentagem_criterio_evidencias\n",
    "\n",
    "    #Quantidade do critério g. Informação extraída das evidências\n",
    "    tabela_criterio_info_evidencias_bool = tabela_relatorios_ano[\"g. Informação extraída das evidências\"]==1\n",
    "    tabela_criterio_info_evidencias = tabela_relatorios_ano[tabela_criterio_info_evidencias_bool]\n",
    "    criterio_info_evidencias_count = len(tabela_criterio_info_evidencias.index)\n",
    "    porcentagem_criterio_info_evidencias= round(((criterio_info_evidencias_count/qtd_relatorios_ano)*100), 2)\n",
    "    porcentagens_por_criterio[\"G\"] = porcentagem_criterio_info_evidencias\n",
    "    \n",
    "    #Quantidade do critério h. Causas\n",
    "    tabela_criterio_causas_bool = tabela_relatorios_ano[\"h. Causas\"]==1\n",
    "    tabela_criterio_causas = tabela_relatorios_ano[tabela_criterio_causas_bool]\n",
    "    criterio_causas_count = len(tabela_criterio_causas.index)\n",
    "    porcentagem_criterio_causas = round(((criterio_causas_count/qtd_relatorios_ano)*100), 2)\n",
    "    porcentagens_por_criterio[\"H\"] = porcentagem_criterio_causas\n",
    "\n",
    "    #Quantidade do critério i. Efeitos\n",
    "    tabela_criterio_efeitos_bool = tabela_relatorios_ano[\"i. Efeitos\"]==1\n",
    "    tabela_criterio_efeitos = tabela_relatorios_ano[tabela_criterio_efeitos_bool]\n",
    "    criterio_efeitos_count = len(tabela_criterio_efeitos.index)\n",
    "    porcentagem_criterio_efeitos = round(((criterio_efeitos_count/qtd_relatorios_ano)*100), 2)\n",
    "    porcentagens_por_criterio[\"I\"] = porcentagem_criterio_efeitos\n",
    "\n",
    "    #Quantidade do critério j. Boas Práticas\n",
    "    tabela_criterio_boas_praticas_bool = tabela_relatorios_ano[\"j. Boas Práticas\"]==1\n",
    "    tabela_criterio_boas_praticas = tabela_relatorios_ano[tabela_criterio_boas_praticas_bool]\n",
    "    criterio_boas_praticas_count = len(tabela_criterio_boas_praticas.index)\n",
    "    porcentagem_criterio_boas_praticas = round(((criterio_boas_praticas_count/qtd_relatorios_ano)*100), 2)\n",
    "    porcentagens_por_criterio[\"J\"] = porcentagem_criterio_boas_praticas\n",
    "\n",
    "    #Quantidade do critério k. Recomendações\n",
    "    tabela_criterio_recomendacoes_bool = tabela_relatorios_ano[\"k. Recomendações\"]==1\n",
    "    tabela_criterio_recomendacoes = tabela_relatorios_ano[tabela_criterio_recomendacoes_bool]\n",
    "    criterio_recomendacoes_count = len(tabela_criterio_recomendacoes.index)\n",
    "    porcentagem_criterio_recomendacoes = round(((criterio_recomendacoes_count/qtd_relatorios_ano)*100), 2)\n",
    "    porcentagens_por_criterio[\"K\"] = porcentagem_criterio_recomendacoes\n",
    "\n",
    "    #Quantidade do critério l. Benefícios esperados\n",
    "    tabela_criterio_beneficios_bool = tabela_relatorios_ano[\"l. Benefícios esperados\"]==1\n",
    "    tabela_criterio_beneficios = tabela_relatorios_ano[tabela_criterio_beneficios_bool]\n",
    "    criterio_beneficios_count = len(tabela_criterio_beneficios.index)\n",
    "    porcentagem_criterio_beneficios = round(((criterio_beneficios_count/qtd_relatorios_ano)*100), 2)\n",
    "    porcentagens_por_criterio[\"L\"] = porcentagem_criterio_beneficios\n",
    "\n",
    "    #Quantidade do critério m. Manifestação\n",
    "    tabela_criterio_manifestacao_bool = tabela_relatorios_ano[\"m. Manifestação\"]==1\n",
    "    tabela_criterio_manifestacao = tabela_relatorios_ano[tabela_criterio_manifestacao_bool]\n",
    "    criterio_manifestacao_count = len(tabela_criterio_manifestacao.index)\n",
    "    porcentagem_criterio_manifestacao = round(((criterio_manifestacao_count/qtd_relatorios_ano)*100), 2)\n",
    "    porcentagens_por_criterio[\"M\"] = porcentagem_criterio_manifestacao\n",
    "\n",
    "    #Quantidade do critério n. Conclusões\n",
    "    tabela_criterio_conclusoes_bool = tabela_relatorios_ano[\"n. Conclusões\"]==1\n",
    "    tabela_criterio_conclusoes = tabela_relatorios_ano[tabela_criterio_conclusoes_bool]\n",
    "    criterio_conclusoes_count = len(tabela_criterio_conclusoes.index)\n",
    "    porcentagem_criterio_conclusoes = round(((criterio_conclusoes_count/qtd_relatorios_ano)*100), 2)\n",
    "    porcentagens_por_criterio[\"N\"] = porcentagem_criterio_conclusoes\n",
    "\n",
    "    return porcentagens_por_criterio\n",
    "\n",
    "array_tabelas_ano = [tabela_relatorios_2018, tabela_relatorios_2019, tabela_relatorios_2020, tabela_relatorios_2021, tabela_relatorios_2022, tabela_relatorios_2023, tabela_relatorios_2024]\n",
    "\n",
    "porcentagem_criterios_ano_aux = []\n",
    "\n",
    "for i in array_tabelas_ano:\n",
    "    porcentagem_criterios_ano_aux.append(porcentagem_criterios_ano(i)) #Roda para todos os anos e adiciona à tabela auxiliar de porcentagem dos critérios\n",
    "\n",
    "\n",
    "porcentagens_criterios_por_ano = pd.DataFrame(porcentagem_criterios_ano_aux, index=array_ano_relatorio)\n",
    "porcentagens_criterios_por_ano.to_excel('criterios_por_ano.xlsx')\n",
    "\n",
    "\n",
    "display(porcentagens_criterios_por_ano.reset_index(names=\"Ano do Relatório\"))"
   ]
  },
  {
   "cell_type": "markdown",
   "metadata": {},
   "source": [
    "### Gráfico 6.1"
   ]
  },
  {
   "cell_type": "code",
   "execution_count": 177,
   "metadata": {},
   "outputs": [
    {
     "data": {
      "application/vnd.plotly.v1+json": {
       "config": {
        "plotlyServerURL": "https://plot.ly"
       },
       "data": [
        {
         "hovertemplate": "Critério=Matriz<br>Ano=%{x}<br>Média de Adoção (%)=%{y}<extra></extra>",
         "legendgroup": "Matriz",
         "line": {
          "color": "#636efa",
          "dash": "solid"
         },
         "marker": {
          "symbol": "circle"
         },
         "mode": "lines",
         "name": "Matriz",
         "orientation": "v",
         "showlegend": true,
         "type": "scatter",
         "x": [
          "2018",
          "2019",
          "2020",
          "2021",
          "2022",
          "2023",
          "2024"
         ],
         "xaxis": "x",
         "y": [
          0.05333333333333334,
          0.5555555555555556,
          0.43988269794721413,
          0.4497751124437781,
          0.36968576709796674,
          0.19157088122605362,
          0
         ],
         "yaxis": "y"
        },
        {
         "hovertemplate": "Critério=A<br>Ano=%{x}<br>Média de Adoção (%)=%{y}<extra></extra>",
         "legendgroup": "A",
         "line": {
          "color": "#EF553B",
          "dash": "solid"
         },
         "marker": {
          "symbol": "circle"
         },
         "mode": "lines",
         "name": "A",
         "orientation": "v",
         "showlegend": true,
         "type": "scatter",
         "x": [
          "2018",
          "2019",
          "2020",
          "2021",
          "2022",
          "2023",
          "2024"
         ],
         "xaxis": "x",
         "y": [
          24.37333333333333,
          32.22222222222222,
          49.853372434017594,
          61.019490254872565,
          62.292051756007396,
          55.55555555555556,
          43.798449612403104
         ],
         "yaxis": "y"
        },
        {
         "hovertemplate": "Critério=B<br>Ano=%{x}<br>Média de Adoção (%)=%{y}<extra></extra>",
         "legendgroup": "B",
         "line": {
          "color": "#00cc96",
          "dash": "solid"
         },
         "marker": {
          "symbol": "circle"
         },
         "mode": "lines",
         "name": "B",
         "orientation": "v",
         "showlegend": true,
         "type": "scatter",
         "x": [
          "2018",
          "2019",
          "2020",
          "2021",
          "2022",
          "2023",
          "2024"
         ],
         "xaxis": "x",
         "y": [
          6.72,
          4.365079365079365,
          4.69208211143695,
          14.69265367316342,
          9.981515711645102,
          10.53639846743295,
          4.651162790697675
         ],
         "yaxis": "y"
        },
        {
         "hovertemplate": "Critério=C<br>Ano=%{x}<br>Média de Adoção (%)=%{y}<extra></extra>",
         "legendgroup": "C",
         "line": {
          "color": "#ab63fa",
          "dash": "solid"
         },
         "marker": {
          "symbol": "circle"
         },
         "mode": "lines",
         "name": "C",
         "orientation": "v",
         "showlegend": true,
         "type": "scatter",
         "x": [
          "2018",
          "2019",
          "2020",
          "2021",
          "2022",
          "2023",
          "2024"
         ],
         "xaxis": "x",
         "y": [
          60.96,
          98.09523809523809,
          99.26686217008798,
          94.90254872563717,
          97.59704251386322,
          99.80842911877394,
          100
         ],
         "yaxis": "y"
        },
        {
         "hovertemplate": "Critério=D<br>Ano=%{x}<br>Média de Adoção (%)=%{y}<extra></extra>",
         "legendgroup": "D",
         "line": {
          "color": "#FFA15A",
          "dash": "solid"
         },
         "marker": {
          "symbol": "circle"
         },
         "mode": "lines",
         "name": "D",
         "orientation": "v",
         "showlegend": true,
         "type": "scatter",
         "x": [
          "2018",
          "2019",
          "2020",
          "2021",
          "2022",
          "2023",
          "2024"
         ],
         "xaxis": "x",
         "y": [
          45.653333333333336,
          31.507936507936506,
          45.16129032258064,
          78.86056971514243,
          83.91866913123845,
          80.26819923371647,
          88.37209302325581
         ],
         "yaxis": "y"
        },
        {
         "hovertemplate": "Critério=E<br>Ano=%{x}<br>Média de Adoção (%)=%{y}<extra></extra>",
         "legendgroup": "E",
         "line": {
          "color": "#19d3f3",
          "dash": "solid"
         },
         "marker": {
          "symbol": "circle"
         },
         "mode": "lines",
         "name": "E",
         "orientation": "v",
         "showlegend": true,
         "type": "scatter",
         "x": [
          "2018",
          "2019",
          "2020",
          "2021",
          "2022",
          "2023",
          "2024"
         ],
         "xaxis": "x",
         "y": [
          99.52,
          99.04761904761905,
          99.70674486803519,
          94.75262368815592,
          90.75785582255084,
          88.88888888888889,
          83.33333333333334
         ],
         "yaxis": "y"
        },
        {
         "hovertemplate": "Critério=F<br>Ano=%{x}<br>Média de Adoção (%)=%{y}<extra></extra>",
         "legendgroup": "F",
         "line": {
          "color": "#FF6692",
          "dash": "solid"
         },
         "marker": {
          "symbol": "circle"
         },
         "mode": "lines",
         "name": "F",
         "orientation": "v",
         "showlegend": true,
         "type": "scatter",
         "x": [
          "2018",
          "2019",
          "2020",
          "2021",
          "2022",
          "2023",
          "2024"
         ],
         "xaxis": "x",
         "y": [
          89.97333333333334,
          83.25396825396825,
          80.64516129032258,
          94.90254872563717,
          97.22735674676525,
          99.04214559386973,
          99.2248062015504
         ],
         "yaxis": "y"
        },
        {
         "hovertemplate": "Critério=G<br>Ano=%{x}<br>Média de Adoção (%)=%{y}<extra></extra>",
         "legendgroup": "G",
         "line": {
          "color": "#B6E880",
          "dash": "solid"
         },
         "marker": {
          "symbol": "circle"
         },
         "mode": "lines",
         "name": "G",
         "orientation": "v",
         "showlegend": true,
         "type": "scatter",
         "x": [
          "2018",
          "2019",
          "2020",
          "2021",
          "2022",
          "2023",
          "2024"
         ],
         "xaxis": "x",
         "y": [
          85.28,
          62.46031746031746,
          64.36950146627566,
          44.07796101949025,
          6.654343807763401,
          4.789272030651341,
          5.813953488372093
         ],
         "yaxis": "y"
        },
        {
         "hovertemplate": "Critério=H<br>Ano=%{x}<br>Média de Adoção (%)=%{y}<extra></extra>",
         "legendgroup": "H",
         "line": {
          "color": "#FF97FF",
          "dash": "solid"
         },
         "marker": {
          "symbol": "circle"
         },
         "mode": "lines",
         "name": "H",
         "orientation": "v",
         "showlegend": true,
         "type": "scatter",
         "x": [
          "2018",
          "2019",
          "2020",
          "2021",
          "2022",
          "2023",
          "2024"
         ],
         "xaxis": "x",
         "y": [
          37.81333333333333,
          36.904761904761905,
          37.096774193548384,
          48.275862068965516,
          62.661737523105366,
          52.10727969348659,
          56.58914728682171
         ],
         "yaxis": "y"
        },
        {
         "hovertemplate": "Critério=I<br>Ano=%{x}<br>Média de Adoção (%)=%{y}<extra></extra>",
         "legendgroup": "I",
         "line": {
          "color": "#FECB52",
          "dash": "solid"
         },
         "marker": {
          "symbol": "circle"
         },
         "mode": "lines",
         "name": "I",
         "orientation": "v",
         "showlegend": true,
         "type": "scatter",
         "x": [
          "2018",
          "2019",
          "2020",
          "2021",
          "2022",
          "2023",
          "2024"
         ],
         "xaxis": "x",
         "y": [
          0.5866666666666667,
          9.841269841269842,
          12.609970674486803,
          44.827586206896555,
          56.56192236598891,
          53.06513409961686,
          42.248062015503876
         ],
         "yaxis": "y"
        },
        {
         "hovertemplate": "Critério=J<br>Ano=%{x}<br>Média de Adoção (%)=%{y}<extra></extra>",
         "legendgroup": "J",
         "line": {
          "color": "#636efa",
          "dash": "solid"
         },
         "marker": {
          "symbol": "circle"
         },
         "mode": "lines",
         "name": "J",
         "orientation": "v",
         "showlegend": true,
         "type": "scatter",
         "x": [
          "2018",
          "2019",
          "2020",
          "2021",
          "2022",
          "2023",
          "2024"
         ],
         "xaxis": "x",
         "y": [
          0.9066666666666667,
          6.031746031746032,
          12.316715542521994,
          16.041979010494753,
          17.005545286506468,
          16.47509578544061,
          13.178294573643413
         ],
         "yaxis": "y"
        },
        {
         "hovertemplate": "Critério=K<br>Ano=%{x}<br>Média de Adoção (%)=%{y}<extra></extra>",
         "legendgroup": "K",
         "line": {
          "color": "#EF553B",
          "dash": "solid"
         },
         "marker": {
          "symbol": "circle"
         },
         "mode": "lines",
         "name": "K",
         "orientation": "v",
         "showlegend": true,
         "type": "scatter",
         "x": [
          "2018",
          "2019",
          "2020",
          "2021",
          "2022",
          "2023",
          "2024"
         ],
         "xaxis": "x",
         "y": [
          42.88,
          48.888888888888886,
          59.67741935483871,
          80.0599700149925,
          87.8003696857671,
          79.88505747126436,
          67.82945736434108
         ],
         "yaxis": "y"
        },
        {
         "hovertemplate": "Critério=L<br>Ano=%{x}<br>Média de Adoção (%)=%{y}<extra></extra>",
         "legendgroup": "L",
         "line": {
          "color": "#00cc96",
          "dash": "solid"
         },
         "marker": {
          "symbol": "circle"
         },
         "mode": "lines",
         "name": "L",
         "orientation": "v",
         "showlegend": true,
         "type": "scatter",
         "x": [
          "2018",
          "2019",
          "2020",
          "2021",
          "2022",
          "2023",
          "2024"
         ],
         "xaxis": "x",
         "y": [
          0.9066666666666667,
          5.396825396825397,
          6.158357771260997,
          33.88305847076462,
          43.068391866913124,
          40.99616858237548,
          53.100775193798455
         ],
         "yaxis": "y"
        },
        {
         "hovertemplate": "Critério=M<br>Ano=%{x}<br>Média de Adoção (%)=%{y}<extra></extra>",
         "legendgroup": "M",
         "line": {
          "color": "#ab63fa",
          "dash": "solid"
         },
         "marker": {
          "symbol": "circle"
         },
         "mode": "lines",
         "name": "M",
         "orientation": "v",
         "showlegend": true,
         "type": "scatter",
         "x": [
          "2018",
          "2019",
          "2020",
          "2021",
          "2022",
          "2023",
          "2024"
         ],
         "xaxis": "x",
         "y": [
          70.77333333333333,
          64.84126984126985,
          70.67448680351906,
          53.823088455772115,
          19.038817005545287,
          21.26436781609195,
          16.27906976744186
         ],
         "yaxis": "y"
        },
        {
         "hovertemplate": "Critério=N<br>Ano=%{x}<br>Média de Adoção (%)=%{y}<extra></extra>",
         "legendgroup": "N",
         "line": {
          "color": "#FFA15A",
          "dash": "solid"
         },
         "marker": {
          "symbol": "circle"
         },
         "mode": "lines",
         "name": "N",
         "orientation": "v",
         "showlegend": true,
         "type": "scatter",
         "x": [
          "2018",
          "2019",
          "2020",
          "2021",
          "2022",
          "2023",
          "2024"
         ],
         "xaxis": "x",
         "y": [
          99.2,
          98.96825396825398,
          99.56011730205279,
          93.10344827586206,
          90.20332717190388,
          95.78544061302682,
          97.28682170542635
         ],
         "yaxis": "y"
        }
       ],
       "layout": {
        "hoverlabel": {
         "namelength": -1
        },
        "legend": {
         "title": {
          "text": "Critério"
         },
         "tracegroupgap": 0
        },
        "template": {
         "data": {
          "bar": [
           {
            "error_x": {
             "color": "#2a3f5f"
            },
            "error_y": {
             "color": "#2a3f5f"
            },
            "marker": {
             "line": {
              "color": "#E5ECF6",
              "width": 0.5
             },
             "pattern": {
              "fillmode": "overlay",
              "size": 10,
              "solidity": 0.2
             }
            },
            "type": "bar"
           }
          ],
          "barpolar": [
           {
            "marker": {
             "line": {
              "color": "#E5ECF6",
              "width": 0.5
             },
             "pattern": {
              "fillmode": "overlay",
              "size": 10,
              "solidity": 0.2
             }
            },
            "type": "barpolar"
           }
          ],
          "carpet": [
           {
            "aaxis": {
             "endlinecolor": "#2a3f5f",
             "gridcolor": "white",
             "linecolor": "white",
             "minorgridcolor": "white",
             "startlinecolor": "#2a3f5f"
            },
            "baxis": {
             "endlinecolor": "#2a3f5f",
             "gridcolor": "white",
             "linecolor": "white",
             "minorgridcolor": "white",
             "startlinecolor": "#2a3f5f"
            },
            "type": "carpet"
           }
          ],
          "choropleth": [
           {
            "colorbar": {
             "outlinewidth": 0,
             "ticks": ""
            },
            "type": "choropleth"
           }
          ],
          "contour": [
           {
            "colorbar": {
             "outlinewidth": 0,
             "ticks": ""
            },
            "colorscale": [
             [
              0,
              "#0d0887"
             ],
             [
              0.1111111111111111,
              "#46039f"
             ],
             [
              0.2222222222222222,
              "#7201a8"
             ],
             [
              0.3333333333333333,
              "#9c179e"
             ],
             [
              0.4444444444444444,
              "#bd3786"
             ],
             [
              0.5555555555555556,
              "#d8576b"
             ],
             [
              0.6666666666666666,
              "#ed7953"
             ],
             [
              0.7777777777777778,
              "#fb9f3a"
             ],
             [
              0.8888888888888888,
              "#fdca26"
             ],
             [
              1,
              "#f0f921"
             ]
            ],
            "type": "contour"
           }
          ],
          "contourcarpet": [
           {
            "colorbar": {
             "outlinewidth": 0,
             "ticks": ""
            },
            "type": "contourcarpet"
           }
          ],
          "heatmap": [
           {
            "colorbar": {
             "outlinewidth": 0,
             "ticks": ""
            },
            "colorscale": [
             [
              0,
              "#0d0887"
             ],
             [
              0.1111111111111111,
              "#46039f"
             ],
             [
              0.2222222222222222,
              "#7201a8"
             ],
             [
              0.3333333333333333,
              "#9c179e"
             ],
             [
              0.4444444444444444,
              "#bd3786"
             ],
             [
              0.5555555555555556,
              "#d8576b"
             ],
             [
              0.6666666666666666,
              "#ed7953"
             ],
             [
              0.7777777777777778,
              "#fb9f3a"
             ],
             [
              0.8888888888888888,
              "#fdca26"
             ],
             [
              1,
              "#f0f921"
             ]
            ],
            "type": "heatmap"
           }
          ],
          "heatmapgl": [
           {
            "colorbar": {
             "outlinewidth": 0,
             "ticks": ""
            },
            "colorscale": [
             [
              0,
              "#0d0887"
             ],
             [
              0.1111111111111111,
              "#46039f"
             ],
             [
              0.2222222222222222,
              "#7201a8"
             ],
             [
              0.3333333333333333,
              "#9c179e"
             ],
             [
              0.4444444444444444,
              "#bd3786"
             ],
             [
              0.5555555555555556,
              "#d8576b"
             ],
             [
              0.6666666666666666,
              "#ed7953"
             ],
             [
              0.7777777777777778,
              "#fb9f3a"
             ],
             [
              0.8888888888888888,
              "#fdca26"
             ],
             [
              1,
              "#f0f921"
             ]
            ],
            "type": "heatmapgl"
           }
          ],
          "histogram": [
           {
            "marker": {
             "pattern": {
              "fillmode": "overlay",
              "size": 10,
              "solidity": 0.2
             }
            },
            "type": "histogram"
           }
          ],
          "histogram2d": [
           {
            "colorbar": {
             "outlinewidth": 0,
             "ticks": ""
            },
            "colorscale": [
             [
              0,
              "#0d0887"
             ],
             [
              0.1111111111111111,
              "#46039f"
             ],
             [
              0.2222222222222222,
              "#7201a8"
             ],
             [
              0.3333333333333333,
              "#9c179e"
             ],
             [
              0.4444444444444444,
              "#bd3786"
             ],
             [
              0.5555555555555556,
              "#d8576b"
             ],
             [
              0.6666666666666666,
              "#ed7953"
             ],
             [
              0.7777777777777778,
              "#fb9f3a"
             ],
             [
              0.8888888888888888,
              "#fdca26"
             ],
             [
              1,
              "#f0f921"
             ]
            ],
            "type": "histogram2d"
           }
          ],
          "histogram2dcontour": [
           {
            "colorbar": {
             "outlinewidth": 0,
             "ticks": ""
            },
            "colorscale": [
             [
              0,
              "#0d0887"
             ],
             [
              0.1111111111111111,
              "#46039f"
             ],
             [
              0.2222222222222222,
              "#7201a8"
             ],
             [
              0.3333333333333333,
              "#9c179e"
             ],
             [
              0.4444444444444444,
              "#bd3786"
             ],
             [
              0.5555555555555556,
              "#d8576b"
             ],
             [
              0.6666666666666666,
              "#ed7953"
             ],
             [
              0.7777777777777778,
              "#fb9f3a"
             ],
             [
              0.8888888888888888,
              "#fdca26"
             ],
             [
              1,
              "#f0f921"
             ]
            ],
            "type": "histogram2dcontour"
           }
          ],
          "mesh3d": [
           {
            "colorbar": {
             "outlinewidth": 0,
             "ticks": ""
            },
            "type": "mesh3d"
           }
          ],
          "parcoords": [
           {
            "line": {
             "colorbar": {
              "outlinewidth": 0,
              "ticks": ""
             }
            },
            "type": "parcoords"
           }
          ],
          "pie": [
           {
            "automargin": true,
            "type": "pie"
           }
          ],
          "scatter": [
           {
            "fillpattern": {
             "fillmode": "overlay",
             "size": 10,
             "solidity": 0.2
            },
            "type": "scatter"
           }
          ],
          "scatter3d": [
           {
            "line": {
             "colorbar": {
              "outlinewidth": 0,
              "ticks": ""
             }
            },
            "marker": {
             "colorbar": {
              "outlinewidth": 0,
              "ticks": ""
             }
            },
            "type": "scatter3d"
           }
          ],
          "scattercarpet": [
           {
            "marker": {
             "colorbar": {
              "outlinewidth": 0,
              "ticks": ""
             }
            },
            "type": "scattercarpet"
           }
          ],
          "scattergeo": [
           {
            "marker": {
             "colorbar": {
              "outlinewidth": 0,
              "ticks": ""
             }
            },
            "type": "scattergeo"
           }
          ],
          "scattergl": [
           {
            "marker": {
             "colorbar": {
              "outlinewidth": 0,
              "ticks": ""
             }
            },
            "type": "scattergl"
           }
          ],
          "scattermapbox": [
           {
            "marker": {
             "colorbar": {
              "outlinewidth": 0,
              "ticks": ""
             }
            },
            "type": "scattermapbox"
           }
          ],
          "scatterpolar": [
           {
            "marker": {
             "colorbar": {
              "outlinewidth": 0,
              "ticks": ""
             }
            },
            "type": "scatterpolar"
           }
          ],
          "scatterpolargl": [
           {
            "marker": {
             "colorbar": {
              "outlinewidth": 0,
              "ticks": ""
             }
            },
            "type": "scatterpolargl"
           }
          ],
          "scatterternary": [
           {
            "marker": {
             "colorbar": {
              "outlinewidth": 0,
              "ticks": ""
             }
            },
            "type": "scatterternary"
           }
          ],
          "surface": [
           {
            "colorbar": {
             "outlinewidth": 0,
             "ticks": ""
            },
            "colorscale": [
             [
              0,
              "#0d0887"
             ],
             [
              0.1111111111111111,
              "#46039f"
             ],
             [
              0.2222222222222222,
              "#7201a8"
             ],
             [
              0.3333333333333333,
              "#9c179e"
             ],
             [
              0.4444444444444444,
              "#bd3786"
             ],
             [
              0.5555555555555556,
              "#d8576b"
             ],
             [
              0.6666666666666666,
              "#ed7953"
             ],
             [
              0.7777777777777778,
              "#fb9f3a"
             ],
             [
              0.8888888888888888,
              "#fdca26"
             ],
             [
              1,
              "#f0f921"
             ]
            ],
            "type": "surface"
           }
          ],
          "table": [
           {
            "cells": {
             "fill": {
              "color": "#EBF0F8"
             },
             "line": {
              "color": "white"
             }
            },
            "header": {
             "fill": {
              "color": "#C8D4E3"
             },
             "line": {
              "color": "white"
             }
            },
            "type": "table"
           }
          ]
         },
         "layout": {
          "annotationdefaults": {
           "arrowcolor": "#2a3f5f",
           "arrowhead": 0,
           "arrowwidth": 1
          },
          "autotypenumbers": "strict",
          "coloraxis": {
           "colorbar": {
            "outlinewidth": 0,
            "ticks": ""
           }
          },
          "colorscale": {
           "diverging": [
            [
             0,
             "#8e0152"
            ],
            [
             0.1,
             "#c51b7d"
            ],
            [
             0.2,
             "#de77ae"
            ],
            [
             0.3,
             "#f1b6da"
            ],
            [
             0.4,
             "#fde0ef"
            ],
            [
             0.5,
             "#f7f7f7"
            ],
            [
             0.6,
             "#e6f5d0"
            ],
            [
             0.7,
             "#b8e186"
            ],
            [
             0.8,
             "#7fbc41"
            ],
            [
             0.9,
             "#4d9221"
            ],
            [
             1,
             "#276419"
            ]
           ],
           "sequential": [
            [
             0,
             "#0d0887"
            ],
            [
             0.1111111111111111,
             "#46039f"
            ],
            [
             0.2222222222222222,
             "#7201a8"
            ],
            [
             0.3333333333333333,
             "#9c179e"
            ],
            [
             0.4444444444444444,
             "#bd3786"
            ],
            [
             0.5555555555555556,
             "#d8576b"
            ],
            [
             0.6666666666666666,
             "#ed7953"
            ],
            [
             0.7777777777777778,
             "#fb9f3a"
            ],
            [
             0.8888888888888888,
             "#fdca26"
            ],
            [
             1,
             "#f0f921"
            ]
           ],
           "sequentialminus": [
            [
             0,
             "#0d0887"
            ],
            [
             0.1111111111111111,
             "#46039f"
            ],
            [
             0.2222222222222222,
             "#7201a8"
            ],
            [
             0.3333333333333333,
             "#9c179e"
            ],
            [
             0.4444444444444444,
             "#bd3786"
            ],
            [
             0.5555555555555556,
             "#d8576b"
            ],
            [
             0.6666666666666666,
             "#ed7953"
            ],
            [
             0.7777777777777778,
             "#fb9f3a"
            ],
            [
             0.8888888888888888,
             "#fdca26"
            ],
            [
             1,
             "#f0f921"
            ]
           ]
          },
          "colorway": [
           "#636efa",
           "#EF553B",
           "#00cc96",
           "#ab63fa",
           "#FFA15A",
           "#19d3f3",
           "#FF6692",
           "#B6E880",
           "#FF97FF",
           "#FECB52"
          ],
          "font": {
           "color": "#2a3f5f"
          },
          "geo": {
           "bgcolor": "white",
           "lakecolor": "white",
           "landcolor": "#E5ECF6",
           "showlakes": true,
           "showland": true,
           "subunitcolor": "white"
          },
          "hoverlabel": {
           "align": "left"
          },
          "hovermode": "closest",
          "mapbox": {
           "style": "light"
          },
          "paper_bgcolor": "white",
          "plot_bgcolor": "#E5ECF6",
          "polar": {
           "angularaxis": {
            "gridcolor": "white",
            "linecolor": "white",
            "ticks": ""
           },
           "bgcolor": "#E5ECF6",
           "radialaxis": {
            "gridcolor": "white",
            "linecolor": "white",
            "ticks": ""
           }
          },
          "scene": {
           "xaxis": {
            "backgroundcolor": "#E5ECF6",
            "gridcolor": "white",
            "gridwidth": 2,
            "linecolor": "white",
            "showbackground": true,
            "ticks": "",
            "zerolinecolor": "white"
           },
           "yaxis": {
            "backgroundcolor": "#E5ECF6",
            "gridcolor": "white",
            "gridwidth": 2,
            "linecolor": "white",
            "showbackground": true,
            "ticks": "",
            "zerolinecolor": "white"
           },
           "zaxis": {
            "backgroundcolor": "#E5ECF6",
            "gridcolor": "white",
            "gridwidth": 2,
            "linecolor": "white",
            "showbackground": true,
            "ticks": "",
            "zerolinecolor": "white"
           }
          },
          "shapedefaults": {
           "line": {
            "color": "#2a3f5f"
           }
          },
          "ternary": {
           "aaxis": {
            "gridcolor": "white",
            "linecolor": "white",
            "ticks": ""
           },
           "baxis": {
            "gridcolor": "white",
            "linecolor": "white",
            "ticks": ""
           },
           "bgcolor": "#E5ECF6",
           "caxis": {
            "gridcolor": "white",
            "linecolor": "white",
            "ticks": ""
           }
          },
          "title": {
           "x": 0.05
          },
          "xaxis": {
           "automargin": true,
           "gridcolor": "white",
           "linecolor": "white",
           "ticks": "",
           "title": {
            "standoff": 15
           },
           "zerolinecolor": "white",
           "zerolinewidth": 2
          },
          "yaxis": {
           "automargin": true,
           "gridcolor": "white",
           "linecolor": "white",
           "ticks": "",
           "title": {
            "standoff": 15
           },
           "zerolinecolor": "white",
           "zerolinewidth": 2
          }
         }
        },
        "title": {
         "text": "Adoção dos Critérios ao Longo dos Anos"
        },
        "xaxis": {
         "anchor": "y",
         "domain": [
          0,
          1
         ],
         "title": {
          "text": "Ano"
         }
        },
        "yaxis": {
         "anchor": "x",
         "domain": [
          0,
          1
         ],
         "title": {
          "text": "Média de Adoção (%)"
         }
        }
       }
      }
     },
     "metadata": {},
     "output_type": "display_data"
    }
   ],
   "source": [
    "# Definir os critérios\n",
    "raw_data = [\"Matriz de Achados?\",\n",
    "            \"a. Questões de Auditoria\",\n",
    "            \"b. Subquestões de Auditoria\",\n",
    "            \"c. Descrição sumária\",\n",
    "            \"d. Critério (O que deveria ser)\",\n",
    "            \"e. Condição ou situação encontrada (O que é) [achados]\",\n",
    "            \"f. Evidências\",\n",
    "            \"g. Informação extraída das evidências\",\n",
    "            \"h. Causas\",\n",
    "            \"i. Efeitos\",\n",
    "            \"j. Boas Práticas\",\n",
    "            \"k. Recomendações\",\n",
    "            \"l. Benefícios esperados\",\n",
    "            \"m. Manifestação\",\n",
    "            \"n. Conclusões\"]\n",
    "\n",
    "# Renomear as colunas para nomes mais curtos e legíveis\n",
    "renomear_dict = {\n",
    "    \"Matriz de Achados?\": \"Matriz\",\n",
    "    \"a. Questões de Auditoria\": \"A\",\n",
    "    \"b. Subquestões de Auditoria\": \"B\",\n",
    "    \"c. Descrição sumária\": \"C\",\n",
    "    \"d. Critério (O que deveria ser)\": \"D\",\n",
    "    \"e. Condição ou situação encontrada (O que é) [achados]\": \"E\",\n",
    "    \"f. Evidências\": \"F\",\n",
    "    \"g. Informação extraída das evidências\": \"G\",\n",
    "    \"h. Causas\": \"H\",\n",
    "    \"i. Efeitos\": \"I\",\n",
    "    \"j. Boas Práticas\": \"J\",\n",
    "    \"k. Recomendações\": \"K\",\n",
    "    \"l. Benefícios esperados\": \"L\",\n",
    "    \"m. Manifestação\": \"M\",\n",
    "    \"n. Conclusões\": \"N\"\n",
    "}\n",
    "\n",
    "# Renomear as colunas no DataFrame\n",
    "tabela_relatorios = tabela_relatorios.rename(columns=renomear_dict)\n",
    "\n",
    "# Converter as colunas renomeadas para tipo float\n",
    "renamed_columns = list(renomear_dict.values())\n",
    "tabela_relatorios[renamed_columns] = tabela_relatorios[renamed_columns].astype(\"float\")\n",
    "\n",
    "# Agrupar por ano e calcular a média para cada critério\n",
    "df_grouped_by_year = tabela_relatorios.groupby(\"Ano\")[renamed_columns].mean().reset_index()\n",
    "\n",
    "# Converter as médias para porcentagens (0 a 100%)\n",
    "df_grouped_by_year[renamed_columns] = df_grouped_by_year[renamed_columns] * 100\n",
    "\n",
    "# Transformar o DataFrame em formato longo (long format) para facilitar visualização com Plotly\n",
    "df_long = df_grouped_by_year.melt(id_vars=\"Ano\", var_name=\"Critério\", value_name=\"Média de Adoção\")\n",
    "\n",
    "# Criar o gráfico de linha interativo com valores de 0 a 100%\n",
    "fig = px.line(df_long, x=\"Ano\", y=\"Média de Adoção\", color=\"Critério\",\n",
    "              title=\"Adoção dos Critérios ao Longo dos Anos\",\n",
    "              labels={\"Média de Adoção\": \"Média de Adoção (%)\", \"Ano\": \"Ano\", \"Critério\": \"Critério\"})\n",
    "\n",
    "# Atualizar o layout para ajustar os rótulos e exibir as porcentagens corretamente\n",
    "fig.update_layout(\n",
    "    yaxis=dict(title='Média de Adoção (%)'),\n",
    "    hoverlabel=dict(\n",
    "        namelength=-1  # Mostrar o nome completo no balão\n",
    "    )\n",
    ")\n",
    "\n",
    "# Exibir o gráfico\n",
    "fig.show()"
   ]
  },
  {
   "cell_type": "markdown",
   "metadata": {},
   "source": [
    "## 7. Casos por Região\n",
    "Aqui veremos a quantidade de relatórios por região do país."
   ]
  },
  {
   "cell_type": "code",
   "execution_count": 178,
   "metadata": {},
   "outputs": [
    {
     "data": {
      "text/html": [
       "<div>\n",
       "<style scoped>\n",
       "    .dataframe tbody tr th:only-of-type {\n",
       "        vertical-align: middle;\n",
       "    }\n",
       "\n",
       "    .dataframe tbody tr th {\n",
       "        vertical-align: top;\n",
       "    }\n",
       "\n",
       "    .dataframe thead th {\n",
       "        text-align: right;\n",
       "    }\n",
       "</style>\n",
       "<table border=\"1\" class=\"dataframe\">\n",
       "  <thead>\n",
       "    <tr style=\"text-align: right;\">\n",
       "      <th></th>\n",
       "      <th>Região</th>\n",
       "      <th>Contagem</th>\n",
       "    </tr>\n",
       "  </thead>\n",
       "  <tbody>\n",
       "    <tr>\n",
       "      <th>0</th>\n",
       "      <td>Centro-Oeste</td>\n",
       "      <td>1636</td>\n",
       "    </tr>\n",
       "    <tr>\n",
       "      <th>1</th>\n",
       "      <td>Nordeste</td>\n",
       "      <td>1411</td>\n",
       "    </tr>\n",
       "    <tr>\n",
       "      <th>2</th>\n",
       "      <td>Norte</td>\n",
       "      <td>689</td>\n",
       "    </tr>\n",
       "    <tr>\n",
       "      <th>3</th>\n",
       "      <td>Sudeste</td>\n",
       "      <td>1471</td>\n",
       "    </tr>\n",
       "    <tr>\n",
       "      <th>4</th>\n",
       "      <td>Sul</td>\n",
       "      <td>598</td>\n",
       "    </tr>\n",
       "  </tbody>\n",
       "</table>\n",
       "</div>"
      ],
      "text/plain": [
       "         Região  Contagem\n",
       "0  Centro-Oeste      1636\n",
       "1      Nordeste      1411\n",
       "2         Norte       689\n",
       "3       Sudeste      1471\n",
       "4           Sul       598"
      ]
     },
     "metadata": {},
     "output_type": "display_data"
    }
   ],
   "source": [
    "# Dados da Região Nordeste\n",
    "dados_nordeste = {\n",
    "    'Estado': ['Bahia', 'Piauí', 'Maranhão', 'Ceará', 'Sergipe', 'Alagoas', 'Pernambuco', 'Paraíba', 'Rio Grande do Norte'],\n",
    "    'Contagem': [tabela_bahia_count, tabela_piaui_count, tabela_maranhao_count, tabela_ceara_count, tabela_sergipe_count, tabela_alagoas_count, tabela_pernambuco_count, tabela_paraiba_count, tabela_rn_count],\n",
    "    'Região': ['Nordeste'] * 9\n",
    "}\n",
    "\n",
    "# Dados da Região Norte\n",
    "dados_norte = {\n",
    "    'Estado': ['Amazonas', 'Pará', 'Tocantins', 'Amapá', 'Roraima', 'Rondônia', 'Acre'],\n",
    "    'Contagem': [tabela_amazonas_count, tabela_para_count, tabela_tocantins_count, tabela_amapa_count, tabela_roraima_count, tabela_rondonia_count, tabela_acre_count],\n",
    "    'Região': ['Norte'] * 7\n",
    "}\n",
    "\n",
    "# Dados da Região Centro-Oeste\n",
    "dados_centro_oeste = {\n",
    "    'Estado': ['Mato Grosso', 'Mato Grosso do Sul', 'Goiás', 'Distrito Federal'],\n",
    "    'Contagem': [tabela_mt_count, tabela_ms_count, tabela_goias_count, tabela_df_count],\n",
    "    'Região': ['Centro-Oeste'] * 4\n",
    "}\n",
    "\n",
    "# Dados da Região Sudeste\n",
    "dados_sudeste = {\n",
    "    'Estado': ['São Paulo', 'Minas Gerais', 'Rio de Janeiro', 'Espírito Santo'],\n",
    "    'Contagem': [tabela_sp_count, tabela_mg_count, tabela_rj_count, tabela_es_count],\n",
    "    'Região': ['Sudeste'] * 4\n",
    "}\n",
    "\n",
    "# Dados da Região Sul\n",
    "dados_sul = {\n",
    "    'Estado': ['Rio Grande do Sul', 'Paraná', 'Santa Catarina'],\n",
    "    'Contagem': [tabela_rs_count, tabela_parana_count, tabela_sc_count],\n",
    "    'Região': ['Sul'] * 3\n",
    "}\n",
    "\n",
    "# Criar DataFrames para cada região\n",
    "df_nordeste = pd.DataFrame(dados_nordeste)\n",
    "df_norte = pd.DataFrame(dados_norte)\n",
    "df_centro_oeste = pd.DataFrame(dados_centro_oeste)\n",
    "df_sudeste = pd.DataFrame(dados_sudeste)\n",
    "df_sul = pd.DataFrame(dados_sul)\n",
    "\n",
    "# Concatenar todos os DataFrames em um único DataFrame\n",
    "df_total = pd.concat([df_nordeste, df_norte, df_centro_oeste, df_sudeste, df_sul], ignore_index=True)\n",
    "\n",
    "# Agrupar por Região e somar as contagens\n",
    "casos_por_regiao = df_total.groupby('Região')['Contagem'].sum().reset_index()\n",
    "casos_por_regiao.to_excel('casos_por_regiao.xlsx')\n",
    "\n",
    "display(casos_por_regiao)\n"
   ]
  },
  {
   "cell_type": "markdown",
   "metadata": {},
   "source": [
    "### Gráfico 7.1"
   ]
  },
  {
   "cell_type": "code",
   "execution_count": 179,
   "metadata": {},
   "outputs": [
    {
     "data": {
      "application/vnd.plotly.v1+json": {
       "config": {
        "plotlyServerURL": "https://plot.ly"
       },
       "data": [
        {
         "domain": {
          "x": [
           0,
           0.45
          ],
          "y": [
           0.7777777777777778,
           1
          ]
         },
         "labels": [
          "Bahia",
          "Piauí",
          "Maranhão",
          "Ceará",
          "Sergipe",
          "Alagoas",
          "Pernambuco",
          "Paraíba",
          "Rio Grande do Norte"
         ],
         "type": "pie",
         "values": [
          254,
          209,
          65,
          169,
          176,
          90,
          269,
          94,
          85
         ]
        },
        {
         "domain": {
          "x": [
           0.55,
           1
          ],
          "y": [
           0.7777777777777778,
           1
          ]
         },
         "labels": [
          "Amazonas",
          "Pará",
          "Tocantins",
          "Amapá",
          "Roraima",
          "Rondônia",
          "Acre"
         ],
         "type": "pie",
         "values": [
          60,
          223,
          59,
          48,
          180,
          58,
          61
         ]
        },
        {
         "domain": {
          "x": [
           0,
           0.45
          ],
          "y": [
           0.3888888888888889,
           0.6111111111111112
          ]
         },
         "labels": [
          "Mato Grosso",
          "Mato Grosso do Sul",
          "Goiás",
          "Distrito Federal"
         ],
         "type": "pie",
         "values": [
          67,
          146,
          270,
          1153
         ]
        },
        {
         "domain": {
          "x": [
           0.55,
           1
          ],
          "y": [
           0.3888888888888889,
           0.6111111111111112
          ]
         },
         "labels": [
          "São Paulo",
          "Minas Gerais",
          "Rio de Janeiro",
          "Espírito Santo"
         ],
         "type": "pie",
         "values": [
          332,
          379,
          588,
          172
         ]
        },
        {
         "domain": {
          "x": [
           0,
           1
          ],
          "y": [
           0,
           0.22222222222222224
          ]
         },
         "labels": [
          "Rio Grande do Sul",
          "Paraná",
          "Santa Catarina"
         ],
         "type": "pie",
         "values": [
          45,
          282,
          271
         ]
        }
       ],
       "layout": {
        "annotations": [
         {
          "font": {
           "size": 16
          },
          "showarrow": false,
          "text": "Nordeste",
          "x": 0.225,
          "xanchor": "center",
          "xref": "paper",
          "y": 1,
          "yanchor": "bottom",
          "yref": "paper"
         },
         {
          "font": {
           "size": 16
          },
          "showarrow": false,
          "text": "Norte",
          "x": 0.775,
          "xanchor": "center",
          "xref": "paper",
          "y": 1,
          "yanchor": "bottom",
          "yref": "paper"
         },
         {
          "font": {
           "size": 16
          },
          "showarrow": false,
          "text": "Centro-Oeste",
          "x": 0.225,
          "xanchor": "center",
          "xref": "paper",
          "y": 0.6111111111111112,
          "yanchor": "bottom",
          "yref": "paper"
         },
         {
          "font": {
           "size": 16
          },
          "showarrow": false,
          "text": "Sudeste",
          "x": 0.775,
          "xanchor": "center",
          "xref": "paper",
          "y": 0.6111111111111112,
          "yanchor": "bottom",
          "yref": "paper"
         },
         {
          "font": {
           "size": 16
          },
          "showarrow": false,
          "text": "Sul",
          "x": 0.5,
          "xanchor": "center",
          "xref": "paper",
          "y": 0.22222222222222224,
          "yanchor": "bottom",
          "yref": "paper"
         }
        ],
        "height": 800,
        "template": {
         "data": {
          "bar": [
           {
            "error_x": {
             "color": "#2a3f5f"
            },
            "error_y": {
             "color": "#2a3f5f"
            },
            "marker": {
             "line": {
              "color": "#E5ECF6",
              "width": 0.5
             },
             "pattern": {
              "fillmode": "overlay",
              "size": 10,
              "solidity": 0.2
             }
            },
            "type": "bar"
           }
          ],
          "barpolar": [
           {
            "marker": {
             "line": {
              "color": "#E5ECF6",
              "width": 0.5
             },
             "pattern": {
              "fillmode": "overlay",
              "size": 10,
              "solidity": 0.2
             }
            },
            "type": "barpolar"
           }
          ],
          "carpet": [
           {
            "aaxis": {
             "endlinecolor": "#2a3f5f",
             "gridcolor": "white",
             "linecolor": "white",
             "minorgridcolor": "white",
             "startlinecolor": "#2a3f5f"
            },
            "baxis": {
             "endlinecolor": "#2a3f5f",
             "gridcolor": "white",
             "linecolor": "white",
             "minorgridcolor": "white",
             "startlinecolor": "#2a3f5f"
            },
            "type": "carpet"
           }
          ],
          "choropleth": [
           {
            "colorbar": {
             "outlinewidth": 0,
             "ticks": ""
            },
            "type": "choropleth"
           }
          ],
          "contour": [
           {
            "colorbar": {
             "outlinewidth": 0,
             "ticks": ""
            },
            "colorscale": [
             [
              0,
              "#0d0887"
             ],
             [
              0.1111111111111111,
              "#46039f"
             ],
             [
              0.2222222222222222,
              "#7201a8"
             ],
             [
              0.3333333333333333,
              "#9c179e"
             ],
             [
              0.4444444444444444,
              "#bd3786"
             ],
             [
              0.5555555555555556,
              "#d8576b"
             ],
             [
              0.6666666666666666,
              "#ed7953"
             ],
             [
              0.7777777777777778,
              "#fb9f3a"
             ],
             [
              0.8888888888888888,
              "#fdca26"
             ],
             [
              1,
              "#f0f921"
             ]
            ],
            "type": "contour"
           }
          ],
          "contourcarpet": [
           {
            "colorbar": {
             "outlinewidth": 0,
             "ticks": ""
            },
            "type": "contourcarpet"
           }
          ],
          "heatmap": [
           {
            "colorbar": {
             "outlinewidth": 0,
             "ticks": ""
            },
            "colorscale": [
             [
              0,
              "#0d0887"
             ],
             [
              0.1111111111111111,
              "#46039f"
             ],
             [
              0.2222222222222222,
              "#7201a8"
             ],
             [
              0.3333333333333333,
              "#9c179e"
             ],
             [
              0.4444444444444444,
              "#bd3786"
             ],
             [
              0.5555555555555556,
              "#d8576b"
             ],
             [
              0.6666666666666666,
              "#ed7953"
             ],
             [
              0.7777777777777778,
              "#fb9f3a"
             ],
             [
              0.8888888888888888,
              "#fdca26"
             ],
             [
              1,
              "#f0f921"
             ]
            ],
            "type": "heatmap"
           }
          ],
          "heatmapgl": [
           {
            "colorbar": {
             "outlinewidth": 0,
             "ticks": ""
            },
            "colorscale": [
             [
              0,
              "#0d0887"
             ],
             [
              0.1111111111111111,
              "#46039f"
             ],
             [
              0.2222222222222222,
              "#7201a8"
             ],
             [
              0.3333333333333333,
              "#9c179e"
             ],
             [
              0.4444444444444444,
              "#bd3786"
             ],
             [
              0.5555555555555556,
              "#d8576b"
             ],
             [
              0.6666666666666666,
              "#ed7953"
             ],
             [
              0.7777777777777778,
              "#fb9f3a"
             ],
             [
              0.8888888888888888,
              "#fdca26"
             ],
             [
              1,
              "#f0f921"
             ]
            ],
            "type": "heatmapgl"
           }
          ],
          "histogram": [
           {
            "marker": {
             "pattern": {
              "fillmode": "overlay",
              "size": 10,
              "solidity": 0.2
             }
            },
            "type": "histogram"
           }
          ],
          "histogram2d": [
           {
            "colorbar": {
             "outlinewidth": 0,
             "ticks": ""
            },
            "colorscale": [
             [
              0,
              "#0d0887"
             ],
             [
              0.1111111111111111,
              "#46039f"
             ],
             [
              0.2222222222222222,
              "#7201a8"
             ],
             [
              0.3333333333333333,
              "#9c179e"
             ],
             [
              0.4444444444444444,
              "#bd3786"
             ],
             [
              0.5555555555555556,
              "#d8576b"
             ],
             [
              0.6666666666666666,
              "#ed7953"
             ],
             [
              0.7777777777777778,
              "#fb9f3a"
             ],
             [
              0.8888888888888888,
              "#fdca26"
             ],
             [
              1,
              "#f0f921"
             ]
            ],
            "type": "histogram2d"
           }
          ],
          "histogram2dcontour": [
           {
            "colorbar": {
             "outlinewidth": 0,
             "ticks": ""
            },
            "colorscale": [
             [
              0,
              "#0d0887"
             ],
             [
              0.1111111111111111,
              "#46039f"
             ],
             [
              0.2222222222222222,
              "#7201a8"
             ],
             [
              0.3333333333333333,
              "#9c179e"
             ],
             [
              0.4444444444444444,
              "#bd3786"
             ],
             [
              0.5555555555555556,
              "#d8576b"
             ],
             [
              0.6666666666666666,
              "#ed7953"
             ],
             [
              0.7777777777777778,
              "#fb9f3a"
             ],
             [
              0.8888888888888888,
              "#fdca26"
             ],
             [
              1,
              "#f0f921"
             ]
            ],
            "type": "histogram2dcontour"
           }
          ],
          "mesh3d": [
           {
            "colorbar": {
             "outlinewidth": 0,
             "ticks": ""
            },
            "type": "mesh3d"
           }
          ],
          "parcoords": [
           {
            "line": {
             "colorbar": {
              "outlinewidth": 0,
              "ticks": ""
             }
            },
            "type": "parcoords"
           }
          ],
          "pie": [
           {
            "automargin": true,
            "type": "pie"
           }
          ],
          "scatter": [
           {
            "fillpattern": {
             "fillmode": "overlay",
             "size": 10,
             "solidity": 0.2
            },
            "type": "scatter"
           }
          ],
          "scatter3d": [
           {
            "line": {
             "colorbar": {
              "outlinewidth": 0,
              "ticks": ""
             }
            },
            "marker": {
             "colorbar": {
              "outlinewidth": 0,
              "ticks": ""
             }
            },
            "type": "scatter3d"
           }
          ],
          "scattercarpet": [
           {
            "marker": {
             "colorbar": {
              "outlinewidth": 0,
              "ticks": ""
             }
            },
            "type": "scattercarpet"
           }
          ],
          "scattergeo": [
           {
            "marker": {
             "colorbar": {
              "outlinewidth": 0,
              "ticks": ""
             }
            },
            "type": "scattergeo"
           }
          ],
          "scattergl": [
           {
            "marker": {
             "colorbar": {
              "outlinewidth": 0,
              "ticks": ""
             }
            },
            "type": "scattergl"
           }
          ],
          "scattermapbox": [
           {
            "marker": {
             "colorbar": {
              "outlinewidth": 0,
              "ticks": ""
             }
            },
            "type": "scattermapbox"
           }
          ],
          "scatterpolar": [
           {
            "marker": {
             "colorbar": {
              "outlinewidth": 0,
              "ticks": ""
             }
            },
            "type": "scatterpolar"
           }
          ],
          "scatterpolargl": [
           {
            "marker": {
             "colorbar": {
              "outlinewidth": 0,
              "ticks": ""
             }
            },
            "type": "scatterpolargl"
           }
          ],
          "scatterternary": [
           {
            "marker": {
             "colorbar": {
              "outlinewidth": 0,
              "ticks": ""
             }
            },
            "type": "scatterternary"
           }
          ],
          "surface": [
           {
            "colorbar": {
             "outlinewidth": 0,
             "ticks": ""
            },
            "colorscale": [
             [
              0,
              "#0d0887"
             ],
             [
              0.1111111111111111,
              "#46039f"
             ],
             [
              0.2222222222222222,
              "#7201a8"
             ],
             [
              0.3333333333333333,
              "#9c179e"
             ],
             [
              0.4444444444444444,
              "#bd3786"
             ],
             [
              0.5555555555555556,
              "#d8576b"
             ],
             [
              0.6666666666666666,
              "#ed7953"
             ],
             [
              0.7777777777777778,
              "#fb9f3a"
             ],
             [
              0.8888888888888888,
              "#fdca26"
             ],
             [
              1,
              "#f0f921"
             ]
            ],
            "type": "surface"
           }
          ],
          "table": [
           {
            "cells": {
             "fill": {
              "color": "#EBF0F8"
             },
             "line": {
              "color": "white"
             }
            },
            "header": {
             "fill": {
              "color": "#C8D4E3"
             },
             "line": {
              "color": "white"
             }
            },
            "type": "table"
           }
          ]
         },
         "layout": {
          "annotationdefaults": {
           "arrowcolor": "#2a3f5f",
           "arrowhead": 0,
           "arrowwidth": 1
          },
          "autotypenumbers": "strict",
          "coloraxis": {
           "colorbar": {
            "outlinewidth": 0,
            "ticks": ""
           }
          },
          "colorscale": {
           "diverging": [
            [
             0,
             "#8e0152"
            ],
            [
             0.1,
             "#c51b7d"
            ],
            [
             0.2,
             "#de77ae"
            ],
            [
             0.3,
             "#f1b6da"
            ],
            [
             0.4,
             "#fde0ef"
            ],
            [
             0.5,
             "#f7f7f7"
            ],
            [
             0.6,
             "#e6f5d0"
            ],
            [
             0.7,
             "#b8e186"
            ],
            [
             0.8,
             "#7fbc41"
            ],
            [
             0.9,
             "#4d9221"
            ],
            [
             1,
             "#276419"
            ]
           ],
           "sequential": [
            [
             0,
             "#0d0887"
            ],
            [
             0.1111111111111111,
             "#46039f"
            ],
            [
             0.2222222222222222,
             "#7201a8"
            ],
            [
             0.3333333333333333,
             "#9c179e"
            ],
            [
             0.4444444444444444,
             "#bd3786"
            ],
            [
             0.5555555555555556,
             "#d8576b"
            ],
            [
             0.6666666666666666,
             "#ed7953"
            ],
            [
             0.7777777777777778,
             "#fb9f3a"
            ],
            [
             0.8888888888888888,
             "#fdca26"
            ],
            [
             1,
             "#f0f921"
            ]
           ],
           "sequentialminus": [
            [
             0,
             "#0d0887"
            ],
            [
             0.1111111111111111,
             "#46039f"
            ],
            [
             0.2222222222222222,
             "#7201a8"
            ],
            [
             0.3333333333333333,
             "#9c179e"
            ],
            [
             0.4444444444444444,
             "#bd3786"
            ],
            [
             0.5555555555555556,
             "#d8576b"
            ],
            [
             0.6666666666666666,
             "#ed7953"
            ],
            [
             0.7777777777777778,
             "#fb9f3a"
            ],
            [
             0.8888888888888888,
             "#fdca26"
            ],
            [
             1,
             "#f0f921"
            ]
           ]
          },
          "colorway": [
           "#636efa",
           "#EF553B",
           "#00cc96",
           "#ab63fa",
           "#FFA15A",
           "#19d3f3",
           "#FF6692",
           "#B6E880",
           "#FF97FF",
           "#FECB52"
          ],
          "font": {
           "color": "#2a3f5f"
          },
          "geo": {
           "bgcolor": "white",
           "lakecolor": "white",
           "landcolor": "#E5ECF6",
           "showlakes": true,
           "showland": true,
           "subunitcolor": "white"
          },
          "hoverlabel": {
           "align": "left"
          },
          "hovermode": "closest",
          "mapbox": {
           "style": "light"
          },
          "paper_bgcolor": "white",
          "plot_bgcolor": "#E5ECF6",
          "polar": {
           "angularaxis": {
            "gridcolor": "white",
            "linecolor": "white",
            "ticks": ""
           },
           "bgcolor": "#E5ECF6",
           "radialaxis": {
            "gridcolor": "white",
            "linecolor": "white",
            "ticks": ""
           }
          },
          "scene": {
           "xaxis": {
            "backgroundcolor": "#E5ECF6",
            "gridcolor": "white",
            "gridwidth": 2,
            "linecolor": "white",
            "showbackground": true,
            "ticks": "",
            "zerolinecolor": "white"
           },
           "yaxis": {
            "backgroundcolor": "#E5ECF6",
            "gridcolor": "white",
            "gridwidth": 2,
            "linecolor": "white",
            "showbackground": true,
            "ticks": "",
            "zerolinecolor": "white"
           },
           "zaxis": {
            "backgroundcolor": "#E5ECF6",
            "gridcolor": "white",
            "gridwidth": 2,
            "linecolor": "white",
            "showbackground": true,
            "ticks": "",
            "zerolinecolor": "white"
           }
          },
          "shapedefaults": {
           "line": {
            "color": "#2a3f5f"
           }
          },
          "ternary": {
           "aaxis": {
            "gridcolor": "white",
            "linecolor": "white",
            "ticks": ""
           },
           "baxis": {
            "gridcolor": "white",
            "linecolor": "white",
            "ticks": ""
           },
           "bgcolor": "#E5ECF6",
           "caxis": {
            "gridcolor": "white",
            "linecolor": "white",
            "ticks": ""
           }
          },
          "title": {
           "x": 0.05
          },
          "xaxis": {
           "automargin": true,
           "gridcolor": "white",
           "linecolor": "white",
           "ticks": "",
           "title": {
            "standoff": 15
           },
           "zerolinecolor": "white",
           "zerolinewidth": 2
          },
          "yaxis": {
           "automargin": true,
           "gridcolor": "white",
           "linecolor": "white",
           "ticks": "",
           "title": {
            "standoff": 15
           },
           "zerolinecolor": "white",
           "zerolinewidth": 2
          }
         }
        },
        "title": {
         "text": "Gráficos de Pizza por regiões - Comparando Estados"
        },
        "width": 1000
       }
      }
     },
     "metadata": {},
     "output_type": "display_data"
    }
   ],
   "source": [
    "# Criar a figura com subplots, usando colspan para centralizar o gráfico da última linha\n",
    "fig = make_subplots(rows=3, cols=2, specs=[[{'type':'domain'}, {'type':'domain'}],\n",
    "                                           [{'type':'domain'}, {'type':'domain'}],\n",
    "                                           [{'type':'domain', 'colspan': 2}, None]],\n",
    "                    subplot_titles=(\"Nordeste\", \"Norte\", \"Centro-Oeste\", \"Sudeste\", \"Sul\"))\n",
    "\n",
    "# Gráfico 1 - Nordeste\n",
    "dados_x_nordeste = ['Bahia', 'Piauí', 'Maranhão', 'Ceará', 'Sergipe', 'Alagoas', 'Pernambuco', 'Paraíba', 'Rio Grande do Norte']\n",
    "dados_y_nordeste = [tabela_bahia_count, tabela_piaui_count, tabela_maranhao_count, tabela_ceara_count, tabela_sergipe_count, tabela_alagoas_count, tabela_pernambuco_count, tabela_paraiba_count, tabela_rn_count]\n",
    "fig.add_trace(go.Pie(labels=dados_x_nordeste, values=dados_y_nordeste), row=1, col=1)\n",
    "\n",
    "# Gráfico 2 - Norte\n",
    "dados_x_norte = ['Amazonas', 'Pará', 'Tocantins', 'Amapá', 'Roraima', 'Rondônia', 'Acre']\n",
    "dados_y_norte = [tabela_amazonas_count, tabela_para_count, tabela_tocantins_count, tabela_amapa_count, tabela_roraima_count, tabela_rondonia_count, tabela_acre_count]\n",
    "fig.add_trace(go.Pie(labels=dados_x_norte, values=dados_y_norte), row=1, col=2)\n",
    "\n",
    "# Gráfico 3 - Centro-Oeste\n",
    "dados_x_centro_oeste = ['Mato Grosso', 'Mato Grosso do Sul', 'Goiás', 'Distrito Federal']\n",
    "dados_y_centro_oeste = [tabela_mt_count, tabela_ms_count, tabela_goias_count, tabela_df_count]\n",
    "fig.add_trace(go.Pie(labels=dados_x_centro_oeste, values=dados_y_centro_oeste), row=2, col=1)\n",
    "\n",
    "# Gráfico 4 - Sudeste\n",
    "dados_x_sudeste = ['São Paulo', 'Minas Gerais', 'Rio de Janeiro', 'Espírito Santo']\n",
    "dados_y_sudeste = [tabela_sp_count, tabela_mg_count, tabela_rj_count, tabela_es_count]\n",
    "fig.add_trace(go.Pie(labels=dados_x_sudeste, values=dados_y_sudeste), row=2, col=2)\n",
    "\n",
    "# Gráfico 5 - Sul (no centro da última linha com colspan 2)\n",
    "dados_x_sul = ['Rio Grande do Sul', 'Paraná', 'Santa Catarina']\n",
    "dados_y_sul = [tabela_rs_count, tabela_parana_count, tabela_sc_count]\n",
    "fig.add_trace(go.Pie(labels=dados_x_sul, values=dados_y_sul), row=3, col=1)\n",
    "\n",
    "# Atualizar o layout\n",
    "fig.update_layout(height=800, width=1000, title_text=\"Gráficos de Pizza por regiões - Comparando Estados\")\n",
    "\n",
    "\n",
    "\n",
    "# Exibir o gráfico\n",
    "fig.show()\n"
   ]
  },
  {
   "cell_type": "markdown",
   "metadata": {},
   "source": [
    "### Gráfico 7.2"
   ]
  },
  {
   "cell_type": "code",
   "execution_count": 180,
   "metadata": {},
   "outputs": [
    {
     "data": {
      "application/vnd.plotly.v1+json": {
       "config": {
        "plotlyServerURL": "https://plot.ly"
       },
       "data": [
        {
         "alignmentgroup": "True",
         "hovertemplate": "Região=%{x}<br>Soma das Contagens=%{y}<extra></extra>",
         "legendgroup": "",
         "marker": {
          "color": "#636efa",
          "pattern": {
           "shape": ""
          }
         },
         "name": "",
         "offsetgroup": "",
         "orientation": "v",
         "showlegend": false,
         "textposition": "auto",
         "type": "bar",
         "x": [
          "Nordeste",
          "Norte",
          "Centro-Oeste",
          "Sudeste",
          "Sul"
         ],
         "xaxis": "x",
         "y": [
          1411,
          689,
          1636,
          1471,
          598
         ],
         "yaxis": "y"
        }
       ],
       "layout": {
        "barmode": "relative",
        "legend": {
         "tracegroupgap": 0
        },
        "template": {
         "data": {
          "bar": [
           {
            "error_x": {
             "color": "#2a3f5f"
            },
            "error_y": {
             "color": "#2a3f5f"
            },
            "marker": {
             "line": {
              "color": "#E5ECF6",
              "width": 0.5
             },
             "pattern": {
              "fillmode": "overlay",
              "size": 10,
              "solidity": 0.2
             }
            },
            "type": "bar"
           }
          ],
          "barpolar": [
           {
            "marker": {
             "line": {
              "color": "#E5ECF6",
              "width": 0.5
             },
             "pattern": {
              "fillmode": "overlay",
              "size": 10,
              "solidity": 0.2
             }
            },
            "type": "barpolar"
           }
          ],
          "carpet": [
           {
            "aaxis": {
             "endlinecolor": "#2a3f5f",
             "gridcolor": "white",
             "linecolor": "white",
             "minorgridcolor": "white",
             "startlinecolor": "#2a3f5f"
            },
            "baxis": {
             "endlinecolor": "#2a3f5f",
             "gridcolor": "white",
             "linecolor": "white",
             "minorgridcolor": "white",
             "startlinecolor": "#2a3f5f"
            },
            "type": "carpet"
           }
          ],
          "choropleth": [
           {
            "colorbar": {
             "outlinewidth": 0,
             "ticks": ""
            },
            "type": "choropleth"
           }
          ],
          "contour": [
           {
            "colorbar": {
             "outlinewidth": 0,
             "ticks": ""
            },
            "colorscale": [
             [
              0,
              "#0d0887"
             ],
             [
              0.1111111111111111,
              "#46039f"
             ],
             [
              0.2222222222222222,
              "#7201a8"
             ],
             [
              0.3333333333333333,
              "#9c179e"
             ],
             [
              0.4444444444444444,
              "#bd3786"
             ],
             [
              0.5555555555555556,
              "#d8576b"
             ],
             [
              0.6666666666666666,
              "#ed7953"
             ],
             [
              0.7777777777777778,
              "#fb9f3a"
             ],
             [
              0.8888888888888888,
              "#fdca26"
             ],
             [
              1,
              "#f0f921"
             ]
            ],
            "type": "contour"
           }
          ],
          "contourcarpet": [
           {
            "colorbar": {
             "outlinewidth": 0,
             "ticks": ""
            },
            "type": "contourcarpet"
           }
          ],
          "heatmap": [
           {
            "colorbar": {
             "outlinewidth": 0,
             "ticks": ""
            },
            "colorscale": [
             [
              0,
              "#0d0887"
             ],
             [
              0.1111111111111111,
              "#46039f"
             ],
             [
              0.2222222222222222,
              "#7201a8"
             ],
             [
              0.3333333333333333,
              "#9c179e"
             ],
             [
              0.4444444444444444,
              "#bd3786"
             ],
             [
              0.5555555555555556,
              "#d8576b"
             ],
             [
              0.6666666666666666,
              "#ed7953"
             ],
             [
              0.7777777777777778,
              "#fb9f3a"
             ],
             [
              0.8888888888888888,
              "#fdca26"
             ],
             [
              1,
              "#f0f921"
             ]
            ],
            "type": "heatmap"
           }
          ],
          "heatmapgl": [
           {
            "colorbar": {
             "outlinewidth": 0,
             "ticks": ""
            },
            "colorscale": [
             [
              0,
              "#0d0887"
             ],
             [
              0.1111111111111111,
              "#46039f"
             ],
             [
              0.2222222222222222,
              "#7201a8"
             ],
             [
              0.3333333333333333,
              "#9c179e"
             ],
             [
              0.4444444444444444,
              "#bd3786"
             ],
             [
              0.5555555555555556,
              "#d8576b"
             ],
             [
              0.6666666666666666,
              "#ed7953"
             ],
             [
              0.7777777777777778,
              "#fb9f3a"
             ],
             [
              0.8888888888888888,
              "#fdca26"
             ],
             [
              1,
              "#f0f921"
             ]
            ],
            "type": "heatmapgl"
           }
          ],
          "histogram": [
           {
            "marker": {
             "pattern": {
              "fillmode": "overlay",
              "size": 10,
              "solidity": 0.2
             }
            },
            "type": "histogram"
           }
          ],
          "histogram2d": [
           {
            "colorbar": {
             "outlinewidth": 0,
             "ticks": ""
            },
            "colorscale": [
             [
              0,
              "#0d0887"
             ],
             [
              0.1111111111111111,
              "#46039f"
             ],
             [
              0.2222222222222222,
              "#7201a8"
             ],
             [
              0.3333333333333333,
              "#9c179e"
             ],
             [
              0.4444444444444444,
              "#bd3786"
             ],
             [
              0.5555555555555556,
              "#d8576b"
             ],
             [
              0.6666666666666666,
              "#ed7953"
             ],
             [
              0.7777777777777778,
              "#fb9f3a"
             ],
             [
              0.8888888888888888,
              "#fdca26"
             ],
             [
              1,
              "#f0f921"
             ]
            ],
            "type": "histogram2d"
           }
          ],
          "histogram2dcontour": [
           {
            "colorbar": {
             "outlinewidth": 0,
             "ticks": ""
            },
            "colorscale": [
             [
              0,
              "#0d0887"
             ],
             [
              0.1111111111111111,
              "#46039f"
             ],
             [
              0.2222222222222222,
              "#7201a8"
             ],
             [
              0.3333333333333333,
              "#9c179e"
             ],
             [
              0.4444444444444444,
              "#bd3786"
             ],
             [
              0.5555555555555556,
              "#d8576b"
             ],
             [
              0.6666666666666666,
              "#ed7953"
             ],
             [
              0.7777777777777778,
              "#fb9f3a"
             ],
             [
              0.8888888888888888,
              "#fdca26"
             ],
             [
              1,
              "#f0f921"
             ]
            ],
            "type": "histogram2dcontour"
           }
          ],
          "mesh3d": [
           {
            "colorbar": {
             "outlinewidth": 0,
             "ticks": ""
            },
            "type": "mesh3d"
           }
          ],
          "parcoords": [
           {
            "line": {
             "colorbar": {
              "outlinewidth": 0,
              "ticks": ""
             }
            },
            "type": "parcoords"
           }
          ],
          "pie": [
           {
            "automargin": true,
            "type": "pie"
           }
          ],
          "scatter": [
           {
            "fillpattern": {
             "fillmode": "overlay",
             "size": 10,
             "solidity": 0.2
            },
            "type": "scatter"
           }
          ],
          "scatter3d": [
           {
            "line": {
             "colorbar": {
              "outlinewidth": 0,
              "ticks": ""
             }
            },
            "marker": {
             "colorbar": {
              "outlinewidth": 0,
              "ticks": ""
             }
            },
            "type": "scatter3d"
           }
          ],
          "scattercarpet": [
           {
            "marker": {
             "colorbar": {
              "outlinewidth": 0,
              "ticks": ""
             }
            },
            "type": "scattercarpet"
           }
          ],
          "scattergeo": [
           {
            "marker": {
             "colorbar": {
              "outlinewidth": 0,
              "ticks": ""
             }
            },
            "type": "scattergeo"
           }
          ],
          "scattergl": [
           {
            "marker": {
             "colorbar": {
              "outlinewidth": 0,
              "ticks": ""
             }
            },
            "type": "scattergl"
           }
          ],
          "scattermapbox": [
           {
            "marker": {
             "colorbar": {
              "outlinewidth": 0,
              "ticks": ""
             }
            },
            "type": "scattermapbox"
           }
          ],
          "scatterpolar": [
           {
            "marker": {
             "colorbar": {
              "outlinewidth": 0,
              "ticks": ""
             }
            },
            "type": "scatterpolar"
           }
          ],
          "scatterpolargl": [
           {
            "marker": {
             "colorbar": {
              "outlinewidth": 0,
              "ticks": ""
             }
            },
            "type": "scatterpolargl"
           }
          ],
          "scatterternary": [
           {
            "marker": {
             "colorbar": {
              "outlinewidth": 0,
              "ticks": ""
             }
            },
            "type": "scatterternary"
           }
          ],
          "surface": [
           {
            "colorbar": {
             "outlinewidth": 0,
             "ticks": ""
            },
            "colorscale": [
             [
              0,
              "#0d0887"
             ],
             [
              0.1111111111111111,
              "#46039f"
             ],
             [
              0.2222222222222222,
              "#7201a8"
             ],
             [
              0.3333333333333333,
              "#9c179e"
             ],
             [
              0.4444444444444444,
              "#bd3786"
             ],
             [
              0.5555555555555556,
              "#d8576b"
             ],
             [
              0.6666666666666666,
              "#ed7953"
             ],
             [
              0.7777777777777778,
              "#fb9f3a"
             ],
             [
              0.8888888888888888,
              "#fdca26"
             ],
             [
              1,
              "#f0f921"
             ]
            ],
            "type": "surface"
           }
          ],
          "table": [
           {
            "cells": {
             "fill": {
              "color": "#EBF0F8"
             },
             "line": {
              "color": "white"
             }
            },
            "header": {
             "fill": {
              "color": "#C8D4E3"
             },
             "line": {
              "color": "white"
             }
            },
            "type": "table"
           }
          ]
         },
         "layout": {
          "annotationdefaults": {
           "arrowcolor": "#2a3f5f",
           "arrowhead": 0,
           "arrowwidth": 1
          },
          "autotypenumbers": "strict",
          "coloraxis": {
           "colorbar": {
            "outlinewidth": 0,
            "ticks": ""
           }
          },
          "colorscale": {
           "diverging": [
            [
             0,
             "#8e0152"
            ],
            [
             0.1,
             "#c51b7d"
            ],
            [
             0.2,
             "#de77ae"
            ],
            [
             0.3,
             "#f1b6da"
            ],
            [
             0.4,
             "#fde0ef"
            ],
            [
             0.5,
             "#f7f7f7"
            ],
            [
             0.6,
             "#e6f5d0"
            ],
            [
             0.7,
             "#b8e186"
            ],
            [
             0.8,
             "#7fbc41"
            ],
            [
             0.9,
             "#4d9221"
            ],
            [
             1,
             "#276419"
            ]
           ],
           "sequential": [
            [
             0,
             "#0d0887"
            ],
            [
             0.1111111111111111,
             "#46039f"
            ],
            [
             0.2222222222222222,
             "#7201a8"
            ],
            [
             0.3333333333333333,
             "#9c179e"
            ],
            [
             0.4444444444444444,
             "#bd3786"
            ],
            [
             0.5555555555555556,
             "#d8576b"
            ],
            [
             0.6666666666666666,
             "#ed7953"
            ],
            [
             0.7777777777777778,
             "#fb9f3a"
            ],
            [
             0.8888888888888888,
             "#fdca26"
            ],
            [
             1,
             "#f0f921"
            ]
           ],
           "sequentialminus": [
            [
             0,
             "#0d0887"
            ],
            [
             0.1111111111111111,
             "#46039f"
            ],
            [
             0.2222222222222222,
             "#7201a8"
            ],
            [
             0.3333333333333333,
             "#9c179e"
            ],
            [
             0.4444444444444444,
             "#bd3786"
            ],
            [
             0.5555555555555556,
             "#d8576b"
            ],
            [
             0.6666666666666666,
             "#ed7953"
            ],
            [
             0.7777777777777778,
             "#fb9f3a"
            ],
            [
             0.8888888888888888,
             "#fdca26"
            ],
            [
             1,
             "#f0f921"
            ]
           ]
          },
          "colorway": [
           "#636efa",
           "#EF553B",
           "#00cc96",
           "#ab63fa",
           "#FFA15A",
           "#19d3f3",
           "#FF6692",
           "#B6E880",
           "#FF97FF",
           "#FECB52"
          ],
          "font": {
           "color": "#2a3f5f"
          },
          "geo": {
           "bgcolor": "white",
           "lakecolor": "white",
           "landcolor": "#E5ECF6",
           "showlakes": true,
           "showland": true,
           "subunitcolor": "white"
          },
          "hoverlabel": {
           "align": "left"
          },
          "hovermode": "closest",
          "mapbox": {
           "style": "light"
          },
          "paper_bgcolor": "white",
          "plot_bgcolor": "#E5ECF6",
          "polar": {
           "angularaxis": {
            "gridcolor": "white",
            "linecolor": "white",
            "ticks": ""
           },
           "bgcolor": "#E5ECF6",
           "radialaxis": {
            "gridcolor": "white",
            "linecolor": "white",
            "ticks": ""
           }
          },
          "scene": {
           "xaxis": {
            "backgroundcolor": "#E5ECF6",
            "gridcolor": "white",
            "gridwidth": 2,
            "linecolor": "white",
            "showbackground": true,
            "ticks": "",
            "zerolinecolor": "white"
           },
           "yaxis": {
            "backgroundcolor": "#E5ECF6",
            "gridcolor": "white",
            "gridwidth": 2,
            "linecolor": "white",
            "showbackground": true,
            "ticks": "",
            "zerolinecolor": "white"
           },
           "zaxis": {
            "backgroundcolor": "#E5ECF6",
            "gridcolor": "white",
            "gridwidth": 2,
            "linecolor": "white",
            "showbackground": true,
            "ticks": "",
            "zerolinecolor": "white"
           }
          },
          "shapedefaults": {
           "line": {
            "color": "#2a3f5f"
           }
          },
          "ternary": {
           "aaxis": {
            "gridcolor": "white",
            "linecolor": "white",
            "ticks": ""
           },
           "baxis": {
            "gridcolor": "white",
            "linecolor": "white",
            "ticks": ""
           },
           "bgcolor": "#E5ECF6",
           "caxis": {
            "gridcolor": "white",
            "linecolor": "white",
            "ticks": ""
           }
          },
          "title": {
           "x": 0.05
          },
          "xaxis": {
           "automargin": true,
           "gridcolor": "white",
           "linecolor": "white",
           "ticks": "",
           "title": {
            "standoff": 15
           },
           "zerolinecolor": "white",
           "zerolinewidth": 2
          },
          "yaxis": {
           "automargin": true,
           "gridcolor": "white",
           "linecolor": "white",
           "ticks": "",
           "title": {
            "standoff": 15
           },
           "zerolinecolor": "white",
           "zerolinewidth": 2
          }
         }
        },
        "title": {
         "text": "Comparação das Regiões",
         "x": 0.5
        },
        "xaxis": {
         "anchor": "y",
         "domain": [
          0,
          1
         ],
         "title": {
          "text": "Regiões"
         }
        },
        "yaxis": {
         "anchor": "x",
         "domain": [
          0,
          1
         ],
         "title": {
          "text": "Soma Total"
         }
        }
       }
      }
     },
     "metadata": {},
     "output_type": "display_data"
    }
   ],
   "source": [
    "# Somar as contagens de cada região\n",
    "soma_nordeste = df_nordeste['Contagem'].sum()\n",
    "soma_norte = df_norte['Contagem'].sum()\n",
    "soma_centro_oeste = df_centro_oeste['Contagem'].sum()\n",
    "soma_sudeste = df_sudeste['Contagem'].sum()\n",
    "soma_sul = df_sul['Contagem'].sum()\n",
    "\n",
    "# Criar uma lista de regiões e suas somas\n",
    "regioes = ['Nordeste', 'Norte', 'Centro-Oeste', 'Sudeste', 'Sul']\n",
    "somas = [soma_nordeste, soma_norte, soma_centro_oeste, soma_sudeste, soma_sul]\n",
    "\n",
    "# Criar gráfico de barras usando Plotly\n",
    "fig = px.bar(x=regioes, y=somas, labels={'x': 'Região', 'y': 'Soma das Contagens'},\n",
    "             title='Comparação das Regiões')\n",
    "\n",
    "# Atualizar layout para torná-lo interativo e elegante\n",
    "fig.update_layout(xaxis_title='Regiões', yaxis_title='Soma Total', \n",
    "                  title_x=0.5,  # Centralizar o título\n",
    "                  template='plotly')\n",
    "\n",
    "# Exibir o gráfico\n",
    "fig.show()\n"
   ]
  },
  {
   "cell_type": "markdown",
   "metadata": {},
   "source": [
    "## 8. Critérios por Região\n",
    "Aqui analisaremos quais critérios estão mais presentes em cada região do país."
   ]
  },
  {
   "cell_type": "code",
   "execution_count": 181,
   "metadata": {},
   "outputs": [
    {
     "data": {
      "text/html": [
       "<div>\n",
       "<style scoped>\n",
       "    .dataframe tbody tr th:only-of-type {\n",
       "        vertical-align: middle;\n",
       "    }\n",
       "\n",
       "    .dataframe tbody tr th {\n",
       "        vertical-align: top;\n",
       "    }\n",
       "\n",
       "    .dataframe thead th {\n",
       "        text-align: right;\n",
       "    }\n",
       "</style>\n",
       "<table border=\"1\" class=\"dataframe\">\n",
       "  <thead>\n",
       "    <tr style=\"text-align: right;\">\n",
       "      <th></th>\n",
       "      <th>Matriz</th>\n",
       "      <th>A</th>\n",
       "      <th>B</th>\n",
       "      <th>C</th>\n",
       "      <th>D</th>\n",
       "      <th>E</th>\n",
       "      <th>F</th>\n",
       "      <th>G</th>\n",
       "      <th>H</th>\n",
       "      <th>I</th>\n",
       "      <th>J</th>\n",
       "      <th>K</th>\n",
       "      <th>L</th>\n",
       "      <th>M</th>\n",
       "      <th>N</th>\n",
       "    </tr>\n",
       "  </thead>\n",
       "  <tbody>\n",
       "    <tr>\n",
       "      <th>Nordeste</th>\n",
       "      <td>0.128889</td>\n",
       "      <td>31.101111</td>\n",
       "      <td>5.977778</td>\n",
       "      <td>84.482222</td>\n",
       "      <td>50.215556</td>\n",
       "      <td>97.591111</td>\n",
       "      <td>91.984444</td>\n",
       "      <td>57.413333</td>\n",
       "      <td>41.221111</td>\n",
       "      <td>19.668889</td>\n",
       "      <td>5.138889</td>\n",
       "      <td>48.743333</td>\n",
       "      <td>15.106667</td>\n",
       "      <td>56.518889</td>\n",
       "      <td>96.527778</td>\n",
       "    </tr>\n",
       "    <tr>\n",
       "      <th>Norte</th>\n",
       "      <td>0.080000</td>\n",
       "      <td>35.307143</td>\n",
       "      <td>6.351429</td>\n",
       "      <td>83.302857</td>\n",
       "      <td>58.170000</td>\n",
       "      <td>95.344286</td>\n",
       "      <td>88.965714</td>\n",
       "      <td>52.732857</td>\n",
       "      <td>45.158571</td>\n",
       "      <td>18.901429</td>\n",
       "      <td>6.300000</td>\n",
       "      <td>57.087143</td>\n",
       "      <td>13.505714</td>\n",
       "      <td>56.521429</td>\n",
       "      <td>96.904286</td>\n",
       "    </tr>\n",
       "    <tr>\n",
       "      <th>Centro-Oeste</th>\n",
       "      <td>0.567500</td>\n",
       "      <td>42.660000</td>\n",
       "      <td>8.430000</td>\n",
       "      <td>86.912500</td>\n",
       "      <td>54.800000</td>\n",
       "      <td>94.070000</td>\n",
       "      <td>91.550000</td>\n",
       "      <td>53.785000</td>\n",
       "      <td>42.872500</td>\n",
       "      <td>23.760000</td>\n",
       "      <td>10.992500</td>\n",
       "      <td>57.630000</td>\n",
       "      <td>17.687500</td>\n",
       "      <td>54.032500</td>\n",
       "      <td>97.772500</td>\n",
       "    </tr>\n",
       "    <tr>\n",
       "      <th>Sudeste</th>\n",
       "      <td>0.262500</td>\n",
       "      <td>41.145000</td>\n",
       "      <td>4.842500</td>\n",
       "      <td>80.205000</td>\n",
       "      <td>46.847500</td>\n",
       "      <td>97.372500</td>\n",
       "      <td>86.370000</td>\n",
       "      <td>59.415000</td>\n",
       "      <td>35.592500</td>\n",
       "      <td>14.090000</td>\n",
       "      <td>5.095000</td>\n",
       "      <td>54.862500</td>\n",
       "      <td>10.737500</td>\n",
       "      <td>59.390000</td>\n",
       "      <td>97.345000</td>\n",
       "    </tr>\n",
       "    <tr>\n",
       "      <th>Sul</th>\n",
       "      <td>0.123333</td>\n",
       "      <td>43.090000</td>\n",
       "      <td>12.593333</td>\n",
       "      <td>86.856667</td>\n",
       "      <td>53.406667</td>\n",
       "      <td>95.466667</td>\n",
       "      <td>88.260000</td>\n",
       "      <td>57.976667</td>\n",
       "      <td>42.836667</td>\n",
       "      <td>15.793333</td>\n",
       "      <td>3.900000</td>\n",
       "      <td>52.620000</td>\n",
       "      <td>12.636667</td>\n",
       "      <td>57.270000</td>\n",
       "      <td>98.786667</td>\n",
       "    </tr>\n",
       "  </tbody>\n",
       "</table>\n",
       "</div>"
      ],
      "text/plain": [
       "                Matriz          A          B          C          D          E  \\\n",
       "Nordeste      0.128889  31.101111   5.977778  84.482222  50.215556  97.591111   \n",
       "Norte         0.080000  35.307143   6.351429  83.302857  58.170000  95.344286   \n",
       "Centro-Oeste  0.567500  42.660000   8.430000  86.912500  54.800000  94.070000   \n",
       "Sudeste       0.262500  41.145000   4.842500  80.205000  46.847500  97.372500   \n",
       "Sul           0.123333  43.090000  12.593333  86.856667  53.406667  95.466667   \n",
       "\n",
       "                      F          G          H          I          J  \\\n",
       "Nordeste      91.984444  57.413333  41.221111  19.668889   5.138889   \n",
       "Norte         88.965714  52.732857  45.158571  18.901429   6.300000   \n",
       "Centro-Oeste  91.550000  53.785000  42.872500  23.760000  10.992500   \n",
       "Sudeste       86.370000  59.415000  35.592500  14.090000   5.095000   \n",
       "Sul           88.260000  57.976667  42.836667  15.793333   3.900000   \n",
       "\n",
       "                      K          L          M          N  \n",
       "Nordeste      48.743333  15.106667  56.518889  96.527778  \n",
       "Norte         57.087143  13.505714  56.521429  96.904286  \n",
       "Centro-Oeste  57.630000  17.687500  54.032500  97.772500  \n",
       "Sudeste       54.862500  10.737500  59.390000  97.345000  \n",
       "Sul           52.620000  12.636667  57.270000  98.786667  "
      ]
     },
     "metadata": {},
     "output_type": "display_data"
    }
   ],
   "source": [
    "# Definir os critérios\n",
    "array_criterios = [\"Matriz\", \"A\", \"B\", \"C\", \"D\", \"E\", \"F\", \"G\", \"H\", \"I\", \"J\", \"K\", \"L\", \"M\", \"N\"]\n",
    "\n",
    "# Definir a função para calcular as porcentagens dos critérios por estado\n",
    "def porcentagem_criterios_estado(tabela_relatorios_estado):\n",
    "    qtd_relatorios_estado = len(tabela_relatorios_estado.index)\n",
    "    porcentagens_por_criterio = pd.Series(index=array_criterios, dtype='float64')\n",
    "\n",
    "    # Calcular a porcentagem de cada critério\n",
    "    for criterio, coluna in zip(array_criterios, [\n",
    "        \"Matriz de Achados?\",\n",
    "        \"a. Questões de Auditoria\",\n",
    "        \"b. Subquestões de Auditoria\",\n",
    "        \"c. Descrição sumária\",\n",
    "        \"d. Critério (O que deveria ser)\",\n",
    "        \"e. Condição ou situação encontrada (O que é) [achados]\",\n",
    "        \"f. Evidências\",\n",
    "        \"g. Informação extraída das evidências\",\n",
    "        \"h. Causas\",\n",
    "        \"i. Efeitos\",\n",
    "        \"j. Boas Práticas\",\n",
    "        \"k. Recomendações\",\n",
    "        \"l. Benefícios esperados\",\n",
    "        \"m. Manifestação\",\n",
    "        \"n. Conclusões\"]):\n",
    "        \n",
    "        tabela_criterio_bool = tabela_relatorios_estado[coluna] == 1\n",
    "        criterio_count = len(tabela_relatorios_estado[tabela_criterio_bool].index)\n",
    "        porcentagem_criterio = round(((criterio_count / qtd_relatorios_estado) * 100), 2)\n",
    "        porcentagens_por_criterio[criterio] = porcentagem_criterio\n",
    "\n",
    "    return porcentagens_por_criterio\n",
    "\n",
    "# Agora vamos calcular as porcentagens dos critérios por estado\n",
    "# Exemplo dos dados de cada estado (tabelas específicas dos estados)\n",
    "array_estados = [\"Acre\", \"Alagoas\", \"Amazonas\", \"Amapá\", \"Bahia\", \"Ceará\", \"DF\", \"ES\", \"Goiás\", \"Maranhão\", \"MG\", \"MS\", \"MT\", \"Pará\", \"Paraíba\", \"Pernambuco\", \"Piauí\", \"Paraná\", \"RJ\", \"RN\", \"RS\", \"Rondônia\", \"Roraima\", \"SC\", \"Sergipe\", \"SP\", \"Tocantins\"]\n",
    "array_tabelas_estados = [tabela_acre, tabela_alagoas, tabela_amazonas, tabela_amapa, tabela_bahia, tabela_ceara, tabela_df, tabela_es, tabela_goias, tabela_maranhao, tabela_mg, tabela_ms, tabela_mt, tabela_para, tabela_paraiba, tabela_pernambuco, tabela_piaui, tabela_parana, tabela_rj, tabela_rn, tabela_rs, tabela_rondonia, tabela_roraima, tabela_sc, tabela_sergipe, tabela_sp, tabela_tocantins]\n",
    "\n",
    "# Calcular as porcentagens de critérios para cada estado\n",
    "porcentagens_por_estado = [porcentagem_criterios_estado(tabela) for tabela in array_tabelas_estados]\n",
    "\n",
    "# Criar um DataFrame de porcentagens por estado\n",
    "df_por_estado = pd.DataFrame(porcentagens_por_estado, index=array_estados)\n",
    "\n",
    "# Definir as regiões e agrupar os estados por suas respectivas regiões\n",
    "regioes = {\n",
    "    'Nordeste': ['Bahia', 'Piauí', 'Maranhão', 'Ceará', 'Sergipe', 'Alagoas', 'Pernambuco', 'Paraíba', 'RN'],\n",
    "    'Norte': ['Amazonas', 'Pará', 'Tocantins', 'Amapá', 'Roraima', 'Rondônia', 'Acre'],\n",
    "    'Centro-Oeste': ['MT', 'MS', 'Goiás', 'DF'],\n",
    "    'Sudeste': ['SP', 'MG', 'RJ', 'ES'],\n",
    "    'Sul': ['RS', 'Paraná', 'SC']\n",
    "}\n",
    "\n",
    "# Criar um DataFrame vazio para armazenar os dados agrupados por região\n",
    "df_por_regiao = pd.DataFrame(columns=array_criterios)\n",
    "\n",
    "# Agrupar por região e calcular a média das porcentagens dos estados da mesma região\n",
    "for regiao, estados in regioes.items():\n",
    "    df_por_regiao.loc[regiao] = df_por_estado.loc[estados].mean()\n",
    "\n",
    "df_por_regiao.to_excel('criterios_por_regiao.xlsx')\n",
    "\n",
    "\n",
    "# Exibir a tabela final agrupada por região\n",
    "\n",
    "display(df_por_regiao)"
   ]
  },
  {
   "cell_type": "markdown",
   "metadata": {},
   "source": [
    "## 9. Correlação entre Critérios\n",
    "Nesse tópico iremos correlacionar os critérios afim de vê quais deles possuem algum tipo de relação entre si."
   ]
  },
  {
   "cell_type": "code",
   "execution_count": 182,
   "metadata": {},
   "outputs": [],
   "source": [
    "# Converter todas as colunas do DataFrame df_por_regiao para float64\n",
    "df_por_regiao = df_por_regiao.astype('float64')\n",
    "\n",
    "#removendo nulos\n",
    "df_por_regiao = df_por_regiao.replace(\"#NULL!\", \"\", regex=True)\n",
    "df_por_regiao = df_por_regiao.replace(\"\", np.nan)"
   ]
  },
  {
   "cell_type": "code",
   "execution_count": 183,
   "metadata": {},
   "outputs": [
    {
     "data": {
      "text/plain": [
       "Text(0.5, 1.0, 'Mapa de Correlação entre os Critérios')"
      ]
     },
     "execution_count": 183,
     "metadata": {},
     "output_type": "execute_result"
    },
    {
     "data": {
      "image/png": "[encoded data removed]",
      "text/plain": [
       "<Figure size 1200x900 with 2 Axes>"
      ]
     },
     "metadata": {},
     "output_type": "display_data"
    }
   ],
   "source": [
    "# Definir as colunas renomeadas que queremos usar\n",
    "criterios = [\n",
    "    \"Matriz\", \"A\", \"B\", \"C\", \"D\", \"E\", \"F\", \"G\", \"H\", \"I\", \"J\", \"K\", \"L\", \"M\", \"N\"\n",
    "]\n",
    "\n",
    "# Converter as colunas de critérios para tipo float\n",
    "df_por_regiao[criterios] = df_por_regiao[criterios].astype(float)\n",
    "\n",
    "# Calcular a matriz de correlação\n",
    "corrmat = df_por_regiao[criterios].corr()\n",
    "\n",
    "# Criar a figura do heatmap de correlação\n",
    "fig = plt.figure(figsize=(12, 9))\n",
    "mask = np.triu(np.ones_like(corrmat, dtype=bool))  # Máscara para ocultar a metade superior\n",
    "\n",
    "# Criar o heatmap da matriz de correlação\n",
    "sns.heatmap(corrmat, annot=True, mask=mask, cmap=\"coolwarm\", vmax=1, vmin=-1, square=True, linewidths=0.5, fmt=\".2f\")\n",
    "\n",
    "# Ajustar o título e exibir o gráfico\n",
    "plt.title(\"Mapa de Correlação entre os Critérios\")"
   ]
  },
  {
   "cell_type": "markdown",
   "metadata": {},
   "source": [
    "## 10. Casos Mensais\n",
    "Nesse tópico veremos a quantidade de relatórios publicados em cada mês ao longos dos anos."
   ]
  },
  {
   "cell_type": "code",
   "execution_count": 184,
   "metadata": {},
   "outputs": [
    {
     "data": {
      "application/vnd.plotly.v1+json": {
       "config": {
        "plotlyServerURL": "https://plot.ly"
       },
       "data": [
        {
         "alignmentgroup": "True",
         "hovertemplate": "Mês=%{x}<br>Número de Relatórios=%{text}<extra></extra>",
         "legendgroup": "",
         "marker": {
          "color": "#636efa",
          "pattern": {
           "shape": ""
          }
         },
         "name": "",
         "offsetgroup": "",
         "orientation": "v",
         "showlegend": false,
         "text": [
          118,
          110,
          141,
          107,
          187,
          171,
          119,
          302,
          70,
          238,
          130,
          180
         ],
         "textposition": "outside",
         "type": "bar",
         "x": [
          "jan",
          "fev",
          "abr",
          "mar",
          "ago",
          "jul",
          "jun",
          "mai",
          "set",
          "dez",
          "nov",
          "out"
         ],
         "xaxis": "x",
         "y": [
          118,
          110,
          141,
          107,
          187,
          171,
          119,
          302,
          70,
          238,
          130,
          180
         ],
         "yaxis": "y"
        }
       ],
       "layout": {
        "barmode": "relative",
        "legend": {
         "tracegroupgap": 0
        },
        "template": {
         "data": {
          "bar": [
           {
            "error_x": {
             "color": "#2a3f5f"
            },
            "error_y": {
             "color": "#2a3f5f"
            },
            "marker": {
             "line": {
              "color": "#E5ECF6",
              "width": 0.5
             },
             "pattern": {
              "fillmode": "overlay",
              "size": 10,
              "solidity": 0.2
             }
            },
            "type": "bar"
           }
          ],
          "barpolar": [
           {
            "marker": {
             "line": {
              "color": "#E5ECF6",
              "width": 0.5
             },
             "pattern": {
              "fillmode": "overlay",
              "size": 10,
              "solidity": 0.2
             }
            },
            "type": "barpolar"
           }
          ],
          "carpet": [
           {
            "aaxis": {
             "endlinecolor": "#2a3f5f",
             "gridcolor": "white",
             "linecolor": "white",
             "minorgridcolor": "white",
             "startlinecolor": "#2a3f5f"
            },
            "baxis": {
             "endlinecolor": "#2a3f5f",
             "gridcolor": "white",
             "linecolor": "white",
             "minorgridcolor": "white",
             "startlinecolor": "#2a3f5f"
            },
            "type": "carpet"
           }
          ],
          "choropleth": [
           {
            "colorbar": {
             "outlinewidth": 0,
             "ticks": ""
            },
            "type": "choropleth"
           }
          ],
          "contour": [
           {
            "colorbar": {
             "outlinewidth": 0,
             "ticks": ""
            },
            "colorscale": [
             [
              0,
              "#0d0887"
             ],
             [
              0.1111111111111111,
              "#46039f"
             ],
             [
              0.2222222222222222,
              "#7201a8"
             ],
             [
              0.3333333333333333,
              "#9c179e"
             ],
             [
              0.4444444444444444,
              "#bd3786"
             ],
             [
              0.5555555555555556,
              "#d8576b"
             ],
             [
              0.6666666666666666,
              "#ed7953"
             ],
             [
              0.7777777777777778,
              "#fb9f3a"
             ],
             [
              0.8888888888888888,
              "#fdca26"
             ],
             [
              1,
              "#f0f921"
             ]
            ],
            "type": "contour"
           }
          ],
          "contourcarpet": [
           {
            "colorbar": {
             "outlinewidth": 0,
             "ticks": ""
            },
            "type": "contourcarpet"
           }
          ],
          "heatmap": [
           {
            "colorbar": {
             "outlinewidth": 0,
             "ticks": ""
            },
            "colorscale": [
             [
              0,
              "#0d0887"
             ],
             [
              0.1111111111111111,
              "#46039f"
             ],
             [
              0.2222222222222222,
              "#7201a8"
             ],
             [
              0.3333333333333333,
              "#9c179e"
             ],
             [
              0.4444444444444444,
              "#bd3786"
             ],
             [
              0.5555555555555556,
              "#d8576b"
             ],
             [
              0.6666666666666666,
              "#ed7953"
             ],
             [
              0.7777777777777778,
              "#fb9f3a"
             ],
             [
              0.8888888888888888,
              "#fdca26"
             ],
             [
              1,
              "#f0f921"
             ]
            ],
            "type": "heatmap"
           }
          ],
          "heatmapgl": [
           {
            "colorbar": {
             "outlinewidth": 0,
             "ticks": ""
            },
            "colorscale": [
             [
              0,
              "#0d0887"
             ],
             [
              0.1111111111111111,
              "#46039f"
             ],
             [
              0.2222222222222222,
              "#7201a8"
             ],
             [
              0.3333333333333333,
              "#9c179e"
             ],
             [
              0.4444444444444444,
              "#bd3786"
             ],
             [
              0.5555555555555556,
              "#d8576b"
             ],
             [
              0.6666666666666666,
              "#ed7953"
             ],
             [
              0.7777777777777778,
              "#fb9f3a"
             ],
             [
              0.8888888888888888,
              "#fdca26"
             ],
             [
              1,
              "#f0f921"
             ]
            ],
            "type": "heatmapgl"
           }
          ],
          "histogram": [
           {
            "marker": {
             "pattern": {
              "fillmode": "overlay",
              "size": 10,
              "solidity": 0.2
             }
            },
            "type": "histogram"
           }
          ],
          "histogram2d": [
           {
            "colorbar": {
             "outlinewidth": 0,
             "ticks": ""
            },
            "colorscale": [
             [
              0,
              "#0d0887"
             ],
             [
              0.1111111111111111,
              "#46039f"
             ],
             [
              0.2222222222222222,
              "#7201a8"
             ],
             [
              0.3333333333333333,
              "#9c179e"
             ],
             [
              0.4444444444444444,
              "#bd3786"
             ],
             [
              0.5555555555555556,
              "#d8576b"
             ],
             [
              0.6666666666666666,
              "#ed7953"
             ],
             [
              0.7777777777777778,
              "#fb9f3a"
             ],
             [
              0.8888888888888888,
              "#fdca26"
             ],
             [
              1,
              "#f0f921"
             ]
            ],
            "type": "histogram2d"
           }
          ],
          "histogram2dcontour": [
           {
            "colorbar": {
             "outlinewidth": 0,
             "ticks": ""
            },
            "colorscale": [
             [
              0,
              "#0d0887"
             ],
             [
              0.1111111111111111,
              "#46039f"
             ],
             [
              0.2222222222222222,
              "#7201a8"
             ],
             [
              0.3333333333333333,
              "#9c179e"
             ],
             [
              0.4444444444444444,
              "#bd3786"
             ],
             [
              0.5555555555555556,
              "#d8576b"
             ],
             [
              0.6666666666666666,
              "#ed7953"
             ],
             [
              0.7777777777777778,
              "#fb9f3a"
             ],
             [
              0.8888888888888888,
              "#fdca26"
             ],
             [
              1,
              "#f0f921"
             ]
            ],
            "type": "histogram2dcontour"
           }
          ],
          "mesh3d": [
           {
            "colorbar": {
             "outlinewidth": 0,
             "ticks": ""
            },
            "type": "mesh3d"
           }
          ],
          "parcoords": [
           {
            "line": {
             "colorbar": {
              "outlinewidth": 0,
              "ticks": ""
             }
            },
            "type": "parcoords"
           }
          ],
          "pie": [
           {
            "automargin": true,
            "type": "pie"
           }
          ],
          "scatter": [
           {
            "fillpattern": {
             "fillmode": "overlay",
             "size": 10,
             "solidity": 0.2
            },
            "type": "scatter"
           }
          ],
          "scatter3d": [
           {
            "line": {
             "colorbar": {
              "outlinewidth": 0,
              "ticks": ""
             }
            },
            "marker": {
             "colorbar": {
              "outlinewidth": 0,
              "ticks": ""
             }
            },
            "type": "scatter3d"
           }
          ],
          "scattercarpet": [
           {
            "marker": {
             "colorbar": {
              "outlinewidth": 0,
              "ticks": ""
             }
            },
            "type": "scattercarpet"
           }
          ],
          "scattergeo": [
           {
            "marker": {
             "colorbar": {
              "outlinewidth": 0,
              "ticks": ""
             }
            },
            "type": "scattergeo"
           }
          ],
          "scattergl": [
           {
            "marker": {
             "colorbar": {
              "outlinewidth": 0,
              "ticks": ""
             }
            },
            "type": "scattergl"
           }
          ],
          "scattermapbox": [
           {
            "marker": {
             "colorbar": {
              "outlinewidth": 0,
              "ticks": ""
             }
            },
            "type": "scattermapbox"
           }
          ],
          "scatterpolar": [
           {
            "marker": {
             "colorbar": {
              "outlinewidth": 0,
              "ticks": ""
             }
            },
            "type": "scatterpolar"
           }
          ],
          "scatterpolargl": [
           {
            "marker": {
             "colorbar": {
              "outlinewidth": 0,
              "ticks": ""
             }
            },
            "type": "scatterpolargl"
           }
          ],
          "scatterternary": [
           {
            "marker": {
             "colorbar": {
              "outlinewidth": 0,
              "ticks": ""
             }
            },
            "type": "scatterternary"
           }
          ],
          "surface": [
           {
            "colorbar": {
             "outlinewidth": 0,
             "ticks": ""
            },
            "colorscale": [
             [
              0,
              "#0d0887"
             ],
             [
              0.1111111111111111,
              "#46039f"
             ],
             [
              0.2222222222222222,
              "#7201a8"
             ],
             [
              0.3333333333333333,
              "#9c179e"
             ],
             [
              0.4444444444444444,
              "#bd3786"
             ],
             [
              0.5555555555555556,
              "#d8576b"
             ],
             [
              0.6666666666666666,
              "#ed7953"
             ],
             [
              0.7777777777777778,
              "#fb9f3a"
             ],
             [
              0.8888888888888888,
              "#fdca26"
             ],
             [
              1,
              "#f0f921"
             ]
            ],
            "type": "surface"
           }
          ],
          "table": [
           {
            "cells": {
             "fill": {
              "color": "#EBF0F8"
             },
             "line": {
              "color": "white"
             }
            },
            "header": {
             "fill": {
              "color": "#C8D4E3"
             },
             "line": {
              "color": "white"
             }
            },
            "type": "table"
           }
          ]
         },
         "layout": {
          "annotationdefaults": {
           "arrowcolor": "#2a3f5f",
           "arrowhead": 0,
           "arrowwidth": 1
          },
          "autotypenumbers": "strict",
          "coloraxis": {
           "colorbar": {
            "outlinewidth": 0,
            "ticks": ""
           }
          },
          "colorscale": {
           "diverging": [
            [
             0,
             "#8e0152"
            ],
            [
             0.1,
             "#c51b7d"
            ],
            [
             0.2,
             "#de77ae"
            ],
            [
             0.3,
             "#f1b6da"
            ],
            [
             0.4,
             "#fde0ef"
            ],
            [
             0.5,
             "#f7f7f7"
            ],
            [
             0.6,
             "#e6f5d0"
            ],
            [
             0.7,
             "#b8e186"
            ],
            [
             0.8,
             "#7fbc41"
            ],
            [
             0.9,
             "#4d9221"
            ],
            [
             1,
             "#276419"
            ]
           ],
           "sequential": [
            [
             0,
             "#0d0887"
            ],
            [
             0.1111111111111111,
             "#46039f"
            ],
            [
             0.2222222222222222,
             "#7201a8"
            ],
            [
             0.3333333333333333,
             "#9c179e"
            ],
            [
             0.4444444444444444,
             "#bd3786"
            ],
            [
             0.5555555555555556,
             "#d8576b"
            ],
            [
             0.6666666666666666,
             "#ed7953"
            ],
            [
             0.7777777777777778,
             "#fb9f3a"
            ],
            [
             0.8888888888888888,
             "#fdca26"
            ],
            [
             1,
             "#f0f921"
            ]
           ],
           "sequentialminus": [
            [
             0,
             "#0d0887"
            ],
            [
             0.1111111111111111,
             "#46039f"
            ],
            [
             0.2222222222222222,
             "#7201a8"
            ],
            [
             0.3333333333333333,
             "#9c179e"
            ],
            [
             0.4444444444444444,
             "#bd3786"
            ],
            [
             0.5555555555555556,
             "#d8576b"
            ],
            [
             0.6666666666666666,
             "#ed7953"
            ],
            [
             0.7777777777777778,
             "#fb9f3a"
            ],
            [
             0.8888888888888888,
             "#fdca26"
            ],
            [
             1,
             "#f0f921"
            ]
           ]
          },
          "colorway": [
           "#636efa",
           "#EF553B",
           "#00cc96",
           "#ab63fa",
           "#FFA15A",
           "#19d3f3",
           "#FF6692",
           "#B6E880",
           "#FF97FF",
           "#FECB52"
          ],
          "font": {
           "color": "#2a3f5f"
          },
          "geo": {
           "bgcolor": "white",
           "lakecolor": "white",
           "landcolor": "#E5ECF6",
           "showlakes": true,
           "showland": true,
           "subunitcolor": "white"
          },
          "hoverlabel": {
           "align": "left"
          },
          "hovermode": "closest",
          "mapbox": {
           "style": "light"
          },
          "paper_bgcolor": "white",
          "plot_bgcolor": "#E5ECF6",
          "polar": {
           "angularaxis": {
            "gridcolor": "white",
            "linecolor": "white",
            "ticks": ""
           },
           "bgcolor": "#E5ECF6",
           "radialaxis": {
            "gridcolor": "white",
            "linecolor": "white",
            "ticks": ""
           }
          },
          "scene": {
           "xaxis": {
            "backgroundcolor": "#E5ECF6",
            "gridcolor": "white",
            "gridwidth": 2,
            "linecolor": "white",
            "showbackground": true,
            "ticks": "",
            "zerolinecolor": "white"
           },
           "yaxis": {
            "backgroundcolor": "#E5ECF6",
            "gridcolor": "white",
            "gridwidth": 2,
            "linecolor": "white",
            "showbackground": true,
            "ticks": "",
            "zerolinecolor": "white"
           },
           "zaxis": {
            "backgroundcolor": "#E5ECF6",
            "gridcolor": "white",
            "gridwidth": 2,
            "linecolor": "white",
            "showbackground": true,
            "ticks": "",
            "zerolinecolor": "white"
           }
          },
          "shapedefaults": {
           "line": {
            "color": "#2a3f5f"
           }
          },
          "ternary": {
           "aaxis": {
            "gridcolor": "white",
            "linecolor": "white",
            "ticks": ""
           },
           "baxis": {
            "gridcolor": "white",
            "linecolor": "white",
            "ticks": ""
           },
           "bgcolor": "#E5ECF6",
           "caxis": {
            "gridcolor": "white",
            "linecolor": "white",
            "ticks": ""
           }
          },
          "title": {
           "x": 0.05
          },
          "xaxis": {
           "automargin": true,
           "gridcolor": "white",
           "linecolor": "white",
           "ticks": "",
           "title": {
            "standoff": 15
           },
           "zerolinecolor": "white",
           "zerolinewidth": 2
          },
          "yaxis": {
           "automargin": true,
           "gridcolor": "white",
           "linecolor": "white",
           "ticks": "",
           "title": {
            "standoff": 15
           },
           "zerolinecolor": "white",
           "zerolinewidth": 2
          }
         }
        },
        "title": {
         "text": "Quantidade de Relatórios por Mês no Ano 2018"
        },
        "xaxis": {
         "anchor": "y",
         "categoryarray": [
          "jan",
          "fev",
          "mar",
          "abr",
          "mai",
          "jun",
          "jul",
          "ago",
          "set",
          "out",
          "nov",
          "dez"
         ],
         "categoryorder": "array",
         "domain": [
          0,
          1
         ],
         "title": {
          "text": "Mês"
         }
        },
        "yaxis": {
         "anchor": "x",
         "domain": [
          0,
          1
         ],
         "title": {
          "text": "Número de Relatórios"
         }
        }
       }
      }
     },
     "metadata": {},
     "output_type": "display_data"
    },
    {
     "data": {
      "application/vnd.plotly.v1+json": {
       "config": {
        "plotlyServerURL": "https://plot.ly"
       },
       "data": [
        {
         "alignmentgroup": "True",
         "hovertemplate": "Mês=%{x}<br>Número de Relatórios=%{text}<extra></extra>",
         "legendgroup": "",
         "marker": {
          "color": "#636efa",
          "pattern": {
           "shape": ""
          }
         },
         "name": "",
         "offsetgroup": "",
         "orientation": "v",
         "showlegend": false,
         "text": [
          87,
          139,
          99,
          109,
          106,
          174,
          96,
          214,
          63,
          80,
          51,
          42
         ],
         "textposition": "outside",
         "type": "bar",
         "x": [
          "mar",
          "mai",
          "ago",
          "jun",
          "set",
          "jul",
          "out",
          "dez",
          "nov",
          "abr",
          "fev",
          "jan"
         ],
         "xaxis": "x",
         "y": [
          87,
          139,
          99,
          109,
          106,
          174,
          96,
          214,
          63,
          80,
          51,
          42
         ],
         "yaxis": "y"
        }
       ],
       "layout": {
        "barmode": "relative",
        "legend": {
         "tracegroupgap": 0
        },
        "template": {
         "data": {
          "bar": [
           {
            "error_x": {
             "color": "#2a3f5f"
            },
            "error_y": {
             "color": "#2a3f5f"
            },
            "marker": {
             "line": {
              "color": "#E5ECF6",
              "width": 0.5
             },
             "pattern": {
              "fillmode": "overlay",
              "size": 10,
              "solidity": 0.2
             }
            },
            "type": "bar"
           }
          ],
          "barpolar": [
           {
            "marker": {
             "line": {
              "color": "#E5ECF6",
              "width": 0.5
             },
             "pattern": {
              "fillmode": "overlay",
              "size": 10,
              "solidity": 0.2
             }
            },
            "type": "barpolar"
           }
          ],
          "carpet": [
           {
            "aaxis": {
             "endlinecolor": "#2a3f5f",
             "gridcolor": "white",
             "linecolor": "white",
             "minorgridcolor": "white",
             "startlinecolor": "#2a3f5f"
            },
            "baxis": {
             "endlinecolor": "#2a3f5f",
             "gridcolor": "white",
             "linecolor": "white",
             "minorgridcolor": "white",
             "startlinecolor": "#2a3f5f"
            },
            "type": "carpet"
           }
          ],
          "choropleth": [
           {
            "colorbar": {
             "outlinewidth": 0,
             "ticks": ""
            },
            "type": "choropleth"
           }
          ],
          "contour": [
           {
            "colorbar": {
             "outlinewidth": 0,
             "ticks": ""
            },
            "colorscale": [
             [
              0,
              "#0d0887"
             ],
             [
              0.1111111111111111,
              "#46039f"
             ],
             [
              0.2222222222222222,
              "#7201a8"
             ],
             [
              0.3333333333333333,
              "#9c179e"
             ],
             [
              0.4444444444444444,
              "#bd3786"
             ],
             [
              0.5555555555555556,
              "#d8576b"
             ],
             [
              0.6666666666666666,
              "#ed7953"
             ],
             [
              0.7777777777777778,
              "#fb9f3a"
             ],
             [
              0.8888888888888888,
              "#fdca26"
             ],
             [
              1,
              "#f0f921"
             ]
            ],
            "type": "contour"
           }
          ],
          "contourcarpet": [
           {
            "colorbar": {
             "outlinewidth": 0,
             "ticks": ""
            },
            "type": "contourcarpet"
           }
          ],
          "heatmap": [
           {
            "colorbar": {
             "outlinewidth": 0,
             "ticks": ""
            },
            "colorscale": [
             [
              0,
              "#0d0887"
             ],
             [
              0.1111111111111111,
              "#46039f"
             ],
             [
              0.2222222222222222,
              "#7201a8"
             ],
             [
              0.3333333333333333,
              "#9c179e"
             ],
             [
              0.4444444444444444,
              "#bd3786"
             ],
             [
              0.5555555555555556,
              "#d8576b"
             ],
             [
              0.6666666666666666,
              "#ed7953"
             ],
             [
              0.7777777777777778,
              "#fb9f3a"
             ],
             [
              0.8888888888888888,
              "#fdca26"
             ],
             [
              1,
              "#f0f921"
             ]
            ],
            "type": "heatmap"
           }
          ],
          "heatmapgl": [
           {
            "colorbar": {
             "outlinewidth": 0,
             "ticks": ""
            },
            "colorscale": [
             [
              0,
              "#0d0887"
             ],
             [
              0.1111111111111111,
              "#46039f"
             ],
             [
              0.2222222222222222,
              "#7201a8"
             ],
             [
              0.3333333333333333,
              "#9c179e"
             ],
             [
              0.4444444444444444,
              "#bd3786"
             ],
             [
              0.5555555555555556,
              "#d8576b"
             ],
             [
              0.6666666666666666,
              "#ed7953"
             ],
             [
              0.7777777777777778,
              "#fb9f3a"
             ],
             [
              0.8888888888888888,
              "#fdca26"
             ],
             [
              1,
              "#f0f921"
             ]
            ],
            "type": "heatmapgl"
           }
          ],
          "histogram": [
           {
            "marker": {
             "pattern": {
              "fillmode": "overlay",
              "size": 10,
              "solidity": 0.2
             }
            },
            "type": "histogram"
           }
          ],
          "histogram2d": [
           {
            "colorbar": {
             "outlinewidth": 0,
             "ticks": ""
            },
            "colorscale": [
             [
              0,
              "#0d0887"
             ],
             [
              0.1111111111111111,
              "#46039f"
             ],
             [
              0.2222222222222222,
              "#7201a8"
             ],
             [
              0.3333333333333333,
              "#9c179e"
             ],
             [
              0.4444444444444444,
              "#bd3786"
             ],
             [
              0.5555555555555556,
              "#d8576b"
             ],
             [
              0.6666666666666666,
              "#ed7953"
             ],
             [
              0.7777777777777778,
              "#fb9f3a"
             ],
             [
              0.8888888888888888,
              "#fdca26"
             ],
             [
              1,
              "#f0f921"
             ]
            ],
            "type": "histogram2d"
           }
          ],
          "histogram2dcontour": [
           {
            "colorbar": {
             "outlinewidth": 0,
             "ticks": ""
            },
            "colorscale": [
             [
              0,
              "#0d0887"
             ],
             [
              0.1111111111111111,
              "#46039f"
             ],
             [
              0.2222222222222222,
              "#7201a8"
             ],
             [
              0.3333333333333333,
              "#9c179e"
             ],
             [
              0.4444444444444444,
              "#bd3786"
             ],
             [
              0.5555555555555556,
              "#d8576b"
             ],
             [
              0.6666666666666666,
              "#ed7953"
             ],
             [
              0.7777777777777778,
              "#fb9f3a"
             ],
             [
              0.8888888888888888,
              "#fdca26"
             ],
             [
              1,
              "#f0f921"
             ]
            ],
            "type": "histogram2dcontour"
           }
          ],
          "mesh3d": [
           {
            "colorbar": {
             "outlinewidth": 0,
             "ticks": ""
            },
            "type": "mesh3d"
           }
          ],
          "parcoords": [
           {
            "line": {
             "colorbar": {
              "outlinewidth": 0,
              "ticks": ""
             }
            },
            "type": "parcoords"
           }
          ],
          "pie": [
           {
            "automargin": true,
            "type": "pie"
           }
          ],
          "scatter": [
           {
            "fillpattern": {
             "fillmode": "overlay",
             "size": 10,
             "solidity": 0.2
            },
            "type": "scatter"
           }
          ],
          "scatter3d": [
           {
            "line": {
             "colorbar": {
              "outlinewidth": 0,
              "ticks": ""
             }
            },
            "marker": {
             "colorbar": {
              "outlinewidth": 0,
              "ticks": ""
             }
            },
            "type": "scatter3d"
           }
          ],
          "scattercarpet": [
           {
            "marker": {
             "colorbar": {
              "outlinewidth": 0,
              "ticks": ""
             }
            },
            "type": "scattercarpet"
           }
          ],
          "scattergeo": [
           {
            "marker": {
             "colorbar": {
              "outlinewidth": 0,
              "ticks": ""
             }
            },
            "type": "scattergeo"
           }
          ],
          "scattergl": [
           {
            "marker": {
             "colorbar": {
              "outlinewidth": 0,
              "ticks": ""
             }
            },
            "type": "scattergl"
           }
          ],
          "scattermapbox": [
           {
            "marker": {
             "colorbar": {
              "outlinewidth": 0,
              "ticks": ""
             }
            },
            "type": "scattermapbox"
           }
          ],
          "scatterpolar": [
           {
            "marker": {
             "colorbar": {
              "outlinewidth": 0,
              "ticks": ""
             }
            },
            "type": "scatterpolar"
           }
          ],
          "scatterpolargl": [
           {
            "marker": {
             "colorbar": {
              "outlinewidth": 0,
              "ticks": ""
             }
            },
            "type": "scatterpolargl"
           }
          ],
          "scatterternary": [
           {
            "marker": {
             "colorbar": {
              "outlinewidth": 0,
              "ticks": ""
             }
            },
            "type": "scatterternary"
           }
          ],
          "surface": [
           {
            "colorbar": {
             "outlinewidth": 0,
             "ticks": ""
            },
            "colorscale": [
             [
              0,
              "#0d0887"
             ],
             [
              0.1111111111111111,
              "#46039f"
             ],
             [
              0.2222222222222222,
              "#7201a8"
             ],
             [
              0.3333333333333333,
              "#9c179e"
             ],
             [
              0.4444444444444444,
              "#bd3786"
             ],
             [
              0.5555555555555556,
              "#d8576b"
             ],
             [
              0.6666666666666666,
              "#ed7953"
             ],
             [
              0.7777777777777778,
              "#fb9f3a"
             ],
             [
              0.8888888888888888,
              "#fdca26"
             ],
             [
              1,
              "#f0f921"
             ]
            ],
            "type": "surface"
           }
          ],
          "table": [
           {
            "cells": {
             "fill": {
              "color": "#EBF0F8"
             },
             "line": {
              "color": "white"
             }
            },
            "header": {
             "fill": {
              "color": "#C8D4E3"
             },
             "line": {
              "color": "white"
             }
            },
            "type": "table"
           }
          ]
         },
         "layout": {
          "annotationdefaults": {
           "arrowcolor": "#2a3f5f",
           "arrowhead": 0,
           "arrowwidth": 1
          },
          "autotypenumbers": "strict",
          "coloraxis": {
           "colorbar": {
            "outlinewidth": 0,
            "ticks": ""
           }
          },
          "colorscale": {
           "diverging": [
            [
             0,
             "#8e0152"
            ],
            [
             0.1,
             "#c51b7d"
            ],
            [
             0.2,
             "#de77ae"
            ],
            [
             0.3,
             "#f1b6da"
            ],
            [
             0.4,
             "#fde0ef"
            ],
            [
             0.5,
             "#f7f7f7"
            ],
            [
             0.6,
             "#e6f5d0"
            ],
            [
             0.7,
             "#b8e186"
            ],
            [
             0.8,
             "#7fbc41"
            ],
            [
             0.9,
             "#4d9221"
            ],
            [
             1,
             "#276419"
            ]
           ],
           "sequential": [
            [
             0,
             "#0d0887"
            ],
            [
             0.1111111111111111,
             "#46039f"
            ],
            [
             0.2222222222222222,
             "#7201a8"
            ],
            [
             0.3333333333333333,
             "#9c179e"
            ],
            [
             0.4444444444444444,
             "#bd3786"
            ],
            [
             0.5555555555555556,
             "#d8576b"
            ],
            [
             0.6666666666666666,
             "#ed7953"
            ],
            [
             0.7777777777777778,
             "#fb9f3a"
            ],
            [
             0.8888888888888888,
             "#fdca26"
            ],
            [
             1,
             "#f0f921"
            ]
           ],
           "sequentialminus": [
            [
             0,
             "#0d0887"
            ],
            [
             0.1111111111111111,
             "#46039f"
            ],
            [
             0.2222222222222222,
             "#7201a8"
            ],
            [
             0.3333333333333333,
             "#9c179e"
            ],
            [
             0.4444444444444444,
             "#bd3786"
            ],
            [
             0.5555555555555556,
             "#d8576b"
            ],
            [
             0.6666666666666666,
             "#ed7953"
            ],
            [
             0.7777777777777778,
             "#fb9f3a"
            ],
            [
             0.8888888888888888,
             "#fdca26"
            ],
            [
             1,
             "#f0f921"
            ]
           ]
          },
          "colorway": [
           "#636efa",
           "#EF553B",
           "#00cc96",
           "#ab63fa",
           "#FFA15A",
           "#19d3f3",
           "#FF6692",
           "#B6E880",
           "#FF97FF",
           "#FECB52"
          ],
          "font": {
           "color": "#2a3f5f"
          },
          "geo": {
           "bgcolor": "white",
           "lakecolor": "white",
           "landcolor": "#E5ECF6",
           "showlakes": true,
           "showland": true,
           "subunitcolor": "white"
          },
          "hoverlabel": {
           "align": "left"
          },
          "hovermode": "closest",
          "mapbox": {
           "style": "light"
          },
          "paper_bgcolor": "white",
          "plot_bgcolor": "#E5ECF6",
          "polar": {
           "angularaxis": {
            "gridcolor": "white",
            "linecolor": "white",
            "ticks": ""
           },
           "bgcolor": "#E5ECF6",
           "radialaxis": {
            "gridcolor": "white",
            "linecolor": "white",
            "ticks": ""
           }
          },
          "scene": {
           "xaxis": {
            "backgroundcolor": "#E5ECF6",
            "gridcolor": "white",
            "gridwidth": 2,
            "linecolor": "white",
            "showbackground": true,
            "ticks": "",
            "zerolinecolor": "white"
           },
           "yaxis": {
            "backgroundcolor": "#E5ECF6",
            "gridcolor": "white",
            "gridwidth": 2,
            "linecolor": "white",
            "showbackground": true,
            "ticks": "",
            "zerolinecolor": "white"
           },
           "zaxis": {
            "backgroundcolor": "#E5ECF6",
            "gridcolor": "white",
            "gridwidth": 2,
            "linecolor": "white",
            "showbackground": true,
            "ticks": "",
            "zerolinecolor": "white"
           }
          },
          "shapedefaults": {
           "line": {
            "color": "#2a3f5f"
           }
          },
          "ternary": {
           "aaxis": {
            "gridcolor": "white",
            "linecolor": "white",
            "ticks": ""
           },
           "baxis": {
            "gridcolor": "white",
            "linecolor": "white",
            "ticks": ""
           },
           "bgcolor": "#E5ECF6",
           "caxis": {
            "gridcolor": "white",
            "linecolor": "white",
            "ticks": ""
           }
          },
          "title": {
           "x": 0.05
          },
          "xaxis": {
           "automargin": true,
           "gridcolor": "white",
           "linecolor": "white",
           "ticks": "",
           "title": {
            "standoff": 15
           },
           "zerolinecolor": "white",
           "zerolinewidth": 2
          },
          "yaxis": {
           "automargin": true,
           "gridcolor": "white",
           "linecolor": "white",
           "ticks": "",
           "title": {
            "standoff": 15
           },
           "zerolinecolor": "white",
           "zerolinewidth": 2
          }
         }
        },
        "title": {
         "text": "Quantidade de Relatórios por Mês no Ano 2019"
        },
        "xaxis": {
         "anchor": "y",
         "categoryarray": [
          "jan",
          "fev",
          "mar",
          "abr",
          "mai",
          "jun",
          "jul",
          "ago",
          "set",
          "out",
          "nov",
          "dez"
         ],
         "categoryorder": "array",
         "domain": [
          0,
          1
         ],
         "title": {
          "text": "Mês"
         }
        },
        "yaxis": {
         "anchor": "x",
         "domain": [
          0,
          1
         ],
         "title": {
          "text": "Número de Relatórios"
         }
        }
       }
      }
     },
     "metadata": {},
     "output_type": "display_data"
    },
    {
     "data": {
      "application/vnd.plotly.v1+json": {
       "config": {
        "plotlyServerURL": "https://plot.ly"
       },
       "data": [
        {
         "alignmentgroup": "True",
         "hovertemplate": "Mês=%{x}<br>Número de Relatórios=%{text}<extra></extra>",
         "legendgroup": "",
         "marker": {
          "color": "#636efa",
          "pattern": {
           "shape": ""
          }
         },
         "name": "",
         "offsetgroup": "",
         "orientation": "v",
         "showlegend": false,
         "text": [
          40,
          60,
          46,
          63,
          61,
          30,
          53,
          48,
          67,
          64,
          64,
          86
         ],
         "textposition": "outside",
         "type": "bar",
         "x": [
          "abr",
          "fev",
          "jan",
          "jun",
          "ago",
          "set",
          "jul",
          "mai",
          "nov",
          "out",
          "mar",
          "dez"
         ],
         "xaxis": "x",
         "y": [
          40,
          60,
          46,
          63,
          61,
          30,
          53,
          48,
          67,
          64,
          64,
          86
         ],
         "yaxis": "y"
        }
       ],
       "layout": {
        "barmode": "relative",
        "legend": {
         "tracegroupgap": 0
        },
        "template": {
         "data": {
          "bar": [
           {
            "error_x": {
             "color": "#2a3f5f"
            },
            "error_y": {
             "color": "#2a3f5f"
            },
            "marker": {
             "line": {
              "color": "#E5ECF6",
              "width": 0.5
             },
             "pattern": {
              "fillmode": "overlay",
              "size": 10,
              "solidity": 0.2
             }
            },
            "type": "bar"
           }
          ],
          "barpolar": [
           {
            "marker": {
             "line": {
              "color": "#E5ECF6",
              "width": 0.5
             },
             "pattern": {
              "fillmode": "overlay",
              "size": 10,
              "solidity": 0.2
             }
            },
            "type": "barpolar"
           }
          ],
          "carpet": [
           {
            "aaxis": {
             "endlinecolor": "#2a3f5f",
             "gridcolor": "white",
             "linecolor": "white",
             "minorgridcolor": "white",
             "startlinecolor": "#2a3f5f"
            },
            "baxis": {
             "endlinecolor": "#2a3f5f",
             "gridcolor": "white",
             "linecolor": "white",
             "minorgridcolor": "white",
             "startlinecolor": "#2a3f5f"
            },
            "type": "carpet"
           }
          ],
          "choropleth": [
           {
            "colorbar": {
             "outlinewidth": 0,
             "ticks": ""
            },
            "type": "choropleth"
           }
          ],
          "contour": [
           {
            "colorbar": {
             "outlinewidth": 0,
             "ticks": ""
            },
            "colorscale": [
             [
              0,
              "#0d0887"
             ],
             [
              0.1111111111111111,
              "#46039f"
             ],
             [
              0.2222222222222222,
              "#7201a8"
             ],
             [
              0.3333333333333333,
              "#9c179e"
             ],
             [
              0.4444444444444444,
              "#bd3786"
             ],
             [
              0.5555555555555556,
              "#d8576b"
             ],
             [
              0.6666666666666666,
              "#ed7953"
             ],
             [
              0.7777777777777778,
              "#fb9f3a"
             ],
             [
              0.8888888888888888,
              "#fdca26"
             ],
             [
              1,
              "#f0f921"
             ]
            ],
            "type": "contour"
           }
          ],
          "contourcarpet": [
           {
            "colorbar": {
             "outlinewidth": 0,
             "ticks": ""
            },
            "type": "contourcarpet"
           }
          ],
          "heatmap": [
           {
            "colorbar": {
             "outlinewidth": 0,
             "ticks": ""
            },
            "colorscale": [
             [
              0,
              "#0d0887"
             ],
             [
              0.1111111111111111,
              "#46039f"
             ],
             [
              0.2222222222222222,
              "#7201a8"
             ],
             [
              0.3333333333333333,
              "#9c179e"
             ],
             [
              0.4444444444444444,
              "#bd3786"
             ],
             [
              0.5555555555555556,
              "#d8576b"
             ],
             [
              0.6666666666666666,
              "#ed7953"
             ],
             [
              0.7777777777777778,
              "#fb9f3a"
             ],
             [
              0.8888888888888888,
              "#fdca26"
             ],
             [
              1,
              "#f0f921"
             ]
            ],
            "type": "heatmap"
           }
          ],
          "heatmapgl": [
           {
            "colorbar": {
             "outlinewidth": 0,
             "ticks": ""
            },
            "colorscale": [
             [
              0,
              "#0d0887"
             ],
             [
              0.1111111111111111,
              "#46039f"
             ],
             [
              0.2222222222222222,
              "#7201a8"
             ],
             [
              0.3333333333333333,
              "#9c179e"
             ],
             [
              0.4444444444444444,
              "#bd3786"
             ],
             [
              0.5555555555555556,
              "#d8576b"
             ],
             [
              0.6666666666666666,
              "#ed7953"
             ],
             [
              0.7777777777777778,
              "#fb9f3a"
             ],
             [
              0.8888888888888888,
              "#fdca26"
             ],
             [
              1,
              "#f0f921"
             ]
            ],
            "type": "heatmapgl"
           }
          ],
          "histogram": [
           {
            "marker": {
             "pattern": {
              "fillmode": "overlay",
              "size": 10,
              "solidity": 0.2
             }
            },
            "type": "histogram"
           }
          ],
          "histogram2d": [
           {
            "colorbar": {
             "outlinewidth": 0,
             "ticks": ""
            },
            "colorscale": [
             [
              0,
              "#0d0887"
             ],
             [
              0.1111111111111111,
              "#46039f"
             ],
             [
              0.2222222222222222,
              "#7201a8"
             ],
             [
              0.3333333333333333,
              "#9c179e"
             ],
             [
              0.4444444444444444,
              "#bd3786"
             ],
             [
              0.5555555555555556,
              "#d8576b"
             ],
             [
              0.6666666666666666,
              "#ed7953"
             ],
             [
              0.7777777777777778,
              "#fb9f3a"
             ],
             [
              0.8888888888888888,
              "#fdca26"
             ],
             [
              1,
              "#f0f921"
             ]
            ],
            "type": "histogram2d"
           }
          ],
          "histogram2dcontour": [
           {
            "colorbar": {
             "outlinewidth": 0,
             "ticks": ""
            },
            "colorscale": [
             [
              0,
              "#0d0887"
             ],
             [
              0.1111111111111111,
              "#46039f"
             ],
             [
              0.2222222222222222,
              "#7201a8"
             ],
             [
              0.3333333333333333,
              "#9c179e"
             ],
             [
              0.4444444444444444,
              "#bd3786"
             ],
             [
              0.5555555555555556,
              "#d8576b"
             ],
             [
              0.6666666666666666,
              "#ed7953"
             ],
             [
              0.7777777777777778,
              "#fb9f3a"
             ],
             [
              0.8888888888888888,
              "#fdca26"
             ],
             [
              1,
              "#f0f921"
             ]
            ],
            "type": "histogram2dcontour"
           }
          ],
          "mesh3d": [
           {
            "colorbar": {
             "outlinewidth": 0,
             "ticks": ""
            },
            "type": "mesh3d"
           }
          ],
          "parcoords": [
           {
            "line": {
             "colorbar": {
              "outlinewidth": 0,
              "ticks": ""
             }
            },
            "type": "parcoords"
           }
          ],
          "pie": [
           {
            "automargin": true,
            "type": "pie"
           }
          ],
          "scatter": [
           {
            "fillpattern": {
             "fillmode": "overlay",
             "size": 10,
             "solidity": 0.2
            },
            "type": "scatter"
           }
          ],
          "scatter3d": [
           {
            "line": {
             "colorbar": {
              "outlinewidth": 0,
              "ticks": ""
             }
            },
            "marker": {
             "colorbar": {
              "outlinewidth": 0,
              "ticks": ""
             }
            },
            "type": "scatter3d"
           }
          ],
          "scattercarpet": [
           {
            "marker": {
             "colorbar": {
              "outlinewidth": 0,
              "ticks": ""
             }
            },
            "type": "scattercarpet"
           }
          ],
          "scattergeo": [
           {
            "marker": {
             "colorbar": {
              "outlinewidth": 0,
              "ticks": ""
             }
            },
            "type": "scattergeo"
           }
          ],
          "scattergl": [
           {
            "marker": {
             "colorbar": {
              "outlinewidth": 0,
              "ticks": ""
             }
            },
            "type": "scattergl"
           }
          ],
          "scattermapbox": [
           {
            "marker": {
             "colorbar": {
              "outlinewidth": 0,
              "ticks": ""
             }
            },
            "type": "scattermapbox"
           }
          ],
          "scatterpolar": [
           {
            "marker": {
             "colorbar": {
              "outlinewidth": 0,
              "ticks": ""
             }
            },
            "type": "scatterpolar"
           }
          ],
          "scatterpolargl": [
           {
            "marker": {
             "colorbar": {
              "outlinewidth": 0,
              "ticks": ""
             }
            },
            "type": "scatterpolargl"
           }
          ],
          "scatterternary": [
           {
            "marker": {
             "colorbar": {
              "outlinewidth": 0,
              "ticks": ""
             }
            },
            "type": "scatterternary"
           }
          ],
          "surface": [
           {
            "colorbar": {
             "outlinewidth": 0,
             "ticks": ""
            },
            "colorscale": [
             [
              0,
              "#0d0887"
             ],
             [
              0.1111111111111111,
              "#46039f"
             ],
             [
              0.2222222222222222,
              "#7201a8"
             ],
             [
              0.3333333333333333,
              "#9c179e"
             ],
             [
              0.4444444444444444,
              "#bd3786"
             ],
             [
              0.5555555555555556,
              "#d8576b"
             ],
             [
              0.6666666666666666,
              "#ed7953"
             ],
             [
              0.7777777777777778,
              "#fb9f3a"
             ],
             [
              0.8888888888888888,
              "#fdca26"
             ],
             [
              1,
              "#f0f921"
             ]
            ],
            "type": "surface"
           }
          ],
          "table": [
           {
            "cells": {
             "fill": {
              "color": "#EBF0F8"
             },
             "line": {
              "color": "white"
             }
            },
            "header": {
             "fill": {
              "color": "#C8D4E3"
             },
             "line": {
              "color": "white"
             }
            },
            "type": "table"
           }
          ]
         },
         "layout": {
          "annotationdefaults": {
           "arrowcolor": "#2a3f5f",
           "arrowhead": 0,
           "arrowwidth": 1
          },
          "autotypenumbers": "strict",
          "coloraxis": {
           "colorbar": {
            "outlinewidth": 0,
            "ticks": ""
           }
          },
          "colorscale": {
           "diverging": [
            [
             0,
             "#8e0152"
            ],
            [
             0.1,
             "#c51b7d"
            ],
            [
             0.2,
             "#de77ae"
            ],
            [
             0.3,
             "#f1b6da"
            ],
            [
             0.4,
             "#fde0ef"
            ],
            [
             0.5,
             "#f7f7f7"
            ],
            [
             0.6,
             "#e6f5d0"
            ],
            [
             0.7,
             "#b8e186"
            ],
            [
             0.8,
             "#7fbc41"
            ],
            [
             0.9,
             "#4d9221"
            ],
            [
             1,
             "#276419"
            ]
           ],
           "sequential": [
            [
             0,
             "#0d0887"
            ],
            [
             0.1111111111111111,
             "#46039f"
            ],
            [
             0.2222222222222222,
             "#7201a8"
            ],
            [
             0.3333333333333333,
             "#9c179e"
            ],
            [
             0.4444444444444444,
             "#bd3786"
            ],
            [
             0.5555555555555556,
             "#d8576b"
            ],
            [
             0.6666666666666666,
             "#ed7953"
            ],
            [
             0.7777777777777778,
             "#fb9f3a"
            ],
            [
             0.8888888888888888,
             "#fdca26"
            ],
            [
             1,
             "#f0f921"
            ]
           ],
           "sequentialminus": [
            [
             0,
             "#0d0887"
            ],
            [
             0.1111111111111111,
             "#46039f"
            ],
            [
             0.2222222222222222,
             "#7201a8"
            ],
            [
             0.3333333333333333,
             "#9c179e"
            ],
            [
             0.4444444444444444,
             "#bd3786"
            ],
            [
             0.5555555555555556,
             "#d8576b"
            ],
            [
             0.6666666666666666,
             "#ed7953"
            ],
            [
             0.7777777777777778,
             "#fb9f3a"
            ],
            [
             0.8888888888888888,
             "#fdca26"
            ],
            [
             1,
             "#f0f921"
            ]
           ]
          },
          "colorway": [
           "#636efa",
           "#EF553B",
           "#00cc96",
           "#ab63fa",
           "#FFA15A",
           "#19d3f3",
           "#FF6692",
           "#B6E880",
           "#FF97FF",
           "#FECB52"
          ],
          "font": {
           "color": "#2a3f5f"
          },
          "geo": {
           "bgcolor": "white",
           "lakecolor": "white",
           "landcolor": "#E5ECF6",
           "showlakes": true,
           "showland": true,
           "subunitcolor": "white"
          },
          "hoverlabel": {
           "align": "left"
          },
          "hovermode": "closest",
          "mapbox": {
           "style": "light"
          },
          "paper_bgcolor": "white",
          "plot_bgcolor": "#E5ECF6",
          "polar": {
           "angularaxis": {
            "gridcolor": "white",
            "linecolor": "white",
            "ticks": ""
           },
           "bgcolor": "#E5ECF6",
           "radialaxis": {
            "gridcolor": "white",
            "linecolor": "white",
            "ticks": ""
           }
          },
          "scene": {
           "xaxis": {
            "backgroundcolor": "#E5ECF6",
            "gridcolor": "white",
            "gridwidth": 2,
            "linecolor": "white",
            "showbackground": true,
            "ticks": "",
            "zerolinecolor": "white"
           },
           "yaxis": {
            "backgroundcolor": "#E5ECF6",
            "gridcolor": "white",
            "gridwidth": 2,
            "linecolor": "white",
            "showbackground": true,
            "ticks": "",
            "zerolinecolor": "white"
           },
           "zaxis": {
            "backgroundcolor": "#E5ECF6",
            "gridcolor": "white",
            "gridwidth": 2,
            "linecolor": "white",
            "showbackground": true,
            "ticks": "",
            "zerolinecolor": "white"
           }
          },
          "shapedefaults": {
           "line": {
            "color": "#2a3f5f"
           }
          },
          "ternary": {
           "aaxis": {
            "gridcolor": "white",
            "linecolor": "white",
            "ticks": ""
           },
           "baxis": {
            "gridcolor": "white",
            "linecolor": "white",
            "ticks": ""
           },
           "bgcolor": "#E5ECF6",
           "caxis": {
            "gridcolor": "white",
            "linecolor": "white",
            "ticks": ""
           }
          },
          "title": {
           "x": 0.05
          },
          "xaxis": {
           "automargin": true,
           "gridcolor": "white",
           "linecolor": "white",
           "ticks": "",
           "title": {
            "standoff": 15
           },
           "zerolinecolor": "white",
           "zerolinewidth": 2
          },
          "yaxis": {
           "automargin": true,
           "gridcolor": "white",
           "linecolor": "white",
           "ticks": "",
           "title": {
            "standoff": 15
           },
           "zerolinecolor": "white",
           "zerolinewidth": 2
          }
         }
        },
        "title": {
         "text": "Quantidade de Relatórios por Mês no Ano 2020"
        },
        "xaxis": {
         "anchor": "y",
         "categoryarray": [
          "jan",
          "fev",
          "mar",
          "abr",
          "mai",
          "jun",
          "jul",
          "ago",
          "set",
          "out",
          "nov",
          "dez"
         ],
         "categoryorder": "array",
         "domain": [
          0,
          1
         ],
         "title": {
          "text": "Mês"
         }
        },
        "yaxis": {
         "anchor": "x",
         "domain": [
          0,
          1
         ],
         "title": {
          "text": "Número de Relatórios"
         }
        }
       }
      }
     },
     "metadata": {},
     "output_type": "display_data"
    },
    {
     "data": {
      "application/vnd.plotly.v1+json": {
       "config": {
        "plotlyServerURL": "https://plot.ly"
       },
       "data": [
        {
         "alignmentgroup": "True",
         "hovertemplate": "Mês=%{x}<br>Número de Relatórios=%{text}<extra></extra>",
         "legendgroup": "",
         "marker": {
          "color": "#636efa",
          "pattern": {
           "shape": ""
          }
         },
         "name": "",
         "offsetgroup": "",
         "orientation": "v",
         "showlegend": false,
         "text": [
          29,
          48,
          93,
          35,
          37,
          32,
          61,
          56,
          65,
          79,
          88,
          44
         ],
         "textposition": "outside",
         "type": "bar",
         "x": [
          "out",
          "nov",
          "dez",
          "jul",
          "set",
          "ago",
          "jun",
          "mai",
          "mar",
          "abr",
          "fev",
          "jan"
         ],
         "xaxis": "x",
         "y": [
          29,
          48,
          93,
          35,
          37,
          32,
          61,
          56,
          65,
          79,
          88,
          44
         ],
         "yaxis": "y"
        }
       ],
       "layout": {
        "barmode": "relative",
        "legend": {
         "tracegroupgap": 0
        },
        "template": {
         "data": {
          "bar": [
           {
            "error_x": {
             "color": "#2a3f5f"
            },
            "error_y": {
             "color": "#2a3f5f"
            },
            "marker": {
             "line": {
              "color": "#E5ECF6",
              "width": 0.5
             },
             "pattern": {
              "fillmode": "overlay",
              "size": 10,
              "solidity": 0.2
             }
            },
            "type": "bar"
           }
          ],
          "barpolar": [
           {
            "marker": {
             "line": {
              "color": "#E5ECF6",
              "width": 0.5
             },
             "pattern": {
              "fillmode": "overlay",
              "size": 10,
              "solidity": 0.2
             }
            },
            "type": "barpolar"
           }
          ],
          "carpet": [
           {
            "aaxis": {
             "endlinecolor": "#2a3f5f",
             "gridcolor": "white",
             "linecolor": "white",
             "minorgridcolor": "white",
             "startlinecolor": "#2a3f5f"
            },
            "baxis": {
             "endlinecolor": "#2a3f5f",
             "gridcolor": "white",
             "linecolor": "white",
             "minorgridcolor": "white",
             "startlinecolor": "#2a3f5f"
            },
            "type": "carpet"
           }
          ],
          "choropleth": [
           {
            "colorbar": {
             "outlinewidth": 0,
             "ticks": ""
            },
            "type": "choropleth"
           }
          ],
          "contour": [
           {
            "colorbar": {
             "outlinewidth": 0,
             "ticks": ""
            },
            "colorscale": [
             [
              0,
              "#0d0887"
             ],
             [
              0.1111111111111111,
              "#46039f"
             ],
             [
              0.2222222222222222,
              "#7201a8"
             ],
             [
              0.3333333333333333,
              "#9c179e"
             ],
             [
              0.4444444444444444,
              "#bd3786"
             ],
             [
              0.5555555555555556,
              "#d8576b"
             ],
             [
              0.6666666666666666,
              "#ed7953"
             ],
             [
              0.7777777777777778,
              "#fb9f3a"
             ],
             [
              0.8888888888888888,
              "#fdca26"
             ],
             [
              1,
              "#f0f921"
             ]
            ],
            "type": "contour"
           }
          ],
          "contourcarpet": [
           {
            "colorbar": {
             "outlinewidth": 0,
             "ticks": ""
            },
            "type": "contourcarpet"
           }
          ],
          "heatmap": [
           {
            "colorbar": {
             "outlinewidth": 0,
             "ticks": ""
            },
            "colorscale": [
             [
              0,
              "#0d0887"
             ],
             [
              0.1111111111111111,
              "#46039f"
             ],
             [
              0.2222222222222222,
              "#7201a8"
             ],
             [
              0.3333333333333333,
              "#9c179e"
             ],
             [
              0.4444444444444444,
              "#bd3786"
             ],
             [
              0.5555555555555556,
              "#d8576b"
             ],
             [
              0.6666666666666666,
              "#ed7953"
             ],
             [
              0.7777777777777778,
              "#fb9f3a"
             ],
             [
              0.8888888888888888,
              "#fdca26"
             ],
             [
              1,
              "#f0f921"
             ]
            ],
            "type": "heatmap"
           }
          ],
          "heatmapgl": [
           {
            "colorbar": {
             "outlinewidth": 0,
             "ticks": ""
            },
            "colorscale": [
             [
              0,
              "#0d0887"
             ],
             [
              0.1111111111111111,
              "#46039f"
             ],
             [
              0.2222222222222222,
              "#7201a8"
             ],
             [
              0.3333333333333333,
              "#9c179e"
             ],
             [
              0.4444444444444444,
              "#bd3786"
             ],
             [
              0.5555555555555556,
              "#d8576b"
             ],
             [
              0.6666666666666666,
              "#ed7953"
             ],
             [
              0.7777777777777778,
              "#fb9f3a"
             ],
             [
              0.8888888888888888,
              "#fdca26"
             ],
             [
              1,
              "#f0f921"
             ]
            ],
            "type": "heatmapgl"
           }
          ],
          "histogram": [
           {
            "marker": {
             "pattern": {
              "fillmode": "overlay",
              "size": 10,
              "solidity": 0.2
             }
            },
            "type": "histogram"
           }
          ],
          "histogram2d": [
           {
            "colorbar": {
             "outlinewidth": 0,
             "ticks": ""
            },
            "colorscale": [
             [
              0,
              "#0d0887"
             ],
             [
              0.1111111111111111,
              "#46039f"
             ],
             [
              0.2222222222222222,
              "#7201a8"
             ],
             [
              0.3333333333333333,
              "#9c179e"
             ],
             [
              0.4444444444444444,
              "#bd3786"
             ],
             [
              0.5555555555555556,
              "#d8576b"
             ],
             [
              0.6666666666666666,
              "#ed7953"
             ],
             [
              0.7777777777777778,
              "#fb9f3a"
             ],
             [
              0.8888888888888888,
              "#fdca26"
             ],
             [
              1,
              "#f0f921"
             ]
            ],
            "type": "histogram2d"
           }
          ],
          "histogram2dcontour": [
           {
            "colorbar": {
             "outlinewidth": 0,
             "ticks": ""
            },
            "colorscale": [
             [
              0,
              "#0d0887"
             ],
             [
              0.1111111111111111,
              "#46039f"
             ],
             [
              0.2222222222222222,
              "#7201a8"
             ],
             [
              0.3333333333333333,
              "#9c179e"
             ],
             [
              0.4444444444444444,
              "#bd3786"
             ],
             [
              0.5555555555555556,
              "#d8576b"
             ],
             [
              0.6666666666666666,
              "#ed7953"
             ],
             [
              0.7777777777777778,
              "#fb9f3a"
             ],
             [
              0.8888888888888888,
              "#fdca26"
             ],
             [
              1,
              "#f0f921"
             ]
            ],
            "type": "histogram2dcontour"
           }
          ],
          "mesh3d": [
           {
            "colorbar": {
             "outlinewidth": 0,
             "ticks": ""
            },
            "type": "mesh3d"
           }
          ],
          "parcoords": [
           {
            "line": {
             "colorbar": {
              "outlinewidth": 0,
              "ticks": ""
             }
            },
            "type": "parcoords"
           }
          ],
          "pie": [
           {
            "automargin": true,
            "type": "pie"
           }
          ],
          "scatter": [
           {
            "fillpattern": {
             "fillmode": "overlay",
             "size": 10,
             "solidity": 0.2
            },
            "type": "scatter"
           }
          ],
          "scatter3d": [
           {
            "line": {
             "colorbar": {
              "outlinewidth": 0,
              "ticks": ""
             }
            },
            "marker": {
             "colorbar": {
              "outlinewidth": 0,
              "ticks": ""
             }
            },
            "type": "scatter3d"
           }
          ],
          "scattercarpet": [
           {
            "marker": {
             "colorbar": {
              "outlinewidth": 0,
              "ticks": ""
             }
            },
            "type": "scattercarpet"
           }
          ],
          "scattergeo": [
           {
            "marker": {
             "colorbar": {
              "outlinewidth": 0,
              "ticks": ""
             }
            },
            "type": "scattergeo"
           }
          ],
          "scattergl": [
           {
            "marker": {
             "colorbar": {
              "outlinewidth": 0,
              "ticks": ""
             }
            },
            "type": "scattergl"
           }
          ],
          "scattermapbox": [
           {
            "marker": {
             "colorbar": {
              "outlinewidth": 0,
              "ticks": ""
             }
            },
            "type": "scattermapbox"
           }
          ],
          "scatterpolar": [
           {
            "marker": {
             "colorbar": {
              "outlinewidth": 0,
              "ticks": ""
             }
            },
            "type": "scatterpolar"
           }
          ],
          "scatterpolargl": [
           {
            "marker": {
             "colorbar": {
              "outlinewidth": 0,
              "ticks": ""
             }
            },
            "type": "scatterpolargl"
           }
          ],
          "scatterternary": [
           {
            "marker": {
             "colorbar": {
              "outlinewidth": 0,
              "ticks": ""
             }
            },
            "type": "scatterternary"
           }
          ],
          "surface": [
           {
            "colorbar": {
             "outlinewidth": 0,
             "ticks": ""
            },
            "colorscale": [
             [
              0,
              "#0d0887"
             ],
             [
              0.1111111111111111,
              "#46039f"
             ],
             [
              0.2222222222222222,
              "#7201a8"
             ],
             [
              0.3333333333333333,
              "#9c179e"
             ],
             [
              0.4444444444444444,
              "#bd3786"
             ],
             [
              0.5555555555555556,
              "#d8576b"
             ],
             [
              0.6666666666666666,
              "#ed7953"
             ],
             [
              0.7777777777777778,
              "#fb9f3a"
             ],
             [
              0.8888888888888888,
              "#fdca26"
             ],
             [
              1,
              "#f0f921"
             ]
            ],
            "type": "surface"
           }
          ],
          "table": [
           {
            "cells": {
             "fill": {
              "color": "#EBF0F8"
             },
             "line": {
              "color": "white"
             }
            },
            "header": {
             "fill": {
              "color": "#C8D4E3"
             },
             "line": {
              "color": "white"
             }
            },
            "type": "table"
           }
          ]
         },
         "layout": {
          "annotationdefaults": {
           "arrowcolor": "#2a3f5f",
           "arrowhead": 0,
           "arrowwidth": 1
          },
          "autotypenumbers": "strict",
          "coloraxis": {
           "colorbar": {
            "outlinewidth": 0,
            "ticks": ""
           }
          },
          "colorscale": {
           "diverging": [
            [
             0,
             "#8e0152"
            ],
            [
             0.1,
             "#c51b7d"
            ],
            [
             0.2,
             "#de77ae"
            ],
            [
             0.3,
             "#f1b6da"
            ],
            [
             0.4,
             "#fde0ef"
            ],
            [
             0.5,
             "#f7f7f7"
            ],
            [
             0.6,
             "#e6f5d0"
            ],
            [
             0.7,
             "#b8e186"
            ],
            [
             0.8,
             "#7fbc41"
            ],
            [
             0.9,
             "#4d9221"
            ],
            [
             1,
             "#276419"
            ]
           ],
           "sequential": [
            [
             0,
             "#0d0887"
            ],
            [
             0.1111111111111111,
             "#46039f"
            ],
            [
             0.2222222222222222,
             "#7201a8"
            ],
            [
             0.3333333333333333,
             "#9c179e"
            ],
            [
             0.4444444444444444,
             "#bd3786"
            ],
            [
             0.5555555555555556,
             "#d8576b"
            ],
            [
             0.6666666666666666,
             "#ed7953"
            ],
            [
             0.7777777777777778,
             "#fb9f3a"
            ],
            [
             0.8888888888888888,
             "#fdca26"
            ],
            [
             1,
             "#f0f921"
            ]
           ],
           "sequentialminus": [
            [
             0,
             "#0d0887"
            ],
            [
             0.1111111111111111,
             "#46039f"
            ],
            [
             0.2222222222222222,
             "#7201a8"
            ],
            [
             0.3333333333333333,
             "#9c179e"
            ],
            [
             0.4444444444444444,
             "#bd3786"
            ],
            [
             0.5555555555555556,
             "#d8576b"
            ],
            [
             0.6666666666666666,
             "#ed7953"
            ],
            [
             0.7777777777777778,
             "#fb9f3a"
            ],
            [
             0.8888888888888888,
             "#fdca26"
            ],
            [
             1,
             "#f0f921"
            ]
           ]
          },
          "colorway": [
           "#636efa",
           "#EF553B",
           "#00cc96",
           "#ab63fa",
           "#FFA15A",
           "#19d3f3",
           "#FF6692",
           "#B6E880",
           "#FF97FF",
           "#FECB52"
          ],
          "font": {
           "color": "#2a3f5f"
          },
          "geo": {
           "bgcolor": "white",
           "lakecolor": "white",
           "landcolor": "#E5ECF6",
           "showlakes": true,
           "showland": true,
           "subunitcolor": "white"
          },
          "hoverlabel": {
           "align": "left"
          },
          "hovermode": "closest",
          "mapbox": {
           "style": "light"
          },
          "paper_bgcolor": "white",
          "plot_bgcolor": "#E5ECF6",
          "polar": {
           "angularaxis": {
            "gridcolor": "white",
            "linecolor": "white",
            "ticks": ""
           },
           "bgcolor": "#E5ECF6",
           "radialaxis": {
            "gridcolor": "white",
            "linecolor": "white",
            "ticks": ""
           }
          },
          "scene": {
           "xaxis": {
            "backgroundcolor": "#E5ECF6",
            "gridcolor": "white",
            "gridwidth": 2,
            "linecolor": "white",
            "showbackground": true,
            "ticks": "",
            "zerolinecolor": "white"
           },
           "yaxis": {
            "backgroundcolor": "#E5ECF6",
            "gridcolor": "white",
            "gridwidth": 2,
            "linecolor": "white",
            "showbackground": true,
            "ticks": "",
            "zerolinecolor": "white"
           },
           "zaxis": {
            "backgroundcolor": "#E5ECF6",
            "gridcolor": "white",
            "gridwidth": 2,
            "linecolor": "white",
            "showbackground": true,
            "ticks": "",
            "zerolinecolor": "white"
           }
          },
          "shapedefaults": {
           "line": {
            "color": "#2a3f5f"
           }
          },
          "ternary": {
           "aaxis": {
            "gridcolor": "white",
            "linecolor": "white",
            "ticks": ""
           },
           "baxis": {
            "gridcolor": "white",
            "linecolor": "white",
            "ticks": ""
           },
           "bgcolor": "#E5ECF6",
           "caxis": {
            "gridcolor": "white",
            "linecolor": "white",
            "ticks": ""
           }
          },
          "title": {
           "x": 0.05
          },
          "xaxis": {
           "automargin": true,
           "gridcolor": "white",
           "linecolor": "white",
           "ticks": "",
           "title": {
            "standoff": 15
           },
           "zerolinecolor": "white",
           "zerolinewidth": 2
          },
          "yaxis": {
           "automargin": true,
           "gridcolor": "white",
           "linecolor": "white",
           "ticks": "",
           "title": {
            "standoff": 15
           },
           "zerolinecolor": "white",
           "zerolinewidth": 2
          }
         }
        },
        "title": {
         "text": "Quantidade de Relatórios por Mês no Ano 2021"
        },
        "xaxis": {
         "anchor": "y",
         "categoryarray": [
          "jan",
          "fev",
          "mar",
          "abr",
          "mai",
          "jun",
          "jul",
          "ago",
          "set",
          "out",
          "nov",
          "dez"
         ],
         "categoryorder": "array",
         "domain": [
          0,
          1
         ],
         "title": {
          "text": "Mês"
         }
        },
        "yaxis": {
         "anchor": "x",
         "domain": [
          0,
          1
         ],
         "title": {
          "text": "Número de Relatórios"
         }
        }
       }
      }
     },
     "metadata": {},
     "output_type": "display_data"
    },
    {
     "data": {
      "application/vnd.plotly.v1+json": {
       "config": {
        "plotlyServerURL": "https://plot.ly"
       },
       "data": [
        {
         "alignmentgroup": "True",
         "hovertemplate": "Mês=%{x}<br>Número de Relatórios=%{text}<extra></extra>",
         "legendgroup": "",
         "marker": {
          "color": "#636efa",
          "pattern": {
           "shape": ""
          }
         },
         "name": "",
         "offsetgroup": "",
         "orientation": "v",
         "showlegend": false,
         "text": [
          70,
          64,
          69,
          18,
          36,
          49,
          24,
          35,
          29,
          26,
          59,
          62
         ],
         "textposition": "outside",
         "type": "bar",
         "x": [
          "mar",
          "nov",
          "dez",
          "out",
          "jul",
          "jun",
          "ago",
          "set",
          "mai",
          "abr",
          "jan",
          "fev"
         ],
         "xaxis": "x",
         "y": [
          70,
          64,
          69,
          18,
          36,
          49,
          24,
          35,
          29,
          26,
          59,
          62
         ],
         "yaxis": "y"
        }
       ],
       "layout": {
        "barmode": "relative",
        "legend": {
         "tracegroupgap": 0
        },
        "template": {
         "data": {
          "bar": [
           {
            "error_x": {
             "color": "#2a3f5f"
            },
            "error_y": {
             "color": "#2a3f5f"
            },
            "marker": {
             "line": {
              "color": "#E5ECF6",
              "width": 0.5
             },
             "pattern": {
              "fillmode": "overlay",
              "size": 10,
              "solidity": 0.2
             }
            },
            "type": "bar"
           }
          ],
          "barpolar": [
           {
            "marker": {
             "line": {
              "color": "#E5ECF6",
              "width": 0.5
             },
             "pattern": {
              "fillmode": "overlay",
              "size": 10,
              "solidity": 0.2
             }
            },
            "type": "barpolar"
           }
          ],
          "carpet": [
           {
            "aaxis": {
             "endlinecolor": "#2a3f5f",
             "gridcolor": "white",
             "linecolor": "white",
             "minorgridcolor": "white",
             "startlinecolor": "#2a3f5f"
            },
            "baxis": {
             "endlinecolor": "#2a3f5f",
             "gridcolor": "white",
             "linecolor": "white",
             "minorgridcolor": "white",
             "startlinecolor": "#2a3f5f"
            },
            "type": "carpet"
           }
          ],
          "choropleth": [
           {
            "colorbar": {
             "outlinewidth": 0,
             "ticks": ""
            },
            "type": "choropleth"
           }
          ],
          "contour": [
           {
            "colorbar": {
             "outlinewidth": 0,
             "ticks": ""
            },
            "colorscale": [
             [
              0,
              "#0d0887"
             ],
             [
              0.1111111111111111,
              "#46039f"
             ],
             [
              0.2222222222222222,
              "#7201a8"
             ],
             [
              0.3333333333333333,
              "#9c179e"
             ],
             [
              0.4444444444444444,
              "#bd3786"
             ],
             [
              0.5555555555555556,
              "#d8576b"
             ],
             [
              0.6666666666666666,
              "#ed7953"
             ],
             [
              0.7777777777777778,
              "#fb9f3a"
             ],
             [
              0.8888888888888888,
              "#fdca26"
             ],
             [
              1,
              "#f0f921"
             ]
            ],
            "type": "contour"
           }
          ],
          "contourcarpet": [
           {
            "colorbar": {
             "outlinewidth": 0,
             "ticks": ""
            },
            "type": "contourcarpet"
           }
          ],
          "heatmap": [
           {
            "colorbar": {
             "outlinewidth": 0,
             "ticks": ""
            },
            "colorscale": [
             [
              0,
              "#0d0887"
             ],
             [
              0.1111111111111111,
              "#46039f"
             ],
             [
              0.2222222222222222,
              "#7201a8"
             ],
             [
              0.3333333333333333,
              "#9c179e"
             ],
             [
              0.4444444444444444,
              "#bd3786"
             ],
             [
              0.5555555555555556,
              "#d8576b"
             ],
             [
              0.6666666666666666,
              "#ed7953"
             ],
             [
              0.7777777777777778,
              "#fb9f3a"
             ],
             [
              0.8888888888888888,
              "#fdca26"
             ],
             [
              1,
              "#f0f921"
             ]
            ],
            "type": "heatmap"
           }
          ],
          "heatmapgl": [
           {
            "colorbar": {
             "outlinewidth": 0,
             "ticks": ""
            },
            "colorscale": [
             [
              0,
              "#0d0887"
             ],
             [
              0.1111111111111111,
              "#46039f"
             ],
             [
              0.2222222222222222,
              "#7201a8"
             ],
             [
              0.3333333333333333,
              "#9c179e"
             ],
             [
              0.4444444444444444,
              "#bd3786"
             ],
             [
              0.5555555555555556,
              "#d8576b"
             ],
             [
              0.6666666666666666,
              "#ed7953"
             ],
             [
              0.7777777777777778,
              "#fb9f3a"
             ],
             [
              0.8888888888888888,
              "#fdca26"
             ],
             [
              1,
              "#f0f921"
             ]
            ],
            "type": "heatmapgl"
           }
          ],
          "histogram": [
           {
            "marker": {
             "pattern": {
              "fillmode": "overlay",
              "size": 10,
              "solidity": 0.2
             }
            },
            "type": "histogram"
           }
          ],
          "histogram2d": [
           {
            "colorbar": {
             "outlinewidth": 0,
             "ticks": ""
            },
            "colorscale": [
             [
              0,
              "#0d0887"
             ],
             [
              0.1111111111111111,
              "#46039f"
             ],
             [
              0.2222222222222222,
              "#7201a8"
             ],
             [
              0.3333333333333333,
              "#9c179e"
             ],
             [
              0.4444444444444444,
              "#bd3786"
             ],
             [
              0.5555555555555556,
              "#d8576b"
             ],
             [
              0.6666666666666666,
              "#ed7953"
             ],
             [
              0.7777777777777778,
              "#fb9f3a"
             ],
             [
              0.8888888888888888,
              "#fdca26"
             ],
             [
              1,
              "#f0f921"
             ]
            ],
            "type": "histogram2d"
           }
          ],
          "histogram2dcontour": [
           {
            "colorbar": {
             "outlinewidth": 0,
             "ticks": ""
            },
            "colorscale": [
             [
              0,
              "#0d0887"
             ],
             [
              0.1111111111111111,
              "#46039f"
             ],
             [
              0.2222222222222222,
              "#7201a8"
             ],
             [
              0.3333333333333333,
              "#9c179e"
             ],
             [
              0.4444444444444444,
              "#bd3786"
             ],
             [
              0.5555555555555556,
              "#d8576b"
             ],
             [
              0.6666666666666666,
              "#ed7953"
             ],
             [
              0.7777777777777778,
              "#fb9f3a"
             ],
             [
              0.8888888888888888,
              "#fdca26"
             ],
             [
              1,
              "#f0f921"
             ]
            ],
            "type": "histogram2dcontour"
           }
          ],
          "mesh3d": [
           {
            "colorbar": {
             "outlinewidth": 0,
             "ticks": ""
            },
            "type": "mesh3d"
           }
          ],
          "parcoords": [
           {
            "line": {
             "colorbar": {
              "outlinewidth": 0,
              "ticks": ""
             }
            },
            "type": "parcoords"
           }
          ],
          "pie": [
           {
            "automargin": true,
            "type": "pie"
           }
          ],
          "scatter": [
           {
            "fillpattern": {
             "fillmode": "overlay",
             "size": 10,
             "solidity": 0.2
            },
            "type": "scatter"
           }
          ],
          "scatter3d": [
           {
            "line": {
             "colorbar": {
              "outlinewidth": 0,
              "ticks": ""
             }
            },
            "marker": {
             "colorbar": {
              "outlinewidth": 0,
              "ticks": ""
             }
            },
            "type": "scatter3d"
           }
          ],
          "scattercarpet": [
           {
            "marker": {
             "colorbar": {
              "outlinewidth": 0,
              "ticks": ""
             }
            },
            "type": "scattercarpet"
           }
          ],
          "scattergeo": [
           {
            "marker": {
             "colorbar": {
              "outlinewidth": 0,
              "ticks": ""
             }
            },
            "type": "scattergeo"
           }
          ],
          "scattergl": [
           {
            "marker": {
             "colorbar": {
              "outlinewidth": 0,
              "ticks": ""
             }
            },
            "type": "scattergl"
           }
          ],
          "scattermapbox": [
           {
            "marker": {
             "colorbar": {
              "outlinewidth": 0,
              "ticks": ""
             }
            },
            "type": "scattermapbox"
           }
          ],
          "scatterpolar": [
           {
            "marker": {
             "colorbar": {
              "outlinewidth": 0,
              "ticks": ""
             }
            },
            "type": "scatterpolar"
           }
          ],
          "scatterpolargl": [
           {
            "marker": {
             "colorbar": {
              "outlinewidth": 0,
              "ticks": ""
             }
            },
            "type": "scatterpolargl"
           }
          ],
          "scatterternary": [
           {
            "marker": {
             "colorbar": {
              "outlinewidth": 0,
              "ticks": ""
             }
            },
            "type": "scatterternary"
           }
          ],
          "surface": [
           {
            "colorbar": {
             "outlinewidth": 0,
             "ticks": ""
            },
            "colorscale": [
             [
              0,
              "#0d0887"
             ],
             [
              0.1111111111111111,
              "#46039f"
             ],
             [
              0.2222222222222222,
              "#7201a8"
             ],
             [
              0.3333333333333333,
              "#9c179e"
             ],
             [
              0.4444444444444444,
              "#bd3786"
             ],
             [
              0.5555555555555556,
              "#d8576b"
             ],
             [
              0.6666666666666666,
              "#ed7953"
             ],
             [
              0.7777777777777778,
              "#fb9f3a"
             ],
             [
              0.8888888888888888,
              "#fdca26"
             ],
             [
              1,
              "#f0f921"
             ]
            ],
            "type": "surface"
           }
          ],
          "table": [
           {
            "cells": {
             "fill": {
              "color": "#EBF0F8"
             },
             "line": {
              "color": "white"
             }
            },
            "header": {
             "fill": {
              "color": "#C8D4E3"
             },
             "line": {
              "color": "white"
             }
            },
            "type": "table"
           }
          ]
         },
         "layout": {
          "annotationdefaults": {
           "arrowcolor": "#2a3f5f",
           "arrowhead": 0,
           "arrowwidth": 1
          },
          "autotypenumbers": "strict",
          "coloraxis": {
           "colorbar": {
            "outlinewidth": 0,
            "ticks": ""
           }
          },
          "colorscale": {
           "diverging": [
            [
             0,
             "#8e0152"
            ],
            [
             0.1,
             "#c51b7d"
            ],
            [
             0.2,
             "#de77ae"
            ],
            [
             0.3,
             "#f1b6da"
            ],
            [
             0.4,
             "#fde0ef"
            ],
            [
             0.5,
             "#f7f7f7"
            ],
            [
             0.6,
             "#e6f5d0"
            ],
            [
             0.7,
             "#b8e186"
            ],
            [
             0.8,
             "#7fbc41"
            ],
            [
             0.9,
             "#4d9221"
            ],
            [
             1,
             "#276419"
            ]
           ],
           "sequential": [
            [
             0,
             "#0d0887"
            ],
            [
             0.1111111111111111,
             "#46039f"
            ],
            [
             0.2222222222222222,
             "#7201a8"
            ],
            [
             0.3333333333333333,
             "#9c179e"
            ],
            [
             0.4444444444444444,
             "#bd3786"
            ],
            [
             0.5555555555555556,
             "#d8576b"
            ],
            [
             0.6666666666666666,
             "#ed7953"
            ],
            [
             0.7777777777777778,
             "#fb9f3a"
            ],
            [
             0.8888888888888888,
             "#fdca26"
            ],
            [
             1,
             "#f0f921"
            ]
           ],
           "sequentialminus": [
            [
             0,
             "#0d0887"
            ],
            [
             0.1111111111111111,
             "#46039f"
            ],
            [
             0.2222222222222222,
             "#7201a8"
            ],
            [
             0.3333333333333333,
             "#9c179e"
            ],
            [
             0.4444444444444444,
             "#bd3786"
            ],
            [
             0.5555555555555556,
             "#d8576b"
            ],
            [
             0.6666666666666666,
             "#ed7953"
            ],
            [
             0.7777777777777778,
             "#fb9f3a"
            ],
            [
             0.8888888888888888,
             "#fdca26"
            ],
            [
             1,
             "#f0f921"
            ]
           ]
          },
          "colorway": [
           "#636efa",
           "#EF553B",
           "#00cc96",
           "#ab63fa",
           "#FFA15A",
           "#19d3f3",
           "#FF6692",
           "#B6E880",
           "#FF97FF",
           "#FECB52"
          ],
          "font": {
           "color": "#2a3f5f"
          },
          "geo": {
           "bgcolor": "white",
           "lakecolor": "white",
           "landcolor": "#E5ECF6",
           "showlakes": true,
           "showland": true,
           "subunitcolor": "white"
          },
          "hoverlabel": {
           "align": "left"
          },
          "hovermode": "closest",
          "mapbox": {
           "style": "light"
          },
          "paper_bgcolor": "white",
          "plot_bgcolor": "#E5ECF6",
          "polar": {
           "angularaxis": {
            "gridcolor": "white",
            "linecolor": "white",
            "ticks": ""
           },
           "bgcolor": "#E5ECF6",
           "radialaxis": {
            "gridcolor": "white",
            "linecolor": "white",
            "ticks": ""
           }
          },
          "scene": {
           "xaxis": {
            "backgroundcolor": "#E5ECF6",
            "gridcolor": "white",
            "gridwidth": 2,
            "linecolor": "white",
            "showbackground": true,
            "ticks": "",
            "zerolinecolor": "white"
           },
           "yaxis": {
            "backgroundcolor": "#E5ECF6",
            "gridcolor": "white",
            "gridwidth": 2,
            "linecolor": "white",
            "showbackground": true,
            "ticks": "",
            "zerolinecolor": "white"
           },
           "zaxis": {
            "backgroundcolor": "#E5ECF6",
            "gridcolor": "white",
            "gridwidth": 2,
            "linecolor": "white",
            "showbackground": true,
            "ticks": "",
            "zerolinecolor": "white"
           }
          },
          "shapedefaults": {
           "line": {
            "color": "#2a3f5f"
           }
          },
          "ternary": {
           "aaxis": {
            "gridcolor": "white",
            "linecolor": "white",
            "ticks": ""
           },
           "baxis": {
            "gridcolor": "white",
            "linecolor": "white",
            "ticks": ""
           },
           "bgcolor": "#E5ECF6",
           "caxis": {
            "gridcolor": "white",
            "linecolor": "white",
            "ticks": ""
           }
          },
          "title": {
           "x": 0.05
          },
          "xaxis": {
           "automargin": true,
           "gridcolor": "white",
           "linecolor": "white",
           "ticks": "",
           "title": {
            "standoff": 15
           },
           "zerolinecolor": "white",
           "zerolinewidth": 2
          },
          "yaxis": {
           "automargin": true,
           "gridcolor": "white",
           "linecolor": "white",
           "ticks": "",
           "title": {
            "standoff": 15
           },
           "zerolinecolor": "white",
           "zerolinewidth": 2
          }
         }
        },
        "title": {
         "text": "Quantidade de Relatórios por Mês no Ano 2022"
        },
        "xaxis": {
         "anchor": "y",
         "categoryarray": [
          "jan",
          "fev",
          "mar",
          "abr",
          "mai",
          "jun",
          "jul",
          "ago",
          "set",
          "out",
          "nov",
          "dez"
         ],
         "categoryorder": "array",
         "domain": [
          0,
          1
         ],
         "title": {
          "text": "Mês"
         }
        },
        "yaxis": {
         "anchor": "x",
         "domain": [
          0,
          1
         ],
         "title": {
          "text": "Número de Relatórios"
         }
        }
       }
      }
     },
     "metadata": {},
     "output_type": "display_data"
    },
    {
     "data": {
      "application/vnd.plotly.v1+json": {
       "config": {
        "plotlyServerURL": "https://plot.ly"
       },
       "data": [
        {
         "alignmentgroup": "True",
         "hovertemplate": "Mês=%{x}<br>Número de Relatórios=%{text}<extra></extra>",
         "legendgroup": "",
         "marker": {
          "color": "#636efa",
          "pattern": {
           "shape": ""
          }
         },
         "name": "",
         "offsetgroup": "",
         "orientation": "v",
         "showlegend": false,
         "text": [
          34,
          43,
          48,
          33,
          45,
          39,
          26,
          33,
          45,
          66,
          60,
          50
         ],
         "textposition": "outside",
         "type": "bar",
         "x": [
          "out",
          "jan",
          "mar",
          "mai",
          "nov",
          "jul",
          "fev",
          "abr",
          "ago",
          "jun",
          "set",
          "dez"
         ],
         "xaxis": "x",
         "y": [
          34,
          43,
          48,
          33,
          45,
          39,
          26,
          33,
          45,
          66,
          60,
          50
         ],
         "yaxis": "y"
        }
       ],
       "layout": {
        "barmode": "relative",
        "legend": {
         "tracegroupgap": 0
        },
        "template": {
         "data": {
          "bar": [
           {
            "error_x": {
             "color": "#2a3f5f"
            },
            "error_y": {
             "color": "#2a3f5f"
            },
            "marker": {
             "line": {
              "color": "#E5ECF6",
              "width": 0.5
             },
             "pattern": {
              "fillmode": "overlay",
              "size": 10,
              "solidity": 0.2
             }
            },
            "type": "bar"
           }
          ],
          "barpolar": [
           {
            "marker": {
             "line": {
              "color": "#E5ECF6",
              "width": 0.5
             },
             "pattern": {
              "fillmode": "overlay",
              "size": 10,
              "solidity": 0.2
             }
            },
            "type": "barpolar"
           }
          ],
          "carpet": [
           {
            "aaxis": {
             "endlinecolor": "#2a3f5f",
             "gridcolor": "white",
             "linecolor": "white",
             "minorgridcolor": "white",
             "startlinecolor": "#2a3f5f"
            },
            "baxis": {
             "endlinecolor": "#2a3f5f",
             "gridcolor": "white",
             "linecolor": "white",
             "minorgridcolor": "white",
             "startlinecolor": "#2a3f5f"
            },
            "type": "carpet"
           }
          ],
          "choropleth": [
           {
            "colorbar": {
             "outlinewidth": 0,
             "ticks": ""
            },
            "type": "choropleth"
           }
          ],
          "contour": [
           {
            "colorbar": {
             "outlinewidth": 0,
             "ticks": ""
            },
            "colorscale": [
             [
              0,
              "#0d0887"
             ],
             [
              0.1111111111111111,
              "#46039f"
             ],
             [
              0.2222222222222222,
              "#7201a8"
             ],
             [
              0.3333333333333333,
              "#9c179e"
             ],
             [
              0.4444444444444444,
              "#bd3786"
             ],
             [
              0.5555555555555556,
              "#d8576b"
             ],
             [
              0.6666666666666666,
              "#ed7953"
             ],
             [
              0.7777777777777778,
              "#fb9f3a"
             ],
             [
              0.8888888888888888,
              "#fdca26"
             ],
             [
              1,
              "#f0f921"
             ]
            ],
            "type": "contour"
           }
          ],
          "contourcarpet": [
           {
            "colorbar": {
             "outlinewidth": 0,
             "ticks": ""
            },
            "type": "contourcarpet"
           }
          ],
          "heatmap": [
           {
            "colorbar": {
             "outlinewidth": 0,
             "ticks": ""
            },
            "colorscale": [
             [
              0,
              "#0d0887"
             ],
             [
              0.1111111111111111,
              "#46039f"
             ],
             [
              0.2222222222222222,
              "#7201a8"
             ],
             [
              0.3333333333333333,
              "#9c179e"
             ],
             [
              0.4444444444444444,
              "#bd3786"
             ],
             [
              0.5555555555555556,
              "#d8576b"
             ],
             [
              0.6666666666666666,
              "#ed7953"
             ],
             [
              0.7777777777777778,
              "#fb9f3a"
             ],
             [
              0.8888888888888888,
              "#fdca26"
             ],
             [
              1,
              "#f0f921"
             ]
            ],
            "type": "heatmap"
           }
          ],
          "heatmapgl": [
           {
            "colorbar": {
             "outlinewidth": 0,
             "ticks": ""
            },
            "colorscale": [
             [
              0,
              "#0d0887"
             ],
             [
              0.1111111111111111,
              "#46039f"
             ],
             [
              0.2222222222222222,
              "#7201a8"
             ],
             [
              0.3333333333333333,
              "#9c179e"
             ],
             [
              0.4444444444444444,
              "#bd3786"
             ],
             [
              0.5555555555555556,
              "#d8576b"
             ],
             [
              0.6666666666666666,
              "#ed7953"
             ],
             [
              0.7777777777777778,
              "#fb9f3a"
             ],
             [
              0.8888888888888888,
              "#fdca26"
             ],
             [
              1,
              "#f0f921"
             ]
            ],
            "type": "heatmapgl"
           }
          ],
          "histogram": [
           {
            "marker": {
             "pattern": {
              "fillmode": "overlay",
              "size": 10,
              "solidity": 0.2
             }
            },
            "type": "histogram"
           }
          ],
          "histogram2d": [
           {
            "colorbar": {
             "outlinewidth": 0,
             "ticks": ""
            },
            "colorscale": [
             [
              0,
              "#0d0887"
             ],
             [
              0.1111111111111111,
              "#46039f"
             ],
             [
              0.2222222222222222,
              "#7201a8"
             ],
             [
              0.3333333333333333,
              "#9c179e"
             ],
             [
              0.4444444444444444,
              "#bd3786"
             ],
             [
              0.5555555555555556,
              "#d8576b"
             ],
             [
              0.6666666666666666,
              "#ed7953"
             ],
             [
              0.7777777777777778,
              "#fb9f3a"
             ],
             [
              0.8888888888888888,
              "#fdca26"
             ],
             [
              1,
              "#f0f921"
             ]
            ],
            "type": "histogram2d"
           }
          ],
          "histogram2dcontour": [
           {
            "colorbar": {
             "outlinewidth": 0,
             "ticks": ""
            },
            "colorscale": [
             [
              0,
              "#0d0887"
             ],
             [
              0.1111111111111111,
              "#46039f"
             ],
             [
              0.2222222222222222,
              "#7201a8"
             ],
             [
              0.3333333333333333,
              "#9c179e"
             ],
             [
              0.4444444444444444,
              "#bd3786"
             ],
             [
              0.5555555555555556,
              "#d8576b"
             ],
             [
              0.6666666666666666,
              "#ed7953"
             ],
             [
              0.7777777777777778,
              "#fb9f3a"
             ],
             [
              0.8888888888888888,
              "#fdca26"
             ],
             [
              1,
              "#f0f921"
             ]
            ],
            "type": "histogram2dcontour"
           }
          ],
          "mesh3d": [
           {
            "colorbar": {
             "outlinewidth": 0,
             "ticks": ""
            },
            "type": "mesh3d"
           }
          ],
          "parcoords": [
           {
            "line": {
             "colorbar": {
              "outlinewidth": 0,
              "ticks": ""
             }
            },
            "type": "parcoords"
           }
          ],
          "pie": [
           {
            "automargin": true,
            "type": "pie"
           }
          ],
          "scatter": [
           {
            "fillpattern": {
             "fillmode": "overlay",
             "size": 10,
             "solidity": 0.2
            },
            "type": "scatter"
           }
          ],
          "scatter3d": [
           {
            "line": {
             "colorbar": {
              "outlinewidth": 0,
              "ticks": ""
             }
            },
            "marker": {
             "colorbar": {
              "outlinewidth": 0,
              "ticks": ""
             }
            },
            "type": "scatter3d"
           }
          ],
          "scattercarpet": [
           {
            "marker": {
             "colorbar": {
              "outlinewidth": 0,
              "ticks": ""
             }
            },
            "type": "scattercarpet"
           }
          ],
          "scattergeo": [
           {
            "marker": {
             "colorbar": {
              "outlinewidth": 0,
              "ticks": ""
             }
            },
            "type": "scattergeo"
           }
          ],
          "scattergl": [
           {
            "marker": {
             "colorbar": {
              "outlinewidth": 0,
              "ticks": ""
             }
            },
            "type": "scattergl"
           }
          ],
          "scattermapbox": [
           {
            "marker": {
             "colorbar": {
              "outlinewidth": 0,
              "ticks": ""
             }
            },
            "type": "scattermapbox"
           }
          ],
          "scatterpolar": [
           {
            "marker": {
             "colorbar": {
              "outlinewidth": 0,
              "ticks": ""
             }
            },
            "type": "scatterpolar"
           }
          ],
          "scatterpolargl": [
           {
            "marker": {
             "colorbar": {
              "outlinewidth": 0,
              "ticks": ""
             }
            },
            "type": "scatterpolargl"
           }
          ],
          "scatterternary": [
           {
            "marker": {
             "colorbar": {
              "outlinewidth": 0,
              "ticks": ""
             }
            },
            "type": "scatterternary"
           }
          ],
          "surface": [
           {
            "colorbar": {
             "outlinewidth": 0,
             "ticks": ""
            },
            "colorscale": [
             [
              0,
              "#0d0887"
             ],
             [
              0.1111111111111111,
              "#46039f"
             ],
             [
              0.2222222222222222,
              "#7201a8"
             ],
             [
              0.3333333333333333,
              "#9c179e"
             ],
             [
              0.4444444444444444,
              "#bd3786"
             ],
             [
              0.5555555555555556,
              "#d8576b"
             ],
             [
              0.6666666666666666,
              "#ed7953"
             ],
             [
              0.7777777777777778,
              "#fb9f3a"
             ],
             [
              0.8888888888888888,
              "#fdca26"
             ],
             [
              1,
              "#f0f921"
             ]
            ],
            "type": "surface"
           }
          ],
          "table": [
           {
            "cells": {
             "fill": {
              "color": "#EBF0F8"
             },
             "line": {
              "color": "white"
             }
            },
            "header": {
             "fill": {
              "color": "#C8D4E3"
             },
             "line": {
              "color": "white"
             }
            },
            "type": "table"
           }
          ]
         },
         "layout": {
          "annotationdefaults": {
           "arrowcolor": "#2a3f5f",
           "arrowhead": 0,
           "arrowwidth": 1
          },
          "autotypenumbers": "strict",
          "coloraxis": {
           "colorbar": {
            "outlinewidth": 0,
            "ticks": ""
           }
          },
          "colorscale": {
           "diverging": [
            [
             0,
             "#8e0152"
            ],
            [
             0.1,
             "#c51b7d"
            ],
            [
             0.2,
             "#de77ae"
            ],
            [
             0.3,
             "#f1b6da"
            ],
            [
             0.4,
             "#fde0ef"
            ],
            [
             0.5,
             "#f7f7f7"
            ],
            [
             0.6,
             "#e6f5d0"
            ],
            [
             0.7,
             "#b8e186"
            ],
            [
             0.8,
             "#7fbc41"
            ],
            [
             0.9,
             "#4d9221"
            ],
            [
             1,
             "#276419"
            ]
           ],
           "sequential": [
            [
             0,
             "#0d0887"
            ],
            [
             0.1111111111111111,
             "#46039f"
            ],
            [
             0.2222222222222222,
             "#7201a8"
            ],
            [
             0.3333333333333333,
             "#9c179e"
            ],
            [
             0.4444444444444444,
             "#bd3786"
            ],
            [
             0.5555555555555556,
             "#d8576b"
            ],
            [
             0.6666666666666666,
             "#ed7953"
            ],
            [
             0.7777777777777778,
             "#fb9f3a"
            ],
            [
             0.8888888888888888,
             "#fdca26"
            ],
            [
             1,
             "#f0f921"
            ]
           ],
           "sequentialminus": [
            [
             0,
             "#0d0887"
            ],
            [
             0.1111111111111111,
             "#46039f"
            ],
            [
             0.2222222222222222,
             "#7201a8"
            ],
            [
             0.3333333333333333,
             "#9c179e"
            ],
            [
             0.4444444444444444,
             "#bd3786"
            ],
            [
             0.5555555555555556,
             "#d8576b"
            ],
            [
             0.6666666666666666,
             "#ed7953"
            ],
            [
             0.7777777777777778,
             "#fb9f3a"
            ],
            [
             0.8888888888888888,
             "#fdca26"
            ],
            [
             1,
             "#f0f921"
            ]
           ]
          },
          "colorway": [
           "#636efa",
           "#EF553B",
           "#00cc96",
           "#ab63fa",
           "#FFA15A",
           "#19d3f3",
           "#FF6692",
           "#B6E880",
           "#FF97FF",
           "#FECB52"
          ],
          "font": {
           "color": "#2a3f5f"
          },
          "geo": {
           "bgcolor": "white",
           "lakecolor": "white",
           "landcolor": "#E5ECF6",
           "showlakes": true,
           "showland": true,
           "subunitcolor": "white"
          },
          "hoverlabel": {
           "align": "left"
          },
          "hovermode": "closest",
          "mapbox": {
           "style": "light"
          },
          "paper_bgcolor": "white",
          "plot_bgcolor": "#E5ECF6",
          "polar": {
           "angularaxis": {
            "gridcolor": "white",
            "linecolor": "white",
            "ticks": ""
           },
           "bgcolor": "#E5ECF6",
           "radialaxis": {
            "gridcolor": "white",
            "linecolor": "white",
            "ticks": ""
           }
          },
          "scene": {
           "xaxis": {
            "backgroundcolor": "#E5ECF6",
            "gridcolor": "white",
            "gridwidth": 2,
            "linecolor": "white",
            "showbackground": true,
            "ticks": "",
            "zerolinecolor": "white"
           },
           "yaxis": {
            "backgroundcolor": "#E5ECF6",
            "gridcolor": "white",
            "gridwidth": 2,
            "linecolor": "white",
            "showbackground": true,
            "ticks": "",
            "zerolinecolor": "white"
           },
           "zaxis": {
            "backgroundcolor": "#E5ECF6",
            "gridcolor": "white",
            "gridwidth": 2,
            "linecolor": "white",
            "showbackground": true,
            "ticks": "",
            "zerolinecolor": "white"
           }
          },
          "shapedefaults": {
           "line": {
            "color": "#2a3f5f"
           }
          },
          "ternary": {
           "aaxis": {
            "gridcolor": "white",
            "linecolor": "white",
            "ticks": ""
           },
           "baxis": {
            "gridcolor": "white",
            "linecolor": "white",
            "ticks": ""
           },
           "bgcolor": "#E5ECF6",
           "caxis": {
            "gridcolor": "white",
            "linecolor": "white",
            "ticks": ""
           }
          },
          "title": {
           "x": 0.05
          },
          "xaxis": {
           "automargin": true,
           "gridcolor": "white",
           "linecolor": "white",
           "ticks": "",
           "title": {
            "standoff": 15
           },
           "zerolinecolor": "white",
           "zerolinewidth": 2
          },
          "yaxis": {
           "automargin": true,
           "gridcolor": "white",
           "linecolor": "white",
           "ticks": "",
           "title": {
            "standoff": 15
           },
           "zerolinecolor": "white",
           "zerolinewidth": 2
          }
         }
        },
        "title": {
         "text": "Quantidade de Relatórios por Mês no Ano 2023"
        },
        "xaxis": {
         "anchor": "y",
         "categoryarray": [
          "jan",
          "fev",
          "mar",
          "abr",
          "mai",
          "jun",
          "jul",
          "ago",
          "set",
          "out",
          "nov",
          "dez"
         ],
         "categoryorder": "array",
         "domain": [
          0,
          1
         ],
         "title": {
          "text": "Mês"
         }
        },
        "yaxis": {
         "anchor": "x",
         "domain": [
          0,
          1
         ],
         "title": {
          "text": "Número de Relatórios"
         }
        }
       }
      }
     },
     "metadata": {},
     "output_type": "display_data"
    },
    {
     "data": {
      "application/vnd.plotly.v1+json": {
       "config": {
        "plotlyServerURL": "https://plot.ly"
       },
       "data": [
        {
         "alignmentgroup": "True",
         "hovertemplate": "Mês=%{x}<br>Número de Relatórios=%{text}<extra></extra>",
         "legendgroup": "",
         "marker": {
          "color": "#636efa",
          "pattern": {
           "shape": ""
          }
         },
         "name": "",
         "offsetgroup": "",
         "orientation": "v",
         "showlegend": false,
         "text": [
          10,
          null,
          48,
          null,
          40,
          18,
          134,
          8,
          null,
          null,
          null,
          null
         ],
         "textposition": "outside",
         "type": "bar",
         "x": [
          "jan",
          "ago",
          "jun",
          "jul",
          "fev",
          "mar",
          "abr",
          "mai",
          "set",
          "out",
          "nov",
          "dez"
         ],
         "xaxis": "x",
         "y": [
          10,
          null,
          48,
          null,
          40,
          18,
          134,
          8,
          null,
          null,
          null,
          null
         ],
         "yaxis": "y"
        }
       ],
       "layout": {
        "barmode": "relative",
        "legend": {
         "tracegroupgap": 0
        },
        "template": {
         "data": {
          "bar": [
           {
            "error_x": {
             "color": "#2a3f5f"
            },
            "error_y": {
             "color": "#2a3f5f"
            },
            "marker": {
             "line": {
              "color": "#E5ECF6",
              "width": 0.5
             },
             "pattern": {
              "fillmode": "overlay",
              "size": 10,
              "solidity": 0.2
             }
            },
            "type": "bar"
           }
          ],
          "barpolar": [
           {
            "marker": {
             "line": {
              "color": "#E5ECF6",
              "width": 0.5
             },
             "pattern": {
              "fillmode": "overlay",
              "size": 10,
              "solidity": 0.2
             }
            },
            "type": "barpolar"
           }
          ],
          "carpet": [
           {
            "aaxis": {
             "endlinecolor": "#2a3f5f",
             "gridcolor": "white",
             "linecolor": "white",
             "minorgridcolor": "white",
             "startlinecolor": "#2a3f5f"
            },
            "baxis": {
             "endlinecolor": "#2a3f5f",
             "gridcolor": "white",
             "linecolor": "white",
             "minorgridcolor": "white",
             "startlinecolor": "#2a3f5f"
            },
            "type": "carpet"
           }
          ],
          "choropleth": [
           {
            "colorbar": {
             "outlinewidth": 0,
             "ticks": ""
            },
            "type": "choropleth"
           }
          ],
          "contour": [
           {
            "colorbar": {
             "outlinewidth": 0,
             "ticks": ""
            },
            "colorscale": [
             [
              0,
              "#0d0887"
             ],
             [
              0.1111111111111111,
              "#46039f"
             ],
             [
              0.2222222222222222,
              "#7201a8"
             ],
             [
              0.3333333333333333,
              "#9c179e"
             ],
             [
              0.4444444444444444,
              "#bd3786"
             ],
             [
              0.5555555555555556,
              "#d8576b"
             ],
             [
              0.6666666666666666,
              "#ed7953"
             ],
             [
              0.7777777777777778,
              "#fb9f3a"
             ],
             [
              0.8888888888888888,
              "#fdca26"
             ],
             [
              1,
              "#f0f921"
             ]
            ],
            "type": "contour"
           }
          ],
          "contourcarpet": [
           {
            "colorbar": {
             "outlinewidth": 0,
             "ticks": ""
            },
            "type": "contourcarpet"
           }
          ],
          "heatmap": [
           {
            "colorbar": {
             "outlinewidth": 0,
             "ticks": ""
            },
            "colorscale": [
             [
              0,
              "#0d0887"
             ],
             [
              0.1111111111111111,
              "#46039f"
             ],
             [
              0.2222222222222222,
              "#7201a8"
             ],
             [
              0.3333333333333333,
              "#9c179e"
             ],
             [
              0.4444444444444444,
              "#bd3786"
             ],
             [
              0.5555555555555556,
              "#d8576b"
             ],
             [
              0.6666666666666666,
              "#ed7953"
             ],
             [
              0.7777777777777778,
              "#fb9f3a"
             ],
             [
              0.8888888888888888,
              "#fdca26"
             ],
             [
              1,
              "#f0f921"
             ]
            ],
            "type": "heatmap"
           }
          ],
          "heatmapgl": [
           {
            "colorbar": {
             "outlinewidth": 0,
             "ticks": ""
            },
            "colorscale": [
             [
              0,
              "#0d0887"
             ],
             [
              0.1111111111111111,
              "#46039f"
             ],
             [
              0.2222222222222222,
              "#7201a8"
             ],
             [
              0.3333333333333333,
              "#9c179e"
             ],
             [
              0.4444444444444444,
              "#bd3786"
             ],
             [
              0.5555555555555556,
              "#d8576b"
             ],
             [
              0.6666666666666666,
              "#ed7953"
             ],
             [
              0.7777777777777778,
              "#fb9f3a"
             ],
             [
              0.8888888888888888,
              "#fdca26"
             ],
             [
              1,
              "#f0f921"
             ]
            ],
            "type": "heatmapgl"
           }
          ],
          "histogram": [
           {
            "marker": {
             "pattern": {
              "fillmode": "overlay",
              "size": 10,
              "solidity": 0.2
             }
            },
            "type": "histogram"
           }
          ],
          "histogram2d": [
           {
            "colorbar": {
             "outlinewidth": 0,
             "ticks": ""
            },
            "colorscale": [
             [
              0,
              "#0d0887"
             ],
             [
              0.1111111111111111,
              "#46039f"
             ],
             [
              0.2222222222222222,
              "#7201a8"
             ],
             [
              0.3333333333333333,
              "#9c179e"
             ],
             [
              0.4444444444444444,
              "#bd3786"
             ],
             [
              0.5555555555555556,
              "#d8576b"
             ],
             [
              0.6666666666666666,
              "#ed7953"
             ],
             [
              0.7777777777777778,
              "#fb9f3a"
             ],
             [
              0.8888888888888888,
              "#fdca26"
             ],
             [
              1,
              "#f0f921"
             ]
            ],
            "type": "histogram2d"
           }
          ],
          "histogram2dcontour": [
           {
            "colorbar": {
             "outlinewidth": 0,
             "ticks": ""
            },
            "colorscale": [
             [
              0,
              "#0d0887"
             ],
             [
              0.1111111111111111,
              "#46039f"
             ],
             [
              0.2222222222222222,
              "#7201a8"
             ],
             [
              0.3333333333333333,
              "#9c179e"
             ],
             [
              0.4444444444444444,
              "#bd3786"
             ],
             [
              0.5555555555555556,
              "#d8576b"
             ],
             [
              0.6666666666666666,
              "#ed7953"
             ],
             [
              0.7777777777777778,
              "#fb9f3a"
             ],
             [
              0.8888888888888888,
              "#fdca26"
             ],
             [
              1,
              "#f0f921"
             ]
            ],
            "type": "histogram2dcontour"
           }
          ],
          "mesh3d": [
           {
            "colorbar": {
             "outlinewidth": 0,
             "ticks": ""
            },
            "type": "mesh3d"
           }
          ],
          "parcoords": [
           {
            "line": {
             "colorbar": {
              "outlinewidth": 0,
              "ticks": ""
             }
            },
            "type": "parcoords"
           }
          ],
          "pie": [
           {
            "automargin": true,
            "type": "pie"
           }
          ],
          "scatter": [
           {
            "fillpattern": {
             "fillmode": "overlay",
             "size": 10,
             "solidity": 0.2
            },
            "type": "scatter"
           }
          ],
          "scatter3d": [
           {
            "line": {
             "colorbar": {
              "outlinewidth": 0,
              "ticks": ""
             }
            },
            "marker": {
             "colorbar": {
              "outlinewidth": 0,
              "ticks": ""
             }
            },
            "type": "scatter3d"
           }
          ],
          "scattercarpet": [
           {
            "marker": {
             "colorbar": {
              "outlinewidth": 0,
              "ticks": ""
             }
            },
            "type": "scattercarpet"
           }
          ],
          "scattergeo": [
           {
            "marker": {
             "colorbar": {
              "outlinewidth": 0,
              "ticks": ""
             }
            },
            "type": "scattergeo"
           }
          ],
          "scattergl": [
           {
            "marker": {
             "colorbar": {
              "outlinewidth": 0,
              "ticks": ""
             }
            },
            "type": "scattergl"
           }
          ],
          "scattermapbox": [
           {
            "marker": {
             "colorbar": {
              "outlinewidth": 0,
              "ticks": ""
             }
            },
            "type": "scattermapbox"
           }
          ],
          "scatterpolar": [
           {
            "marker": {
             "colorbar": {
              "outlinewidth": 0,
              "ticks": ""
             }
            },
            "type": "scatterpolar"
           }
          ],
          "scatterpolargl": [
           {
            "marker": {
             "colorbar": {
              "outlinewidth": 0,
              "ticks": ""
             }
            },
            "type": "scatterpolargl"
           }
          ],
          "scatterternary": [
           {
            "marker": {
             "colorbar": {
              "outlinewidth": 0,
              "ticks": ""
             }
            },
            "type": "scatterternary"
           }
          ],
          "surface": [
           {
            "colorbar": {
             "outlinewidth": 0,
             "ticks": ""
            },
            "colorscale": [
             [
              0,
              "#0d0887"
             ],
             [
              0.1111111111111111,
              "#46039f"
             ],
             [
              0.2222222222222222,
              "#7201a8"
             ],
             [
              0.3333333333333333,
              "#9c179e"
             ],
             [
              0.4444444444444444,
              "#bd3786"
             ],
             [
              0.5555555555555556,
              "#d8576b"
             ],
             [
              0.6666666666666666,
              "#ed7953"
             ],
             [
              0.7777777777777778,
              "#fb9f3a"
             ],
             [
              0.8888888888888888,
              "#fdca26"
             ],
             [
              1,
              "#f0f921"
             ]
            ],
            "type": "surface"
           }
          ],
          "table": [
           {
            "cells": {
             "fill": {
              "color": "#EBF0F8"
             },
             "line": {
              "color": "white"
             }
            },
            "header": {
             "fill": {
              "color": "#C8D4E3"
             },
             "line": {
              "color": "white"
             }
            },
            "type": "table"
           }
          ]
         },
         "layout": {
          "annotationdefaults": {
           "arrowcolor": "#2a3f5f",
           "arrowhead": 0,
           "arrowwidth": 1
          },
          "autotypenumbers": "strict",
          "coloraxis": {
           "colorbar": {
            "outlinewidth": 0,
            "ticks": ""
           }
          },
          "colorscale": {
           "diverging": [
            [
             0,
             "#8e0152"
            ],
            [
             0.1,
             "#c51b7d"
            ],
            [
             0.2,
             "#de77ae"
            ],
            [
             0.3,
             "#f1b6da"
            ],
            [
             0.4,
             "#fde0ef"
            ],
            [
             0.5,
             "#f7f7f7"
            ],
            [
             0.6,
             "#e6f5d0"
            ],
            [
             0.7,
             "#b8e186"
            ],
            [
             0.8,
             "#7fbc41"
            ],
            [
             0.9,
             "#4d9221"
            ],
            [
             1,
             "#276419"
            ]
           ],
           "sequential": [
            [
             0,
             "#0d0887"
            ],
            [
             0.1111111111111111,
             "#46039f"
            ],
            [
             0.2222222222222222,
             "#7201a8"
            ],
            [
             0.3333333333333333,
             "#9c179e"
            ],
            [
             0.4444444444444444,
             "#bd3786"
            ],
            [
             0.5555555555555556,
             "#d8576b"
            ],
            [
             0.6666666666666666,
             "#ed7953"
            ],
            [
             0.7777777777777778,
             "#fb9f3a"
            ],
            [
             0.8888888888888888,
             "#fdca26"
            ],
            [
             1,
             "#f0f921"
            ]
           ],
           "sequentialminus": [
            [
             0,
             "#0d0887"
            ],
            [
             0.1111111111111111,
             "#46039f"
            ],
            [
             0.2222222222222222,
             "#7201a8"
            ],
            [
             0.3333333333333333,
             "#9c179e"
            ],
            [
             0.4444444444444444,
             "#bd3786"
            ],
            [
             0.5555555555555556,
             "#d8576b"
            ],
            [
             0.6666666666666666,
             "#ed7953"
            ],
            [
             0.7777777777777778,
             "#fb9f3a"
            ],
            [
             0.8888888888888888,
             "#fdca26"
            ],
            [
             1,
             "#f0f921"
            ]
           ]
          },
          "colorway": [
           "#636efa",
           "#EF553B",
           "#00cc96",
           "#ab63fa",
           "#FFA15A",
           "#19d3f3",
           "#FF6692",
           "#B6E880",
           "#FF97FF",
           "#FECB52"
          ],
          "font": {
           "color": "#2a3f5f"
          },
          "geo": {
           "bgcolor": "white",
           "lakecolor": "white",
           "landcolor": "#E5ECF6",
           "showlakes": true,
           "showland": true,
           "subunitcolor": "white"
          },
          "hoverlabel": {
           "align": "left"
          },
          "hovermode": "closest",
          "mapbox": {
           "style": "light"
          },
          "paper_bgcolor": "white",
          "plot_bgcolor": "#E5ECF6",
          "polar": {
           "angularaxis": {
            "gridcolor": "white",
            "linecolor": "white",
            "ticks": ""
           },
           "bgcolor": "#E5ECF6",
           "radialaxis": {
            "gridcolor": "white",
            "linecolor": "white",
            "ticks": ""
           }
          },
          "scene": {
           "xaxis": {
            "backgroundcolor": "#E5ECF6",
            "gridcolor": "white",
            "gridwidth": 2,
            "linecolor": "white",
            "showbackground": true,
            "ticks": "",
            "zerolinecolor": "white"
           },
           "yaxis": {
            "backgroundcolor": "#E5ECF6",
            "gridcolor": "white",
            "gridwidth": 2,
            "linecolor": "white",
            "showbackground": true,
            "ticks": "",
            "zerolinecolor": "white"
           },
           "zaxis": {
            "backgroundcolor": "#E5ECF6",
            "gridcolor": "white",
            "gridwidth": 2,
            "linecolor": "white",
            "showbackground": true,
            "ticks": "",
            "zerolinecolor": "white"
           }
          },
          "shapedefaults": {
           "line": {
            "color": "#2a3f5f"
           }
          },
          "ternary": {
           "aaxis": {
            "gridcolor": "white",
            "linecolor": "white",
            "ticks": ""
           },
           "baxis": {
            "gridcolor": "white",
            "linecolor": "white",
            "ticks": ""
           },
           "bgcolor": "#E5ECF6",
           "caxis": {
            "gridcolor": "white",
            "linecolor": "white",
            "ticks": ""
           }
          },
          "title": {
           "x": 0.05
          },
          "xaxis": {
           "automargin": true,
           "gridcolor": "white",
           "linecolor": "white",
           "ticks": "",
           "title": {
            "standoff": 15
           },
           "zerolinecolor": "white",
           "zerolinewidth": 2
          },
          "yaxis": {
           "automargin": true,
           "gridcolor": "white",
           "linecolor": "white",
           "ticks": "",
           "title": {
            "standoff": 15
           },
           "zerolinecolor": "white",
           "zerolinewidth": 2
          }
         }
        },
        "title": {
         "text": "Quantidade de Relatórios por Mês no Ano 2024"
        },
        "xaxis": {
         "anchor": "y",
         "categoryarray": [
          "jan",
          "fev",
          "mar",
          "abr",
          "mai",
          "jun",
          "jul",
          "ago",
          "set",
          "out",
          "nov",
          "dez"
         ],
         "categoryorder": "array",
         "domain": [
          0,
          1
         ],
         "title": {
          "text": "Mês"
         }
        },
        "yaxis": {
         "anchor": "x",
         "domain": [
          0,
          1
         ],
         "title": {
          "text": "Número de Relatórios"
         }
        }
       }
      }
     },
     "metadata": {},
     "output_type": "display_data"
    }
   ],
   "source": [
    "# Converter a coluna 'Data' para o formato de datetime\n",
    "tabela_relatorios['Data'] = pd.to_datetime(tabela_relatorios['Data'], format='%Y-%m-%d')\n",
    "\n",
    "# Substituir '#NULL' e valores vazios por NaN\n",
    "tabela_relatorios['Ano'] = tabela_relatorios['Ano'].replace(\"#NULL!\", pd.NA)\n",
    "tabela_relatorios = tabela_relatorios.dropna(subset=['Ano'])  # Remover linhas onde 'Ano' é NaN\n",
    "\n",
    "# Converter a coluna 'Ano' para int para evitar problemas posteriores\n",
    "tabela_relatorios['Ano'] = tabela_relatorios['Ano'].astype(int)\n",
    "\n",
    "# Criar um dicionário para armazenar as contagens por ano e por mês\n",
    "contagens_ano_mes = {}\n",
    "\n",
    "# Obter a lista de anos únicos\n",
    "anos = tabela_relatorios['Ano'].unique()\n",
    "\n",
    "# Iterar sobre cada ano para contar os meses\n",
    "for ano in anos:\n",
    "    # Filtrar o DataFrame para o ano atual\n",
    "    df_ano = tabela_relatorios[tabela_relatorios['Ano'] == ano]\n",
    "    \n",
    "    # Contar quantas linhas contêm cada mês no ano atual\n",
    "    contagens_mes = df_ano['Data'].dt.month.value_counts().sort_index()\n",
    "\n",
    "    # Converter os números dos meses (1 a 12) para os nomes dos meses\n",
    "    contagens_mes.index = contagens_mes.index.map({\n",
    "        1: 'jan', 2: 'fev', 3: 'mar', 4: 'abr', 5: 'mai', 6: 'jun',\n",
    "        7: 'jul', 8: 'ago', 9: 'set', 10: 'out', 11: 'nov', 12: 'dez'\n",
    "    })\n",
    "    \n",
    "    # Armazenar os resultados no dicionário\n",
    "    contagens_ano_mes[ano] = contagens_mes\n",
    "\n",
    "# Converter o dicionário 'contagens_ano_mes' em um DataFrame\n",
    "df_contagens = pd.DataFrame.from_dict(contagens_ano_mes, orient='index').reset_index()\n",
    "df_contagens = df_contagens.rename(columns={'index': 'Ano'})\n",
    "\n",
    "# Transformar o DataFrame para que tenhamos uma estrutura mais adequada para gráficos (long format)\n",
    "df_contagens_long = df_contagens.melt(id_vars=['Ano'], var_name='Mês', value_name='Quantidade')\n",
    "\n",
    "# Ordenar os meses de forma adequada\n",
    "meses_ordenados = ['jan', 'fev', 'mar', 'abr', 'mai', 'jun', 'jul', 'ago', 'set', 'out', 'nov', 'dez']\n",
    "df_contagens_long['Mês'] = pd.Categorical(df_contagens_long['Mês'], categories=meses_ordenados, ordered=True)\n",
    "\n",
    "# Ordenar os anos em ordem crescente\n",
    "df_contagens_long = df_contagens_long.sort_values(by='Ano')\n",
    "\n",
    "# Criar gráficos de barras para cada ano e exibir a distribuição de relatórios por mês\n",
    "anos_unicos = sorted(df_contagens_long['Ano'].unique())\n",
    "\n",
    "for ano in anos_unicos:\n",
    "    df_ano = df_contagens_long[df_contagens_long['Ano'] == ano]\n",
    "    \n",
    "    fig = px.bar(df_ano, x='Mês', y='Quantidade',\n",
    "                 title=f'Quantidade de Relatórios por Mês no Ano {ano}',\n",
    "                 labels={'Mês': 'Mês', 'Quantidade': 'Número de Relatórios'},\n",
    "                 text='Quantidade')\n",
    "    \n",
    "    fig.update_traces(textposition='outside')\n",
    "    fig.update_layout(xaxis=dict(categoryorder='array', categoryarray=meses_ordenados),\n",
    "                      yaxis_title='Número de Relatórios',\n",
    "                      xaxis_title='Mês')\n",
    "    \n",
    "    # Exibir o gráfico\n",
    "    fig.show()\n"
   ]
  },
  {
   "cell_type": "markdown",
   "metadata": {},
   "source": [
    "## 11. Critérios Mensais\n",
    "Aqui veremos a quais critérios estão mais presentes ao longos dos meses de cada anoa de relatórios publicados."
   ]
  },
  {
   "cell_type": "code",
   "execution_count": 185,
   "metadata": {},
   "outputs": [
    {
     "data": {
      "application/vnd.plotly.v1+json": {
       "config": {
        "plotlyServerURL": "https://plot.ly"
       },
       "data": [
        {
         "hovertemplate": "Critério=Matriz<br>Mês=%{x}<br>Porcentagem de Adoção (%)=%{y}<extra></extra>",
         "legendgroup": "Matriz",
         "line": {
          "color": "#636efa",
          "dash": "solid"
         },
         "marker": {
          "symbol": "circle"
         },
         "mode": "lines+markers",
         "name": "Matriz",
         "orientation": "v",
         "showlegend": true,
         "type": "scatter",
         "x": [
          "jan",
          "fev",
          "mar",
          "abr",
          "mai",
          "jun",
          "jul",
          "ago",
          "set",
          "out",
          "nov",
          "dez"
         ],
         "xaxis": "x",
         "y": [
          0,
          0,
          0,
          0,
          0.33,
          0,
          0,
          0,
          0,
          0,
          0,
          0
         ],
         "yaxis": "y"
        },
        {
         "hovertemplate": "Critério=A<br>Mês=%{x}<br>Porcentagem de Adoção (%)=%{y}<extra></extra>",
         "legendgroup": "A",
         "line": {
          "color": "#EF553B",
          "dash": "solid"
         },
         "marker": {
          "symbol": "circle"
         },
         "mode": "lines+markers",
         "name": "A",
         "orientation": "v",
         "showlegend": true,
         "type": "scatter",
         "x": [
          "jan",
          "fev",
          "mar",
          "abr",
          "mai",
          "jun",
          "jul",
          "ago",
          "set",
          "out",
          "nov",
          "dez"
         ],
         "xaxis": "x",
         "y": [
          16.1,
          27.27,
          22.43,
          19.15,
          17.22,
          11.76,
          20.47,
          17.11,
          17.14,
          27.78,
          59.23,
          34.87
         ],
         "yaxis": "y"
        },
        {
         "hovertemplate": "Critério=B<br>Mês=%{x}<br>Porcentagem de Adoção (%)=%{y}<extra></extra>",
         "legendgroup": "B",
         "line": {
          "color": "#00cc96",
          "dash": "solid"
         },
         "marker": {
          "symbol": "circle"
         },
         "mode": "lines+markers",
         "name": "B",
         "orientation": "v",
         "showlegend": true,
         "type": "scatter",
         "x": [
          "jan",
          "fev",
          "mar",
          "abr",
          "mai",
          "jun",
          "jul",
          "ago",
          "set",
          "out",
          "nov",
          "dez"
         ],
         "xaxis": "x",
         "y": [
          0.85,
          9.09,
          5.61,
          6.38,
          3.64,
          3.36,
          5.26,
          4.81,
          7.14,
          8.33,
          16.15,
          10.92
         ],
         "yaxis": "y"
        },
        {
         "hovertemplate": "Critério=C<br>Mês=%{x}<br>Porcentagem de Adoção (%)=%{y}<extra></extra>",
         "legendgroup": "C",
         "line": {
          "color": "#ab63fa",
          "dash": "solid"
         },
         "marker": {
          "symbol": "circle"
         },
         "mode": "lines+markers",
         "name": "C",
         "orientation": "v",
         "showlegend": true,
         "type": "scatter",
         "x": [
          "jan",
          "fev",
          "mar",
          "abr",
          "mai",
          "jun",
          "jul",
          "ago",
          "set",
          "out",
          "nov",
          "dez"
         ],
         "xaxis": "x",
         "y": [
          51.69,
          23.64,
          45.79,
          60.99,
          60.26,
          68.07,
          66.08,
          77.54,
          62.86,
          63.89,
          71.54,
          61.34
         ],
         "yaxis": "y"
        },
        {
         "hovertemplate": "Critério=D<br>Mês=%{x}<br>Porcentagem de Adoção (%)=%{y}<extra></extra>",
         "legendgroup": "D",
         "line": {
          "color": "#FFA15A",
          "dash": "solid"
         },
         "marker": {
          "symbol": "circle"
         },
         "mode": "lines+markers",
         "name": "D",
         "orientation": "v",
         "showlegend": true,
         "type": "scatter",
         "x": [
          "jan",
          "fev",
          "mar",
          "abr",
          "mai",
          "jun",
          "jul",
          "ago",
          "set",
          "out",
          "nov",
          "dez"
         ],
         "xaxis": "x",
         "y": [
          14.41,
          49.09,
          48.6,
          45.39,
          41.06,
          21.85,
          32.16,
          34.22,
          62.86,
          57.78,
          76.92,
          63.45
         ],
         "yaxis": "y"
        },
        {
         "hovertemplate": "Critério=E<br>Mês=%{x}<br>Porcentagem de Adoção (%)=%{y}<extra></extra>",
         "legendgroup": "E",
         "line": {
          "color": "#19d3f3",
          "dash": "solid"
         },
         "marker": {
          "symbol": "circle"
         },
         "mode": "lines+markers",
         "name": "E",
         "orientation": "v",
         "showlegend": true,
         "type": "scatter",
         "x": [
          "jan",
          "fev",
          "mar",
          "abr",
          "mai",
          "jun",
          "jul",
          "ago",
          "set",
          "out",
          "nov",
          "dez"
         ],
         "xaxis": "x",
         "y": [
          99.15,
          99.09,
          100,
          100,
          99.34,
          96.64,
          100,
          100,
          100,
          100,
          99.23,
          100
         ],
         "yaxis": "y"
        },
        {
         "hovertemplate": "Critério=F<br>Mês=%{x}<br>Porcentagem de Adoção (%)=%{y}<extra></extra>",
         "legendgroup": "F",
         "line": {
          "color": "#FF6692",
          "dash": "solid"
         },
         "marker": {
          "symbol": "circle"
         },
         "mode": "lines+markers",
         "name": "F",
         "orientation": "v",
         "showlegend": true,
         "type": "scatter",
         "x": [
          "jan",
          "fev",
          "mar",
          "abr",
          "mai",
          "jun",
          "jul",
          "ago",
          "set",
          "out",
          "nov",
          "dez"
         ],
         "xaxis": "x",
         "y": [
          43.22,
          97.27,
          98.13,
          97.87,
          95.36,
          87.39,
          87.13,
          83.42,
          97.14,
          95,
          96.15,
          93.7
         ],
         "yaxis": "y"
        },
        {
         "hovertemplate": "Critério=G<br>Mês=%{x}<br>Porcentagem de Adoção (%)=%{y}<extra></extra>",
         "legendgroup": "G",
         "line": {
          "color": "#B6E880",
          "dash": "solid"
         },
         "marker": {
          "symbol": "circle"
         },
         "mode": "lines+markers",
         "name": "G",
         "orientation": "v",
         "showlegend": true,
         "type": "scatter",
         "x": [
          "jan",
          "fev",
          "mar",
          "abr",
          "mai",
          "jun",
          "jul",
          "ago",
          "set",
          "out",
          "nov",
          "dez"
         ],
         "xaxis": "x",
         "y": [
          33.9,
          95.45,
          95.33,
          93.62,
          89.74,
          73.11,
          78.36,
          79.68,
          94.29,
          93.89,
          95.38,
          91.6
         ],
         "yaxis": "y"
        },
        {
         "hovertemplate": "Critério=H<br>Mês=%{x}<br>Porcentagem de Adoção (%)=%{y}<extra></extra>",
         "legendgroup": "H",
         "line": {
          "color": "#FF97FF",
          "dash": "solid"
         },
         "marker": {
          "symbol": "circle"
         },
         "mode": "lines+markers",
         "name": "H",
         "orientation": "v",
         "showlegend": true,
         "type": "scatter",
         "x": [
          "jan",
          "fev",
          "mar",
          "abr",
          "mai",
          "jun",
          "jul",
          "ago",
          "set",
          "out",
          "nov",
          "dez"
         ],
         "xaxis": "x",
         "y": [
          41.53,
          52.73,
          37.38,
          43.97,
          28.81,
          19.33,
          28.65,
          25.13,
          24.29,
          51.67,
          62.31,
          42.86
         ],
         "yaxis": "y"
        },
        {
         "hovertemplate": "Critério=I<br>Mês=%{x}<br>Porcentagem de Adoção (%)=%{y}<extra></extra>",
         "legendgroup": "I",
         "line": {
          "color": "#FECB52",
          "dash": "solid"
         },
         "marker": {
          "symbol": "circle"
         },
         "mode": "lines+markers",
         "name": "I",
         "orientation": "v",
         "showlegend": true,
         "type": "scatter",
         "x": [
          "jan",
          "fev",
          "mar",
          "abr",
          "mai",
          "jun",
          "jul",
          "ago",
          "set",
          "out",
          "nov",
          "dez"
         ],
         "xaxis": "x",
         "y": [
          2.54,
          2.73,
          0,
          1.42,
          0.66,
          0,
          0,
          0,
          1.43,
          0,
          0,
          0
         ],
         "yaxis": "y"
        },
        {
         "hovertemplate": "Critério=J<br>Mês=%{x}<br>Porcentagem de Adoção (%)=%{y}<extra></extra>",
         "legendgroup": "J",
         "line": {
          "color": "#636efa",
          "dash": "solid"
         },
         "marker": {
          "symbol": "circle"
         },
         "mode": "lines+markers",
         "name": "J",
         "orientation": "v",
         "showlegend": true,
         "type": "scatter",
         "x": [
          "jan",
          "fev",
          "mar",
          "abr",
          "mai",
          "jun",
          "jul",
          "ago",
          "set",
          "out",
          "nov",
          "dez"
         ],
         "xaxis": "x",
         "y": [
          0.85,
          4.55,
          3.74,
          1.42,
          0,
          0,
          0.58,
          0,
          0,
          0,
          0.77,
          1.26
         ],
         "yaxis": "y"
        },
        {
         "hovertemplate": "Critério=K<br>Mês=%{x}<br>Porcentagem de Adoção (%)=%{y}<extra></extra>",
         "legendgroup": "K",
         "line": {
          "color": "#EF553B",
          "dash": "solid"
         },
         "marker": {
          "symbol": "circle"
         },
         "mode": "lines+markers",
         "name": "K",
         "orientation": "v",
         "showlegend": true,
         "type": "scatter",
         "x": [
          "jan",
          "fev",
          "mar",
          "abr",
          "mai",
          "jun",
          "jul",
          "ago",
          "set",
          "out",
          "nov",
          "dez"
         ],
         "xaxis": "x",
         "y": [
          44.07,
          57.27,
          37.38,
          50.35,
          27.48,
          24.37,
          28.65,
          37.43,
          60,
          56.67,
          66.92,
          48.32
         ],
         "yaxis": "y"
        },
        {
         "hovertemplate": "Critério=L<br>Mês=%{x}<br>Porcentagem de Adoção (%)=%{y}<extra></extra>",
         "legendgroup": "L",
         "line": {
          "color": "#00cc96",
          "dash": "solid"
         },
         "marker": {
          "symbol": "circle"
         },
         "mode": "lines+markers",
         "name": "L",
         "orientation": "v",
         "showlegend": true,
         "type": "scatter",
         "x": [
          "jan",
          "fev",
          "mar",
          "abr",
          "mai",
          "jun",
          "jul",
          "ago",
          "set",
          "out",
          "nov",
          "dez"
         ],
         "xaxis": "x",
         "y": [
          0.85,
          1.82,
          0,
          0.71,
          0.33,
          1.68,
          0,
          2.14,
          1.43,
          0.56,
          0,
          1.68
         ],
         "yaxis": "y"
        },
        {
         "hovertemplate": "Critério=M<br>Mês=%{x}<br>Porcentagem de Adoção (%)=%{y}<extra></extra>",
         "legendgroup": "M",
         "line": {
          "color": "#ab63fa",
          "dash": "solid"
         },
         "marker": {
          "symbol": "circle"
         },
         "mode": "lines+markers",
         "name": "M",
         "orientation": "v",
         "showlegend": true,
         "type": "scatter",
         "x": [
          "jan",
          "fev",
          "mar",
          "abr",
          "mai",
          "jun",
          "jul",
          "ago",
          "set",
          "out",
          "nov",
          "dez"
         ],
         "xaxis": "x",
         "y": [
          77.12,
          85.45,
          84.11,
          80.14,
          67.88,
          55.46,
          61.4,
          57.75,
          71.43,
          70,
          81.54,
          72.27
         ],
         "yaxis": "y"
        },
        {
         "hovertemplate": "Critério=N<br>Mês=%{x}<br>Porcentagem de Adoção (%)=%{y}<extra></extra>",
         "legendgroup": "N",
         "line": {
          "color": "#FFA15A",
          "dash": "solid"
         },
         "marker": {
          "symbol": "circle"
         },
         "mode": "lines+markers",
         "name": "N",
         "orientation": "v",
         "showlegend": true,
         "type": "scatter",
         "x": [
          "jan",
          "fev",
          "mar",
          "abr",
          "mai",
          "jun",
          "jul",
          "ago",
          "set",
          "out",
          "nov",
          "dez"
         ],
         "xaxis": "x",
         "y": [
          94.92,
          98.18,
          99.07,
          99.29,
          99.67,
          99.16,
          98.83,
          100,
          100,
          100,
          99.23,
          100
         ],
         "yaxis": "y"
        }
       ],
       "layout": {
        "legend": {
         "title": {
          "text": "Critério"
         },
         "tracegroupgap": 0
        },
        "template": {
         "data": {
          "bar": [
           {
            "error_x": {
             "color": "#2a3f5f"
            },
            "error_y": {
             "color": "#2a3f5f"
            },
            "marker": {
             "line": {
              "color": "#E5ECF6",
              "width": 0.5
             },
             "pattern": {
              "fillmode": "overlay",
              "size": 10,
              "solidity": 0.2
             }
            },
            "type": "bar"
           }
          ],
          "barpolar": [
           {
            "marker": {
             "line": {
              "color": "#E5ECF6",
              "width": 0.5
             },
             "pattern": {
              "fillmode": "overlay",
              "size": 10,
              "solidity": 0.2
             }
            },
            "type": "barpolar"
           }
          ],
          "carpet": [
           {
            "aaxis": {
             "endlinecolor": "#2a3f5f",
             "gridcolor": "white",
             "linecolor": "white",
             "minorgridcolor": "white",
             "startlinecolor": "#2a3f5f"
            },
            "baxis": {
             "endlinecolor": "#2a3f5f",
             "gridcolor": "white",
             "linecolor": "white",
             "minorgridcolor": "white",
             "startlinecolor": "#2a3f5f"
            },
            "type": "carpet"
           }
          ],
          "choropleth": [
           {
            "colorbar": {
             "outlinewidth": 0,
             "ticks": ""
            },
            "type": "choropleth"
           }
          ],
          "contour": [
           {
            "colorbar": {
             "outlinewidth": 0,
             "ticks": ""
            },
            "colorscale": [
             [
              0,
              "#0d0887"
             ],
             [
              0.1111111111111111,
              "#46039f"
             ],
             [
              0.2222222222222222,
              "#7201a8"
             ],
             [
              0.3333333333333333,
              "#9c179e"
             ],
             [
              0.4444444444444444,
              "#bd3786"
             ],
             [
              0.5555555555555556,
              "#d8576b"
             ],
             [
              0.6666666666666666,
              "#ed7953"
             ],
             [
              0.7777777777777778,
              "#fb9f3a"
             ],
             [
              0.8888888888888888,
              "#fdca26"
             ],
             [
              1,
              "#f0f921"
             ]
            ],
            "type": "contour"
           }
          ],
          "contourcarpet": [
           {
            "colorbar": {
             "outlinewidth": 0,
             "ticks": ""
            },
            "type": "contourcarpet"
           }
          ],
          "heatmap": [
           {
            "colorbar": {
             "outlinewidth": 0,
             "ticks": ""
            },
            "colorscale": [
             [
              0,
              "#0d0887"
             ],
             [
              0.1111111111111111,
              "#46039f"
             ],
             [
              0.2222222222222222,
              "#7201a8"
             ],
             [
              0.3333333333333333,
              "#9c179e"
             ],
             [
              0.4444444444444444,
              "#bd3786"
             ],
             [
              0.5555555555555556,
              "#d8576b"
             ],
             [
              0.6666666666666666,
              "#ed7953"
             ],
             [
              0.7777777777777778,
              "#fb9f3a"
             ],
             [
              0.8888888888888888,
              "#fdca26"
             ],
             [
              1,
              "#f0f921"
             ]
            ],
            "type": "heatmap"
           }
          ],
          "heatmapgl": [
           {
            "colorbar": {
             "outlinewidth": 0,
             "ticks": ""
            },
            "colorscale": [
             [
              0,
              "#0d0887"
             ],
             [
              0.1111111111111111,
              "#46039f"
             ],
             [
              0.2222222222222222,
              "#7201a8"
             ],
             [
              0.3333333333333333,
              "#9c179e"
             ],
             [
              0.4444444444444444,
              "#bd3786"
             ],
             [
              0.5555555555555556,
              "#d8576b"
             ],
             [
              0.6666666666666666,
              "#ed7953"
             ],
             [
              0.7777777777777778,
              "#fb9f3a"
             ],
             [
              0.8888888888888888,
              "#fdca26"
             ],
             [
              1,
              "#f0f921"
             ]
            ],
            "type": "heatmapgl"
           }
          ],
          "histogram": [
           {
            "marker": {
             "pattern": {
              "fillmode": "overlay",
              "size": 10,
              "solidity": 0.2
             }
            },
            "type": "histogram"
           }
          ],
          "histogram2d": [
           {
            "colorbar": {
             "outlinewidth": 0,
             "ticks": ""
            },
            "colorscale": [
             [
              0,
              "#0d0887"
             ],
             [
              0.1111111111111111,
              "#46039f"
             ],
             [
              0.2222222222222222,
              "#7201a8"
             ],
             [
              0.3333333333333333,
              "#9c179e"
             ],
             [
              0.4444444444444444,
              "#bd3786"
             ],
             [
              0.5555555555555556,
              "#d8576b"
             ],
             [
              0.6666666666666666,
              "#ed7953"
             ],
             [
              0.7777777777777778,
              "#fb9f3a"
             ],
             [
              0.8888888888888888,
              "#fdca26"
             ],
             [
              1,
              "#f0f921"
             ]
            ],
            "type": "histogram2d"
           }
          ],
          "histogram2dcontour": [
           {
            "colorbar": {
             "outlinewidth": 0,
             "ticks": ""
            },
            "colorscale": [
             [
              0,
              "#0d0887"
             ],
             [
              0.1111111111111111,
              "#46039f"
             ],
             [
              0.2222222222222222,
              "#7201a8"
             ],
             [
              0.3333333333333333,
              "#9c179e"
             ],
             [
              0.4444444444444444,
              "#bd3786"
             ],
             [
              0.5555555555555556,
              "#d8576b"
             ],
             [
              0.6666666666666666,
              "#ed7953"
             ],
             [
              0.7777777777777778,
              "#fb9f3a"
             ],
             [
              0.8888888888888888,
              "#fdca26"
             ],
             [
              1,
              "#f0f921"
             ]
            ],
            "type": "histogram2dcontour"
           }
          ],
          "mesh3d": [
           {
            "colorbar": {
             "outlinewidth": 0,
             "ticks": ""
            },
            "type": "mesh3d"
           }
          ],
          "parcoords": [
           {
            "line": {
             "colorbar": {
              "outlinewidth": 0,
              "ticks": ""
             }
            },
            "type": "parcoords"
           }
          ],
          "pie": [
           {
            "automargin": true,
            "type": "pie"
           }
          ],
          "scatter": [
           {
            "fillpattern": {
             "fillmode": "overlay",
             "size": 10,
             "solidity": 0.2
            },
            "type": "scatter"
           }
          ],
          "scatter3d": [
           {
            "line": {
             "colorbar": {
              "outlinewidth": 0,
              "ticks": ""
             }
            },
            "marker": {
             "colorbar": {
              "outlinewidth": 0,
              "ticks": ""
             }
            },
            "type": "scatter3d"
           }
          ],
          "scattercarpet": [
           {
            "marker": {
             "colorbar": {
              "outlinewidth": 0,
              "ticks": ""
             }
            },
            "type": "scattercarpet"
           }
          ],
          "scattergeo": [
           {
            "marker": {
             "colorbar": {
              "outlinewidth": 0,
              "ticks": ""
             }
            },
            "type": "scattergeo"
           }
          ],
          "scattergl": [
           {
            "marker": {
             "colorbar": {
              "outlinewidth": 0,
              "ticks": ""
             }
            },
            "type": "scattergl"
           }
          ],
          "scattermapbox": [
           {
            "marker": {
             "colorbar": {
              "outlinewidth": 0,
              "ticks": ""
             }
            },
            "type": "scattermapbox"
           }
          ],
          "scatterpolar": [
           {
            "marker": {
             "colorbar": {
              "outlinewidth": 0,
              "ticks": ""
             }
            },
            "type": "scatterpolar"
           }
          ],
          "scatterpolargl": [
           {
            "marker": {
             "colorbar": {
              "outlinewidth": 0,
              "ticks": ""
             }
            },
            "type": "scatterpolargl"
           }
          ],
          "scatterternary": [
           {
            "marker": {
             "colorbar": {
              "outlinewidth": 0,
              "ticks": ""
             }
            },
            "type": "scatterternary"
           }
          ],
          "surface": [
           {
            "colorbar": {
             "outlinewidth": 0,
             "ticks": ""
            },
            "colorscale": [
             [
              0,
              "#0d0887"
             ],
             [
              0.1111111111111111,
              "#46039f"
             ],
             [
              0.2222222222222222,
              "#7201a8"
             ],
             [
              0.3333333333333333,
              "#9c179e"
             ],
             [
              0.4444444444444444,
              "#bd3786"
             ],
             [
              0.5555555555555556,
              "#d8576b"
             ],
             [
              0.6666666666666666,
              "#ed7953"
             ],
             [
              0.7777777777777778,
              "#fb9f3a"
             ],
             [
              0.8888888888888888,
              "#fdca26"
             ],
             [
              1,
              "#f0f921"
             ]
            ],
            "type": "surface"
           }
          ],
          "table": [
           {
            "cells": {
             "fill": {
              "color": "#EBF0F8"
             },
             "line": {
              "color": "white"
             }
            },
            "header": {
             "fill": {
              "color": "#C8D4E3"
             },
             "line": {
              "color": "white"
             }
            },
            "type": "table"
           }
          ]
         },
         "layout": {
          "annotationdefaults": {
           "arrowcolor": "#2a3f5f",
           "arrowhead": 0,
           "arrowwidth": 1
          },
          "autotypenumbers": "strict",
          "coloraxis": {
           "colorbar": {
            "outlinewidth": 0,
            "ticks": ""
           }
          },
          "colorscale": {
           "diverging": [
            [
             0,
             "#8e0152"
            ],
            [
             0.1,
             "#c51b7d"
            ],
            [
             0.2,
             "#de77ae"
            ],
            [
             0.3,
             "#f1b6da"
            ],
            [
             0.4,
             "#fde0ef"
            ],
            [
             0.5,
             "#f7f7f7"
            ],
            [
             0.6,
             "#e6f5d0"
            ],
            [
             0.7,
             "#b8e186"
            ],
            [
             0.8,
             "#7fbc41"
            ],
            [
             0.9,
             "#4d9221"
            ],
            [
             1,
             "#276419"
            ]
           ],
           "sequential": [
            [
             0,
             "#0d0887"
            ],
            [
             0.1111111111111111,
             "#46039f"
            ],
            [
             0.2222222222222222,
             "#7201a8"
            ],
            [
             0.3333333333333333,
             "#9c179e"
            ],
            [
             0.4444444444444444,
             "#bd3786"
            ],
            [
             0.5555555555555556,
             "#d8576b"
            ],
            [
             0.6666666666666666,
             "#ed7953"
            ],
            [
             0.7777777777777778,
             "#fb9f3a"
            ],
            [
             0.8888888888888888,
             "#fdca26"
            ],
            [
             1,
             "#f0f921"
            ]
           ],
           "sequentialminus": [
            [
             0,
             "#0d0887"
            ],
            [
             0.1111111111111111,
             "#46039f"
            ],
            [
             0.2222222222222222,
             "#7201a8"
            ],
            [
             0.3333333333333333,
             "#9c179e"
            ],
            [
             0.4444444444444444,
             "#bd3786"
            ],
            [
             0.5555555555555556,
             "#d8576b"
            ],
            [
             0.6666666666666666,
             "#ed7953"
            ],
            [
             0.7777777777777778,
             "#fb9f3a"
            ],
            [
             0.8888888888888888,
             "#fdca26"
            ],
            [
             1,
             "#f0f921"
            ]
           ]
          },
          "colorway": [
           "#636efa",
           "#EF553B",
           "#00cc96",
           "#ab63fa",
           "#FFA15A",
           "#19d3f3",
           "#FF6692",
           "#B6E880",
           "#FF97FF",
           "#FECB52"
          ],
          "font": {
           "color": "#2a3f5f"
          },
          "geo": {
           "bgcolor": "white",
           "lakecolor": "white",
           "landcolor": "#E5ECF6",
           "showlakes": true,
           "showland": true,
           "subunitcolor": "white"
          },
          "hoverlabel": {
           "align": "left"
          },
          "hovermode": "closest",
          "mapbox": {
           "style": "light"
          },
          "paper_bgcolor": "white",
          "plot_bgcolor": "#E5ECF6",
          "polar": {
           "angularaxis": {
            "gridcolor": "white",
            "linecolor": "white",
            "ticks": ""
           },
           "bgcolor": "#E5ECF6",
           "radialaxis": {
            "gridcolor": "white",
            "linecolor": "white",
            "ticks": ""
           }
          },
          "scene": {
           "xaxis": {
            "backgroundcolor": "#E5ECF6",
            "gridcolor": "white",
            "gridwidth": 2,
            "linecolor": "white",
            "showbackground": true,
            "ticks": "",
            "zerolinecolor": "white"
           },
           "yaxis": {
            "backgroundcolor": "#E5ECF6",
            "gridcolor": "white",
            "gridwidth": 2,
            "linecolor": "white",
            "showbackground": true,
            "ticks": "",
            "zerolinecolor": "white"
           },
           "zaxis": {
            "backgroundcolor": "#E5ECF6",
            "gridcolor": "white",
            "gridwidth": 2,
            "linecolor": "white",
            "showbackground": true,
            "ticks": "",
            "zerolinecolor": "white"
           }
          },
          "shapedefaults": {
           "line": {
            "color": "#2a3f5f"
           }
          },
          "ternary": {
           "aaxis": {
            "gridcolor": "white",
            "linecolor": "white",
            "ticks": ""
           },
           "baxis": {
            "gridcolor": "white",
            "linecolor": "white",
            "ticks": ""
           },
           "bgcolor": "#E5ECF6",
           "caxis": {
            "gridcolor": "white",
            "linecolor": "white",
            "ticks": ""
           }
          },
          "title": {
           "x": 0.05
          },
          "xaxis": {
           "automargin": true,
           "gridcolor": "white",
           "linecolor": "white",
           "ticks": "",
           "title": {
            "standoff": 15
           },
           "zerolinecolor": "white",
           "zerolinewidth": 2
          },
          "yaxis": {
           "automargin": true,
           "gridcolor": "white",
           "linecolor": "white",
           "ticks": "",
           "title": {
            "standoff": 15
           },
           "zerolinecolor": "white",
           "zerolinewidth": 2
          }
         }
        },
        "title": {
         "text": "Porcentagem de Adoção dos Critérios por Mês no Ano 2018"
        },
        "xaxis": {
         "anchor": "y",
         "domain": [
          0,
          1
         ],
         "tickmode": "array",
         "ticktext": [
          "Jan",
          "Fev",
          "Mar",
          "Abr",
          "Mai",
          "Jun",
          "Jul",
          "Ago",
          "Set",
          "Out",
          "Nov",
          "Dez"
         ],
         "tickvals": [
          "jan",
          "fev",
          "mar",
          "abr",
          "mai",
          "jun",
          "jul",
          "ago",
          "set",
          "out",
          "nov",
          "dez"
         ],
         "title": {
          "text": "Mês"
         }
        },
        "yaxis": {
         "anchor": "x",
         "domain": [
          0,
          1
         ],
         "title": {
          "text": "Porcentagem de Adoção (%)"
         }
        }
       }
      }
     },
     "metadata": {},
     "output_type": "display_data"
    },
    {
     "data": {
      "application/vnd.plotly.v1+json": {
       "config": {
        "plotlyServerURL": "https://plot.ly"
       },
       "data": [
        {
         "hovertemplate": "Critério=Matriz<br>Mês=%{x}<br>Porcentagem de Adoção (%)=%{y}<extra></extra>",
         "legendgroup": "Matriz",
         "line": {
          "color": "#636efa",
          "dash": "solid"
         },
         "marker": {
          "symbol": "circle"
         },
         "mode": "lines+markers",
         "name": "Matriz",
         "orientation": "v",
         "showlegend": true,
         "type": "scatter",
         "x": [
          "jan",
          "fev",
          "mar",
          "abr",
          "mai",
          "jun",
          "jul",
          "ago",
          "set",
          "out",
          "nov",
          "dez"
         ],
         "xaxis": "x",
         "y": [
          0,
          0,
          0,
          0,
          0,
          0.92,
          0,
          0,
          1.89,
          1.04,
          0,
          1.4
         ],
         "yaxis": "y"
        },
        {
         "hovertemplate": "Critério=A<br>Mês=%{x}<br>Porcentagem de Adoção (%)=%{y}<extra></extra>",
         "legendgroup": "A",
         "line": {
          "color": "#EF553B",
          "dash": "solid"
         },
         "marker": {
          "symbol": "circle"
         },
         "mode": "lines+markers",
         "name": "A",
         "orientation": "v",
         "showlegend": true,
         "type": "scatter",
         "x": [
          "jan",
          "fev",
          "mar",
          "abr",
          "mai",
          "jun",
          "jul",
          "ago",
          "set",
          "out",
          "nov",
          "dez"
         ],
         "xaxis": "x",
         "y": [
          50,
          31.37,
          28.74,
          25,
          22.3,
          35.78,
          14.94,
          37.37,
          31.13,
          30.21,
          38.1,
          49.07
         ],
         "yaxis": "y"
        },
        {
         "hovertemplate": "Critério=B<br>Mês=%{x}<br>Porcentagem de Adoção (%)=%{y}<extra></extra>",
         "legendgroup": "B",
         "line": {
          "color": "#00cc96",
          "dash": "solid"
         },
         "marker": {
          "symbol": "circle"
         },
         "mode": "lines+markers",
         "name": "B",
         "orientation": "v",
         "showlegend": true,
         "type": "scatter",
         "x": [
          "jan",
          "fev",
          "mar",
          "abr",
          "mai",
          "jun",
          "jul",
          "ago",
          "set",
          "out",
          "nov",
          "dez"
         ],
         "xaxis": "x",
         "y": [
          21.43,
          9.8,
          9.2,
          1.25,
          2.16,
          6.42,
          1.72,
          1.01,
          3.77,
          1.04,
          6.35,
          4.21
         ],
         "yaxis": "y"
        },
        {
         "hovertemplate": "Critério=C<br>Mês=%{x}<br>Porcentagem de Adoção (%)=%{y}<extra></extra>",
         "legendgroup": "C",
         "line": {
          "color": "#ab63fa",
          "dash": "solid"
         },
         "marker": {
          "symbol": "circle"
         },
         "mode": "lines+markers",
         "name": "C",
         "orientation": "v",
         "showlegend": true,
         "type": "scatter",
         "x": [
          "jan",
          "fev",
          "mar",
          "abr",
          "mai",
          "jun",
          "jul",
          "ago",
          "set",
          "out",
          "nov",
          "dez"
         ],
         "xaxis": "x",
         "y": [
          80.95,
          86.27,
          94.25,
          100,
          98.56,
          100,
          99.43,
          100,
          100,
          98.96,
          100,
          100
         ],
         "yaxis": "y"
        },
        {
         "hovertemplate": "Critério=D<br>Mês=%{x}<br>Porcentagem de Adoção (%)=%{y}<extra></extra>",
         "legendgroup": "D",
         "line": {
          "color": "#FFA15A",
          "dash": "solid"
         },
         "marker": {
          "symbol": "circle"
         },
         "mode": "lines+markers",
         "name": "D",
         "orientation": "v",
         "showlegend": true,
         "type": "scatter",
         "x": [
          "jan",
          "fev",
          "mar",
          "abr",
          "mai",
          "jun",
          "jul",
          "ago",
          "set",
          "out",
          "nov",
          "dez"
         ],
         "xaxis": "x",
         "y": [
          59.52,
          49.02,
          50.57,
          47.5,
          42.45,
          53.21,
          5.75,
          8.08,
          14.15,
          10.42,
          20.63,
          42.99
         ],
         "yaxis": "y"
        },
        {
         "hovertemplate": "Critério=E<br>Mês=%{x}<br>Porcentagem de Adoção (%)=%{y}<extra></extra>",
         "legendgroup": "E",
         "line": {
          "color": "#19d3f3",
          "dash": "solid"
         },
         "marker": {
          "symbol": "circle"
         },
         "mode": "lines+markers",
         "name": "E",
         "orientation": "v",
         "showlegend": true,
         "type": "scatter",
         "x": [
          "jan",
          "fev",
          "mar",
          "abr",
          "mai",
          "jun",
          "jul",
          "ago",
          "set",
          "out",
          "nov",
          "dez"
         ],
         "xaxis": "x",
         "y": [
          97.62,
          98.04,
          98.85,
          100,
          96.4,
          97.25,
          100,
          100,
          99.06,
          100,
          100,
          100
         ],
         "yaxis": "y"
        },
        {
         "hovertemplate": "Critério=F<br>Mês=%{x}<br>Porcentagem de Adoção (%)=%{y}<extra></extra>",
         "legendgroup": "F",
         "line": {
          "color": "#FF6692",
          "dash": "solid"
         },
         "marker": {
          "symbol": "circle"
         },
         "mode": "lines+markers",
         "name": "F",
         "orientation": "v",
         "showlegend": true,
         "type": "scatter",
         "x": [
          "jan",
          "fev",
          "mar",
          "abr",
          "mai",
          "jun",
          "jul",
          "ago",
          "set",
          "out",
          "nov",
          "dez"
         ],
         "xaxis": "x",
         "y": [
          88.1,
          94.12,
          97.7,
          82.5,
          65.47,
          83.49,
          79.31,
          79.8,
          83.96,
          84.38,
          88.89,
          87.85
         ],
         "yaxis": "y"
        },
        {
         "hovertemplate": "Critério=G<br>Mês=%{x}<br>Porcentagem de Adoção (%)=%{y}<extra></extra>",
         "legendgroup": "G",
         "line": {
          "color": "#B6E880",
          "dash": "solid"
         },
         "marker": {
          "symbol": "circle"
         },
         "mode": "lines+markers",
         "name": "G",
         "orientation": "v",
         "showlegend": true,
         "type": "scatter",
         "x": [
          "jan",
          "fev",
          "mar",
          "abr",
          "mai",
          "jun",
          "jul",
          "ago",
          "set",
          "out",
          "nov",
          "dez"
         ],
         "xaxis": "x",
         "y": [
          80.95,
          90.2,
          93.1,
          75,
          50.36,
          71.56,
          42.53,
          58.59,
          64.15,
          64.58,
          65.08,
          53.74
         ],
         "yaxis": "y"
        },
        {
         "hovertemplate": "Critério=H<br>Mês=%{x}<br>Porcentagem de Adoção (%)=%{y}<extra></extra>",
         "legendgroup": "H",
         "line": {
          "color": "#FF97FF",
          "dash": "solid"
         },
         "marker": {
          "symbol": "circle"
         },
         "mode": "lines+markers",
         "name": "H",
         "orientation": "v",
         "showlegend": true,
         "type": "scatter",
         "x": [
          "jan",
          "fev",
          "mar",
          "abr",
          "mai",
          "jun",
          "jul",
          "ago",
          "set",
          "out",
          "nov",
          "dez"
         ],
         "xaxis": "x",
         "y": [
          33.33,
          62.75,
          31.03,
          28.75,
          34.53,
          35.78,
          35.63,
          33.33,
          40.57,
          42.71,
          39.68,
          36.45
         ],
         "yaxis": "y"
        },
        {
         "hovertemplate": "Critério=I<br>Mês=%{x}<br>Porcentagem de Adoção (%)=%{y}<extra></extra>",
         "legendgroup": "I",
         "line": {
          "color": "#FECB52",
          "dash": "solid"
         },
         "marker": {
          "symbol": "circle"
         },
         "mode": "lines+markers",
         "name": "I",
         "orientation": "v",
         "showlegend": true,
         "type": "scatter",
         "x": [
          "jan",
          "fev",
          "mar",
          "abr",
          "mai",
          "jun",
          "jul",
          "ago",
          "set",
          "out",
          "nov",
          "dez"
         ],
         "xaxis": "x",
         "y": [
          0,
          0,
          8.05,
          10,
          12.23,
          7.34,
          4.6,
          5.05,
          11.32,
          13.54,
          23.81,
          14.49
         ],
         "yaxis": "y"
        },
        {
         "hovertemplate": "Critério=J<br>Mês=%{x}<br>Porcentagem de Adoção (%)=%{y}<extra></extra>",
         "legendgroup": "J",
         "line": {
          "color": "#636efa",
          "dash": "solid"
         },
         "marker": {
          "symbol": "circle"
         },
         "mode": "lines+markers",
         "name": "J",
         "orientation": "v",
         "showlegend": true,
         "type": "scatter",
         "x": [
          "jan",
          "fev",
          "mar",
          "abr",
          "mai",
          "jun",
          "jul",
          "ago",
          "set",
          "out",
          "nov",
          "dez"
         ],
         "xaxis": "x",
         "y": [
          4.76,
          3.92,
          6.9,
          5,
          5.76,
          1.83,
          2.3,
          2.02,
          3.77,
          6.25,
          9.52,
          14.02
         ],
         "yaxis": "y"
        },
        {
         "hovertemplate": "Critério=K<br>Mês=%{x}<br>Porcentagem de Adoção (%)=%{y}<extra></extra>",
         "legendgroup": "K",
         "line": {
          "color": "#EF553B",
          "dash": "solid"
         },
         "marker": {
          "symbol": "circle"
         },
         "mode": "lines+markers",
         "name": "K",
         "orientation": "v",
         "showlegend": true,
         "type": "scatter",
         "x": [
          "jan",
          "fev",
          "mar",
          "abr",
          "mai",
          "jun",
          "jul",
          "ago",
          "set",
          "out",
          "nov",
          "dez"
         ],
         "xaxis": "x",
         "y": [
          52.38,
          74.51,
          50.57,
          62.5,
          46.04,
          51.38,
          29.31,
          49.49,
          49.06,
          58.33,
          57.14,
          45.79
         ],
         "yaxis": "y"
        },
        {
         "hovertemplate": "Critério=L<br>Mês=%{x}<br>Porcentagem de Adoção (%)=%{y}<extra></extra>",
         "legendgroup": "L",
         "line": {
          "color": "#00cc96",
          "dash": "solid"
         },
         "marker": {
          "symbol": "circle"
         },
         "mode": "lines+markers",
         "name": "L",
         "orientation": "v",
         "showlegend": true,
         "type": "scatter",
         "x": [
          "jan",
          "fev",
          "mar",
          "abr",
          "mai",
          "jun",
          "jul",
          "ago",
          "set",
          "out",
          "nov",
          "dez"
         ],
         "xaxis": "x",
         "y": [
          0,
          0,
          3.45,
          6.25,
          9.35,
          5.5,
          0.57,
          3.03,
          7.55,
          3.12,
          12.7,
          8.41
         ],
         "yaxis": "y"
        },
        {
         "hovertemplate": "Critério=M<br>Mês=%{x}<br>Porcentagem de Adoção (%)=%{y}<extra></extra>",
         "legendgroup": "M",
         "line": {
          "color": "#ab63fa",
          "dash": "solid"
         },
         "marker": {
          "symbol": "circle"
         },
         "mode": "lines+markers",
         "name": "M",
         "orientation": "v",
         "showlegend": true,
         "type": "scatter",
         "x": [
          "jan",
          "fev",
          "mar",
          "abr",
          "mai",
          "jun",
          "jul",
          "ago",
          "set",
          "out",
          "nov",
          "dez"
         ],
         "xaxis": "x",
         "y": [
          64.29,
          86.27,
          68.97,
          70,
          57.55,
          48.62,
          61.49,
          58.59,
          60.38,
          69.79,
          77.78,
          71.03
         ],
         "yaxis": "y"
        },
        {
         "hovertemplate": "Critério=N<br>Mês=%{x}<br>Porcentagem de Adoção (%)=%{y}<extra></extra>",
         "legendgroup": "N",
         "line": {
          "color": "#FFA15A",
          "dash": "solid"
         },
         "marker": {
          "symbol": "circle"
         },
         "mode": "lines+markers",
         "name": "N",
         "orientation": "v",
         "showlegend": true,
         "type": "scatter",
         "x": [
          "jan",
          "fev",
          "mar",
          "abr",
          "mai",
          "jun",
          "jul",
          "ago",
          "set",
          "out",
          "nov",
          "dez"
         ],
         "xaxis": "x",
         "y": [
          97.62,
          98.04,
          98.85,
          96.25,
          99.28,
          100,
          98.85,
          98.99,
          100,
          98.96,
          98.41,
          99.53
         ],
         "yaxis": "y"
        }
       ],
       "layout": {
        "legend": {
         "title": {
          "text": "Critério"
         },
         "tracegroupgap": 0
        },
        "template": {
         "data": {
          "bar": [
           {
            "error_x": {
             "color": "#2a3f5f"
            },
            "error_y": {
             "color": "#2a3f5f"
            },
            "marker": {
             "line": {
              "color": "#E5ECF6",
              "width": 0.5
             },
             "pattern": {
              "fillmode": "overlay",
              "size": 10,
              "solidity": 0.2
             }
            },
            "type": "bar"
           }
          ],
          "barpolar": [
           {
            "marker": {
             "line": {
              "color": "#E5ECF6",
              "width": 0.5
             },
             "pattern": {
              "fillmode": "overlay",
              "size": 10,
              "solidity": 0.2
             }
            },
            "type": "barpolar"
           }
          ],
          "carpet": [
           {
            "aaxis": {
             "endlinecolor": "#2a3f5f",
             "gridcolor": "white",
             "linecolor": "white",
             "minorgridcolor": "white",
             "startlinecolor": "#2a3f5f"
            },
            "baxis": {
             "endlinecolor": "#2a3f5f",
             "gridcolor": "white",
             "linecolor": "white",
             "minorgridcolor": "white",
             "startlinecolor": "#2a3f5f"
            },
            "type": "carpet"
           }
          ],
          "choropleth": [
           {
            "colorbar": {
             "outlinewidth": 0,
             "ticks": ""
            },
            "type": "choropleth"
           }
          ],
          "contour": [
           {
            "colorbar": {
             "outlinewidth": 0,
             "ticks": ""
            },
            "colorscale": [
             [
              0,
              "#0d0887"
             ],
             [
              0.1111111111111111,
              "#46039f"
             ],
             [
              0.2222222222222222,
              "#7201a8"
             ],
             [
              0.3333333333333333,
              "#9c179e"
             ],
             [
              0.4444444444444444,
              "#bd3786"
             ],
             [
              0.5555555555555556,
              "#d8576b"
             ],
             [
              0.6666666666666666,
              "#ed7953"
             ],
             [
              0.7777777777777778,
              "#fb9f3a"
             ],
             [
              0.8888888888888888,
              "#fdca26"
             ],
             [
              1,
              "#f0f921"
             ]
            ],
            "type": "contour"
           }
          ],
          "contourcarpet": [
           {
            "colorbar": {
             "outlinewidth": 0,
             "ticks": ""
            },
            "type": "contourcarpet"
           }
          ],
          "heatmap": [
           {
            "colorbar": {
             "outlinewidth": 0,
             "ticks": ""
            },
            "colorscale": [
             [
              0,
              "#0d0887"
             ],
             [
              0.1111111111111111,
              "#46039f"
             ],
             [
              0.2222222222222222,
              "#7201a8"
             ],
             [
              0.3333333333333333,
              "#9c179e"
             ],
             [
              0.4444444444444444,
              "#bd3786"
             ],
             [
              0.5555555555555556,
              "#d8576b"
             ],
             [
              0.6666666666666666,
              "#ed7953"
             ],
             [
              0.7777777777777778,
              "#fb9f3a"
             ],
             [
              0.8888888888888888,
              "#fdca26"
             ],
             [
              1,
              "#f0f921"
             ]
            ],
            "type": "heatmap"
           }
          ],
          "heatmapgl": [
           {
            "colorbar": {
             "outlinewidth": 0,
             "ticks": ""
            },
            "colorscale": [
             [
              0,
              "#0d0887"
             ],
             [
              0.1111111111111111,
              "#46039f"
             ],
             [
              0.2222222222222222,
              "#7201a8"
             ],
             [
              0.3333333333333333,
              "#9c179e"
             ],
             [
              0.4444444444444444,
              "#bd3786"
             ],
             [
              0.5555555555555556,
              "#d8576b"
             ],
             [
              0.6666666666666666,
              "#ed7953"
             ],
             [
              0.7777777777777778,
              "#fb9f3a"
             ],
             [
              0.8888888888888888,
              "#fdca26"
             ],
             [
              1,
              "#f0f921"
             ]
            ],
            "type": "heatmapgl"
           }
          ],
          "histogram": [
           {
            "marker": {
             "pattern": {
              "fillmode": "overlay",
              "size": 10,
              "solidity": 0.2
             }
            },
            "type": "histogram"
           }
          ],
          "histogram2d": [
           {
            "colorbar": {
             "outlinewidth": 0,
             "ticks": ""
            },
            "colorscale": [
             [
              0,
              "#0d0887"
             ],
             [
              0.1111111111111111,
              "#46039f"
             ],
             [
              0.2222222222222222,
              "#7201a8"
             ],
             [
              0.3333333333333333,
              "#9c179e"
             ],
             [
              0.4444444444444444,
              "#bd3786"
             ],
             [
              0.5555555555555556,
              "#d8576b"
             ],
             [
              0.6666666666666666,
              "#ed7953"
             ],
             [
              0.7777777777777778,
              "#fb9f3a"
             ],
             [
              0.8888888888888888,
              "#fdca26"
             ],
             [
              1,
              "#f0f921"
             ]
            ],
            "type": "histogram2d"
           }
          ],
          "histogram2dcontour": [
           {
            "colorbar": {
             "outlinewidth": 0,
             "ticks": ""
            },
            "colorscale": [
             [
              0,
              "#0d0887"
             ],
             [
              0.1111111111111111,
              "#46039f"
             ],
             [
              0.2222222222222222,
              "#7201a8"
             ],
             [
              0.3333333333333333,
              "#9c179e"
             ],
             [
              0.4444444444444444,
              "#bd3786"
             ],
             [
              0.5555555555555556,
              "#d8576b"
             ],
             [
              0.6666666666666666,
              "#ed7953"
             ],
             [
              0.7777777777777778,
              "#fb9f3a"
             ],
             [
              0.8888888888888888,
              "#fdca26"
             ],
             [
              1,
              "#f0f921"
             ]
            ],
            "type": "histogram2dcontour"
           }
          ],
          "mesh3d": [
           {
            "colorbar": {
             "outlinewidth": 0,
             "ticks": ""
            },
            "type": "mesh3d"
           }
          ],
          "parcoords": [
           {
            "line": {
             "colorbar": {
              "outlinewidth": 0,
              "ticks": ""
             }
            },
            "type": "parcoords"
           }
          ],
          "pie": [
           {
            "automargin": true,
            "type": "pie"
           }
          ],
          "scatter": [
           {
            "fillpattern": {
             "fillmode": "overlay",
             "size": 10,
             "solidity": 0.2
            },
            "type": "scatter"
           }
          ],
          "scatter3d": [
           {
            "line": {
             "colorbar": {
              "outlinewidth": 0,
              "ticks": ""
             }
            },
            "marker": {
             "colorbar": {
              "outlinewidth": 0,
              "ticks": ""
             }
            },
            "type": "scatter3d"
           }
          ],
          "scattercarpet": [
           {
            "marker": {
             "colorbar": {
              "outlinewidth": 0,
              "ticks": ""
             }
            },
            "type": "scattercarpet"
           }
          ],
          "scattergeo": [
           {
            "marker": {
             "colorbar": {
              "outlinewidth": 0,
              "ticks": ""
             }
            },
            "type": "scattergeo"
           }
          ],
          "scattergl": [
           {
            "marker": {
             "colorbar": {
              "outlinewidth": 0,
              "ticks": ""
             }
            },
            "type": "scattergl"
           }
          ],
          "scattermapbox": [
           {
            "marker": {
             "colorbar": {
              "outlinewidth": 0,
              "ticks": ""
             }
            },
            "type": "scattermapbox"
           }
          ],
          "scatterpolar": [
           {
            "marker": {
             "colorbar": {
              "outlinewidth": 0,
              "ticks": ""
             }
            },
            "type": "scatterpolar"
           }
          ],
          "scatterpolargl": [
           {
            "marker": {
             "colorbar": {
              "outlinewidth": 0,
              "ticks": ""
             }
            },
            "type": "scatterpolargl"
           }
          ],
          "scatterternary": [
           {
            "marker": {
             "colorbar": {
              "outlinewidth": 0,
              "ticks": ""
             }
            },
            "type": "scatterternary"
           }
          ],
          "surface": [
           {
            "colorbar": {
             "outlinewidth": 0,
             "ticks": ""
            },
            "colorscale": [
             [
              0,
              "#0d0887"
             ],
             [
              0.1111111111111111,
              "#46039f"
             ],
             [
              0.2222222222222222,
              "#7201a8"
             ],
             [
              0.3333333333333333,
              "#9c179e"
             ],
             [
              0.4444444444444444,
              "#bd3786"
             ],
             [
              0.5555555555555556,
              "#d8576b"
             ],
             [
              0.6666666666666666,
              "#ed7953"
             ],
             [
              0.7777777777777778,
              "#fb9f3a"
             ],
             [
              0.8888888888888888,
              "#fdca26"
             ],
             [
              1,
              "#f0f921"
             ]
            ],
            "type": "surface"
           }
          ],
          "table": [
           {
            "cells": {
             "fill": {
              "color": "#EBF0F8"
             },
             "line": {
              "color": "white"
             }
            },
            "header": {
             "fill": {
              "color": "#C8D4E3"
             },
             "line": {
              "color": "white"
             }
            },
            "type": "table"
           }
          ]
         },
         "layout": {
          "annotationdefaults": {
           "arrowcolor": "#2a3f5f",
           "arrowhead": 0,
           "arrowwidth": 1
          },
          "autotypenumbers": "strict",
          "coloraxis": {
           "colorbar": {
            "outlinewidth": 0,
            "ticks": ""
           }
          },
          "colorscale": {
           "diverging": [
            [
             0,
             "#8e0152"
            ],
            [
             0.1,
             "#c51b7d"
            ],
            [
             0.2,
             "#de77ae"
            ],
            [
             0.3,
             "#f1b6da"
            ],
            [
             0.4,
             "#fde0ef"
            ],
            [
             0.5,
             "#f7f7f7"
            ],
            [
             0.6,
             "#e6f5d0"
            ],
            [
             0.7,
             "#b8e186"
            ],
            [
             0.8,
             "#7fbc41"
            ],
            [
             0.9,
             "#4d9221"
            ],
            [
             1,
             "#276419"
            ]
           ],
           "sequential": [
            [
             0,
             "#0d0887"
            ],
            [
             0.1111111111111111,
             "#46039f"
            ],
            [
             0.2222222222222222,
             "#7201a8"
            ],
            [
             0.3333333333333333,
             "#9c179e"
            ],
            [
             0.4444444444444444,
             "#bd3786"
            ],
            [
             0.5555555555555556,
             "#d8576b"
            ],
            [
             0.6666666666666666,
             "#ed7953"
            ],
            [
             0.7777777777777778,
             "#fb9f3a"
            ],
            [
             0.8888888888888888,
             "#fdca26"
            ],
            [
             1,
             "#f0f921"
            ]
           ],
           "sequentialminus": [
            [
             0,
             "#0d0887"
            ],
            [
             0.1111111111111111,
             "#46039f"
            ],
            [
             0.2222222222222222,
             "#7201a8"
            ],
            [
             0.3333333333333333,
             "#9c179e"
            ],
            [
             0.4444444444444444,
             "#bd3786"
            ],
            [
             0.5555555555555556,
             "#d8576b"
            ],
            [
             0.6666666666666666,
             "#ed7953"
            ],
            [
             0.7777777777777778,
             "#fb9f3a"
            ],
            [
             0.8888888888888888,
             "#fdca26"
            ],
            [
             1,
             "#f0f921"
            ]
           ]
          },
          "colorway": [
           "#636efa",
           "#EF553B",
           "#00cc96",
           "#ab63fa",
           "#FFA15A",
           "#19d3f3",
           "#FF6692",
           "#B6E880",
           "#FF97FF",
           "#FECB52"
          ],
          "font": {
           "color": "#2a3f5f"
          },
          "geo": {
           "bgcolor": "white",
           "lakecolor": "white",
           "landcolor": "#E5ECF6",
           "showlakes": true,
           "showland": true,
           "subunitcolor": "white"
          },
          "hoverlabel": {
           "align": "left"
          },
          "hovermode": "closest",
          "mapbox": {
           "style": "light"
          },
          "paper_bgcolor": "white",
          "plot_bgcolor": "#E5ECF6",
          "polar": {
           "angularaxis": {
            "gridcolor": "white",
            "linecolor": "white",
            "ticks": ""
           },
           "bgcolor": "#E5ECF6",
           "radialaxis": {
            "gridcolor": "white",
            "linecolor": "white",
            "ticks": ""
           }
          },
          "scene": {
           "xaxis": {
            "backgroundcolor": "#E5ECF6",
            "gridcolor": "white",
            "gridwidth": 2,
            "linecolor": "white",
            "showbackground": true,
            "ticks": "",
            "zerolinecolor": "white"
           },
           "yaxis": {
            "backgroundcolor": "#E5ECF6",
            "gridcolor": "white",
            "gridwidth": 2,
            "linecolor": "white",
            "showbackground": true,
            "ticks": "",
            "zerolinecolor": "white"
           },
           "zaxis": {
            "backgroundcolor": "#E5ECF6",
            "gridcolor": "white",
            "gridwidth": 2,
            "linecolor": "white",
            "showbackground": true,
            "ticks": "",
            "zerolinecolor": "white"
           }
          },
          "shapedefaults": {
           "line": {
            "color": "#2a3f5f"
           }
          },
          "ternary": {
           "aaxis": {
            "gridcolor": "white",
            "linecolor": "white",
            "ticks": ""
           },
           "baxis": {
            "gridcolor": "white",
            "linecolor": "white",
            "ticks": ""
           },
           "bgcolor": "#E5ECF6",
           "caxis": {
            "gridcolor": "white",
            "linecolor": "white",
            "ticks": ""
           }
          },
          "title": {
           "x": 0.05
          },
          "xaxis": {
           "automargin": true,
           "gridcolor": "white",
           "linecolor": "white",
           "ticks": "",
           "title": {
            "standoff": 15
           },
           "zerolinecolor": "white",
           "zerolinewidth": 2
          },
          "yaxis": {
           "automargin": true,
           "gridcolor": "white",
           "linecolor": "white",
           "ticks": "",
           "title": {
            "standoff": 15
           },
           "zerolinecolor": "white",
           "zerolinewidth": 2
          }
         }
        },
        "title": {
         "text": "Porcentagem de Adoção dos Critérios por Mês no Ano 2019"
        },
        "xaxis": {
         "anchor": "y",
         "domain": [
          0,
          1
         ],
         "tickmode": "array",
         "ticktext": [
          "Jan",
          "Fev",
          "Mar",
          "Abr",
          "Mai",
          "Jun",
          "Jul",
          "Ago",
          "Set",
          "Out",
          "Nov",
          "Dez"
         ],
         "tickvals": [
          "jan",
          "fev",
          "mar",
          "abr",
          "mai",
          "jun",
          "jul",
          "ago",
          "set",
          "out",
          "nov",
          "dez"
         ],
         "title": {
          "text": "Mês"
         }
        },
        "yaxis": {
         "anchor": "x",
         "domain": [
          0,
          1
         ],
         "title": {
          "text": "Porcentagem de Adoção (%)"
         }
        }
       }
      }
     },
     "metadata": {},
     "output_type": "display_data"
    },
    {
     "data": {
      "application/vnd.plotly.v1+json": {
       "config": {
        "plotlyServerURL": "https://plot.ly"
       },
       "data": [
        {
         "hovertemplate": "Critério=Matriz<br>Mês=%{x}<br>Porcentagem de Adoção (%)=%{y}<extra></extra>",
         "legendgroup": "Matriz",
         "line": {
          "color": "#636efa",
          "dash": "solid"
         },
         "marker": {
          "symbol": "circle"
         },
         "mode": "lines+markers",
         "name": "Matriz",
         "orientation": "v",
         "showlegend": true,
         "type": "scatter",
         "x": [
          "jan",
          "fev",
          "mar",
          "abr",
          "mai",
          "jun",
          "jul",
          "ago",
          "set",
          "out",
          "nov",
          "dez"
         ],
         "xaxis": "x",
         "y": [
          0,
          0,
          0,
          0,
          0,
          1.59,
          0,
          1.64,
          0,
          0,
          0,
          1.16
         ],
         "yaxis": "y"
        },
        {
         "hovertemplate": "Critério=A<br>Mês=%{x}<br>Porcentagem de Adoção (%)=%{y}<extra></extra>",
         "legendgroup": "A",
         "line": {
          "color": "#EF553B",
          "dash": "solid"
         },
         "marker": {
          "symbol": "circle"
         },
         "mode": "lines+markers",
         "name": "A",
         "orientation": "v",
         "showlegend": true,
         "type": "scatter",
         "x": [
          "jan",
          "fev",
          "mar",
          "abr",
          "mai",
          "jun",
          "jul",
          "ago",
          "set",
          "out",
          "nov",
          "dez"
         ],
         "xaxis": "x",
         "y": [
          28.26,
          45,
          35.94,
          50,
          37.5,
          57.14,
          58.49,
          40.98,
          56.67,
          67.19,
          52.24,
          60.47
         ],
         "yaxis": "y"
        },
        {
         "hovertemplate": "Critério=B<br>Mês=%{x}<br>Porcentagem de Adoção (%)=%{y}<extra></extra>",
         "legendgroup": "B",
         "line": {
          "color": "#00cc96",
          "dash": "solid"
         },
         "marker": {
          "symbol": "circle"
         },
         "mode": "lines+markers",
         "name": "B",
         "orientation": "v",
         "showlegend": true,
         "type": "scatter",
         "x": [
          "jan",
          "fev",
          "mar",
          "abr",
          "mai",
          "jun",
          "jul",
          "ago",
          "set",
          "out",
          "nov",
          "dez"
         ],
         "xaxis": "x",
         "y": [
          2.17,
          1.67,
          4.69,
          7.5,
          6.25,
          1.59,
          5.66,
          3.28,
          6.67,
          7.81,
          2.99,
          6.98
         ],
         "yaxis": "y"
        },
        {
         "hovertemplate": "Critério=C<br>Mês=%{x}<br>Porcentagem de Adoção (%)=%{y}<extra></extra>",
         "legendgroup": "C",
         "line": {
          "color": "#ab63fa",
          "dash": "solid"
         },
         "marker": {
          "symbol": "circle"
         },
         "mode": "lines+markers",
         "name": "C",
         "orientation": "v",
         "showlegend": true,
         "type": "scatter",
         "x": [
          "jan",
          "fev",
          "mar",
          "abr",
          "mai",
          "jun",
          "jul",
          "ago",
          "set",
          "out",
          "nov",
          "dez"
         ],
         "xaxis": "x",
         "y": [
          97.83,
          100,
          100,
          100,
          100,
          100,
          100,
          95.08,
          100,
          100,
          100,
          98.84
         ],
         "yaxis": "y"
        },
        {
         "hovertemplate": "Critério=D<br>Mês=%{x}<br>Porcentagem de Adoção (%)=%{y}<extra></extra>",
         "legendgroup": "D",
         "line": {
          "color": "#FFA15A",
          "dash": "solid"
         },
         "marker": {
          "symbol": "circle"
         },
         "mode": "lines+markers",
         "name": "D",
         "orientation": "v",
         "showlegend": true,
         "type": "scatter",
         "x": [
          "jan",
          "fev",
          "mar",
          "abr",
          "mai",
          "jun",
          "jul",
          "ago",
          "set",
          "out",
          "nov",
          "dez"
         ],
         "xaxis": "x",
         "y": [
          28.26,
          41.67,
          42.19,
          37.5,
          60.42,
          33.33,
          43.4,
          34.43,
          40,
          53.12,
          61.19,
          54.65
         ],
         "yaxis": "y"
        },
        {
         "hovertemplate": "Critério=E<br>Mês=%{x}<br>Porcentagem de Adoção (%)=%{y}<extra></extra>",
         "legendgroup": "E",
         "line": {
          "color": "#19d3f3",
          "dash": "solid"
         },
         "marker": {
          "symbol": "circle"
         },
         "mode": "lines+markers",
         "name": "E",
         "orientation": "v",
         "showlegend": true,
         "type": "scatter",
         "x": [
          "jan",
          "fev",
          "mar",
          "abr",
          "mai",
          "jun",
          "jul",
          "ago",
          "set",
          "out",
          "nov",
          "dez"
         ],
         "xaxis": "x",
         "y": [
          100,
          98.33,
          100,
          100,
          100,
          100,
          100,
          100,
          100,
          100,
          98.51,
          100
         ],
         "yaxis": "y"
        },
        {
         "hovertemplate": "Critério=F<br>Mês=%{x}<br>Porcentagem de Adoção (%)=%{y}<extra></extra>",
         "legendgroup": "F",
         "line": {
          "color": "#FF6692",
          "dash": "solid"
         },
         "marker": {
          "symbol": "circle"
         },
         "mode": "lines+markers",
         "name": "F",
         "orientation": "v",
         "showlegend": true,
         "type": "scatter",
         "x": [
          "jan",
          "fev",
          "mar",
          "abr",
          "mai",
          "jun",
          "jul",
          "ago",
          "set",
          "out",
          "nov",
          "dez"
         ],
         "xaxis": "x",
         "y": [
          73.91,
          86.67,
          73.44,
          77.5,
          83.33,
          88.89,
          84.91,
          63.93,
          93.33,
          79.69,
          80.6,
          84.88
         ],
         "yaxis": "y"
        },
        {
         "hovertemplate": "Critério=G<br>Mês=%{x}<br>Porcentagem de Adoção (%)=%{y}<extra></extra>",
         "legendgroup": "G",
         "line": {
          "color": "#B6E880",
          "dash": "solid"
         },
         "marker": {
          "symbol": "circle"
         },
         "mode": "lines+markers",
         "name": "G",
         "orientation": "v",
         "showlegend": true,
         "type": "scatter",
         "x": [
          "jan",
          "fev",
          "mar",
          "abr",
          "mai",
          "jun",
          "jul",
          "ago",
          "set",
          "out",
          "nov",
          "dez"
         ],
         "xaxis": "x",
         "y": [
          45.65,
          58.33,
          65.62,
          77.5,
          81.25,
          88.89,
          84.91,
          52.46,
          66.67,
          50,
          61.19,
          52.33
         ],
         "yaxis": "y"
        },
        {
         "hovertemplate": "Critério=H<br>Mês=%{x}<br>Porcentagem de Adoção (%)=%{y}<extra></extra>",
         "legendgroup": "H",
         "line": {
          "color": "#FF97FF",
          "dash": "solid"
         },
         "marker": {
          "symbol": "circle"
         },
         "mode": "lines+markers",
         "name": "H",
         "orientation": "v",
         "showlegend": true,
         "type": "scatter",
         "x": [
          "jan",
          "fev",
          "mar",
          "abr",
          "mai",
          "jun",
          "jul",
          "ago",
          "set",
          "out",
          "nov",
          "dez"
         ],
         "xaxis": "x",
         "y": [
          39.13,
          48.33,
          26.56,
          40,
          41.67,
          47.62,
          45.28,
          34.43,
          30,
          37.5,
          35.82,
          24.42
         ],
         "yaxis": "y"
        },
        {
         "hovertemplate": "Critério=I<br>Mês=%{x}<br>Porcentagem de Adoção (%)=%{y}<extra></extra>",
         "legendgroup": "I",
         "line": {
          "color": "#FECB52",
          "dash": "solid"
         },
         "marker": {
          "symbol": "circle"
         },
         "mode": "lines+markers",
         "name": "I",
         "orientation": "v",
         "showlegend": true,
         "type": "scatter",
         "x": [
          "jan",
          "fev",
          "mar",
          "abr",
          "mai",
          "jun",
          "jul",
          "ago",
          "set",
          "out",
          "nov",
          "dez"
         ],
         "xaxis": "x",
         "y": [
          13.04,
          10,
          7.81,
          5,
          8.33,
          15.87,
          9.43,
          16.39,
          20,
          17.19,
          13.43,
          13.95
         ],
         "yaxis": "y"
        },
        {
         "hovertemplate": "Critério=J<br>Mês=%{x}<br>Porcentagem de Adoção (%)=%{y}<extra></extra>",
         "legendgroup": "J",
         "line": {
          "color": "#636efa",
          "dash": "solid"
         },
         "marker": {
          "symbol": "circle"
         },
         "mode": "lines+markers",
         "name": "J",
         "orientation": "v",
         "showlegend": true,
         "type": "scatter",
         "x": [
          "jan",
          "fev",
          "mar",
          "abr",
          "mai",
          "jun",
          "jul",
          "ago",
          "set",
          "out",
          "nov",
          "dez"
         ],
         "xaxis": "x",
         "y": [
          13.04,
          15,
          6.25,
          12.5,
          12.5,
          12.7,
          13.21,
          11.48,
          13.33,
          7.81,
          19.4,
          11.63
         ],
         "yaxis": "y"
        },
        {
         "hovertemplate": "Critério=K<br>Mês=%{x}<br>Porcentagem de Adoção (%)=%{y}<extra></extra>",
         "legendgroup": "K",
         "line": {
          "color": "#EF553B",
          "dash": "solid"
         },
         "marker": {
          "symbol": "circle"
         },
         "mode": "lines+markers",
         "name": "K",
         "orientation": "v",
         "showlegend": true,
         "type": "scatter",
         "x": [
          "jan",
          "fev",
          "mar",
          "abr",
          "mai",
          "jun",
          "jul",
          "ago",
          "set",
          "out",
          "nov",
          "dez"
         ],
         "xaxis": "x",
         "y": [
          54.35,
          55,
          34.38,
          62.5,
          75,
          58.73,
          62.26,
          49.18,
          86.67,
          57.81,
          68.66,
          66.28
         ],
         "yaxis": "y"
        },
        {
         "hovertemplate": "Critério=L<br>Mês=%{x}<br>Porcentagem de Adoção (%)=%{y}<extra></extra>",
         "legendgroup": "L",
         "line": {
          "color": "#00cc96",
          "dash": "solid"
         },
         "marker": {
          "symbol": "circle"
         },
         "mode": "lines+markers",
         "name": "L",
         "orientation": "v",
         "showlegend": true,
         "type": "scatter",
         "x": [
          "jan",
          "fev",
          "mar",
          "abr",
          "mai",
          "jun",
          "jul",
          "ago",
          "set",
          "out",
          "nov",
          "dez"
         ],
         "xaxis": "x",
         "y": [
          8.7,
          3.33,
          7.81,
          2.5,
          6.25,
          3.17,
          11.32,
          4.92,
          6.67,
          9.38,
          7.46,
          3.49
         ],
         "yaxis": "y"
        },
        {
         "hovertemplate": "Critério=M<br>Mês=%{x}<br>Porcentagem de Adoção (%)=%{y}<extra></extra>",
         "legendgroup": "M",
         "line": {
          "color": "#ab63fa",
          "dash": "solid"
         },
         "marker": {
          "symbol": "circle"
         },
         "mode": "lines+markers",
         "name": "M",
         "orientation": "v",
         "showlegend": true,
         "type": "scatter",
         "x": [
          "jan",
          "fev",
          "mar",
          "abr",
          "mai",
          "jun",
          "jul",
          "ago",
          "set",
          "out",
          "nov",
          "dez"
         ],
         "xaxis": "x",
         "y": [
          60.87,
          75,
          60.94,
          75,
          72.92,
          74.6,
          66.04,
          65.57,
          66.67,
          64.06,
          80.6,
          79.07
         ],
         "yaxis": "y"
        },
        {
         "hovertemplate": "Critério=N<br>Mês=%{x}<br>Porcentagem de Adoção (%)=%{y}<extra></extra>",
         "legendgroup": "N",
         "line": {
          "color": "#FFA15A",
          "dash": "solid"
         },
         "marker": {
          "symbol": "circle"
         },
         "mode": "lines+markers",
         "name": "N",
         "orientation": "v",
         "showlegend": true,
         "type": "scatter",
         "x": [
          "jan",
          "fev",
          "mar",
          "abr",
          "mai",
          "jun",
          "jul",
          "ago",
          "set",
          "out",
          "nov",
          "dez"
         ],
         "xaxis": "x",
         "y": [
          100,
          98.33,
          100,
          100,
          100,
          100,
          100,
          100,
          100,
          100,
          97.01,
          100
         ],
         "yaxis": "y"
        }
       ],
       "layout": {
        "legend": {
         "title": {
          "text": "Critério"
         },
         "tracegroupgap": 0
        },
        "template": {
         "data": {
          "bar": [
           {
            "error_x": {
             "color": "#2a3f5f"
            },
            "error_y": {
             "color": "#2a3f5f"
            },
            "marker": {
             "line": {
              "color": "#E5ECF6",
              "width": 0.5
             },
             "pattern": {
              "fillmode": "overlay",
              "size": 10,
              "solidity": 0.2
             }
            },
            "type": "bar"
           }
          ],
          "barpolar": [
           {
            "marker": {
             "line": {
              "color": "#E5ECF6",
              "width": 0.5
             },
             "pattern": {
              "fillmode": "overlay",
              "size": 10,
              "solidity": 0.2
             }
            },
            "type": "barpolar"
           }
          ],
          "carpet": [
           {
            "aaxis": {
             "endlinecolor": "#2a3f5f",
             "gridcolor": "white",
             "linecolor": "white",
             "minorgridcolor": "white",
             "startlinecolor": "#2a3f5f"
            },
            "baxis": {
             "endlinecolor": "#2a3f5f",
             "gridcolor": "white",
             "linecolor": "white",
             "minorgridcolor": "white",
             "startlinecolor": "#2a3f5f"
            },
            "type": "carpet"
           }
          ],
          "choropleth": [
           {
            "colorbar": {
             "outlinewidth": 0,
             "ticks": ""
            },
            "type": "choropleth"
           }
          ],
          "contour": [
           {
            "colorbar": {
             "outlinewidth": 0,
             "ticks": ""
            },
            "colorscale": [
             [
              0,
              "#0d0887"
             ],
             [
              0.1111111111111111,
              "#46039f"
             ],
             [
              0.2222222222222222,
              "#7201a8"
             ],
             [
              0.3333333333333333,
              "#9c179e"
             ],
             [
              0.4444444444444444,
              "#bd3786"
             ],
             [
              0.5555555555555556,
              "#d8576b"
             ],
             [
              0.6666666666666666,
              "#ed7953"
             ],
             [
              0.7777777777777778,
              "#fb9f3a"
             ],
             [
              0.8888888888888888,
              "#fdca26"
             ],
             [
              1,
              "#f0f921"
             ]
            ],
            "type": "contour"
           }
          ],
          "contourcarpet": [
           {
            "colorbar": {
             "outlinewidth": 0,
             "ticks": ""
            },
            "type": "contourcarpet"
           }
          ],
          "heatmap": [
           {
            "colorbar": {
             "outlinewidth": 0,
             "ticks": ""
            },
            "colorscale": [
             [
              0,
              "#0d0887"
             ],
             [
              0.1111111111111111,
              "#46039f"
             ],
             [
              0.2222222222222222,
              "#7201a8"
             ],
             [
              0.3333333333333333,
              "#9c179e"
             ],
             [
              0.4444444444444444,
              "#bd3786"
             ],
             [
              0.5555555555555556,
              "#d8576b"
             ],
             [
              0.6666666666666666,
              "#ed7953"
             ],
             [
              0.7777777777777778,
              "#fb9f3a"
             ],
             [
              0.8888888888888888,
              "#fdca26"
             ],
             [
              1,
              "#f0f921"
             ]
            ],
            "type": "heatmap"
           }
          ],
          "heatmapgl": [
           {
            "colorbar": {
             "outlinewidth": 0,
             "ticks": ""
            },
            "colorscale": [
             [
              0,
              "#0d0887"
             ],
             [
              0.1111111111111111,
              "#46039f"
             ],
             [
              0.2222222222222222,
              "#7201a8"
             ],
             [
              0.3333333333333333,
              "#9c179e"
             ],
             [
              0.4444444444444444,
              "#bd3786"
             ],
             [
              0.5555555555555556,
              "#d8576b"
             ],
             [
              0.6666666666666666,
              "#ed7953"
             ],
             [
              0.7777777777777778,
              "#fb9f3a"
             ],
             [
              0.8888888888888888,
              "#fdca26"
             ],
             [
              1,
              "#f0f921"
             ]
            ],
            "type": "heatmapgl"
           }
          ],
          "histogram": [
           {
            "marker": {
             "pattern": {
              "fillmode": "overlay",
              "size": 10,
              "solidity": 0.2
             }
            },
            "type": "histogram"
           }
          ],
          "histogram2d": [
           {
            "colorbar": {
             "outlinewidth": 0,
             "ticks": ""
            },
            "colorscale": [
             [
              0,
              "#0d0887"
             ],
             [
              0.1111111111111111,
              "#46039f"
             ],
             [
              0.2222222222222222,
              "#7201a8"
             ],
             [
              0.3333333333333333,
              "#9c179e"
             ],
             [
              0.4444444444444444,
              "#bd3786"
             ],
             [
              0.5555555555555556,
              "#d8576b"
             ],
             [
              0.6666666666666666,
              "#ed7953"
             ],
             [
              0.7777777777777778,
              "#fb9f3a"
             ],
             [
              0.8888888888888888,
              "#fdca26"
             ],
             [
              1,
              "#f0f921"
             ]
            ],
            "type": "histogram2d"
           }
          ],
          "histogram2dcontour": [
           {
            "colorbar": {
             "outlinewidth": 0,
             "ticks": ""
            },
            "colorscale": [
             [
              0,
              "#0d0887"
             ],
             [
              0.1111111111111111,
              "#46039f"
             ],
             [
              0.2222222222222222,
              "#7201a8"
             ],
             [
              0.3333333333333333,
              "#9c179e"
             ],
             [
              0.4444444444444444,
              "#bd3786"
             ],
             [
              0.5555555555555556,
              "#d8576b"
             ],
             [
              0.6666666666666666,
              "#ed7953"
             ],
             [
              0.7777777777777778,
              "#fb9f3a"
             ],
             [
              0.8888888888888888,
              "#fdca26"
             ],
             [
              1,
              "#f0f921"
             ]
            ],
            "type": "histogram2dcontour"
           }
          ],
          "mesh3d": [
           {
            "colorbar": {
             "outlinewidth": 0,
             "ticks": ""
            },
            "type": "mesh3d"
           }
          ],
          "parcoords": [
           {
            "line": {
             "colorbar": {
              "outlinewidth": 0,
              "ticks": ""
             }
            },
            "type": "parcoords"
           }
          ],
          "pie": [
           {
            "automargin": true,
            "type": "pie"
           }
          ],
          "scatter": [
           {
            "fillpattern": {
             "fillmode": "overlay",
             "size": 10,
             "solidity": 0.2
            },
            "type": "scatter"
           }
          ],
          "scatter3d": [
           {
            "line": {
             "colorbar": {
              "outlinewidth": 0,
              "ticks": ""
             }
            },
            "marker": {
             "colorbar": {
              "outlinewidth": 0,
              "ticks": ""
             }
            },
            "type": "scatter3d"
           }
          ],
          "scattercarpet": [
           {
            "marker": {
             "colorbar": {
              "outlinewidth": 0,
              "ticks": ""
             }
            },
            "type": "scattercarpet"
           }
          ],
          "scattergeo": [
           {
            "marker": {
             "colorbar": {
              "outlinewidth": 0,
              "ticks": ""
             }
            },
            "type": "scattergeo"
           }
          ],
          "scattergl": [
           {
            "marker": {
             "colorbar": {
              "outlinewidth": 0,
              "ticks": ""
             }
            },
            "type": "scattergl"
           }
          ],
          "scattermapbox": [
           {
            "marker": {
             "colorbar": {
              "outlinewidth": 0,
              "ticks": ""
             }
            },
            "type": "scattermapbox"
           }
          ],
          "scatterpolar": [
           {
            "marker": {
             "colorbar": {
              "outlinewidth": 0,
              "ticks": ""
             }
            },
            "type": "scatterpolar"
           }
          ],
          "scatterpolargl": [
           {
            "marker": {
             "colorbar": {
              "outlinewidth": 0,
              "ticks": ""
             }
            },
            "type": "scatterpolargl"
           }
          ],
          "scatterternary": [
           {
            "marker": {
             "colorbar": {
              "outlinewidth": 0,
              "ticks": ""
             }
            },
            "type": "scatterternary"
           }
          ],
          "surface": [
           {
            "colorbar": {
             "outlinewidth": 0,
             "ticks": ""
            },
            "colorscale": [
             [
              0,
              "#0d0887"
             ],
             [
              0.1111111111111111,
              "#46039f"
             ],
             [
              0.2222222222222222,
              "#7201a8"
             ],
             [
              0.3333333333333333,
              "#9c179e"
             ],
             [
              0.4444444444444444,
              "#bd3786"
             ],
             [
              0.5555555555555556,
              "#d8576b"
             ],
             [
              0.6666666666666666,
              "#ed7953"
             ],
             [
              0.7777777777777778,
              "#fb9f3a"
             ],
             [
              0.8888888888888888,
              "#fdca26"
             ],
             [
              1,
              "#f0f921"
             ]
            ],
            "type": "surface"
           }
          ],
          "table": [
           {
            "cells": {
             "fill": {
              "color": "#EBF0F8"
             },
             "line": {
              "color": "white"
             }
            },
            "header": {
             "fill": {
              "color": "#C8D4E3"
             },
             "line": {
              "color": "white"
             }
            },
            "type": "table"
           }
          ]
         },
         "layout": {
          "annotationdefaults": {
           "arrowcolor": "#2a3f5f",
           "arrowhead": 0,
           "arrowwidth": 1
          },
          "autotypenumbers": "strict",
          "coloraxis": {
           "colorbar": {
            "outlinewidth": 0,
            "ticks": ""
           }
          },
          "colorscale": {
           "diverging": [
            [
             0,
             "#8e0152"
            ],
            [
             0.1,
             "#c51b7d"
            ],
            [
             0.2,
             "#de77ae"
            ],
            [
             0.3,
             "#f1b6da"
            ],
            [
             0.4,
             "#fde0ef"
            ],
            [
             0.5,
             "#f7f7f7"
            ],
            [
             0.6,
             "#e6f5d0"
            ],
            [
             0.7,
             "#b8e186"
            ],
            [
             0.8,
             "#7fbc41"
            ],
            [
             0.9,
             "#4d9221"
            ],
            [
             1,
             "#276419"
            ]
           ],
           "sequential": [
            [
             0,
             "#0d0887"
            ],
            [
             0.1111111111111111,
             "#46039f"
            ],
            [
             0.2222222222222222,
             "#7201a8"
            ],
            [
             0.3333333333333333,
             "#9c179e"
            ],
            [
             0.4444444444444444,
             "#bd3786"
            ],
            [
             0.5555555555555556,
             "#d8576b"
            ],
            [
             0.6666666666666666,
             "#ed7953"
            ],
            [
             0.7777777777777778,
             "#fb9f3a"
            ],
            [
             0.8888888888888888,
             "#fdca26"
            ],
            [
             1,
             "#f0f921"
            ]
           ],
           "sequentialminus": [
            [
             0,
             "#0d0887"
            ],
            [
             0.1111111111111111,
             "#46039f"
            ],
            [
             0.2222222222222222,
             "#7201a8"
            ],
            [
             0.3333333333333333,
             "#9c179e"
            ],
            [
             0.4444444444444444,
             "#bd3786"
            ],
            [
             0.5555555555555556,
             "#d8576b"
            ],
            [
             0.6666666666666666,
             "#ed7953"
            ],
            [
             0.7777777777777778,
             "#fb9f3a"
            ],
            [
             0.8888888888888888,
             "#fdca26"
            ],
            [
             1,
             "#f0f921"
            ]
           ]
          },
          "colorway": [
           "#636efa",
           "#EF553B",
           "#00cc96",
           "#ab63fa",
           "#FFA15A",
           "#19d3f3",
           "#FF6692",
           "#B6E880",
           "#FF97FF",
           "#FECB52"
          ],
          "font": {
           "color": "#2a3f5f"
          },
          "geo": {
           "bgcolor": "white",
           "lakecolor": "white",
           "landcolor": "#E5ECF6",
           "showlakes": true,
           "showland": true,
           "subunitcolor": "white"
          },
          "hoverlabel": {
           "align": "left"
          },
          "hovermode": "closest",
          "mapbox": {
           "style": "light"
          },
          "paper_bgcolor": "white",
          "plot_bgcolor": "#E5ECF6",
          "polar": {
           "angularaxis": {
            "gridcolor": "white",
            "linecolor": "white",
            "ticks": ""
           },
           "bgcolor": "#E5ECF6",
           "radialaxis": {
            "gridcolor": "white",
            "linecolor": "white",
            "ticks": ""
           }
          },
          "scene": {
           "xaxis": {
            "backgroundcolor": "#E5ECF6",
            "gridcolor": "white",
            "gridwidth": 2,
            "linecolor": "white",
            "showbackground": true,
            "ticks": "",
            "zerolinecolor": "white"
           },
           "yaxis": {
            "backgroundcolor": "#E5ECF6",
            "gridcolor": "white",
            "gridwidth": 2,
            "linecolor": "white",
            "showbackground": true,
            "ticks": "",
            "zerolinecolor": "white"
           },
           "zaxis": {
            "backgroundcolor": "#E5ECF6",
            "gridcolor": "white",
            "gridwidth": 2,
            "linecolor": "white",
            "showbackground": true,
            "ticks": "",
            "zerolinecolor": "white"
           }
          },
          "shapedefaults": {
           "line": {
            "color": "#2a3f5f"
           }
          },
          "ternary": {
           "aaxis": {
            "gridcolor": "white",
            "linecolor": "white",
            "ticks": ""
           },
           "baxis": {
            "gridcolor": "white",
            "linecolor": "white",
            "ticks": ""
           },
           "bgcolor": "#E5ECF6",
           "caxis": {
            "gridcolor": "white",
            "linecolor": "white",
            "ticks": ""
           }
          },
          "title": {
           "x": 0.05
          },
          "xaxis": {
           "automargin": true,
           "gridcolor": "white",
           "linecolor": "white",
           "ticks": "",
           "title": {
            "standoff": 15
           },
           "zerolinecolor": "white",
           "zerolinewidth": 2
          },
          "yaxis": {
           "automargin": true,
           "gridcolor": "white",
           "linecolor": "white",
           "ticks": "",
           "title": {
            "standoff": 15
           },
           "zerolinecolor": "white",
           "zerolinewidth": 2
          }
         }
        },
        "title": {
         "text": "Porcentagem de Adoção dos Critérios por Mês no Ano 2020"
        },
        "xaxis": {
         "anchor": "y",
         "domain": [
          0,
          1
         ],
         "tickmode": "array",
         "ticktext": [
          "Jan",
          "Fev",
          "Mar",
          "Abr",
          "Mai",
          "Jun",
          "Jul",
          "Ago",
          "Set",
          "Out",
          "Nov",
          "Dez"
         ],
         "tickvals": [
          "jan",
          "fev",
          "mar",
          "abr",
          "mai",
          "jun",
          "jul",
          "ago",
          "set",
          "out",
          "nov",
          "dez"
         ],
         "title": {
          "text": "Mês"
         }
        },
        "yaxis": {
         "anchor": "x",
         "domain": [
          0,
          1
         ],
         "title": {
          "text": "Porcentagem de Adoção (%)"
         }
        }
       }
      }
     },
     "metadata": {},
     "output_type": "display_data"
    },
    {
     "data": {
      "application/vnd.plotly.v1+json": {
       "config": {
        "plotlyServerURL": "https://plot.ly"
       },
       "data": [
        {
         "hovertemplate": "Critério=Matriz<br>Mês=%{x}<br>Porcentagem de Adoção (%)=%{y}<extra></extra>",
         "legendgroup": "Matriz",
         "line": {
          "color": "#636efa",
          "dash": "solid"
         },
         "marker": {
          "symbol": "circle"
         },
         "mode": "lines+markers",
         "name": "Matriz",
         "orientation": "v",
         "showlegend": true,
         "type": "scatter",
         "x": [
          "jan",
          "fev",
          "mar",
          "abr",
          "mai",
          "jun",
          "jul",
          "ago",
          "set",
          "out",
          "nov",
          "dez"
         ],
         "xaxis": "x",
         "y": [
          2.27,
          0,
          0,
          0,
          0,
          0,
          0,
          0,
          0,
          0,
          0,
          2.15
         ],
         "yaxis": "y"
        },
        {
         "hovertemplate": "Critério=A<br>Mês=%{x}<br>Porcentagem de Adoção (%)=%{y}<extra></extra>",
         "legendgroup": "A",
         "line": {
          "color": "#EF553B",
          "dash": "solid"
         },
         "marker": {
          "symbol": "circle"
         },
         "mode": "lines+markers",
         "name": "A",
         "orientation": "v",
         "showlegend": true,
         "type": "scatter",
         "x": [
          "jan",
          "fev",
          "mar",
          "abr",
          "mai",
          "jun",
          "jul",
          "ago",
          "set",
          "out",
          "nov",
          "dez"
         ],
         "xaxis": "x",
         "y": [
          56.82,
          71.59,
          50.77,
          62.03,
          50,
          77.05,
          48.57,
          68.75,
          72.97,
          65.52,
          58.33,
          52.69
         ],
         "yaxis": "y"
        },
        {
         "hovertemplate": "Critério=B<br>Mês=%{x}<br>Porcentagem de Adoção (%)=%{y}<extra></extra>",
         "legendgroup": "B",
         "line": {
          "color": "#00cc96",
          "dash": "solid"
         },
         "marker": {
          "symbol": "circle"
         },
         "mode": "lines+markers",
         "name": "B",
         "orientation": "v",
         "showlegend": true,
         "type": "scatter",
         "x": [
          "jan",
          "fev",
          "mar",
          "abr",
          "mai",
          "jun",
          "jul",
          "ago",
          "set",
          "out",
          "nov",
          "dez"
         ],
         "xaxis": "x",
         "y": [
          9.09,
          17.05,
          7.69,
          16.46,
          21.43,
          14.75,
          5.71,
          34.38,
          18.92,
          13.79,
          14.58,
          9.68
         ],
         "yaxis": "y"
        },
        {
         "hovertemplate": "Critério=C<br>Mês=%{x}<br>Porcentagem de Adoção (%)=%{y}<extra></extra>",
         "legendgroup": "C",
         "line": {
          "color": "#ab63fa",
          "dash": "solid"
         },
         "marker": {
          "symbol": "circle"
         },
         "mode": "lines+markers",
         "name": "C",
         "orientation": "v",
         "showlegend": true,
         "type": "scatter",
         "x": [
          "jan",
          "fev",
          "mar",
          "abr",
          "mai",
          "jun",
          "jul",
          "ago",
          "set",
          "out",
          "nov",
          "dez"
         ],
         "xaxis": "x",
         "y": [
          100,
          100,
          87.69,
          91.14,
          73.21,
          98.36,
          100,
          96.88,
          100,
          100,
          97.92,
          98.92
         ],
         "yaxis": "y"
        },
        {
         "hovertemplate": "Critério=D<br>Mês=%{x}<br>Porcentagem de Adoção (%)=%{y}<extra></extra>",
         "legendgroup": "D",
         "line": {
          "color": "#FFA15A",
          "dash": "solid"
         },
         "marker": {
          "symbol": "circle"
         },
         "mode": "lines+markers",
         "name": "D",
         "orientation": "v",
         "showlegend": true,
         "type": "scatter",
         "x": [
          "jan",
          "fev",
          "mar",
          "abr",
          "mai",
          "jun",
          "jul",
          "ago",
          "set",
          "out",
          "nov",
          "dez"
         ],
         "xaxis": "x",
         "y": [
          50,
          62.5,
          83.08,
          100,
          85.71,
          80.33,
          74.29,
          90.62,
          78.38,
          82.76,
          89.58,
          73.12
         ],
         "yaxis": "y"
        },
        {
         "hovertemplate": "Critério=E<br>Mês=%{x}<br>Porcentagem de Adoção (%)=%{y}<extra></extra>",
         "legendgroup": "E",
         "line": {
          "color": "#19d3f3",
          "dash": "solid"
         },
         "marker": {
          "symbol": "circle"
         },
         "mode": "lines+markers",
         "name": "E",
         "orientation": "v",
         "showlegend": true,
         "type": "scatter",
         "x": [
          "jan",
          "fev",
          "mar",
          "abr",
          "mai",
          "jun",
          "jul",
          "ago",
          "set",
          "out",
          "nov",
          "dez"
         ],
         "xaxis": "x",
         "y": [
          100,
          100,
          100,
          100,
          100,
          95.08,
          88.57,
          71.88,
          83.78,
          93.1,
          93.75,
          91.4
         ],
         "yaxis": "y"
        },
        {
         "hovertemplate": "Critério=F<br>Mês=%{x}<br>Porcentagem de Adoção (%)=%{y}<extra></extra>",
         "legendgroup": "F",
         "line": {
          "color": "#FF6692",
          "dash": "solid"
         },
         "marker": {
          "symbol": "circle"
         },
         "mode": "lines+markers",
         "name": "F",
         "orientation": "v",
         "showlegend": true,
         "type": "scatter",
         "x": [
          "jan",
          "fev",
          "mar",
          "abr",
          "mai",
          "jun",
          "jul",
          "ago",
          "set",
          "out",
          "nov",
          "dez"
         ],
         "xaxis": "x",
         "y": [
          86.36,
          84.09,
          95.38,
          98.73,
          100,
          100,
          100,
          96.88,
          97.3,
          100,
          93.75,
          94.62
         ],
         "yaxis": "y"
        },
        {
         "hovertemplate": "Critério=G<br>Mês=%{x}<br>Porcentagem de Adoção (%)=%{y}<extra></extra>",
         "legendgroup": "G",
         "line": {
          "color": "#B6E880",
          "dash": "solid"
         },
         "marker": {
          "symbol": "circle"
         },
         "mode": "lines+markers",
         "name": "G",
         "orientation": "v",
         "showlegend": true,
         "type": "scatter",
         "x": [
          "jan",
          "fev",
          "mar",
          "abr",
          "mai",
          "jun",
          "jul",
          "ago",
          "set",
          "out",
          "nov",
          "dez"
         ],
         "xaxis": "x",
         "y": [
          63.64,
          48.86,
          92.31,
          98.73,
          100,
          27.87,
          5.71,
          3.12,
          5.41,
          0,
          6.25,
          4.3
         ],
         "yaxis": "y"
        },
        {
         "hovertemplate": "Critério=H<br>Mês=%{x}<br>Porcentagem de Adoção (%)=%{y}<extra></extra>",
         "legendgroup": "H",
         "line": {
          "color": "#FF97FF",
          "dash": "solid"
         },
         "marker": {
          "symbol": "circle"
         },
         "mode": "lines+markers",
         "name": "H",
         "orientation": "v",
         "showlegend": true,
         "type": "scatter",
         "x": [
          "jan",
          "fev",
          "mar",
          "abr",
          "mai",
          "jun",
          "jul",
          "ago",
          "set",
          "out",
          "nov",
          "dez"
         ],
         "xaxis": "x",
         "y": [
          18.18,
          36.36,
          46.15,
          45.57,
          35.71,
          55.74,
          48.57,
          59.38,
          72.97,
          51.72,
          70.83,
          53.76
         ],
         "yaxis": "y"
        },
        {
         "hovertemplate": "Critério=I<br>Mês=%{x}<br>Porcentagem de Adoção (%)=%{y}<extra></extra>",
         "legendgroup": "I",
         "line": {
          "color": "#FECB52",
          "dash": "solid"
         },
         "marker": {
          "symbol": "circle"
         },
         "mode": "lines+markers",
         "name": "I",
         "orientation": "v",
         "showlegend": true,
         "type": "scatter",
         "x": [
          "jan",
          "fev",
          "mar",
          "abr",
          "mai",
          "jun",
          "jul",
          "ago",
          "set",
          "out",
          "nov",
          "dez"
         ],
         "xaxis": "x",
         "y": [
          15.91,
          20.45,
          38.46,
          31.65,
          51.79,
          59.02,
          62.86,
          56.25,
          59.46,
          51.72,
          60.42,
          56.99
         ],
         "yaxis": "y"
        },
        {
         "hovertemplate": "Critério=J<br>Mês=%{x}<br>Porcentagem de Adoção (%)=%{y}<extra></extra>",
         "legendgroup": "J",
         "line": {
          "color": "#636efa",
          "dash": "solid"
         },
         "marker": {
          "symbol": "circle"
         },
         "mode": "lines+markers",
         "name": "J",
         "orientation": "v",
         "showlegend": true,
         "type": "scatter",
         "x": [
          "jan",
          "fev",
          "mar",
          "abr",
          "mai",
          "jun",
          "jul",
          "ago",
          "set",
          "out",
          "nov",
          "dez"
         ],
         "xaxis": "x",
         "y": [
          22.73,
          30.68,
          4.62,
          1.27,
          5.36,
          19.67,
          20,
          25,
          18.92,
          20.69,
          27.08,
          10.75
         ],
         "yaxis": "y"
        },
        {
         "hovertemplate": "Critério=K<br>Mês=%{x}<br>Porcentagem de Adoção (%)=%{y}<extra></extra>",
         "legendgroup": "K",
         "line": {
          "color": "#EF553B",
          "dash": "solid"
         },
         "marker": {
          "symbol": "circle"
         },
         "mode": "lines+markers",
         "name": "K",
         "orientation": "v",
         "showlegend": true,
         "type": "scatter",
         "x": [
          "jan",
          "fev",
          "mar",
          "abr",
          "mai",
          "jun",
          "jul",
          "ago",
          "set",
          "out",
          "nov",
          "dez"
         ],
         "xaxis": "x",
         "y": [
          65.91,
          76.14,
          87.69,
          62.03,
          66.07,
          91.8,
          80,
          93.75,
          94.59,
          86.21,
          89.58,
          83.87
         ],
         "yaxis": "y"
        },
        {
         "hovertemplate": "Critério=L<br>Mês=%{x}<br>Porcentagem de Adoção (%)=%{y}<extra></extra>",
         "legendgroup": "L",
         "line": {
          "color": "#00cc96",
          "dash": "solid"
         },
         "marker": {
          "symbol": "circle"
         },
         "mode": "lines+markers",
         "name": "L",
         "orientation": "v",
         "showlegend": true,
         "type": "scatter",
         "x": [
          "jan",
          "fev",
          "mar",
          "abr",
          "mai",
          "jun",
          "jul",
          "ago",
          "set",
          "out",
          "nov",
          "dez"
         ],
         "xaxis": "x",
         "y": [
          11.36,
          11.36,
          35.38,
          37.97,
          48.21,
          42.62,
          42.86,
          25,
          45.95,
          27.59,
          52.08,
          34.41
         ],
         "yaxis": "y"
        },
        {
         "hovertemplate": "Critério=M<br>Mês=%{x}<br>Porcentagem de Adoção (%)=%{y}<extra></extra>",
         "legendgroup": "M",
         "line": {
          "color": "#ab63fa",
          "dash": "solid"
         },
         "marker": {
          "symbol": "circle"
         },
         "mode": "lines+markers",
         "name": "M",
         "orientation": "v",
         "showlegend": true,
         "type": "scatter",
         "x": [
          "jan",
          "fev",
          "mar",
          "abr",
          "mai",
          "jun",
          "jul",
          "ago",
          "set",
          "out",
          "nov",
          "dez"
         ],
         "xaxis": "x",
         "y": [
          72.73,
          84.09,
          93.85,
          81.01,
          92.86,
          37.7,
          17.14,
          18.75,
          16.22,
          13.79,
          18.75,
          23.66
         ],
         "yaxis": "y"
        },
        {
         "hovertemplate": "Critério=N<br>Mês=%{x}<br>Porcentagem de Adoção (%)=%{y}<extra></extra>",
         "legendgroup": "N",
         "line": {
          "color": "#FFA15A",
          "dash": "solid"
         },
         "marker": {
          "symbol": "circle"
         },
         "mode": "lines+markers",
         "name": "N",
         "orientation": "v",
         "showlegend": true,
         "type": "scatter",
         "x": [
          "jan",
          "fev",
          "mar",
          "abr",
          "mai",
          "jun",
          "jul",
          "ago",
          "set",
          "out",
          "nov",
          "dez"
         ],
         "xaxis": "x",
         "y": [
          100,
          100,
          100,
          94.94,
          100,
          96.72,
          85.71,
          81.25,
          94.59,
          93.1,
          83.33,
          81.72
         ],
         "yaxis": "y"
        }
       ],
       "layout": {
        "legend": {
         "title": {
          "text": "Critério"
         },
         "tracegroupgap": 0
        },
        "template": {
         "data": {
          "bar": [
           {
            "error_x": {
             "color": "#2a3f5f"
            },
            "error_y": {
             "color": "#2a3f5f"
            },
            "marker": {
             "line": {
              "color": "#E5ECF6",
              "width": 0.5
             },
             "pattern": {
              "fillmode": "overlay",
              "size": 10,
              "solidity": 0.2
             }
            },
            "type": "bar"
           }
          ],
          "barpolar": [
           {
            "marker": {
             "line": {
              "color": "#E5ECF6",
              "width": 0.5
             },
             "pattern": {
              "fillmode": "overlay",
              "size": 10,
              "solidity": 0.2
             }
            },
            "type": "barpolar"
           }
          ],
          "carpet": [
           {
            "aaxis": {
             "endlinecolor": "#2a3f5f",
             "gridcolor": "white",
             "linecolor": "white",
             "minorgridcolor": "white",
             "startlinecolor": "#2a3f5f"
            },
            "baxis": {
             "endlinecolor": "#2a3f5f",
             "gridcolor": "white",
             "linecolor": "white",
             "minorgridcolor": "white",
             "startlinecolor": "#2a3f5f"
            },
            "type": "carpet"
           }
          ],
          "choropleth": [
           {
            "colorbar": {
             "outlinewidth": 0,
             "ticks": ""
            },
            "type": "choropleth"
           }
          ],
          "contour": [
           {
            "colorbar": {
             "outlinewidth": 0,
             "ticks": ""
            },
            "colorscale": [
             [
              0,
              "#0d0887"
             ],
             [
              0.1111111111111111,
              "#46039f"
             ],
             [
              0.2222222222222222,
              "#7201a8"
             ],
             [
              0.3333333333333333,
              "#9c179e"
             ],
             [
              0.4444444444444444,
              "#bd3786"
             ],
             [
              0.5555555555555556,
              "#d8576b"
             ],
             [
              0.6666666666666666,
              "#ed7953"
             ],
             [
              0.7777777777777778,
              "#fb9f3a"
             ],
             [
              0.8888888888888888,
              "#fdca26"
             ],
             [
              1,
              "#f0f921"
             ]
            ],
            "type": "contour"
           }
          ],
          "contourcarpet": [
           {
            "colorbar": {
             "outlinewidth": 0,
             "ticks": ""
            },
            "type": "contourcarpet"
           }
          ],
          "heatmap": [
           {
            "colorbar": {
             "outlinewidth": 0,
             "ticks": ""
            },
            "colorscale": [
             [
              0,
              "#0d0887"
             ],
             [
              0.1111111111111111,
              "#46039f"
             ],
             [
              0.2222222222222222,
              "#7201a8"
             ],
             [
              0.3333333333333333,
              "#9c179e"
             ],
             [
              0.4444444444444444,
              "#bd3786"
             ],
             [
              0.5555555555555556,
              "#d8576b"
             ],
             [
              0.6666666666666666,
              "#ed7953"
             ],
             [
              0.7777777777777778,
              "#fb9f3a"
             ],
             [
              0.8888888888888888,
              "#fdca26"
             ],
             [
              1,
              "#f0f921"
             ]
            ],
            "type": "heatmap"
           }
          ],
          "heatmapgl": [
           {
            "colorbar": {
             "outlinewidth": 0,
             "ticks": ""
            },
            "colorscale": [
             [
              0,
              "#0d0887"
             ],
             [
              0.1111111111111111,
              "#46039f"
             ],
             [
              0.2222222222222222,
              "#7201a8"
             ],
             [
              0.3333333333333333,
              "#9c179e"
             ],
             [
              0.4444444444444444,
              "#bd3786"
             ],
             [
              0.5555555555555556,
              "#d8576b"
             ],
             [
              0.6666666666666666,
              "#ed7953"
             ],
             [
              0.7777777777777778,
              "#fb9f3a"
             ],
             [
              0.8888888888888888,
              "#fdca26"
             ],
             [
              1,
              "#f0f921"
             ]
            ],
            "type": "heatmapgl"
           }
          ],
          "histogram": [
           {
            "marker": {
             "pattern": {
              "fillmode": "overlay",
              "size": 10,
              "solidity": 0.2
             }
            },
            "type": "histogram"
           }
          ],
          "histogram2d": [
           {
            "colorbar": {
             "outlinewidth": 0,
             "ticks": ""
            },
            "colorscale": [
             [
              0,
              "#0d0887"
             ],
             [
              0.1111111111111111,
              "#46039f"
             ],
             [
              0.2222222222222222,
              "#7201a8"
             ],
             [
              0.3333333333333333,
              "#9c179e"
             ],
             [
              0.4444444444444444,
              "#bd3786"
             ],
             [
              0.5555555555555556,
              "#d8576b"
             ],
             [
              0.6666666666666666,
              "#ed7953"
             ],
             [
              0.7777777777777778,
              "#fb9f3a"
             ],
             [
              0.8888888888888888,
              "#fdca26"
             ],
             [
              1,
              "#f0f921"
             ]
            ],
            "type": "histogram2d"
           }
          ],
          "histogram2dcontour": [
           {
            "colorbar": {
             "outlinewidth": 0,
             "ticks": ""
            },
            "colorscale": [
             [
              0,
              "#0d0887"
             ],
             [
              0.1111111111111111,
              "#46039f"
             ],
             [
              0.2222222222222222,
              "#7201a8"
             ],
             [
              0.3333333333333333,
              "#9c179e"
             ],
             [
              0.4444444444444444,
              "#bd3786"
             ],
             [
              0.5555555555555556,
              "#d8576b"
             ],
             [
              0.6666666666666666,
              "#ed7953"
             ],
             [
              0.7777777777777778,
              "#fb9f3a"
             ],
             [
              0.8888888888888888,
              "#fdca26"
             ],
             [
              1,
              "#f0f921"
             ]
            ],
            "type": "histogram2dcontour"
           }
          ],
          "mesh3d": [
           {
            "colorbar": {
             "outlinewidth": 0,
             "ticks": ""
            },
            "type": "mesh3d"
           }
          ],
          "parcoords": [
           {
            "line": {
             "colorbar": {
              "outlinewidth": 0,
              "ticks": ""
             }
            },
            "type": "parcoords"
           }
          ],
          "pie": [
           {
            "automargin": true,
            "type": "pie"
           }
          ],
          "scatter": [
           {
            "fillpattern": {
             "fillmode": "overlay",
             "size": 10,
             "solidity": 0.2
            },
            "type": "scatter"
           }
          ],
          "scatter3d": [
           {
            "line": {
             "colorbar": {
              "outlinewidth": 0,
              "ticks": ""
             }
            },
            "marker": {
             "colorbar": {
              "outlinewidth": 0,
              "ticks": ""
             }
            },
            "type": "scatter3d"
           }
          ],
          "scattercarpet": [
           {
            "marker": {
             "colorbar": {
              "outlinewidth": 0,
              "ticks": ""
             }
            },
            "type": "scattercarpet"
           }
          ],
          "scattergeo": [
           {
            "marker": {
             "colorbar": {
              "outlinewidth": 0,
              "ticks": ""
             }
            },
            "type": "scattergeo"
           }
          ],
          "scattergl": [
           {
            "marker": {
             "colorbar": {
              "outlinewidth": 0,
              "ticks": ""
             }
            },
            "type": "scattergl"
           }
          ],
          "scattermapbox": [
           {
            "marker": {
             "colorbar": {
              "outlinewidth": 0,
              "ticks": ""
             }
            },
            "type": "scattermapbox"
           }
          ],
          "scatterpolar": [
           {
            "marker": {
             "colorbar": {
              "outlinewidth": 0,
              "ticks": ""
             }
            },
            "type": "scatterpolar"
           }
          ],
          "scatterpolargl": [
           {
            "marker": {
             "colorbar": {
              "outlinewidth": 0,
              "ticks": ""
             }
            },
            "type": "scatterpolargl"
           }
          ],
          "scatterternary": [
           {
            "marker": {
             "colorbar": {
              "outlinewidth": 0,
              "ticks": ""
             }
            },
            "type": "scatterternary"
           }
          ],
          "surface": [
           {
            "colorbar": {
             "outlinewidth": 0,
             "ticks": ""
            },
            "colorscale": [
             [
              0,
              "#0d0887"
             ],
             [
              0.1111111111111111,
              "#46039f"
             ],
             [
              0.2222222222222222,
              "#7201a8"
             ],
             [
              0.3333333333333333,
              "#9c179e"
             ],
             [
              0.4444444444444444,
              "#bd3786"
             ],
             [
              0.5555555555555556,
              "#d8576b"
             ],
             [
              0.6666666666666666,
              "#ed7953"
             ],
             [
              0.7777777777777778,
              "#fb9f3a"
             ],
             [
              0.8888888888888888,
              "#fdca26"
             ],
             [
              1,
              "#f0f921"
             ]
            ],
            "type": "surface"
           }
          ],
          "table": [
           {
            "cells": {
             "fill": {
              "color": "#EBF0F8"
             },
             "line": {
              "color": "white"
             }
            },
            "header": {
             "fill": {
              "color": "#C8D4E3"
             },
             "line": {
              "color": "white"
             }
            },
            "type": "table"
           }
          ]
         },
         "layout": {
          "annotationdefaults": {
           "arrowcolor": "#2a3f5f",
           "arrowhead": 0,
           "arrowwidth": 1
          },
          "autotypenumbers": "strict",
          "coloraxis": {
           "colorbar": {
            "outlinewidth": 0,
            "ticks": ""
           }
          },
          "colorscale": {
           "diverging": [
            [
             0,
             "#8e0152"
            ],
            [
             0.1,
             "#c51b7d"
            ],
            [
             0.2,
             "#de77ae"
            ],
            [
             0.3,
             "#f1b6da"
            ],
            [
             0.4,
             "#fde0ef"
            ],
            [
             0.5,
             "#f7f7f7"
            ],
            [
             0.6,
             "#e6f5d0"
            ],
            [
             0.7,
             "#b8e186"
            ],
            [
             0.8,
             "#7fbc41"
            ],
            [
             0.9,
             "#4d9221"
            ],
            [
             1,
             "#276419"
            ]
           ],
           "sequential": [
            [
             0,
             "#0d0887"
            ],
            [
             0.1111111111111111,
             "#46039f"
            ],
            [
             0.2222222222222222,
             "#7201a8"
            ],
            [
             0.3333333333333333,
             "#9c179e"
            ],
            [
             0.4444444444444444,
             "#bd3786"
            ],
            [
             0.5555555555555556,
             "#d8576b"
            ],
            [
             0.6666666666666666,
             "#ed7953"
            ],
            [
             0.7777777777777778,
             "#fb9f3a"
            ],
            [
             0.8888888888888888,
             "#fdca26"
            ],
            [
             1,
             "#f0f921"
            ]
           ],
           "sequentialminus": [
            [
             0,
             "#0d0887"
            ],
            [
             0.1111111111111111,
             "#46039f"
            ],
            [
             0.2222222222222222,
             "#7201a8"
            ],
            [
             0.3333333333333333,
             "#9c179e"
            ],
            [
             0.4444444444444444,
             "#bd3786"
            ],
            [
             0.5555555555555556,
             "#d8576b"
            ],
            [
             0.6666666666666666,
             "#ed7953"
            ],
            [
             0.7777777777777778,
             "#fb9f3a"
            ],
            [
             0.8888888888888888,
             "#fdca26"
            ],
            [
             1,
             "#f0f921"
            ]
           ]
          },
          "colorway": [
           "#636efa",
           "#EF553B",
           "#00cc96",
           "#ab63fa",
           "#FFA15A",
           "#19d3f3",
           "#FF6692",
           "#B6E880",
           "#FF97FF",
           "#FECB52"
          ],
          "font": {
           "color": "#2a3f5f"
          },
          "geo": {
           "bgcolor": "white",
           "lakecolor": "white",
           "landcolor": "#E5ECF6",
           "showlakes": true,
           "showland": true,
           "subunitcolor": "white"
          },
          "hoverlabel": {
           "align": "left"
          },
          "hovermode": "closest",
          "mapbox": {
           "style": "light"
          },
          "paper_bgcolor": "white",
          "plot_bgcolor": "#E5ECF6",
          "polar": {
           "angularaxis": {
            "gridcolor": "white",
            "linecolor": "white",
            "ticks": ""
           },
           "bgcolor": "#E5ECF6",
           "radialaxis": {
            "gridcolor": "white",
            "linecolor": "white",
            "ticks": ""
           }
          },
          "scene": {
           "xaxis": {
            "backgroundcolor": "#E5ECF6",
            "gridcolor": "white",
            "gridwidth": 2,
            "linecolor": "white",
            "showbackground": true,
            "ticks": "",
            "zerolinecolor": "white"
           },
           "yaxis": {
            "backgroundcolor": "#E5ECF6",
            "gridcolor": "white",
            "gridwidth": 2,
            "linecolor": "white",
            "showbackground": true,
            "ticks": "",
            "zerolinecolor": "white"
           },
           "zaxis": {
            "backgroundcolor": "#E5ECF6",
            "gridcolor": "white",
            "gridwidth": 2,
            "linecolor": "white",
            "showbackground": true,
            "ticks": "",
            "zerolinecolor": "white"
           }
          },
          "shapedefaults": {
           "line": {
            "color": "#2a3f5f"
           }
          },
          "ternary": {
           "aaxis": {
            "gridcolor": "white",
            "linecolor": "white",
            "ticks": ""
           },
           "baxis": {
            "gridcolor": "white",
            "linecolor": "white",
            "ticks": ""
           },
           "bgcolor": "#E5ECF6",
           "caxis": {
            "gridcolor": "white",
            "linecolor": "white",
            "ticks": ""
           }
          },
          "title": {
           "x": 0.05
          },
          "xaxis": {
           "automargin": true,
           "gridcolor": "white",
           "linecolor": "white",
           "ticks": "",
           "title": {
            "standoff": 15
           },
           "zerolinecolor": "white",
           "zerolinewidth": 2
          },
          "yaxis": {
           "automargin": true,
           "gridcolor": "white",
           "linecolor": "white",
           "ticks": "",
           "title": {
            "standoff": 15
           },
           "zerolinecolor": "white",
           "zerolinewidth": 2
          }
         }
        },
        "title": {
         "text": "Porcentagem de Adoção dos Critérios por Mês no Ano 2021"
        },
        "xaxis": {
         "anchor": "y",
         "domain": [
          0,
          1
         ],
         "tickmode": "array",
         "ticktext": [
          "Jan",
          "Fev",
          "Mar",
          "Abr",
          "Mai",
          "Jun",
          "Jul",
          "Ago",
          "Set",
          "Out",
          "Nov",
          "Dez"
         ],
         "tickvals": [
          "jan",
          "fev",
          "mar",
          "abr",
          "mai",
          "jun",
          "jul",
          "ago",
          "set",
          "out",
          "nov",
          "dez"
         ],
         "title": {
          "text": "Mês"
         }
        },
        "yaxis": {
         "anchor": "x",
         "domain": [
          0,
          1
         ],
         "title": {
          "text": "Porcentagem de Adoção (%)"
         }
        }
       }
      }
     },
     "metadata": {},
     "output_type": "display_data"
    },
    {
     "data": {
      "application/vnd.plotly.v1+json": {
       "config": {
        "plotlyServerURL": "https://plot.ly"
       },
       "data": [
        {
         "hovertemplate": "Critério=Matriz<br>Mês=%{x}<br>Porcentagem de Adoção (%)=%{y}<extra></extra>",
         "legendgroup": "Matriz",
         "line": {
          "color": "#636efa",
          "dash": "solid"
         },
         "marker": {
          "symbol": "circle"
         },
         "mode": "lines+markers",
         "name": "Matriz",
         "orientation": "v",
         "showlegend": true,
         "type": "scatter",
         "x": [
          "jan",
          "fev",
          "mar",
          "abr",
          "mai",
          "jun",
          "jul",
          "ago",
          "set",
          "out",
          "nov",
          "dez"
         ],
         "xaxis": "x",
         "y": [
          0,
          0,
          0,
          3.85,
          0,
          2.04,
          0,
          0,
          0,
          0,
          0,
          0
         ],
         "yaxis": "y"
        },
        {
         "hovertemplate": "Critério=A<br>Mês=%{x}<br>Porcentagem de Adoção (%)=%{y}<extra></extra>",
         "legendgroup": "A",
         "line": {
          "color": "#EF553B",
          "dash": "solid"
         },
         "marker": {
          "symbol": "circle"
         },
         "mode": "lines+markers",
         "name": "A",
         "orientation": "v",
         "showlegend": true,
         "type": "scatter",
         "x": [
          "jan",
          "fev",
          "mar",
          "abr",
          "mai",
          "jun",
          "jul",
          "ago",
          "set",
          "out",
          "nov",
          "dez"
         ],
         "xaxis": "x",
         "y": [
          66.1,
          58.06,
          55.71,
          61.54,
          65.52,
          63.27,
          69.44,
          66.67,
          65.71,
          83.33,
          59.38,
          57.97
         ],
         "yaxis": "y"
        },
        {
         "hovertemplate": "Critério=B<br>Mês=%{x}<br>Porcentagem de Adoção (%)=%{y}<extra></extra>",
         "legendgroup": "B",
         "line": {
          "color": "#00cc96",
          "dash": "solid"
         },
         "marker": {
          "symbol": "circle"
         },
         "mode": "lines+markers",
         "name": "B",
         "orientation": "v",
         "showlegend": true,
         "type": "scatter",
         "x": [
          "jan",
          "fev",
          "mar",
          "abr",
          "mai",
          "jun",
          "jul",
          "ago",
          "set",
          "out",
          "nov",
          "dez"
         ],
         "xaxis": "x",
         "y": [
          8.47,
          8.06,
          7.14,
          19.23,
          6.9,
          12.24,
          2.78,
          12.5,
          8.57,
          16.67,
          10.94,
          13.04
         ],
         "yaxis": "y"
        },
        {
         "hovertemplate": "Critério=C<br>Mês=%{x}<br>Porcentagem de Adoção (%)=%{y}<extra></extra>",
         "legendgroup": "C",
         "line": {
          "color": "#ab63fa",
          "dash": "solid"
         },
         "marker": {
          "symbol": "circle"
         },
         "mode": "lines+markers",
         "name": "C",
         "orientation": "v",
         "showlegend": true,
         "type": "scatter",
         "x": [
          "jan",
          "fev",
          "mar",
          "abr",
          "mai",
          "jun",
          "jul",
          "ago",
          "set",
          "out",
          "nov",
          "dez"
         ],
         "xaxis": "x",
         "y": [
          100,
          100,
          94.29,
          100,
          100,
          91.84,
          97.22,
          100,
          100,
          100,
          95.31,
          98.55
         ],
         "yaxis": "y"
        },
        {
         "hovertemplate": "Critério=D<br>Mês=%{x}<br>Porcentagem de Adoção (%)=%{y}<extra></extra>",
         "legendgroup": "D",
         "line": {
          "color": "#FFA15A",
          "dash": "solid"
         },
         "marker": {
          "symbol": "circle"
         },
         "mode": "lines+markers",
         "name": "D",
         "orientation": "v",
         "showlegend": true,
         "type": "scatter",
         "x": [
          "jan",
          "fev",
          "mar",
          "abr",
          "mai",
          "jun",
          "jul",
          "ago",
          "set",
          "out",
          "nov",
          "dez"
         ],
         "xaxis": "x",
         "y": [
          81.36,
          79.03,
          81.43,
          88.46,
          89.66,
          89.8,
          75,
          79.17,
          91.43,
          77.78,
          87.5,
          85.51
         ],
         "yaxis": "y"
        },
        {
         "hovertemplate": "Critério=E<br>Mês=%{x}<br>Porcentagem de Adoção (%)=%{y}<extra></extra>",
         "legendgroup": "E",
         "line": {
          "color": "#19d3f3",
          "dash": "solid"
         },
         "marker": {
          "symbol": "circle"
         },
         "mode": "lines+markers",
         "name": "E",
         "orientation": "v",
         "showlegend": true,
         "type": "scatter",
         "x": [
          "jan",
          "fev",
          "mar",
          "abr",
          "mai",
          "jun",
          "jul",
          "ago",
          "set",
          "out",
          "nov",
          "dez"
         ],
         "xaxis": "x",
         "y": [
          96.61,
          96.77,
          92.86,
          96.15,
          93.1,
          93.88,
          86.11,
          95.83,
          74.29,
          88.89,
          81.25,
          91.3
         ],
         "yaxis": "y"
        },
        {
         "hovertemplate": "Critério=F<br>Mês=%{x}<br>Porcentagem de Adoção (%)=%{y}<extra></extra>",
         "legendgroup": "F",
         "line": {
          "color": "#FF6692",
          "dash": "solid"
         },
         "marker": {
          "symbol": "circle"
         },
         "mode": "lines+markers",
         "name": "F",
         "orientation": "v",
         "showlegend": true,
         "type": "scatter",
         "x": [
          "jan",
          "fev",
          "mar",
          "abr",
          "mai",
          "jun",
          "jul",
          "ago",
          "set",
          "out",
          "nov",
          "dez"
         ],
         "xaxis": "x",
         "y": [
          100,
          96.77,
          92.86,
          100,
          96.55,
          97.96,
          97.22,
          100,
          100,
          100,
          93.75,
          98.55
         ],
         "yaxis": "y"
        },
        {
         "hovertemplate": "Critério=G<br>Mês=%{x}<br>Porcentagem de Adoção (%)=%{y}<extra></extra>",
         "legendgroup": "G",
         "line": {
          "color": "#B6E880",
          "dash": "solid"
         },
         "marker": {
          "symbol": "circle"
         },
         "mode": "lines+markers",
         "name": "G",
         "orientation": "v",
         "showlegend": true,
         "type": "scatter",
         "x": [
          "jan",
          "fev",
          "mar",
          "abr",
          "mai",
          "jun",
          "jul",
          "ago",
          "set",
          "out",
          "nov",
          "dez"
         ],
         "xaxis": "x",
         "y": [
          3.39,
          4.84,
          2.86,
          7.69,
          10.34,
          8.16,
          11.11,
          4.17,
          8.57,
          16.67,
          6.25,
          7.25
         ],
         "yaxis": "y"
        },
        {
         "hovertemplate": "Critério=H<br>Mês=%{x}<br>Porcentagem de Adoção (%)=%{y}<extra></extra>",
         "legendgroup": "H",
         "line": {
          "color": "#FF97FF",
          "dash": "solid"
         },
         "marker": {
          "symbol": "circle"
         },
         "mode": "lines+markers",
         "name": "H",
         "orientation": "v",
         "showlegend": true,
         "type": "scatter",
         "x": [
          "jan",
          "fev",
          "mar",
          "abr",
          "mai",
          "jun",
          "jul",
          "ago",
          "set",
          "out",
          "nov",
          "dez"
         ],
         "xaxis": "x",
         "y": [
          67.8,
          58.06,
          60,
          84.62,
          55.17,
          65.31,
          69.44,
          62.5,
          54.29,
          50,
          65.62,
          59.42
         ],
         "yaxis": "y"
        },
        {
         "hovertemplate": "Critério=I<br>Mês=%{x}<br>Porcentagem de Adoção (%)=%{y}<extra></extra>",
         "legendgroup": "I",
         "line": {
          "color": "#FECB52",
          "dash": "solid"
         },
         "marker": {
          "symbol": "circle"
         },
         "mode": "lines+markers",
         "name": "I",
         "orientation": "v",
         "showlegend": true,
         "type": "scatter",
         "x": [
          "jan",
          "fev",
          "mar",
          "abr",
          "mai",
          "jun",
          "jul",
          "ago",
          "set",
          "out",
          "nov",
          "dez"
         ],
         "xaxis": "x",
         "y": [
          67.8,
          53.23,
          52.86,
          57.69,
          41.38,
          63.27,
          69.44,
          70.83,
          40,
          55.56,
          54.69,
          53.62
         ],
         "yaxis": "y"
        },
        {
         "hovertemplate": "Critério=J<br>Mês=%{x}<br>Porcentagem de Adoção (%)=%{y}<extra></extra>",
         "legendgroup": "J",
         "line": {
          "color": "#636efa",
          "dash": "solid"
         },
         "marker": {
          "symbol": "circle"
         },
         "mode": "lines+markers",
         "name": "J",
         "orientation": "v",
         "showlegend": true,
         "type": "scatter",
         "x": [
          "jan",
          "fev",
          "mar",
          "abr",
          "mai",
          "jun",
          "jul",
          "ago",
          "set",
          "out",
          "nov",
          "dez"
         ],
         "xaxis": "x",
         "y": [
          25.42,
          14.52,
          17.14,
          19.23,
          13.79,
          18.37,
          19.44,
          16.67,
          22.86,
          11.11,
          14.06,
          11.59
         ],
         "yaxis": "y"
        },
        {
         "hovertemplate": "Critério=K<br>Mês=%{x}<br>Porcentagem de Adoção (%)=%{y}<extra></extra>",
         "legendgroup": "K",
         "line": {
          "color": "#EF553B",
          "dash": "solid"
         },
         "marker": {
          "symbol": "circle"
         },
         "mode": "lines+markers",
         "name": "K",
         "orientation": "v",
         "showlegend": true,
         "type": "scatter",
         "x": [
          "jan",
          "fev",
          "mar",
          "abr",
          "mai",
          "jun",
          "jul",
          "ago",
          "set",
          "out",
          "nov",
          "dez"
         ],
         "xaxis": "x",
         "y": [
          93.22,
          70.97,
          90,
          76.92,
          93.1,
          87.76,
          91.67,
          91.67,
          97.14,
          83.33,
          84.38,
          94.2
         ],
         "yaxis": "y"
        },
        {
         "hovertemplate": "Critério=L<br>Mês=%{x}<br>Porcentagem de Adoção (%)=%{y}<extra></extra>",
         "legendgroup": "L",
         "line": {
          "color": "#00cc96",
          "dash": "solid"
         },
         "marker": {
          "symbol": "circle"
         },
         "mode": "lines+markers",
         "name": "L",
         "orientation": "v",
         "showlegend": true,
         "type": "scatter",
         "x": [
          "jan",
          "fev",
          "mar",
          "abr",
          "mai",
          "jun",
          "jul",
          "ago",
          "set",
          "out",
          "nov",
          "dez"
         ],
         "xaxis": "x",
         "y": [
          47.46,
          35.48,
          44.29,
          50,
          37.93,
          53.06,
          30.56,
          37.5,
          42.86,
          33.33,
          39.06,
          52.17
         ],
         "yaxis": "y"
        },
        {
         "hovertemplate": "Critério=M<br>Mês=%{x}<br>Porcentagem de Adoção (%)=%{y}<extra></extra>",
         "legendgroup": "M",
         "line": {
          "color": "#ab63fa",
          "dash": "solid"
         },
         "marker": {
          "symbol": "circle"
         },
         "mode": "lines+markers",
         "name": "M",
         "orientation": "v",
         "showlegend": true,
         "type": "scatter",
         "x": [
          "jan",
          "fev",
          "mar",
          "abr",
          "mai",
          "jun",
          "jul",
          "ago",
          "set",
          "out",
          "nov",
          "dez"
         ],
         "xaxis": "x",
         "y": [
          20.34,
          19.35,
          21.43,
          11.54,
          20.69,
          20.41,
          25,
          16.67,
          20,
          16.67,
          20.31,
          13.04
         ],
         "yaxis": "y"
        },
        {
         "hovertemplate": "Critério=N<br>Mês=%{x}<br>Porcentagem de Adoção (%)=%{y}<extra></extra>",
         "legendgroup": "N",
         "line": {
          "color": "#FFA15A",
          "dash": "solid"
         },
         "marker": {
          "symbol": "circle"
         },
         "mode": "lines+markers",
         "name": "N",
         "orientation": "v",
         "showlegend": true,
         "type": "scatter",
         "x": [
          "jan",
          "fev",
          "mar",
          "abr",
          "mai",
          "jun",
          "jul",
          "ago",
          "set",
          "out",
          "nov",
          "dez"
         ],
         "xaxis": "x",
         "y": [
          89.83,
          87.1,
          91.43,
          88.46,
          89.66,
          81.63,
          94.44,
          95.83,
          88.57,
          94.44,
          92.19,
          92.75
         ],
         "yaxis": "y"
        }
       ],
       "layout": {
        "legend": {
         "title": {
          "text": "Critério"
         },
         "tracegroupgap": 0
        },
        "template": {
         "data": {
          "bar": [
           {
            "error_x": {
             "color": "#2a3f5f"
            },
            "error_y": {
             "color": "#2a3f5f"
            },
            "marker": {
             "line": {
              "color": "#E5ECF6",
              "width": 0.5
             },
             "pattern": {
              "fillmode": "overlay",
              "size": 10,
              "solidity": 0.2
             }
            },
            "type": "bar"
           }
          ],
          "barpolar": [
           {
            "marker": {
             "line": {
              "color": "#E5ECF6",
              "width": 0.5
             },
             "pattern": {
              "fillmode": "overlay",
              "size": 10,
              "solidity": 0.2
             }
            },
            "type": "barpolar"
           }
          ],
          "carpet": [
           {
            "aaxis": {
             "endlinecolor": "#2a3f5f",
             "gridcolor": "white",
             "linecolor": "white",
             "minorgridcolor": "white",
             "startlinecolor": "#2a3f5f"
            },
            "baxis": {
             "endlinecolor": "#2a3f5f",
             "gridcolor": "white",
             "linecolor": "white",
             "minorgridcolor": "white",
             "startlinecolor": "#2a3f5f"
            },
            "type": "carpet"
           }
          ],
          "choropleth": [
           {
            "colorbar": {
             "outlinewidth": 0,
             "ticks": ""
            },
            "type": "choropleth"
           }
          ],
          "contour": [
           {
            "colorbar": {
             "outlinewidth": 0,
             "ticks": ""
            },
            "colorscale": [
             [
              0,
              "#0d0887"
             ],
             [
              0.1111111111111111,
              "#46039f"
             ],
             [
              0.2222222222222222,
              "#7201a8"
             ],
             [
              0.3333333333333333,
              "#9c179e"
             ],
             [
              0.4444444444444444,
              "#bd3786"
             ],
             [
              0.5555555555555556,
              "#d8576b"
             ],
             [
              0.6666666666666666,
              "#ed7953"
             ],
             [
              0.7777777777777778,
              "#fb9f3a"
             ],
             [
              0.8888888888888888,
              "#fdca26"
             ],
             [
              1,
              "#f0f921"
             ]
            ],
            "type": "contour"
           }
          ],
          "contourcarpet": [
           {
            "colorbar": {
             "outlinewidth": 0,
             "ticks": ""
            },
            "type": "contourcarpet"
           }
          ],
          "heatmap": [
           {
            "colorbar": {
             "outlinewidth": 0,
             "ticks": ""
            },
            "colorscale": [
             [
              0,
              "#0d0887"
             ],
             [
              0.1111111111111111,
              "#46039f"
             ],
             [
              0.2222222222222222,
              "#7201a8"
             ],
             [
              0.3333333333333333,
              "#9c179e"
             ],
             [
              0.4444444444444444,
              "#bd3786"
             ],
             [
              0.5555555555555556,
              "#d8576b"
             ],
             [
              0.6666666666666666,
              "#ed7953"
             ],
             [
              0.7777777777777778,
              "#fb9f3a"
             ],
             [
              0.8888888888888888,
              "#fdca26"
             ],
             [
              1,
              "#f0f921"
             ]
            ],
            "type": "heatmap"
           }
          ],
          "heatmapgl": [
           {
            "colorbar": {
             "outlinewidth": 0,
             "ticks": ""
            },
            "colorscale": [
             [
              0,
              "#0d0887"
             ],
             [
              0.1111111111111111,
              "#46039f"
             ],
             [
              0.2222222222222222,
              "#7201a8"
             ],
             [
              0.3333333333333333,
              "#9c179e"
             ],
             [
              0.4444444444444444,
              "#bd3786"
             ],
             [
              0.5555555555555556,
              "#d8576b"
             ],
             [
              0.6666666666666666,
              "#ed7953"
             ],
             [
              0.7777777777777778,
              "#fb9f3a"
             ],
             [
              0.8888888888888888,
              "#fdca26"
             ],
             [
              1,
              "#f0f921"
             ]
            ],
            "type": "heatmapgl"
           }
          ],
          "histogram": [
           {
            "marker": {
             "pattern": {
              "fillmode": "overlay",
              "size": 10,
              "solidity": 0.2
             }
            },
            "type": "histogram"
           }
          ],
          "histogram2d": [
           {
            "colorbar": {
             "outlinewidth": 0,
             "ticks": ""
            },
            "colorscale": [
             [
              0,
              "#0d0887"
             ],
             [
              0.1111111111111111,
              "#46039f"
             ],
             [
              0.2222222222222222,
              "#7201a8"
             ],
             [
              0.3333333333333333,
              "#9c179e"
             ],
             [
              0.4444444444444444,
              "#bd3786"
             ],
             [
              0.5555555555555556,
              "#d8576b"
             ],
             [
              0.6666666666666666,
              "#ed7953"
             ],
             [
              0.7777777777777778,
              "#fb9f3a"
             ],
             [
              0.8888888888888888,
              "#fdca26"
             ],
             [
              1,
              "#f0f921"
             ]
            ],
            "type": "histogram2d"
           }
          ],
          "histogram2dcontour": [
           {
            "colorbar": {
             "outlinewidth": 0,
             "ticks": ""
            },
            "colorscale": [
             [
              0,
              "#0d0887"
             ],
             [
              0.1111111111111111,
              "#46039f"
             ],
             [
              0.2222222222222222,
              "#7201a8"
             ],
             [
              0.3333333333333333,
              "#9c179e"
             ],
             [
              0.4444444444444444,
              "#bd3786"
             ],
             [
              0.5555555555555556,
              "#d8576b"
             ],
             [
              0.6666666666666666,
              "#ed7953"
             ],
             [
              0.7777777777777778,
              "#fb9f3a"
             ],
             [
              0.8888888888888888,
              "#fdca26"
             ],
             [
              1,
              "#f0f921"
             ]
            ],
            "type": "histogram2dcontour"
           }
          ],
          "mesh3d": [
           {
            "colorbar": {
             "outlinewidth": 0,
             "ticks": ""
            },
            "type": "mesh3d"
           }
          ],
          "parcoords": [
           {
            "line": {
             "colorbar": {
              "outlinewidth": 0,
              "ticks": ""
             }
            },
            "type": "parcoords"
           }
          ],
          "pie": [
           {
            "automargin": true,
            "type": "pie"
           }
          ],
          "scatter": [
           {
            "fillpattern": {
             "fillmode": "overlay",
             "size": 10,
             "solidity": 0.2
            },
            "type": "scatter"
           }
          ],
          "scatter3d": [
           {
            "line": {
             "colorbar": {
              "outlinewidth": 0,
              "ticks": ""
             }
            },
            "marker": {
             "colorbar": {
              "outlinewidth": 0,
              "ticks": ""
             }
            },
            "type": "scatter3d"
           }
          ],
          "scattercarpet": [
           {
            "marker": {
             "colorbar": {
              "outlinewidth": 0,
              "ticks": ""
             }
            },
            "type": "scattercarpet"
           }
          ],
          "scattergeo": [
           {
            "marker": {
             "colorbar": {
              "outlinewidth": 0,
              "ticks": ""
             }
            },
            "type": "scattergeo"
           }
          ],
          "scattergl": [
           {
            "marker": {
             "colorbar": {
              "outlinewidth": 0,
              "ticks": ""
             }
            },
            "type": "scattergl"
           }
          ],
          "scattermapbox": [
           {
            "marker": {
             "colorbar": {
              "outlinewidth": 0,
              "ticks": ""
             }
            },
            "type": "scattermapbox"
           }
          ],
          "scatterpolar": [
           {
            "marker": {
             "colorbar": {
              "outlinewidth": 0,
              "ticks": ""
             }
            },
            "type": "scatterpolar"
           }
          ],
          "scatterpolargl": [
           {
            "marker": {
             "colorbar": {
              "outlinewidth": 0,
              "ticks": ""
             }
            },
            "type": "scatterpolargl"
           }
          ],
          "scatterternary": [
           {
            "marker": {
             "colorbar": {
              "outlinewidth": 0,
              "ticks": ""
             }
            },
            "type": "scatterternary"
           }
          ],
          "surface": [
           {
            "colorbar": {
             "outlinewidth": 0,
             "ticks": ""
            },
            "colorscale": [
             [
              0,
              "#0d0887"
             ],
             [
              0.1111111111111111,
              "#46039f"
             ],
             [
              0.2222222222222222,
              "#7201a8"
             ],
             [
              0.3333333333333333,
              "#9c179e"
             ],
             [
              0.4444444444444444,
              "#bd3786"
             ],
             [
              0.5555555555555556,
              "#d8576b"
             ],
             [
              0.6666666666666666,
              "#ed7953"
             ],
             [
              0.7777777777777778,
              "#fb9f3a"
             ],
             [
              0.8888888888888888,
              "#fdca26"
             ],
             [
              1,
              "#f0f921"
             ]
            ],
            "type": "surface"
           }
          ],
          "table": [
           {
            "cells": {
             "fill": {
              "color": "#EBF0F8"
             },
             "line": {
              "color": "white"
             }
            },
            "header": {
             "fill": {
              "color": "#C8D4E3"
             },
             "line": {
              "color": "white"
             }
            },
            "type": "table"
           }
          ]
         },
         "layout": {
          "annotationdefaults": {
           "arrowcolor": "#2a3f5f",
           "arrowhead": 0,
           "arrowwidth": 1
          },
          "autotypenumbers": "strict",
          "coloraxis": {
           "colorbar": {
            "outlinewidth": 0,
            "ticks": ""
           }
          },
          "colorscale": {
           "diverging": [
            [
             0,
             "#8e0152"
            ],
            [
             0.1,
             "#c51b7d"
            ],
            [
             0.2,
             "#de77ae"
            ],
            [
             0.3,
             "#f1b6da"
            ],
            [
             0.4,
             "#fde0ef"
            ],
            [
             0.5,
             "#f7f7f7"
            ],
            [
             0.6,
             "#e6f5d0"
            ],
            [
             0.7,
             "#b8e186"
            ],
            [
             0.8,
             "#7fbc41"
            ],
            [
             0.9,
             "#4d9221"
            ],
            [
             1,
             "#276419"
            ]
           ],
           "sequential": [
            [
             0,
             "#0d0887"
            ],
            [
             0.1111111111111111,
             "#46039f"
            ],
            [
             0.2222222222222222,
             "#7201a8"
            ],
            [
             0.3333333333333333,
             "#9c179e"
            ],
            [
             0.4444444444444444,
             "#bd3786"
            ],
            [
             0.5555555555555556,
             "#d8576b"
            ],
            [
             0.6666666666666666,
             "#ed7953"
            ],
            [
             0.7777777777777778,
             "#fb9f3a"
            ],
            [
             0.8888888888888888,
             "#fdca26"
            ],
            [
             1,
             "#f0f921"
            ]
           ],
           "sequentialminus": [
            [
             0,
             "#0d0887"
            ],
            [
             0.1111111111111111,
             "#46039f"
            ],
            [
             0.2222222222222222,
             "#7201a8"
            ],
            [
             0.3333333333333333,
             "#9c179e"
            ],
            [
             0.4444444444444444,
             "#bd3786"
            ],
            [
             0.5555555555555556,
             "#d8576b"
            ],
            [
             0.6666666666666666,
             "#ed7953"
            ],
            [
             0.7777777777777778,
             "#fb9f3a"
            ],
            [
             0.8888888888888888,
             "#fdca26"
            ],
            [
             1,
             "#f0f921"
            ]
           ]
          },
          "colorway": [
           "#636efa",
           "#EF553B",
           "#00cc96",
           "#ab63fa",
           "#FFA15A",
           "#19d3f3",
           "#FF6692",
           "#B6E880",
           "#FF97FF",
           "#FECB52"
          ],
          "font": {
           "color": "#2a3f5f"
          },
          "geo": {
           "bgcolor": "white",
           "lakecolor": "white",
           "landcolor": "#E5ECF6",
           "showlakes": true,
           "showland": true,
           "subunitcolor": "white"
          },
          "hoverlabel": {
           "align": "left"
          },
          "hovermode": "closest",
          "mapbox": {
           "style": "light"
          },
          "paper_bgcolor": "white",
          "plot_bgcolor": "#E5ECF6",
          "polar": {
           "angularaxis": {
            "gridcolor": "white",
            "linecolor": "white",
            "ticks": ""
           },
           "bgcolor": "#E5ECF6",
           "radialaxis": {
            "gridcolor": "white",
            "linecolor": "white",
            "ticks": ""
           }
          },
          "scene": {
           "xaxis": {
            "backgroundcolor": "#E5ECF6",
            "gridcolor": "white",
            "gridwidth": 2,
            "linecolor": "white",
            "showbackground": true,
            "ticks": "",
            "zerolinecolor": "white"
           },
           "yaxis": {
            "backgroundcolor": "#E5ECF6",
            "gridcolor": "white",
            "gridwidth": 2,
            "linecolor": "white",
            "showbackground": true,
            "ticks": "",
            "zerolinecolor": "white"
           },
           "zaxis": {
            "backgroundcolor": "#E5ECF6",
            "gridcolor": "white",
            "gridwidth": 2,
            "linecolor": "white",
            "showbackground": true,
            "ticks": "",
            "zerolinecolor": "white"
           }
          },
          "shapedefaults": {
           "line": {
            "color": "#2a3f5f"
           }
          },
          "ternary": {
           "aaxis": {
            "gridcolor": "white",
            "linecolor": "white",
            "ticks": ""
           },
           "baxis": {
            "gridcolor": "white",
            "linecolor": "white",
            "ticks": ""
           },
           "bgcolor": "#E5ECF6",
           "caxis": {
            "gridcolor": "white",
            "linecolor": "white",
            "ticks": ""
           }
          },
          "title": {
           "x": 0.05
          },
          "xaxis": {
           "automargin": true,
           "gridcolor": "white",
           "linecolor": "white",
           "ticks": "",
           "title": {
            "standoff": 15
           },
           "zerolinecolor": "white",
           "zerolinewidth": 2
          },
          "yaxis": {
           "automargin": true,
           "gridcolor": "white",
           "linecolor": "white",
           "ticks": "",
           "title": {
            "standoff": 15
           },
           "zerolinecolor": "white",
           "zerolinewidth": 2
          }
         }
        },
        "title": {
         "text": "Porcentagem de Adoção dos Critérios por Mês no Ano 2022"
        },
        "xaxis": {
         "anchor": "y",
         "domain": [
          0,
          1
         ],
         "tickmode": "array",
         "ticktext": [
          "Jan",
          "Fev",
          "Mar",
          "Abr",
          "Mai",
          "Jun",
          "Jul",
          "Ago",
          "Set",
          "Out",
          "Nov",
          "Dez"
         ],
         "tickvals": [
          "jan",
          "fev",
          "mar",
          "abr",
          "mai",
          "jun",
          "jul",
          "ago",
          "set",
          "out",
          "nov",
          "dez"
         ],
         "title": {
          "text": "Mês"
         }
        },
        "yaxis": {
         "anchor": "x",
         "domain": [
          0,
          1
         ],
         "title": {
          "text": "Porcentagem de Adoção (%)"
         }
        }
       }
      }
     },
     "metadata": {},
     "output_type": "display_data"
    },
    {
     "data": {
      "application/vnd.plotly.v1+json": {
       "config": {
        "plotlyServerURL": "https://plot.ly"
       },
       "data": [
        {
         "hovertemplate": "Critério=Matriz<br>Mês=%{x}<br>Porcentagem de Adoção (%)=%{y}<extra></extra>",
         "legendgroup": "Matriz",
         "line": {
          "color": "#636efa",
          "dash": "solid"
         },
         "marker": {
          "symbol": "circle"
         },
         "mode": "lines+markers",
         "name": "Matriz",
         "orientation": "v",
         "showlegend": true,
         "type": "scatter",
         "x": [
          "jan",
          "fev",
          "mar",
          "abr",
          "mai",
          "jun",
          "jul",
          "ago",
          "set",
          "out",
          "nov",
          "dez"
         ],
         "xaxis": "x",
         "y": [
          0,
          0,
          2.08,
          0,
          0,
          0,
          0,
          0,
          0,
          0,
          0,
          0
         ],
         "yaxis": "y"
        },
        {
         "hovertemplate": "Critério=A<br>Mês=%{x}<br>Porcentagem de Adoção (%)=%{y}<extra></extra>",
         "legendgroup": "A",
         "line": {
          "color": "#EF553B",
          "dash": "solid"
         },
         "marker": {
          "symbol": "circle"
         },
         "mode": "lines+markers",
         "name": "A",
         "orientation": "v",
         "showlegend": true,
         "type": "scatter",
         "x": [
          "jan",
          "fev",
          "mar",
          "abr",
          "mai",
          "jun",
          "jul",
          "ago",
          "set",
          "out",
          "nov",
          "dez"
         ],
         "xaxis": "x",
         "y": [
          44.19,
          65.38,
          37.5,
          60.61,
          51.52,
          51.52,
          64.1,
          46.67,
          60,
          64.71,
          46.67,
          80
         ],
         "yaxis": "y"
        },
        {
         "hovertemplate": "Critério=B<br>Mês=%{x}<br>Porcentagem de Adoção (%)=%{y}<extra></extra>",
         "legendgroup": "B",
         "line": {
          "color": "#00cc96",
          "dash": "solid"
         },
         "marker": {
          "symbol": "circle"
         },
         "mode": "lines+markers",
         "name": "B",
         "orientation": "v",
         "showlegend": true,
         "type": "scatter",
         "x": [
          "jan",
          "fev",
          "mar",
          "abr",
          "mai",
          "jun",
          "jul",
          "ago",
          "set",
          "out",
          "nov",
          "dez"
         ],
         "xaxis": "x",
         "y": [
          6.98,
          11.54,
          10.42,
          3.03,
          6.06,
          6.06,
          12.82,
          15.56,
          13.33,
          8.82,
          8.89,
          20
         ],
         "yaxis": "y"
        },
        {
         "hovertemplate": "Critério=C<br>Mês=%{x}<br>Porcentagem de Adoção (%)=%{y}<extra></extra>",
         "legendgroup": "C",
         "line": {
          "color": "#ab63fa",
          "dash": "solid"
         },
         "marker": {
          "symbol": "circle"
         },
         "mode": "lines+markers",
         "name": "C",
         "orientation": "v",
         "showlegend": true,
         "type": "scatter",
         "x": [
          "jan",
          "fev",
          "mar",
          "abr",
          "mai",
          "jun",
          "jul",
          "ago",
          "set",
          "out",
          "nov",
          "dez"
         ],
         "xaxis": "x",
         "y": [
          100,
          100,
          100,
          100,
          100,
          100,
          100,
          100,
          100,
          100,
          100,
          98
         ],
         "yaxis": "y"
        },
        {
         "hovertemplate": "Critério=D<br>Mês=%{x}<br>Porcentagem de Adoção (%)=%{y}<extra></extra>",
         "legendgroup": "D",
         "line": {
          "color": "#FFA15A",
          "dash": "solid"
         },
         "marker": {
          "symbol": "circle"
         },
         "mode": "lines+markers",
         "name": "D",
         "orientation": "v",
         "showlegend": true,
         "type": "scatter",
         "x": [
          "jan",
          "fev",
          "mar",
          "abr",
          "mai",
          "jun",
          "jul",
          "ago",
          "set",
          "out",
          "nov",
          "dez"
         ],
         "xaxis": "x",
         "y": [
          65.12,
          69.23,
          75,
          87.88,
          90.91,
          78.79,
          94.87,
          68.89,
          88.33,
          79.41,
          91.11,
          74
         ],
         "yaxis": "y"
        },
        {
         "hovertemplate": "Critério=E<br>Mês=%{x}<br>Porcentagem de Adoção (%)=%{y}<extra></extra>",
         "legendgroup": "E",
         "line": {
          "color": "#19d3f3",
          "dash": "solid"
         },
         "marker": {
          "symbol": "circle"
         },
         "mode": "lines+markers",
         "name": "E",
         "orientation": "v",
         "showlegend": true,
         "type": "scatter",
         "x": [
          "jan",
          "fev",
          "mar",
          "abr",
          "mai",
          "jun",
          "jul",
          "ago",
          "set",
          "out",
          "nov",
          "dez"
         ],
         "xaxis": "x",
         "y": [
          90.7,
          88.46,
          85.42,
          90.91,
          96.97,
          84.85,
          87.18,
          95.56,
          86.67,
          85.29,
          88.89,
          90
         ],
         "yaxis": "y"
        },
        {
         "hovertemplate": "Critério=F<br>Mês=%{x}<br>Porcentagem de Adoção (%)=%{y}<extra></extra>",
         "legendgroup": "F",
         "line": {
          "color": "#FF6692",
          "dash": "solid"
         },
         "marker": {
          "symbol": "circle"
         },
         "mode": "lines+markers",
         "name": "F",
         "orientation": "v",
         "showlegend": true,
         "type": "scatter",
         "x": [
          "jan",
          "fev",
          "mar",
          "abr",
          "mai",
          "jun",
          "jul",
          "ago",
          "set",
          "out",
          "nov",
          "dez"
         ],
         "xaxis": "x",
         "y": [
          100,
          100,
          97.92,
          100,
          100,
          100,
          100,
          95.56,
          100,
          97.06,
          100,
          98
         ],
         "yaxis": "y"
        },
        {
         "hovertemplate": "Critério=G<br>Mês=%{x}<br>Porcentagem de Adoção (%)=%{y}<extra></extra>",
         "legendgroup": "G",
         "line": {
          "color": "#B6E880",
          "dash": "solid"
         },
         "marker": {
          "symbol": "circle"
         },
         "mode": "lines+markers",
         "name": "G",
         "orientation": "v",
         "showlegend": true,
         "type": "scatter",
         "x": [
          "jan",
          "fev",
          "mar",
          "abr",
          "mai",
          "jun",
          "jul",
          "ago",
          "set",
          "out",
          "nov",
          "dez"
         ],
         "xaxis": "x",
         "y": [
          4.65,
          3.85,
          0,
          6.06,
          3.03,
          3.03,
          7.69,
          11.11,
          8.33,
          2.94,
          4.44,
          2
         ],
         "yaxis": "y"
        },
        {
         "hovertemplate": "Critério=H<br>Mês=%{x}<br>Porcentagem de Adoção (%)=%{y}<extra></extra>",
         "legendgroup": "H",
         "line": {
          "color": "#FF97FF",
          "dash": "solid"
         },
         "marker": {
          "symbol": "circle"
         },
         "mode": "lines+markers",
         "name": "H",
         "orientation": "v",
         "showlegend": true,
         "type": "scatter",
         "x": [
          "jan",
          "fev",
          "mar",
          "abr",
          "mai",
          "jun",
          "jul",
          "ago",
          "set",
          "out",
          "nov",
          "dez"
         ],
         "xaxis": "x",
         "y": [
          48.84,
          38.46,
          54.17,
          54.55,
          69.7,
          42.42,
          53.85,
          48.89,
          48.33,
          47.06,
          64.44,
          58
         ],
         "yaxis": "y"
        },
        {
         "hovertemplate": "Critério=I<br>Mês=%{x}<br>Porcentagem de Adoção (%)=%{y}<extra></extra>",
         "legendgroup": "I",
         "line": {
          "color": "#FECB52",
          "dash": "solid"
         },
         "marker": {
          "symbol": "circle"
         },
         "mode": "lines+markers",
         "name": "I",
         "orientation": "v",
         "showlegend": true,
         "type": "scatter",
         "x": [
          "jan",
          "fev",
          "mar",
          "abr",
          "mai",
          "jun",
          "jul",
          "ago",
          "set",
          "out",
          "nov",
          "dez"
         ],
         "xaxis": "x",
         "y": [
          53.49,
          50,
          47.92,
          36.36,
          66.67,
          46.97,
          64.1,
          48.89,
          53.33,
          52.94,
          57.78,
          60
         ],
         "yaxis": "y"
        },
        {
         "hovertemplate": "Critério=J<br>Mês=%{x}<br>Porcentagem de Adoção (%)=%{y}<extra></extra>",
         "legendgroup": "J",
         "line": {
          "color": "#636efa",
          "dash": "solid"
         },
         "marker": {
          "symbol": "circle"
         },
         "mode": "lines+markers",
         "name": "J",
         "orientation": "v",
         "showlegend": true,
         "type": "scatter",
         "x": [
          "jan",
          "fev",
          "mar",
          "abr",
          "mai",
          "jun",
          "jul",
          "ago",
          "set",
          "out",
          "nov",
          "dez"
         ],
         "xaxis": "x",
         "y": [
          9.3,
          19.23,
          14.58,
          15.15,
          24.24,
          7.58,
          20.51,
          17.78,
          23.33,
          14.71,
          24.44,
          12
         ],
         "yaxis": "y"
        },
        {
         "hovertemplate": "Critério=K<br>Mês=%{x}<br>Porcentagem de Adoção (%)=%{y}<extra></extra>",
         "legendgroup": "K",
         "line": {
          "color": "#EF553B",
          "dash": "solid"
         },
         "marker": {
          "symbol": "circle"
         },
         "mode": "lines+markers",
         "name": "K",
         "orientation": "v",
         "showlegend": true,
         "type": "scatter",
         "x": [
          "jan",
          "fev",
          "mar",
          "abr",
          "mai",
          "jun",
          "jul",
          "ago",
          "set",
          "out",
          "nov",
          "dez"
         ],
         "xaxis": "x",
         "y": [
          72.09,
          76.92,
          85.42,
          72.73,
          93.94,
          75.76,
          74.36,
          75.56,
          80,
          88.24,
          82.22,
          84
         ],
         "yaxis": "y"
        },
        {
         "hovertemplate": "Critério=L<br>Mês=%{x}<br>Porcentagem de Adoção (%)=%{y}<extra></extra>",
         "legendgroup": "L",
         "line": {
          "color": "#00cc96",
          "dash": "solid"
         },
         "marker": {
          "symbol": "circle"
         },
         "mode": "lines+markers",
         "name": "L",
         "orientation": "v",
         "showlegend": true,
         "type": "scatter",
         "x": [
          "jan",
          "fev",
          "mar",
          "abr",
          "mai",
          "jun",
          "jul",
          "ago",
          "set",
          "out",
          "nov",
          "dez"
         ],
         "xaxis": "x",
         "y": [
          46.51,
          26.92,
          25,
          45.45,
          54.55,
          42.42,
          41.03,
          42.22,
          40,
          41.18,
          42.22,
          44
         ],
         "yaxis": "y"
        },
        {
         "hovertemplate": "Critério=M<br>Mês=%{x}<br>Porcentagem de Adoção (%)=%{y}<extra></extra>",
         "legendgroup": "M",
         "line": {
          "color": "#ab63fa",
          "dash": "solid"
         },
         "marker": {
          "symbol": "circle"
         },
         "mode": "lines+markers",
         "name": "M",
         "orientation": "v",
         "showlegend": true,
         "type": "scatter",
         "x": [
          "jan",
          "fev",
          "mar",
          "abr",
          "mai",
          "jun",
          "jul",
          "ago",
          "set",
          "out",
          "nov",
          "dez"
         ],
         "xaxis": "x",
         "y": [
          9.3,
          30.77,
          14.58,
          21.21,
          15.15,
          13.64,
          30.77,
          15.56,
          30,
          32.35,
          37.78,
          12
         ],
         "yaxis": "y"
        },
        {
         "hovertemplate": "Critério=N<br>Mês=%{x}<br>Porcentagem de Adoção (%)=%{y}<extra></extra>",
         "legendgroup": "N",
         "line": {
          "color": "#FFA15A",
          "dash": "solid"
         },
         "marker": {
          "symbol": "circle"
         },
         "mode": "lines+markers",
         "name": "N",
         "orientation": "v",
         "showlegend": true,
         "type": "scatter",
         "x": [
          "jan",
          "fev",
          "mar",
          "abr",
          "mai",
          "jun",
          "jul",
          "ago",
          "set",
          "out",
          "nov",
          "dez"
         ],
         "xaxis": "x",
         "y": [
          100,
          100,
          87.5,
          96.97,
          96.97,
          95.45,
          94.87,
          97.78,
          95,
          100,
          95.56,
          94
         ],
         "yaxis": "y"
        }
       ],
       "layout": {
        "legend": {
         "title": {
          "text": "Critério"
         },
         "tracegroupgap": 0
        },
        "template": {
         "data": {
          "bar": [
           {
            "error_x": {
             "color": "#2a3f5f"
            },
            "error_y": {
             "color": "#2a3f5f"
            },
            "marker": {
             "line": {
              "color": "#E5ECF6",
              "width": 0.5
             },
             "pattern": {
              "fillmode": "overlay",
              "size": 10,
              "solidity": 0.2
             }
            },
            "type": "bar"
           }
          ],
          "barpolar": [
           {
            "marker": {
             "line": {
              "color": "#E5ECF6",
              "width": 0.5
             },
             "pattern": {
              "fillmode": "overlay",
              "size": 10,
              "solidity": 0.2
             }
            },
            "type": "barpolar"
           }
          ],
          "carpet": [
           {
            "aaxis": {
             "endlinecolor": "#2a3f5f",
             "gridcolor": "white",
             "linecolor": "white",
             "minorgridcolor": "white",
             "startlinecolor": "#2a3f5f"
            },
            "baxis": {
             "endlinecolor": "#2a3f5f",
             "gridcolor": "white",
             "linecolor": "white",
             "minorgridcolor": "white",
             "startlinecolor": "#2a3f5f"
            },
            "type": "carpet"
           }
          ],
          "choropleth": [
           {
            "colorbar": {
             "outlinewidth": 0,
             "ticks": ""
            },
            "type": "choropleth"
           }
          ],
          "contour": [
           {
            "colorbar": {
             "outlinewidth": 0,
             "ticks": ""
            },
            "colorscale": [
             [
              0,
              "#0d0887"
             ],
             [
              0.1111111111111111,
              "#46039f"
             ],
             [
              0.2222222222222222,
              "#7201a8"
             ],
             [
              0.3333333333333333,
              "#9c179e"
             ],
             [
              0.4444444444444444,
              "#bd3786"
             ],
             [
              0.5555555555555556,
              "#d8576b"
             ],
             [
              0.6666666666666666,
              "#ed7953"
             ],
             [
              0.7777777777777778,
              "#fb9f3a"
             ],
             [
              0.8888888888888888,
              "#fdca26"
             ],
             [
              1,
              "#f0f921"
             ]
            ],
            "type": "contour"
           }
          ],
          "contourcarpet": [
           {
            "colorbar": {
             "outlinewidth": 0,
             "ticks": ""
            },
            "type": "contourcarpet"
           }
          ],
          "heatmap": [
           {
            "colorbar": {
             "outlinewidth": 0,
             "ticks": ""
            },
            "colorscale": [
             [
              0,
              "#0d0887"
             ],
             [
              0.1111111111111111,
              "#46039f"
             ],
             [
              0.2222222222222222,
              "#7201a8"
             ],
             [
              0.3333333333333333,
              "#9c179e"
             ],
             [
              0.4444444444444444,
              "#bd3786"
             ],
             [
              0.5555555555555556,
              "#d8576b"
             ],
             [
              0.6666666666666666,
              "#ed7953"
             ],
             [
              0.7777777777777778,
              "#fb9f3a"
             ],
             [
              0.8888888888888888,
              "#fdca26"
             ],
             [
              1,
              "#f0f921"
             ]
            ],
            "type": "heatmap"
           }
          ],
          "heatmapgl": [
           {
            "colorbar": {
             "outlinewidth": 0,
             "ticks": ""
            },
            "colorscale": [
             [
              0,
              "#0d0887"
             ],
             [
              0.1111111111111111,
              "#46039f"
             ],
             [
              0.2222222222222222,
              "#7201a8"
             ],
             [
              0.3333333333333333,
              "#9c179e"
             ],
             [
              0.4444444444444444,
              "#bd3786"
             ],
             [
              0.5555555555555556,
              "#d8576b"
             ],
             [
              0.6666666666666666,
              "#ed7953"
             ],
             [
              0.7777777777777778,
              "#fb9f3a"
             ],
             [
              0.8888888888888888,
              "#fdca26"
             ],
             [
              1,
              "#f0f921"
             ]
            ],
            "type": "heatmapgl"
           }
          ],
          "histogram": [
           {
            "marker": {
             "pattern": {
              "fillmode": "overlay",
              "size": 10,
              "solidity": 0.2
             }
            },
            "type": "histogram"
           }
          ],
          "histogram2d": [
           {
            "colorbar": {
             "outlinewidth": 0,
             "ticks": ""
            },
            "colorscale": [
             [
              0,
              "#0d0887"
             ],
             [
              0.1111111111111111,
              "#46039f"
             ],
             [
              0.2222222222222222,
              "#7201a8"
             ],
             [
              0.3333333333333333,
              "#9c179e"
             ],
             [
              0.4444444444444444,
              "#bd3786"
             ],
             [
              0.5555555555555556,
              "#d8576b"
             ],
             [
              0.6666666666666666,
              "#ed7953"
             ],
             [
              0.7777777777777778,
              "#fb9f3a"
             ],
             [
              0.8888888888888888,
              "#fdca26"
             ],
             [
              1,
              "#f0f921"
             ]
            ],
            "type": "histogram2d"
           }
          ],
          "histogram2dcontour": [
           {
            "colorbar": {
             "outlinewidth": 0,
             "ticks": ""
            },
            "colorscale": [
             [
              0,
              "#0d0887"
             ],
             [
              0.1111111111111111,
              "#46039f"
             ],
             [
              0.2222222222222222,
              "#7201a8"
             ],
             [
              0.3333333333333333,
              "#9c179e"
             ],
             [
              0.4444444444444444,
              "#bd3786"
             ],
             [
              0.5555555555555556,
              "#d8576b"
             ],
             [
              0.6666666666666666,
              "#ed7953"
             ],
             [
              0.7777777777777778,
              "#fb9f3a"
             ],
             [
              0.8888888888888888,
              "#fdca26"
             ],
             [
              1,
              "#f0f921"
             ]
            ],
            "type": "histogram2dcontour"
           }
          ],
          "mesh3d": [
           {
            "colorbar": {
             "outlinewidth": 0,
             "ticks": ""
            },
            "type": "mesh3d"
           }
          ],
          "parcoords": [
           {
            "line": {
             "colorbar": {
              "outlinewidth": 0,
              "ticks": ""
             }
            },
            "type": "parcoords"
           }
          ],
          "pie": [
           {
            "automargin": true,
            "type": "pie"
           }
          ],
          "scatter": [
           {
            "fillpattern": {
             "fillmode": "overlay",
             "size": 10,
             "solidity": 0.2
            },
            "type": "scatter"
           }
          ],
          "scatter3d": [
           {
            "line": {
             "colorbar": {
              "outlinewidth": 0,
              "ticks": ""
             }
            },
            "marker": {
             "colorbar": {
              "outlinewidth": 0,
              "ticks": ""
             }
            },
            "type": "scatter3d"
           }
          ],
          "scattercarpet": [
           {
            "marker": {
             "colorbar": {
              "outlinewidth": 0,
              "ticks": ""
             }
            },
            "type": "scattercarpet"
           }
          ],
          "scattergeo": [
           {
            "marker": {
             "colorbar": {
              "outlinewidth": 0,
              "ticks": ""
             }
            },
            "type": "scattergeo"
           }
          ],
          "scattergl": [
           {
            "marker": {
             "colorbar": {
              "outlinewidth": 0,
              "ticks": ""
             }
            },
            "type": "scattergl"
           }
          ],
          "scattermapbox": [
           {
            "marker": {
             "colorbar": {
              "outlinewidth": 0,
              "ticks": ""
             }
            },
            "type": "scattermapbox"
           }
          ],
          "scatterpolar": [
           {
            "marker": {
             "colorbar": {
              "outlinewidth": 0,
              "ticks": ""
             }
            },
            "type": "scatterpolar"
           }
          ],
          "scatterpolargl": [
           {
            "marker": {
             "colorbar": {
              "outlinewidth": 0,
              "ticks": ""
             }
            },
            "type": "scatterpolargl"
           }
          ],
          "scatterternary": [
           {
            "marker": {
             "colorbar": {
              "outlinewidth": 0,
              "ticks": ""
             }
            },
            "type": "scatterternary"
           }
          ],
          "surface": [
           {
            "colorbar": {
             "outlinewidth": 0,
             "ticks": ""
            },
            "colorscale": [
             [
              0,
              "#0d0887"
             ],
             [
              0.1111111111111111,
              "#46039f"
             ],
             [
              0.2222222222222222,
              "#7201a8"
             ],
             [
              0.3333333333333333,
              "#9c179e"
             ],
             [
              0.4444444444444444,
              "#bd3786"
             ],
             [
              0.5555555555555556,
              "#d8576b"
             ],
             [
              0.6666666666666666,
              "#ed7953"
             ],
             [
              0.7777777777777778,
              "#fb9f3a"
             ],
             [
              0.8888888888888888,
              "#fdca26"
             ],
             [
              1,
              "#f0f921"
             ]
            ],
            "type": "surface"
           }
          ],
          "table": [
           {
            "cells": {
             "fill": {
              "color": "#EBF0F8"
             },
             "line": {
              "color": "white"
             }
            },
            "header": {
             "fill": {
              "color": "#C8D4E3"
             },
             "line": {
              "color": "white"
             }
            },
            "type": "table"
           }
          ]
         },
         "layout": {
          "annotationdefaults": {
           "arrowcolor": "#2a3f5f",
           "arrowhead": 0,
           "arrowwidth": 1
          },
          "autotypenumbers": "strict",
          "coloraxis": {
           "colorbar": {
            "outlinewidth": 0,
            "ticks": ""
           }
          },
          "colorscale": {
           "diverging": [
            [
             0,
             "#8e0152"
            ],
            [
             0.1,
             "#c51b7d"
            ],
            [
             0.2,
             "#de77ae"
            ],
            [
             0.3,
             "#f1b6da"
            ],
            [
             0.4,
             "#fde0ef"
            ],
            [
             0.5,
             "#f7f7f7"
            ],
            [
             0.6,
             "#e6f5d0"
            ],
            [
             0.7,
             "#b8e186"
            ],
            [
             0.8,
             "#7fbc41"
            ],
            [
             0.9,
             "#4d9221"
            ],
            [
             1,
             "#276419"
            ]
           ],
           "sequential": [
            [
             0,
             "#0d0887"
            ],
            [
             0.1111111111111111,
             "#46039f"
            ],
            [
             0.2222222222222222,
             "#7201a8"
            ],
            [
             0.3333333333333333,
             "#9c179e"
            ],
            [
             0.4444444444444444,
             "#bd3786"
            ],
            [
             0.5555555555555556,
             "#d8576b"
            ],
            [
             0.6666666666666666,
             "#ed7953"
            ],
            [
             0.7777777777777778,
             "#fb9f3a"
            ],
            [
             0.8888888888888888,
             "#fdca26"
            ],
            [
             1,
             "#f0f921"
            ]
           ],
           "sequentialminus": [
            [
             0,
             "#0d0887"
            ],
            [
             0.1111111111111111,
             "#46039f"
            ],
            [
             0.2222222222222222,
             "#7201a8"
            ],
            [
             0.3333333333333333,
             "#9c179e"
            ],
            [
             0.4444444444444444,
             "#bd3786"
            ],
            [
             0.5555555555555556,
             "#d8576b"
            ],
            [
             0.6666666666666666,
             "#ed7953"
            ],
            [
             0.7777777777777778,
             "#fb9f3a"
            ],
            [
             0.8888888888888888,
             "#fdca26"
            ],
            [
             1,
             "#f0f921"
            ]
           ]
          },
          "colorway": [
           "#636efa",
           "#EF553B",
           "#00cc96",
           "#ab63fa",
           "#FFA15A",
           "#19d3f3",
           "#FF6692",
           "#B6E880",
           "#FF97FF",
           "#FECB52"
          ],
          "font": {
           "color": "#2a3f5f"
          },
          "geo": {
           "bgcolor": "white",
           "lakecolor": "white",
           "landcolor": "#E5ECF6",
           "showlakes": true,
           "showland": true,
           "subunitcolor": "white"
          },
          "hoverlabel": {
           "align": "left"
          },
          "hovermode": "closest",
          "mapbox": {
           "style": "light"
          },
          "paper_bgcolor": "white",
          "plot_bgcolor": "#E5ECF6",
          "polar": {
           "angularaxis": {
            "gridcolor": "white",
            "linecolor": "white",
            "ticks": ""
           },
           "bgcolor": "#E5ECF6",
           "radialaxis": {
            "gridcolor": "white",
            "linecolor": "white",
            "ticks": ""
           }
          },
          "scene": {
           "xaxis": {
            "backgroundcolor": "#E5ECF6",
            "gridcolor": "white",
            "gridwidth": 2,
            "linecolor": "white",
            "showbackground": true,
            "ticks": "",
            "zerolinecolor": "white"
           },
           "yaxis": {
            "backgroundcolor": "#E5ECF6",
            "gridcolor": "white",
            "gridwidth": 2,
            "linecolor": "white",
            "showbackground": true,
            "ticks": "",
            "zerolinecolor": "white"
           },
           "zaxis": {
            "backgroundcolor": "#E5ECF6",
            "gridcolor": "white",
            "gridwidth": 2,
            "linecolor": "white",
            "showbackground": true,
            "ticks": "",
            "zerolinecolor": "white"
           }
          },
          "shapedefaults": {
           "line": {
            "color": "#2a3f5f"
           }
          },
          "ternary": {
           "aaxis": {
            "gridcolor": "white",
            "linecolor": "white",
            "ticks": ""
           },
           "baxis": {
            "gridcolor": "white",
            "linecolor": "white",
            "ticks": ""
           },
           "bgcolor": "#E5ECF6",
           "caxis": {
            "gridcolor": "white",
            "linecolor": "white",
            "ticks": ""
           }
          },
          "title": {
           "x": 0.05
          },
          "xaxis": {
           "automargin": true,
           "gridcolor": "white",
           "linecolor": "white",
           "ticks": "",
           "title": {
            "standoff": 15
           },
           "zerolinecolor": "white",
           "zerolinewidth": 2
          },
          "yaxis": {
           "automargin": true,
           "gridcolor": "white",
           "linecolor": "white",
           "ticks": "",
           "title": {
            "standoff": 15
           },
           "zerolinecolor": "white",
           "zerolinewidth": 2
          }
         }
        },
        "title": {
         "text": "Porcentagem de Adoção dos Critérios por Mês no Ano 2023"
        },
        "xaxis": {
         "anchor": "y",
         "domain": [
          0,
          1
         ],
         "tickmode": "array",
         "ticktext": [
          "Jan",
          "Fev",
          "Mar",
          "Abr",
          "Mai",
          "Jun",
          "Jul",
          "Ago",
          "Set",
          "Out",
          "Nov",
          "Dez"
         ],
         "tickvals": [
          "jan",
          "fev",
          "mar",
          "abr",
          "mai",
          "jun",
          "jul",
          "ago",
          "set",
          "out",
          "nov",
          "dez"
         ],
         "title": {
          "text": "Mês"
         }
        },
        "yaxis": {
         "anchor": "x",
         "domain": [
          0,
          1
         ],
         "title": {
          "text": "Porcentagem de Adoção (%)"
         }
        }
       }
      }
     },
     "metadata": {},
     "output_type": "display_data"
    },
    {
     "data": {
      "application/vnd.plotly.v1+json": {
       "config": {
        "plotlyServerURL": "https://plot.ly"
       },
       "data": [
        {
         "hovertemplate": "Critério=Matriz<br>Mês=%{x}<br>Porcentagem de Adoção (%)=%{y}<extra></extra>",
         "legendgroup": "Matriz",
         "line": {
          "color": "#636efa",
          "dash": "solid"
         },
         "marker": {
          "symbol": "circle"
         },
         "mode": "lines+markers",
         "name": "Matriz",
         "orientation": "v",
         "showlegend": true,
         "type": "scatter",
         "x": [
          "jan",
          "fev",
          "mar",
          "abr",
          "mai",
          "jun",
          "jul",
          "ago",
          "set",
          "out",
          "nov",
          "dez"
         ],
         "xaxis": "x",
         "y": [
          0,
          0,
          0,
          0,
          0,
          0,
          0,
          0,
          0,
          0,
          0,
          0
         ],
         "yaxis": "y"
        },
        {
         "hovertemplate": "Critério=A<br>Mês=%{x}<br>Porcentagem de Adoção (%)=%{y}<extra></extra>",
         "legendgroup": "A",
         "line": {
          "color": "#EF553B",
          "dash": "solid"
         },
         "marker": {
          "symbol": "circle"
         },
         "mode": "lines+markers",
         "name": "A",
         "orientation": "v",
         "showlegend": true,
         "type": "scatter",
         "x": [
          "jan",
          "fev",
          "mar",
          "abr",
          "mai",
          "jun",
          "jul",
          "ago",
          "set",
          "out",
          "nov",
          "dez"
         ],
         "xaxis": "x",
         "y": [
          60,
          47.5,
          44.44,
          35.82,
          62.5,
          56.25,
          0,
          0,
          0,
          0,
          0,
          0
         ],
         "yaxis": "y"
        },
        {
         "hovertemplate": "Critério=B<br>Mês=%{x}<br>Porcentagem de Adoção (%)=%{y}<extra></extra>",
         "legendgroup": "B",
         "line": {
          "color": "#00cc96",
          "dash": "solid"
         },
         "marker": {
          "symbol": "circle"
         },
         "mode": "lines+markers",
         "name": "B",
         "orientation": "v",
         "showlegend": true,
         "type": "scatter",
         "x": [
          "jan",
          "fev",
          "mar",
          "abr",
          "mai",
          "jun",
          "jul",
          "ago",
          "set",
          "out",
          "nov",
          "dez"
         ],
         "xaxis": "x",
         "y": [
          0,
          10,
          0,
          1.49,
          25,
          8.33,
          0,
          0,
          0,
          0,
          0,
          0
         ],
         "yaxis": "y"
        },
        {
         "hovertemplate": "Critério=C<br>Mês=%{x}<br>Porcentagem de Adoção (%)=%{y}<extra></extra>",
         "legendgroup": "C",
         "line": {
          "color": "#ab63fa",
          "dash": "solid"
         },
         "marker": {
          "symbol": "circle"
         },
         "mode": "lines+markers",
         "name": "C",
         "orientation": "v",
         "showlegend": true,
         "type": "scatter",
         "x": [
          "jan",
          "fev",
          "mar",
          "abr",
          "mai",
          "jun",
          "jul",
          "ago",
          "set",
          "out",
          "nov",
          "dez"
         ],
         "xaxis": "x",
         "y": [
          100,
          100,
          100,
          100,
          100,
          100,
          0,
          0,
          0,
          0,
          0,
          0
         ],
         "yaxis": "y"
        },
        {
         "hovertemplate": "Critério=D<br>Mês=%{x}<br>Porcentagem de Adoção (%)=%{y}<extra></extra>",
         "legendgroup": "D",
         "line": {
          "color": "#FFA15A",
          "dash": "solid"
         },
         "marker": {
          "symbol": "circle"
         },
         "mode": "lines+markers",
         "name": "D",
         "orientation": "v",
         "showlegend": true,
         "type": "scatter",
         "x": [
          "jan",
          "fev",
          "mar",
          "abr",
          "mai",
          "jun",
          "jul",
          "ago",
          "set",
          "out",
          "nov",
          "dez"
         ],
         "xaxis": "x",
         "y": [
          90,
          75,
          77.78,
          93.28,
          87.5,
          89.58,
          0,
          0,
          0,
          0,
          0,
          0
         ],
         "yaxis": "y"
        },
        {
         "hovertemplate": "Critério=E<br>Mês=%{x}<br>Porcentagem de Adoção (%)=%{y}<extra></extra>",
         "legendgroup": "E",
         "line": {
          "color": "#19d3f3",
          "dash": "solid"
         },
         "marker": {
          "symbol": "circle"
         },
         "mode": "lines+markers",
         "name": "E",
         "orientation": "v",
         "showlegend": true,
         "type": "scatter",
         "x": [
          "jan",
          "fev",
          "mar",
          "abr",
          "mai",
          "jun",
          "jul",
          "ago",
          "set",
          "out",
          "nov",
          "dez"
         ],
         "xaxis": "x",
         "y": [
          80,
          77.5,
          88.89,
          82.09,
          100,
          87.5,
          0,
          0,
          0,
          0,
          0,
          0
         ],
         "yaxis": "y"
        },
        {
         "hovertemplate": "Critério=F<br>Mês=%{x}<br>Porcentagem de Adoção (%)=%{y}<extra></extra>",
         "legendgroup": "F",
         "line": {
          "color": "#FF6692",
          "dash": "solid"
         },
         "marker": {
          "symbol": "circle"
         },
         "mode": "lines+markers",
         "name": "F",
         "orientation": "v",
         "showlegend": true,
         "type": "scatter",
         "x": [
          "jan",
          "fev",
          "mar",
          "abr",
          "mai",
          "jun",
          "jul",
          "ago",
          "set",
          "out",
          "nov",
          "dez"
         ],
         "xaxis": "x",
         "y": [
          100,
          100,
          100,
          100,
          87.5,
          97.92,
          0,
          0,
          0,
          0,
          0,
          0
         ],
         "yaxis": "y"
        },
        {
         "hovertemplate": "Critério=G<br>Mês=%{x}<br>Porcentagem de Adoção (%)=%{y}<extra></extra>",
         "legendgroup": "G",
         "line": {
          "color": "#B6E880",
          "dash": "solid"
         },
         "marker": {
          "symbol": "circle"
         },
         "mode": "lines+markers",
         "name": "G",
         "orientation": "v",
         "showlegend": true,
         "type": "scatter",
         "x": [
          "jan",
          "fev",
          "mar",
          "abr",
          "mai",
          "jun",
          "jul",
          "ago",
          "set",
          "out",
          "nov",
          "dez"
         ],
         "xaxis": "x",
         "y": [
          0,
          10,
          0,
          5.97,
          0,
          6.25,
          0,
          0,
          0,
          0,
          0,
          0
         ],
         "yaxis": "y"
        },
        {
         "hovertemplate": "Critério=H<br>Mês=%{x}<br>Porcentagem de Adoção (%)=%{y}<extra></extra>",
         "legendgroup": "H",
         "line": {
          "color": "#FF97FF",
          "dash": "solid"
         },
         "marker": {
          "symbol": "circle"
         },
         "mode": "lines+markers",
         "name": "H",
         "orientation": "v",
         "showlegend": true,
         "type": "scatter",
         "x": [
          "jan",
          "fev",
          "mar",
          "abr",
          "mai",
          "jun",
          "jul",
          "ago",
          "set",
          "out",
          "nov",
          "dez"
         ],
         "xaxis": "x",
         "y": [
          50,
          62.5,
          38.89,
          55.97,
          75,
          58.33,
          0,
          0,
          0,
          0,
          0,
          0
         ],
         "yaxis": "y"
        },
        {
         "hovertemplate": "Critério=I<br>Mês=%{x}<br>Porcentagem de Adoção (%)=%{y}<extra></extra>",
         "legendgroup": "I",
         "line": {
          "color": "#FECB52",
          "dash": "solid"
         },
         "marker": {
          "symbol": "circle"
         },
         "mode": "lines+markers",
         "name": "I",
         "orientation": "v",
         "showlegend": true,
         "type": "scatter",
         "x": [
          "jan",
          "fev",
          "mar",
          "abr",
          "mai",
          "jun",
          "jul",
          "ago",
          "set",
          "out",
          "nov",
          "dez"
         ],
         "xaxis": "x",
         "y": [
          20,
          50,
          44.44,
          35.07,
          87.5,
          52.08,
          0,
          0,
          0,
          0,
          0,
          0
         ],
         "yaxis": "y"
        },
        {
         "hovertemplate": "Critério=J<br>Mês=%{x}<br>Porcentagem de Adoção (%)=%{y}<extra></extra>",
         "legendgroup": "J",
         "line": {
          "color": "#636efa",
          "dash": "solid"
         },
         "marker": {
          "symbol": "circle"
         },
         "mode": "lines+markers",
         "name": "J",
         "orientation": "v",
         "showlegend": true,
         "type": "scatter",
         "x": [
          "jan",
          "fev",
          "mar",
          "abr",
          "mai",
          "jun",
          "jul",
          "ago",
          "set",
          "out",
          "nov",
          "dez"
         ],
         "xaxis": "x",
         "y": [
          10,
          20,
          0,
          9.7,
          37.5,
          18.75,
          0,
          0,
          0,
          0,
          0,
          0
         ],
         "yaxis": "y"
        },
        {
         "hovertemplate": "Critério=K<br>Mês=%{x}<br>Porcentagem de Adoção (%)=%{y}<extra></extra>",
         "legendgroup": "K",
         "line": {
          "color": "#EF553B",
          "dash": "solid"
         },
         "marker": {
          "symbol": "circle"
         },
         "mode": "lines+markers",
         "name": "K",
         "orientation": "v",
         "showlegend": true,
         "type": "scatter",
         "x": [
          "jan",
          "fev",
          "mar",
          "abr",
          "mai",
          "jun",
          "jul",
          "ago",
          "set",
          "out",
          "nov",
          "dez"
         ],
         "xaxis": "x",
         "y": [
          80,
          92.5,
          77.78,
          47.76,
          100,
          91.67,
          0,
          0,
          0,
          0,
          0,
          0
         ],
         "yaxis": "y"
        },
        {
         "hovertemplate": "Critério=L<br>Mês=%{x}<br>Porcentagem de Adoção (%)=%{y}<extra></extra>",
         "legendgroup": "L",
         "line": {
          "color": "#00cc96",
          "dash": "solid"
         },
         "marker": {
          "symbol": "circle"
         },
         "mode": "lines+markers",
         "name": "L",
         "orientation": "v",
         "showlegend": true,
         "type": "scatter",
         "x": [
          "jan",
          "fev",
          "mar",
          "abr",
          "mai",
          "jun",
          "jul",
          "ago",
          "set",
          "out",
          "nov",
          "dez"
         ],
         "xaxis": "x",
         "y": [
          50,
          37.5,
          5.56,
          66.42,
          50,
          47.92,
          0,
          0,
          0,
          0,
          0,
          0
         ],
         "yaxis": "y"
        },
        {
         "hovertemplate": "Critério=M<br>Mês=%{x}<br>Porcentagem de Adoção (%)=%{y}<extra></extra>",
         "legendgroup": "M",
         "line": {
          "color": "#ab63fa",
          "dash": "solid"
         },
         "marker": {
          "symbol": "circle"
         },
         "mode": "lines+markers",
         "name": "M",
         "orientation": "v",
         "showlegend": true,
         "type": "scatter",
         "x": [
          "jan",
          "fev",
          "mar",
          "abr",
          "mai",
          "jun",
          "jul",
          "ago",
          "set",
          "out",
          "nov",
          "dez"
         ],
         "xaxis": "x",
         "y": [
          40,
          22.5,
          16.67,
          11.94,
          50,
          12.5,
          0,
          0,
          0,
          0,
          0,
          0
         ],
         "yaxis": "y"
        },
        {
         "hovertemplate": "Critério=N<br>Mês=%{x}<br>Porcentagem de Adoção (%)=%{y}<extra></extra>",
         "legendgroup": "N",
         "line": {
          "color": "#FFA15A",
          "dash": "solid"
         },
         "marker": {
          "symbol": "circle"
         },
         "mode": "lines+markers",
         "name": "N",
         "orientation": "v",
         "showlegend": true,
         "type": "scatter",
         "x": [
          "jan",
          "fev",
          "mar",
          "abr",
          "mai",
          "jun",
          "jul",
          "ago",
          "set",
          "out",
          "nov",
          "dez"
         ],
         "xaxis": "x",
         "y": [
          100,
          95,
          100,
          97.76,
          100,
          95.83,
          0,
          0,
          0,
          0,
          0,
          0
         ],
         "yaxis": "y"
        }
       ],
       "layout": {
        "legend": {
         "title": {
          "text": "Critério"
         },
         "tracegroupgap": 0
        },
        "template": {
         "data": {
          "bar": [
           {
            "error_x": {
             "color": "#2a3f5f"
            },
            "error_y": {
             "color": "#2a3f5f"
            },
            "marker": {
             "line": {
              "color": "#E5ECF6",
              "width": 0.5
             },
             "pattern": {
              "fillmode": "overlay",
              "size": 10,
              "solidity": 0.2
             }
            },
            "type": "bar"
           }
          ],
          "barpolar": [
           {
            "marker": {
             "line": {
              "color": "#E5ECF6",
              "width": 0.5
             },
             "pattern": {
              "fillmode": "overlay",
              "size": 10,
              "solidity": 0.2
             }
            },
            "type": "barpolar"
           }
          ],
          "carpet": [
           {
            "aaxis": {
             "endlinecolor": "#2a3f5f",
             "gridcolor": "white",
             "linecolor": "white",
             "minorgridcolor": "white",
             "startlinecolor": "#2a3f5f"
            },
            "baxis": {
             "endlinecolor": "#2a3f5f",
             "gridcolor": "white",
             "linecolor": "white",
             "minorgridcolor": "white",
             "startlinecolor": "#2a3f5f"
            },
            "type": "carpet"
           }
          ],
          "choropleth": [
           {
            "colorbar": {
             "outlinewidth": 0,
             "ticks": ""
            },
            "type": "choropleth"
           }
          ],
          "contour": [
           {
            "colorbar": {
             "outlinewidth": 0,
             "ticks": ""
            },
            "colorscale": [
             [
              0,
              "#0d0887"
             ],
             [
              0.1111111111111111,
              "#46039f"
             ],
             [
              0.2222222222222222,
              "#7201a8"
             ],
             [
              0.3333333333333333,
              "#9c179e"
             ],
             [
              0.4444444444444444,
              "#bd3786"
             ],
             [
              0.5555555555555556,
              "#d8576b"
             ],
             [
              0.6666666666666666,
              "#ed7953"
             ],
             [
              0.7777777777777778,
              "#fb9f3a"
             ],
             [
              0.8888888888888888,
              "#fdca26"
             ],
             [
              1,
              "#f0f921"
             ]
            ],
            "type": "contour"
           }
          ],
          "contourcarpet": [
           {
            "colorbar": {
             "outlinewidth": 0,
             "ticks": ""
            },
            "type": "contourcarpet"
           }
          ],
          "heatmap": [
           {
            "colorbar": {
             "outlinewidth": 0,
             "ticks": ""
            },
            "colorscale": [
             [
              0,
              "#0d0887"
             ],
             [
              0.1111111111111111,
              "#46039f"
             ],
             [
              0.2222222222222222,
              "#7201a8"
             ],
             [
              0.3333333333333333,
              "#9c179e"
             ],
             [
              0.4444444444444444,
              "#bd3786"
             ],
             [
              0.5555555555555556,
              "#d8576b"
             ],
             [
              0.6666666666666666,
              "#ed7953"
             ],
             [
              0.7777777777777778,
              "#fb9f3a"
             ],
             [
              0.8888888888888888,
              "#fdca26"
             ],
             [
              1,
              "#f0f921"
             ]
            ],
            "type": "heatmap"
           }
          ],
          "heatmapgl": [
           {
            "colorbar": {
             "outlinewidth": 0,
             "ticks": ""
            },
            "colorscale": [
             [
              0,
              "#0d0887"
             ],
             [
              0.1111111111111111,
              "#46039f"
             ],
             [
              0.2222222222222222,
              "#7201a8"
             ],
             [
              0.3333333333333333,
              "#9c179e"
             ],
             [
              0.4444444444444444,
              "#bd3786"
             ],
             [
              0.5555555555555556,
              "#d8576b"
             ],
             [
              0.6666666666666666,
              "#ed7953"
             ],
             [
              0.7777777777777778,
              "#fb9f3a"
             ],
             [
              0.8888888888888888,
              "#fdca26"
             ],
             [
              1,
              "#f0f921"
             ]
            ],
            "type": "heatmapgl"
           }
          ],
          "histogram": [
           {
            "marker": {
             "pattern": {
              "fillmode": "overlay",
              "size": 10,
              "solidity": 0.2
             }
            },
            "type": "histogram"
           }
          ],
          "histogram2d": [
           {
            "colorbar": {
             "outlinewidth": 0,
             "ticks": ""
            },
            "colorscale": [
             [
              0,
              "#0d0887"
             ],
             [
              0.1111111111111111,
              "#46039f"
             ],
             [
              0.2222222222222222,
              "#7201a8"
             ],
             [
              0.3333333333333333,
              "#9c179e"
             ],
             [
              0.4444444444444444,
              "#bd3786"
             ],
             [
              0.5555555555555556,
              "#d8576b"
             ],
             [
              0.6666666666666666,
              "#ed7953"
             ],
             [
              0.7777777777777778,
              "#fb9f3a"
             ],
             [
              0.8888888888888888,
              "#fdca26"
             ],
             [
              1,
              "#f0f921"
             ]
            ],
            "type": "histogram2d"
           }
          ],
          "histogram2dcontour": [
           {
            "colorbar": {
             "outlinewidth": 0,
             "ticks": ""
            },
            "colorscale": [
             [
              0,
              "#0d0887"
             ],
             [
              0.1111111111111111,
              "#46039f"
             ],
             [
              0.2222222222222222,
              "#7201a8"
             ],
             [
              0.3333333333333333,
              "#9c179e"
             ],
             [
              0.4444444444444444,
              "#bd3786"
             ],
             [
              0.5555555555555556,
              "#d8576b"
             ],
             [
              0.6666666666666666,
              "#ed7953"
             ],
             [
              0.7777777777777778,
              "#fb9f3a"
             ],
             [
              0.8888888888888888,
              "#fdca26"
             ],
             [
              1,
              "#f0f921"
             ]
            ],
            "type": "histogram2dcontour"
           }
          ],
          "mesh3d": [
           {
            "colorbar": {
             "outlinewidth": 0,
             "ticks": ""
            },
            "type": "mesh3d"
           }
          ],
          "parcoords": [
           {
            "line": {
             "colorbar": {
              "outlinewidth": 0,
              "ticks": ""
             }
            },
            "type": "parcoords"
           }
          ],
          "pie": [
           {
            "automargin": true,
            "type": "pie"
           }
          ],
          "scatter": [
           {
            "fillpattern": {
             "fillmode": "overlay",
             "size": 10,
             "solidity": 0.2
            },
            "type": "scatter"
           }
          ],
          "scatter3d": [
           {
            "line": {
             "colorbar": {
              "outlinewidth": 0,
              "ticks": ""
             }
            },
            "marker": {
             "colorbar": {
              "outlinewidth": 0,
              "ticks": ""
             }
            },
            "type": "scatter3d"
           }
          ],
          "scattercarpet": [
           {
            "marker": {
             "colorbar": {
              "outlinewidth": 0,
              "ticks": ""
             }
            },
            "type": "scattercarpet"
           }
          ],
          "scattergeo": [
           {
            "marker": {
             "colorbar": {
              "outlinewidth": 0,
              "ticks": ""
             }
            },
            "type": "scattergeo"
           }
          ],
          "scattergl": [
           {
            "marker": {
             "colorbar": {
              "outlinewidth": 0,
              "ticks": ""
             }
            },
            "type": "scattergl"
           }
          ],
          "scattermapbox": [
           {
            "marker": {
             "colorbar": {
              "outlinewidth": 0,
              "ticks": ""
             }
            },
            "type": "scattermapbox"
           }
          ],
          "scatterpolar": [
           {
            "marker": {
             "colorbar": {
              "outlinewidth": 0,
              "ticks": ""
             }
            },
            "type": "scatterpolar"
           }
          ],
          "scatterpolargl": [
           {
            "marker": {
             "colorbar": {
              "outlinewidth": 0,
              "ticks": ""
             }
            },
            "type": "scatterpolargl"
           }
          ],
          "scatterternary": [
           {
            "marker": {
             "colorbar": {
              "outlinewidth": 0,
              "ticks": ""
             }
            },
            "type": "scatterternary"
           }
          ],
          "surface": [
           {
            "colorbar": {
             "outlinewidth": 0,
             "ticks": ""
            },
            "colorscale": [
             [
              0,
              "#0d0887"
             ],
             [
              0.1111111111111111,
              "#46039f"
             ],
             [
              0.2222222222222222,
              "#7201a8"
             ],
             [
              0.3333333333333333,
              "#9c179e"
             ],
             [
              0.4444444444444444,
              "#bd3786"
             ],
             [
              0.5555555555555556,
              "#d8576b"
             ],
             [
              0.6666666666666666,
              "#ed7953"
             ],
             [
              0.7777777777777778,
              "#fb9f3a"
             ],
             [
              0.8888888888888888,
              "#fdca26"
             ],
             [
              1,
              "#f0f921"
             ]
            ],
            "type": "surface"
           }
          ],
          "table": [
           {
            "cells": {
             "fill": {
              "color": "#EBF0F8"
             },
             "line": {
              "color": "white"
             }
            },
            "header": {
             "fill": {
              "color": "#C8D4E3"
             },
             "line": {
              "color": "white"
             }
            },
            "type": "table"
           }
          ]
         },
         "layout": {
          "annotationdefaults": {
           "arrowcolor": "#2a3f5f",
           "arrowhead": 0,
           "arrowwidth": 1
          },
          "autotypenumbers": "strict",
          "coloraxis": {
           "colorbar": {
            "outlinewidth": 0,
            "ticks": ""
           }
          },
          "colorscale": {
           "diverging": [
            [
             0,
             "#8e0152"
            ],
            [
             0.1,
             "#c51b7d"
            ],
            [
             0.2,
             "#de77ae"
            ],
            [
             0.3,
             "#f1b6da"
            ],
            [
             0.4,
             "#fde0ef"
            ],
            [
             0.5,
             "#f7f7f7"
            ],
            [
             0.6,
             "#e6f5d0"
            ],
            [
             0.7,
             "#b8e186"
            ],
            [
             0.8,
             "#7fbc41"
            ],
            [
             0.9,
             "#4d9221"
            ],
            [
             1,
             "#276419"
            ]
           ],
           "sequential": [
            [
             0,
             "#0d0887"
            ],
            [
             0.1111111111111111,
             "#46039f"
            ],
            [
             0.2222222222222222,
             "#7201a8"
            ],
            [
             0.3333333333333333,
             "#9c179e"
            ],
            [
             0.4444444444444444,
             "#bd3786"
            ],
            [
             0.5555555555555556,
             "#d8576b"
            ],
            [
             0.6666666666666666,
             "#ed7953"
            ],
            [
             0.7777777777777778,
             "#fb9f3a"
            ],
            [
             0.8888888888888888,
             "#fdca26"
            ],
            [
             1,
             "#f0f921"
            ]
           ],
           "sequentialminus": [
            [
             0,
             "#0d0887"
            ],
            [
             0.1111111111111111,
             "#46039f"
            ],
            [
             0.2222222222222222,
             "#7201a8"
            ],
            [
             0.3333333333333333,
             "#9c179e"
            ],
            [
             0.4444444444444444,
             "#bd3786"
            ],
            [
             0.5555555555555556,
             "#d8576b"
            ],
            [
             0.6666666666666666,
             "#ed7953"
            ],
            [
             0.7777777777777778,
             "#fb9f3a"
            ],
            [
             0.8888888888888888,
             "#fdca26"
            ],
            [
             1,
             "#f0f921"
            ]
           ]
          },
          "colorway": [
           "#636efa",
           "#EF553B",
           "#00cc96",
           "#ab63fa",
           "#FFA15A",
           "#19d3f3",
           "#FF6692",
           "#B6E880",
           "#FF97FF",
           "#FECB52"
          ],
          "font": {
           "color": "#2a3f5f"
          },
          "geo": {
           "bgcolor": "white",
           "lakecolor": "white",
           "landcolor": "#E5ECF6",
           "showlakes": true,
           "showland": true,
           "subunitcolor": "white"
          },
          "hoverlabel": {
           "align": "left"
          },
          "hovermode": "closest",
          "mapbox": {
           "style": "light"
          },
          "paper_bgcolor": "white",
          "plot_bgcolor": "#E5ECF6",
          "polar": {
           "angularaxis": {
            "gridcolor": "white",
            "linecolor": "white",
            "ticks": ""
           },
           "bgcolor": "#E5ECF6",
           "radialaxis": {
            "gridcolor": "white",
            "linecolor": "white",
            "ticks": ""
           }
          },
          "scene": {
           "xaxis": {
            "backgroundcolor": "#E5ECF6",
            "gridcolor": "white",
            "gridwidth": 2,
            "linecolor": "white",
            "showbackground": true,
            "ticks": "",
            "zerolinecolor": "white"
           },
           "yaxis": {
            "backgroundcolor": "#E5ECF6",
            "gridcolor": "white",
            "gridwidth": 2,
            "linecolor": "white",
            "showbackground": true,
            "ticks": "",
            "zerolinecolor": "white"
           },
           "zaxis": {
            "backgroundcolor": "#E5ECF6",
            "gridcolor": "white",
            "gridwidth": 2,
            "linecolor": "white",
            "showbackground": true,
            "ticks": "",
            "zerolinecolor": "white"
           }
          },
          "shapedefaults": {
           "line": {
            "color": "#2a3f5f"
           }
          },
          "ternary": {
           "aaxis": {
            "gridcolor": "white",
            "linecolor": "white",
            "ticks": ""
           },
           "baxis": {
            "gridcolor": "white",
            "linecolor": "white",
            "ticks": ""
           },
           "bgcolor": "#E5ECF6",
           "caxis": {
            "gridcolor": "white",
            "linecolor": "white",
            "ticks": ""
           }
          },
          "title": {
           "x": 0.05
          },
          "xaxis": {
           "automargin": true,
           "gridcolor": "white",
           "linecolor": "white",
           "ticks": "",
           "title": {
            "standoff": 15
           },
           "zerolinecolor": "white",
           "zerolinewidth": 2
          },
          "yaxis": {
           "automargin": true,
           "gridcolor": "white",
           "linecolor": "white",
           "ticks": "",
           "title": {
            "standoff": 15
           },
           "zerolinecolor": "white",
           "zerolinewidth": 2
          }
         }
        },
        "title": {
         "text": "Porcentagem de Adoção dos Critérios por Mês no Ano 2024"
        },
        "xaxis": {
         "anchor": "y",
         "domain": [
          0,
          1
         ],
         "tickmode": "array",
         "ticktext": [
          "Jan",
          "Fev",
          "Mar",
          "Abr",
          "Mai",
          "Jun",
          "Jul",
          "Ago",
          "Set",
          "Out",
          "Nov",
          "Dez"
         ],
         "tickvals": [
          "jan",
          "fev",
          "mar",
          "abr",
          "mai",
          "jun",
          "jul",
          "ago",
          "set",
          "out",
          "nov",
          "dez"
         ],
         "title": {
          "text": "Mês"
         }
        },
        "yaxis": {
         "anchor": "x",
         "domain": [
          0,
          1
         ],
         "title": {
          "text": "Porcentagem de Adoção (%)"
         }
        }
       }
      }
     },
     "metadata": {},
     "output_type": "display_data"
    }
   ],
   "source": [
    "# Definir os critérios\n",
    "raw_data = [\n",
    "    \"Matriz de Achados?\",\n",
    "    \"a. Questões de Auditoria\",\n",
    "    \"b. Subquestões de Auditoria\",\n",
    "    \"c. Descrição sumária\",\n",
    "    \"d. Critério (O que deveria ser)\",\n",
    "    \"e. Condição ou situação encontrada (O que é) [achados]\",\n",
    "    \"f. Evidências\",\n",
    "    \"g. Informação extraída das evidências\",\n",
    "    \"h. Causas\",\n",
    "    \"i. Efeitos\",\n",
    "    \"j. Boas Práticas\",\n",
    "    \"k. Recomendações\",\n",
    "    \"l. Benefícios esperados\",\n",
    "    \"m. Manifestação\",\n",
    "    \"n. Conclusões\"\n",
    "]\n",
    "\n",
    "# Renomear as colunas para nomes mais curtos e legíveis\n",
    "renomear_dict = {\n",
    "    \"Matriz de Achados?\": \"Matriz\",\n",
    "    \"a. Questões de Auditoria\": \"A\",\n",
    "    \"b. Subquestões de Auditoria\": \"B\",\n",
    "    \"c. Descrição sumária\": \"C\",\n",
    "    \"d. Critério (O que deveria ser)\": \"D\",\n",
    "    \"e. Condição ou situação encontrada (O que é) [achados]\": \"E\",\n",
    "    \"f. Evidências\": \"F\",\n",
    "    \"g. Informação extraída das evidências\": \"G\",\n",
    "    \"h. Causas\": \"H\",\n",
    "    \"i. Efeitos\": \"I\",\n",
    "    \"j. Boas Práticas\": \"J\",\n",
    "    \"k. Recomendações\": \"K\",\n",
    "    \"l. Benefícios esperados\": \"L\",\n",
    "    \"m. Manifestação\": \"M\",\n",
    "    \"n. Conclusões\": \"N\"\n",
    "}\n",
    "\n",
    "# Renomear as colunas no DataFrame\n",
    "tabela_relatorios = tabela_relatorios.rename(columns=renomear_dict)\n",
    "\n",
    "# Converter as colunas renomeadas para tipo float, substituindo por NaN para valores inválidos\n",
    "renamed_columns = list(renomear_dict.values())\n",
    "tabela_relatorios[renamed_columns] = tabela_relatorios[renamed_columns].apply(pd.to_numeric, errors='coerce')\n",
    "\n",
    "# Converter a coluna 'Data' para o formato datetime (já que a nova base tem o formato 'YYYY-MM-DD')\n",
    "tabela_relatorios['Data'] = pd.to_datetime(tabela_relatorios['Data'], format='%Y-%m-%d')\n",
    "\n",
    "# Filtrar apenas os anos que não são NaN\n",
    "df = df.dropna(subset=['Ano'])\n",
    "df['Ano'] = df['Ano'].astype(int)  # Converter a coluna 'Ano' para int após remover os NaN\n",
    "\n",
    "# Criar um DataFrame para armazenar as porcentagens de adoção dos critérios por mês e ano\n",
    "contagens_criterios_mes_ano = []\n",
    "\n",
    "# Obter a lista de anos únicos\n",
    "anos = df['Ano'].unique()\n",
    "\n",
    "# Iterar sobre cada ano\n",
    "for ano in anos:\n",
    "    # Filtrar o DataFrame para o ano atual\n",
    "    df_ano = df[df['Ano'] == ano]\n",
    "\n",
    "    # Iterar sobre cada mês\n",
    "    meses_ordenados = ['jan', 'fev', 'mar', 'abr', 'mai', 'jun', 'jul', 'ago', 'set', 'out', 'nov', 'dez']\n",
    "    for mes_nome in meses_ordenados:\n",
    "        # Filtrar o DataFrame para o mês atual, usando o nome do mês em português\n",
    "        df_mes = df_ano[df_ano['Data'].dt.month_name(locale='pt_BR.UTF-8').str.contains(mes_nome, case=False, na=False)]\n",
    "\n",
    "        # Quantidade total de relatórios no mês\n",
    "        qtd_relatorios_mes = len(df_mes.index)\n",
    "\n",
    "        # Inicializar o dicionário para armazenar as porcentagens dos critérios para este mês e ano\n",
    "        porcentagens_mes = {'Ano': ano, 'Mês': mes_nome}\n",
    "\n",
    "        # Calcular a porcentagem de cada critério\n",
    "        for criterio in renamed_columns:\n",
    "            if qtd_relatorios_mes > 0:\n",
    "                # Calcular a quantidade de relatórios que atendem ao critério, ignorando valores NaN\n",
    "                qtd_criterio = df_mes[criterio].eq(1).sum()\n",
    "                porcentagem = round((qtd_criterio / qtd_relatorios_mes) * 100, 2)\n",
    "            else:\n",
    "                porcentagem = 0.0\n",
    "            \n",
    "            # Armazenar no dicionário\n",
    "            porcentagens_mes[criterio] = porcentagem\n",
    "\n",
    "        # Adicionar ao DataFrame principal\n",
    "        contagens_criterios_mes_ano.append(porcentagens_mes)\n",
    "\n",
    "# Converter o resultado em um DataFrame\n",
    "df_criterios_mes_ano = pd.DataFrame(contagens_criterios_mes_ano)\n",
    "\n",
    "# Ordenar os meses e anos\n",
    "df_criterios_mes_ano['Mês'] = pd.Categorical(df_criterios_mes_ano['Mês'], categories=meses_ordenados, ordered=True)\n",
    "df_criterios_mes_ano = df_criterios_mes_ano.sort_values(by=['Ano', 'Mês'])\n",
    "\n",
    "# Transformar o DataFrame para formato longo (long format) para facilitar visualização\n",
    "df_criterios_mes_ano_long = df_criterios_mes_ano.melt(id_vars=['Ano', 'Mês'], var_name='Critério', value_name='Porcentagem')\n",
    "\n",
    "# Garantir que a coluna 'Porcentagem' é numérica e substituir NaN por 0\n",
    "df_criterios_mes_ano_long['Porcentagem'] = df_criterios_mes_ano_long['Porcentagem'].fillna(0).astype(float)\n",
    "\n",
    "# Criar gráficos de linhas para cada ano, exibindo todos os critérios\n",
    "anos_unicos = df_criterios_mes_ano_long['Ano'].unique()\n",
    "\n",
    "for ano in anos_unicos:\n",
    "    df_ano = df_criterios_mes_ano_long[df_criterios_mes_ano_long['Ano'] == ano]\n",
    "    \n",
    "    # Criar gráfico para o ano atual com todos os critérios\n",
    "    fig = px.line(df_ano, x='Mês', y='Porcentagem', color='Critério',\n",
    "                  title=f'Porcentagem de Adoção dos Critérios por Mês no Ano {ano}',\n",
    "                  labels={'Mês': 'Mês', 'Porcentagem': 'Porcentagem de Adoção (%)', 'Critério': 'Critério'},\n",
    "                  markers=True)\n",
    "    \n",
    "    # Atualizar layout do gráfico para melhorar a visualização\n",
    "    fig.update_layout(\n",
    "        xaxis_title='Mês',\n",
    "        yaxis_title='Porcentagem de Adoção (%)',\n",
    "        legend_title='Critério',\n",
    "        xaxis=dict(\n",
    "            tickmode='array',\n",
    "            tickvals=meses_ordenados,\n",
    "            ticktext=['Jan', 'Fev', 'Mar', 'Abr', 'Mai', 'Jun', 'Jul', 'Ago', 'Set', 'Out', 'Nov', 'Dez']\n",
    "        )\n",
    "    )\n",
    "    \n",
    "    # Exibir o gráfico\n",
    "    fig.show()\n"
   ]
  },
  {
   "cell_type": "markdown",
   "metadata": {},
   "source": [
    "## 12. Casos na pandemia\n",
    "Neste tópico investigaremos a quantidade de relatórios publicados antes, durante e depois da pandemia da Covid 19, afim de saber se a pandemia influenciou a produção de relatórios do país."
   ]
  },
  {
   "cell_type": "code",
   "execution_count": 186,
   "metadata": {},
   "outputs": [
    {
     "data": {
      "text/html": [
       "<div>\n",
       "<style scoped>\n",
       "    .dataframe tbody tr th:only-of-type {\n",
       "        vertical-align: middle;\n",
       "    }\n",
       "\n",
       "    .dataframe tbody tr th {\n",
       "        vertical-align: top;\n",
       "    }\n",
       "\n",
       "    .dataframe thead th {\n",
       "        text-align: right;\n",
       "    }\n",
       "</style>\n",
       "<table border=\"1\" class=\"dataframe\">\n",
       "  <thead>\n",
       "    <tr style=\"text-align: right;\">\n",
       "      <th></th>\n",
       "      <th>Período</th>\n",
       "      <th>Total Relatórios</th>\n",
       "    </tr>\n",
       "  </thead>\n",
       "  <tbody>\n",
       "    <tr>\n",
       "      <th>0</th>\n",
       "      <td>Antes</td>\n",
       "      <td>3239</td>\n",
       "    </tr>\n",
       "    <tr>\n",
       "      <th>1</th>\n",
       "      <td>Durante</td>\n",
       "      <td>1967</td>\n",
       "    </tr>\n",
       "    <tr>\n",
       "      <th>2</th>\n",
       "      <td>Depois</td>\n",
       "      <td>597</td>\n",
       "    </tr>\n",
       "  </tbody>\n",
       "</table>\n",
       "</div>"
      ],
      "text/plain": [
       "   Período  Total Relatórios\n",
       "0    Antes              3239\n",
       "1  Durante              1967\n",
       "2   Depois               597"
      ]
     },
     "metadata": {},
     "output_type": "display_data"
    }
   ],
   "source": [
    "# Definir os intervalos de tempo\n",
    "ano_inicio = 2020\n",
    "ano_fim = 2023\n",
    "mes_inicio = 'mar'\n",
    "mes_fim = 'mai'\n",
    "\n",
    "# Garantir que a coluna 'Quantidade' seja numérica\n",
    "df_contagens_long['Quantidade'] = pd.to_numeric(df_contagens_long['Quantidade'], errors='coerce')\n",
    "\n",
    "# Filtrar o período de março de 2020 a maio de 2023\n",
    "df_pandemia = df_contagens_long[(df_contagens_long['Ano'] >= ano_inicio) & (df_contagens_long['Ano'] <= ano_fim)]\n",
    "\n",
    "# Função auxiliar para definir as condições de filtro para os meses\n",
    "def filtro_mes(ano, mes):\n",
    "    if ano == 2020:\n",
    "        return mes in meses_ordenados[meses_ordenados.index(mes_inicio):]\n",
    "    elif ano == 2023:\n",
    "        return mes in meses_ordenados[:meses_ordenados.index(mes_fim) + 1]\n",
    "    else:\n",
    "        return True\n",
    "\n",
    "# Aplicar o filtro de meses\n",
    "df_pandemia = df_pandemia[df_pandemia.apply(lambda row: filtro_mes(row['Ano'], row['Mês']), axis=1)]\n",
    "\n",
    "# Filtrar os relatórios antes de março de 2020\n",
    "df_antes_pandemia = df_contagens_long[(df_contagens_long['Ano'] < ano_inicio) | \n",
    "                                     ((df_contagens_long['Ano'] == ano_inicio) & \n",
    "                                      (df_contagens_long['Mês'].apply(lambda x: meses_ordenados.index(x) < meses_ordenados.index(mes_inicio))))]\n",
    "\n",
    "# Filtrar os relatórios depois de maio de 2023\n",
    "df_depois_pandemia = df_contagens_long[(df_contagens_long['Ano'] > ano_fim) | \n",
    "                                      ((df_contagens_long['Ano'] == ano_fim) & \n",
    "                                       (df_contagens_long['Mês'].apply(lambda x: meses_ordenados.index(x) > meses_ordenados.index(mes_fim))))]\n",
    "\n",
    "# Calcular as quantidades totais e garantir que sejam inteiros\n",
    "total_antes = int(df_antes_pandemia['Quantidade'].sum())  # Converter para int\n",
    "total_durante = int(df_pandemia['Quantidade'].sum())  # Converter para int\n",
    "total_depois = int(df_depois_pandemia['Quantidade'].sum())  # Converter para int\n",
    "\n",
    "# Criar um DataFrame com os totais\n",
    "df_totais = pd.DataFrame({\n",
    "    'Período': ['Antes', 'Durante', 'Depois'],\n",
    "    'Total Relatórios': [total_antes, total_durante, total_depois]\n",
    "})\n",
    "\n",
    "# Salvar o DataFrame com totais em um arquivo Excel\n",
    "df_totais.to_excel('casos_pandemia.xlsx', index=False)\n",
    "\n",
    "# Exibir o DataFrame com totais\n",
    "display(df_totais)\n"
   ]
  },
  {
   "cell_type": "markdown",
   "metadata": {},
   "source": [
    "## 13. Casos por Governo"
   ]
  },
  {
   "cell_type": "code",
   "execution_count": 187,
   "metadata": {},
   "outputs": [
    {
     "data": {
      "text/html": [
       "<div>\n",
       "<style scoped>\n",
       "    .dataframe tbody tr th:only-of-type {\n",
       "        vertical-align: middle;\n",
       "    }\n",
       "\n",
       "    .dataframe tbody tr th {\n",
       "        vertical-align: top;\n",
       "    }\n",
       "\n",
       "    .dataframe thead th {\n",
       "        text-align: right;\n",
       "    }\n",
       "</style>\n",
       "<table border=\"1\" class=\"dataframe\">\n",
       "  <thead>\n",
       "    <tr style=\"text-align: right;\">\n",
       "      <th></th>\n",
       "      <th>Governo vigente</th>\n",
       "      <th>Quantidade de relatórios</th>\n",
       "      <th>Porcentagem (%)</th>\n",
       "    </tr>\n",
       "  </thead>\n",
       "  <tbody>\n",
       "    <tr>\n",
       "      <th>0</th>\n",
       "      <td>Temer</td>\n",
       "      <td>1875</td>\n",
       "      <td>32.30</td>\n",
       "    </tr>\n",
       "    <tr>\n",
       "      <th>1</th>\n",
       "      <td>Bolsonaro</td>\n",
       "      <td>3150</td>\n",
       "      <td>54.26</td>\n",
       "    </tr>\n",
       "    <tr>\n",
       "      <th>2</th>\n",
       "      <td>Lula</td>\n",
       "      <td>780</td>\n",
       "      <td>13.44</td>\n",
       "    </tr>\n",
       "  </tbody>\n",
       "</table>\n",
       "</div>"
      ],
      "text/plain": [
       "  Governo vigente  Quantidade de relatórios  Porcentagem (%)\n",
       "0           Temer                      1875            32.30\n",
       "1       Bolsonaro                      3150            54.26\n",
       "2            Lula                       780            13.44"
      ]
     },
     "metadata": {},
     "output_type": "display_data"
    }
   ],
   "source": [
    "tabela_relatorios['Governo'] = tabela_relatorios['Governo'].astype(str)\n",
    "\n",
    "#Tabela apenas com os relatórios do governo temer\n",
    "tabela_relatorios_temer_bool = tabela_relatorios['Governo'].str.contains(\"1\", case=False, na=False) #booleano categoriza apenas quando é do tipo Avaliação\n",
    "tabela_relatorios_temer = tabela_relatorios[tabela_relatorios_temer_bool]\n",
    "tabela_relatorios_temer_count = len(tabela_relatorios_temer.index)\n",
    "\n",
    "#Tabela apenas com os relatórios do governo Bolsonaro\n",
    "tabela_relatorios_bolsonaro_bool = tabela_relatorios['Governo'].str.contains(\"2\", case=False, na=False) #booleano categoriza apenas quando é do tipo Consultoria\n",
    "tabela_relatorios_bolsonaro = tabela_relatorios[tabela_relatorios_bolsonaro_bool]\n",
    "tabela_relatorios_bolsonaro_count = len(tabela_relatorios_bolsonaro.index)\n",
    "\n",
    "#Tabela apenas com os relatórios do governo Lula\n",
    "tabela_relatorios_lula_bool = tabela_relatorios['Governo'].str.contains(\"3\", case=False, na=False) #booleano categoriza apenas quando é do tipo Apuração\n",
    "tabela_relatorios_lula = tabela_relatorios[tabela_relatorios_lula_bool]\n",
    "tabela_relatorios_lula_count = len(tabela_relatorios_lula.index)\n",
    "\n",
    "#Quantidade de relatórios por governo, respectivamente\n",
    "array_quantidades_governo = [tabela_relatorios_temer_count, tabela_relatorios_bolsonaro_count, tabela_relatorios_lula_count]\n",
    "\n",
    "#Governos respectivos de cada relatório\n",
    "array_governo_relatorio = [\"Temer\", \"Bolsonaro\", \"Lula\"]\n",
    "\n",
    "#Porcentagens de relatórios por governo\n",
    "array_porcentagens_governo_relatorios = [round(((tabela_relatorios_temer_count/qtd_total_relatórios)*100), 2), round(((tabela_relatorios_bolsonaro_count/qtd_total_relatórios)*100), 2), round(((tabela_relatorios_lula_count/qtd_total_relatórios)*100), 2)]\n",
    "\n",
    "#Tabela com as quantidades de relatórios por governo\n",
    "tabela_governo_relatorio = pd.DataFrame({'Governo vigente': array_governo_relatorio, 'Quantidade de relatórios': array_quantidades_governo, 'Porcentagem (%)': array_porcentagens_governo_relatorios})\n",
    "\n",
    "#Cria um excel da tabela gerada anteriormente\n",
    "tabela_governo_relatorio.to_excel('casos_por_governo.xlsx')\n",
    "\n",
    "\n",
    "#Desenha a tabela\n",
    "display(tabela_governo_relatorio)"
   ]
  },
  {
   "cell_type": "code",
   "execution_count": 188,
   "metadata": {},
   "outputs": [
    {
     "data": {
      "image/png": "[encoded data removed]",
      "text/plain": [
       "<Figure size 800x700 with 1 Axes>"
      ]
     },
     "metadata": {},
     "output_type": "display_data"
    }
   ],
   "source": [
    "#Selecionando os dados que serão apresentados no gráfico\n",
    "grafico_governo_relatorio = tabela_governo_relatorio.groupby('Governo vigente')['Quantidade de relatórios'].mean()\n",
    "\n",
    "# Decidindo o tamanho do gráfico\n",
    "plt.figure(figsize=(8, 7))\n",
    "\n",
    "# Ajustando o modelo do gráfico, cor das barras, título e nomes dos eixos x e y\n",
    "ax = grafico_governo_relatorio.plot(kind='bar', color='Green')\n",
    "\n",
    "ax.set_xlabel('Governos')\n",
    "ax.set_ylabel('Quantidade de relatórios')\n",
    "ax.set_title('Quantidades de relatórios por governo')\n",
    "\n",
    "# Seleciona a posição que deverá ficar os nomes dos tipos de relatório e centraliza\n",
    "plt.xticks(rotation=0, ha='center')  # Alinhamento centralizado\n",
    "plt.tight_layout()\n",
    "\n",
    "# Adiciona acima da barra a quantidade de relatórios que a mesma representa\n",
    "for p in ax.patches:\n",
    "    ax.annotate(int(p.get_height()), \n",
    "                (p.get_x() + p.get_width() / 2., p.get_height()),\n",
    "                ha='center', va='bottom', xytext=(0, 5), textcoords='offset points')\n",
    "\n",
    "# Salva o gráfico como um arquivo JPEG\n",
    "plt.savefig('quantidade_relatorios_por_governo.jpeg', format='jpeg', bbox_inches='tight')\n",
    "\n",
    "# Exibe o gráfico\n",
    "plt.show()"
   ]
  }
 ],
 "metadata": {
  "kernelspec": {
   "display_name": "Python 3",
   "language": "python",
   "name": "python3"
  },
  "language_info": {
   "codemirror_mode": {
    "name": "ipython",
    "version": 3
   },
   "file_extension": ".py",
   "mimetype": "text/x-python",
   "name": "python",
   "nbconvert_exporter": "python",
   "pygments_lexer": "ipython3",
   "version": "3.12.6"
  }
 },
 "nbformat": 4,
 "nbformat_minor": 2
}
